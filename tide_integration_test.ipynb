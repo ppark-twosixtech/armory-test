{
 "cells": [
  {
   "cell_type": "markdown",
   "id": "1b722393-e15a-46a9-8abf-42390a59c163",
   "metadata": {},
   "source": [
    "This notebook needs to be run from the root directory of the armory repo for any changes to be reflected -- will otherwise default to existing installation of armory (which is NOT what we want)\n",
    "- look for the `this repo is being updated` log message when calling `get_scenario`"
   ]
  },
  {
   "cell_type": "markdown",
   "id": "6adf6cfe-1581-442a-8487-849ab0b96e27",
   "metadata": {
    "jp-MarkdownHeadingCollapsed": true,
    "tags": []
   },
   "source": [
    "### Getting Familiar"
   ]
  },
  {
   "cell_type": "code",
   "execution_count": 1,
   "id": "4173cfef-b6e1-44e8-bb3c-b2e379a8ba51",
   "metadata": {},
   "outputs": [
    {
     "name": "stdout",
     "output_type": "stream",
     "text": [
      "2022-11-07 20:30:47  0s \u001b[1mINFO    \u001b[0m \u001b[36marmory.delayed_imports\u001b[0m:\u001b[36m<module>\u001b[0m:\u001b[36m7\u001b[0m Importing and configuring torch, tensorflow, and art, if available. This may take some time.\n",
      "2022-11-07 20:30:50  2s \u001b[1mINFO    \u001b[0m \u001b[36marmory.delayed_imports\u001b[0m:\u001b[36m<module>\u001b[0m:\u001b[36m30\u001b[0m Setting tf.config.experimental.set_memory_growth to True on all GPUs\n",
      "2022-11-07 20:30:50  2s \u001b[1mINFO    \u001b[0m \u001b[36mart.config\u001b[0m:\u001b[36mset_data_path\u001b[0m:\u001b[36m55\u001b[0m set ART_DATA_PATH to /tmp/.art/data\n",
      "2022-11-07 20:30:50  2s \u001b[1mINFO    \u001b[0m \u001b[36mart.config\u001b[0m:\u001b[36mset_data_path\u001b[0m:\u001b[36m55\u001b[0m set ART_DATA_PATH to /armory/saved_models/art\n",
      "2022-11-07 20:30:50  3s \u001b[1mINFO    \u001b[0m \u001b[36marmory.scenarios.main\u001b[0m:\u001b[36m_scenario_setup\u001b[0m:\u001b[36m37\u001b[0m this repo is being updated\n",
      "2022-11-07 20:30:50  3s \u001b[31m\u001b[1mERROR   \u001b[0m \u001b[36marmory.scenarios.main\u001b[0m:\u001b[36m_scenario_setup\u001b[0m:\u001b[36m42\u001b[0m eval_id not in config. Inserting current timestamp 1667853050.9849415\n",
      "2022-11-07 20:30:50  3s \u001b[1mINFO    \u001b[0m \u001b[36marmory.scenarios.main\u001b[0m:\u001b[36m_scenario_setup\u001b[0m:\u001b[36m50\u001b[0m armory outputs and logs will be written to /armory/outputs/1667853050.9849415\n",
      "2022-11-07 20:30:51  3s \u001b[1mINFO    \u001b[0m \u001b[36marmory.data.utils\u001b[0m:\u001b[36mmaybe_download_weights_from_s3\u001b[0m:\u001b[36m47\u001b[0m Using available carla_rgb_weights_eval5.pt in Armory `saved_model_dir`\n",
      "2022-11-07 20:30:54  6s \u001b[1mINFO    \u001b[0m \u001b[36marmory.scenarios.scenario\u001b[0m:\u001b[36mload_dataset\u001b[0m:\u001b[36m205\u001b[0m Loading test dataset carla_obj_det_dev...\n"
     ]
    }
   ],
   "source": [
    "from armory.scenarios.main import get as get_scenario\n",
    "\n",
    "s = get_scenario(\n",
    "    \"/armory/tmp/2022-11-03T180812.020999/carla_obj_det_adversarialpatch_undefended.json\",\n",
    "    num_eval_batches=1,\n",
    ").load()"
   ]
  },
  {
   "cell_type": "code",
   "execution_count": 2,
   "id": "17beee00-b626-45c9-af62-00b399e44227",
   "metadata": {},
   "outputs": [],
   "source": [
    "s.config[\"attack\"][\"kwargs\"][\"max_iter\"] = 5\n",
    "s.config[\"metric\"][\"record_metric_per_sample\"] = True\n",
    "s.config[\"scenario\"][\"export_batches\"] = True"
   ]
  },
  {
   "cell_type": "code",
   "execution_count": 3,
   "id": "b4e1e923-52f7-429f-9ac5-b618c32733a5",
   "metadata": {},
   "outputs": [
    {
     "data": {
      "text/plain": [
       "['carla_od_AP_per_class',\n",
       " 'carla_od_disappearance_rate',\n",
       " 'carla_od_hallucinations_per_image',\n",
       " 'carla_od_misclassification_rate',\n",
       " 'carla_od_true_positive_rate']"
      ]
     },
     "execution_count": 3,
     "metadata": {},
     "output_type": "execute_result"
    }
   ],
   "source": [
    "s.config[\"metric\"][\"task\"]"
   ]
  },
  {
   "cell_type": "code",
   "execution_count": 4,
   "id": "1b8012c3-d8c9-4776-93e6-a9e59ac19ef5",
   "metadata": {},
   "outputs": [
    {
     "data": {
      "application/vnd.jupyter.widget-view+json": {
       "model_id": "f5c8e82764a84852bc625816de73fcc8",
       "version_major": 2,
       "version_minor": 0
      },
      "text/plain": [
       "Adversarial Patch PyTorch:   0%|          | 0/5 [00:00<?, ?it/s]"
      ]
     },
     "metadata": {},
     "output_type": "display_data"
    },
    {
     "name": "stderr",
     "output_type": "stream",
     "text": [
      "/opt/conda/lib/python3.8/site-packages/torchvision/transforms/functional.py:404: UserWarning: Argument interpolation should be of type InterpolationMode instead of int. Please, use InterpolationMode enum.\n",
      "  warnings.warn(\n",
      "/opt/conda/lib/python3.8/site-packages/torchvision/transforms/functional.py:654: UserWarning: Argument interpolation should be of type InterpolationMode instead of int. Please, use InterpolationMode enum.\n",
      "  warnings.warn(\n",
      "/opt/conda/lib/python3.8/site-packages/torch/functional.py:445: UserWarning: torch.meshgrid: in an upcoming release, it will be required to pass the indexing argument. (Triggered internally at  /opt/conda/conda-bld/pytorch_1640811806235/work/aten/src/ATen/native/TensorShape.cpp:2157.)\n",
      "  return _VF.meshgrid(tensors, **kwargs)  # type: ignore[attr-defined]\n"
     ]
    }
   ],
   "source": [
    "s.load_attack()\n",
    "s.next()\n",
    "s.run_attack()"
   ]
  },
  {
   "cell_type": "code",
   "execution_count": 5,
   "id": "c2f84e4e-f908-4474-9d6d-302dc16ccef7",
   "metadata": {},
   "outputs": [
    {
     "name": "stdout",
     "output_type": "stream",
     "text": [
      "2022-11-07 20:31:49  1m \u001b[33m\u001b[1mWARNING \u001b[0m \u001b[36marmory.instrument.instrument\u001b[0m:\u001b[36mfinalize\u001b[0m:\u001b[36m590\u001b[0m Meter 'benign_input_to_carla_od_AP_per_class' was never measured. The following args were never set: ['scenario.y_pred']\n",
      "2022-11-07 20:31:49  1m \u001b[32m\u001b[1mSUCCESS \u001b[0m \u001b[36marmory.instrument.config\u001b[0m:\u001b[36m_write\u001b[0m:\u001b[36m224\u001b[0m adversarial_carla_od_AP_per_class on adversarial examples w.r.t. ground truth labels: {'mean': 0.7, 'class': {1: 0.78, 2: 0.62}}\n",
      "2022-11-07 20:31:49  1m \u001b[33m\u001b[1mWARNING \u001b[0m \u001b[36marmory.instrument.instrument\u001b[0m:\u001b[36mfinalize\u001b[0m:\u001b[36m590\u001b[0m Meter 'benign_carla_od_disappearance_rate' was never measured. The following args were never set: ['scenario.y_pred']\n",
      "2022-11-07 20:31:49  1m \u001b[32m\u001b[1mSUCCESS \u001b[0m \u001b[36marmory.instrument.config\u001b[0m:\u001b[36m_write\u001b[0m:\u001b[36m224\u001b[0m adversarial_mean_carla_od_disappearance_rate on adversarial examples w.r.t. ground truth labels: 40.00%\n",
      "2022-11-07 20:31:49  1m \u001b[33m\u001b[1mWARNING \u001b[0m \u001b[36marmory.instrument.instrument\u001b[0m:\u001b[36mfinalize\u001b[0m:\u001b[36m590\u001b[0m Meter 'benign_carla_od_hallucinations_per_image' was never measured. The following args were never set: ['scenario.y_pred']\n",
      "2022-11-07 20:31:49  1m \u001b[32m\u001b[1mSUCCESS \u001b[0m \u001b[36marmory.instrument.config\u001b[0m:\u001b[36m_write\u001b[0m:\u001b[36m224\u001b[0m adversarial_mean_carla_od_hallucinations_per_image on adversarial examples w.r.t. ground truth labels: 7.0\n",
      "2022-11-07 20:31:49  1m \u001b[33m\u001b[1mWARNING \u001b[0m \u001b[36marmory.instrument.instrument\u001b[0m:\u001b[36mfinalize\u001b[0m:\u001b[36m590\u001b[0m Meter 'benign_carla_od_misclassification_rate' was never measured. The following args were never set: ['scenario.y_pred']\n",
      "2022-11-07 20:31:49  1m \u001b[32m\u001b[1mSUCCESS \u001b[0m \u001b[36marmory.instrument.config\u001b[0m:\u001b[36m_write\u001b[0m:\u001b[36m224\u001b[0m adversarial_mean_carla_od_misclassification_rate on adversarial examples w.r.t. ground truth labels: 0.00%\n",
      "2022-11-07 20:31:49  1m \u001b[33m\u001b[1mWARNING \u001b[0m \u001b[36marmory.instrument.instrument\u001b[0m:\u001b[36mfinalize\u001b[0m:\u001b[36m590\u001b[0m Meter 'benign_carla_od_true_positive_rate' was never measured. The following args were never set: ['scenario.y_pred']\n",
      "2022-11-07 20:31:49  1m \u001b[32m\u001b[1mSUCCESS \u001b[0m \u001b[36marmory.instrument.config\u001b[0m:\u001b[36m_write\u001b[0m:\u001b[36m224\u001b[0m adversarial_mean_carla_od_true_positive_rate on adversarial examples w.r.t. ground truth labels: 60.00%\n",
      "2022-11-07 20:31:49  1m \u001b[33m\u001b[1mWARNING \u001b[0m \u001b[36marmory.instrument.instrument\u001b[0m:\u001b[36mfinalize\u001b[0m:\u001b[36m590\u001b[0m Meter 'adversarial_input_to_carla_od_AP_per_class_wrt_benign_preds' was never measured. The following args were never set: ['scenario.y_pred']\n",
      "2022-11-07 20:31:49  1m \u001b[33m\u001b[1mWARNING \u001b[0m \u001b[36marmory.instrument.instrument\u001b[0m:\u001b[36mfinalize\u001b[0m:\u001b[36m590\u001b[0m Meter 'adversarial_carla_od_disappearance_rate_wrt_benign_preds' was never measured. The following args were never set: ['scenario.y_pred']\n",
      "2022-11-07 20:31:49  1m \u001b[33m\u001b[1mWARNING \u001b[0m \u001b[36marmory.instrument.instrument\u001b[0m:\u001b[36mfinalize\u001b[0m:\u001b[36m590\u001b[0m Meter 'adversarial_carla_od_hallucinations_per_image_wrt_benign_preds' was never measured. The following args were never set: ['scenario.y_pred']\n",
      "2022-11-07 20:31:49  1m \u001b[33m\u001b[1mWARNING \u001b[0m \u001b[36marmory.instrument.instrument\u001b[0m:\u001b[36mfinalize\u001b[0m:\u001b[36m590\u001b[0m Meter 'adversarial_carla_od_misclassification_rate_wrt_benign_preds' was never measured. The following args were never set: ['scenario.y_pred']\n",
      "2022-11-07 20:31:49 1m2s \u001b[33m\u001b[1mWARNING \u001b[0m \u001b[36marmory.instrument.instrument\u001b[0m:\u001b[36mfinalize\u001b[0m:\u001b[36m590\u001b[0m Meter 'adversarial_carla_od_true_positive_rate_wrt_benign_preds' was never measured. The following args were never set: ['scenario.y_pred']\n",
      "2022-11-07 20:31:49 1m2s \u001b[33m\u001b[1mWARNING \u001b[0m \u001b[36marmory.instrument.export\u001b[0m:\u001b[36mfinalize\u001b[0m:\u001b[36m744\u001b[0m Meter 'pred_dict_exporter' was never measured. The following args were never set: ['scenario.y_pred']\n",
      "2022-11-07 20:31:49 1m2s \u001b[33m\u001b[1mWARNING \u001b[0m \u001b[36marmory.instrument.export\u001b[0m:\u001b[36mfinalize\u001b[0m:\u001b[36m657\u001b[0m Meter 'x_with_boxes_exporter' was never measured. The following args were never set: ['scenario.y_pred']\n",
      "2022-11-07 20:31:49 1m2s \u001b[33m\u001b[1mWARNING \u001b[0m \u001b[36marmory.instrument.export\u001b[0m:\u001b[36mfinalize\u001b[0m:\u001b[36m827\u001b[0m Meter 'coco_box_format_meter' was never measured. The following args were never set: ['scenario.y_pred']\n"
     ]
    }
   ],
   "source": [
    "s.finalize_results()"
   ]
  },
  {
   "cell_type": "code",
   "execution_count": 6,
   "id": "7a9ed336-77e9-4d67-aa04-aaa09ae033f8",
   "metadata": {},
   "outputs": [
    {
     "data": {
      "text/plain": [
       "{'adversarial_carla_od_AP_per_class': [{'mean': 0.7,\n",
       "   'class': {1: 0.78, 2: 0.62}}],\n",
       " 'adversarial_mean_carla_od_disappearance_rate': [0.4],\n",
       " 'adversarial_mean_carla_od_hallucinations_per_image': [7.0],\n",
       " 'adversarial_mean_carla_od_misclassification_rate': [0.0],\n",
       " 'adversarial_mean_carla_od_true_positive_rate': [0.6],\n",
       " 'perturbation_mean_l0': [14418.0],\n",
       " 'compute': {}}"
      ]
     },
     "execution_count": 6,
     "metadata": {},
     "output_type": "execute_result"
    }
   ],
   "source": [
    "# mean in adversarial_carla_od_AP_per_class seems to be coming from MeanAP class in armory/metrics/task.py\n",
    "# rather than from object_detection_mAP\n",
    "s.results"
   ]
  },
  {
   "cell_type": "markdown",
   "id": "345666f0-b2e6-45ad-a399-0abce8702e3e",
   "metadata": {},
   "source": [
    "added `object_detection_mAP_tide` in `armory/metrics/task.py` and restarted kernel"
   ]
  },
  {
   "cell_type": "code",
   "execution_count": 1,
   "id": "e0009cc3-d52b-48be-bf8e-005d9703f617",
   "metadata": {},
   "outputs": [
    {
     "name": "stdout",
     "output_type": "stream",
     "text": [
      "2022-11-07 20:36:54  0s \u001b[1mINFO    \u001b[0m \u001b[36marmory.delayed_imports\u001b[0m:\u001b[36m<module>\u001b[0m:\u001b[36m7\u001b[0m Importing and configuring torch, tensorflow, and art, if available. This may take some time.\n",
      "2022-11-07 20:36:56  2s \u001b[1mINFO    \u001b[0m \u001b[36marmory.delayed_imports\u001b[0m:\u001b[36m<module>\u001b[0m:\u001b[36m30\u001b[0m Setting tf.config.experimental.set_memory_growth to True on all GPUs\n",
      "2022-11-07 20:36:56  2s \u001b[1mINFO    \u001b[0m \u001b[36mart.config\u001b[0m:\u001b[36mset_data_path\u001b[0m:\u001b[36m55\u001b[0m set ART_DATA_PATH to /tmp/.art/data\n",
      "2022-11-07 20:36:56  2s \u001b[1mINFO    \u001b[0m \u001b[36mart.config\u001b[0m:\u001b[36mset_data_path\u001b[0m:\u001b[36m55\u001b[0m set ART_DATA_PATH to /armory/saved_models/art\n",
      "2022-11-07 20:36:56  3s \u001b[1mINFO    \u001b[0m \u001b[36marmory.scenarios.main\u001b[0m:\u001b[36m_scenario_setup\u001b[0m:\u001b[36m37\u001b[0m this repo is being updated\n",
      "2022-11-07 20:36:56  3s \u001b[31m\u001b[1mERROR   \u001b[0m \u001b[36marmory.scenarios.main\u001b[0m:\u001b[36m_scenario_setup\u001b[0m:\u001b[36m42\u001b[0m eval_id not in config. Inserting current timestamp 1667853416.9658275\n",
      "2022-11-07 20:36:56  3s \u001b[1mINFO    \u001b[0m \u001b[36marmory.scenarios.main\u001b[0m:\u001b[36m_scenario_setup\u001b[0m:\u001b[36m50\u001b[0m armory outputs and logs will be written to /armory/outputs/1667853416.9658275\n",
      "2022-11-07 20:36:57  3s \u001b[1mINFO    \u001b[0m \u001b[36marmory.data.utils\u001b[0m:\u001b[36mmaybe_download_weights_from_s3\u001b[0m:\u001b[36m47\u001b[0m Using available carla_rgb_weights_eval5.pt in Armory `saved_model_dir`\n",
      "2022-11-07 20:37:00  6s \u001b[1mINFO    \u001b[0m \u001b[36marmory.scenarios.scenario\u001b[0m:\u001b[36mload_dataset\u001b[0m:\u001b[36m205\u001b[0m Loading test dataset carla_obj_det_dev...\n"
     ]
    },
    {
     "data": {
      "text/plain": [
       "['carla_od_AP_per_class',\n",
       " 'carla_od_disappearance_rate',\n",
       " 'carla_od_hallucinations_per_image',\n",
       " 'carla_od_misclassification_rate',\n",
       " 'carla_od_true_positive_rate',\n",
       " 'object_detection_mAP_tide']"
      ]
     },
     "execution_count": 1,
     "metadata": {},
     "output_type": "execute_result"
    }
   ],
   "source": [
    "from armory.scenarios.main import get as get_scenario  # restarted kernel\n",
    "\n",
    "s = get_scenario(\n",
    "    \"/armory/tmp/2022-11-03T180812.020999/carla_obj_det_adversarialpatch_undefended.json\",\n",
    "    num_eval_batches=1,\n",
    ").load()\n",
    "\n",
    "s.config[\"attack\"][\"kwargs\"][\"max_iter\"] = 5\n",
    "s.config[\"metric\"][\"record_metric_per_sample\"] = True\n",
    "s.config[\"scenario\"][\"export_batches\"] = True\n",
    "s.config[\"metric\"][\"task\"].append('object_detection_mAP_tide')\n",
    "s.config[\"metric\"][\"task\"]"
   ]
  },
  {
   "cell_type": "code",
   "execution_count": 2,
   "id": "69561e99-ec61-470a-825a-2e49daef412b",
   "metadata": {},
   "outputs": [
    {
     "data": {
      "application/vnd.jupyter.widget-view+json": {
       "model_id": "462aa62a82a244b6ba97cfa8c3d08abf",
       "version_major": 2,
       "version_minor": 0
      },
      "text/plain": [
       "Adversarial Patch PyTorch:   0%|          | 0/5 [00:00<?, ?it/s]"
      ]
     },
     "metadata": {},
     "output_type": "display_data"
    },
    {
     "name": "stderr",
     "output_type": "stream",
     "text": [
      "/opt/conda/lib/python3.8/site-packages/torchvision/transforms/functional.py:404: UserWarning: Argument interpolation should be of type InterpolationMode instead of int. Please, use InterpolationMode enum.\n",
      "  warnings.warn(\n",
      "/opt/conda/lib/python3.8/site-packages/torchvision/transforms/functional.py:654: UserWarning: Argument interpolation should be of type InterpolationMode instead of int. Please, use InterpolationMode enum.\n",
      "  warnings.warn(\n",
      "/opt/conda/lib/python3.8/site-packages/torch/functional.py:445: UserWarning: torch.meshgrid: in an upcoming release, it will be required to pass the indexing argument. (Triggered internally at  /opt/conda/conda-bld/pytorch_1640811806235/work/aten/src/ATen/native/TensorShape.cpp:2157.)\n",
      "  return _VF.meshgrid(tensors, **kwargs)  # type: ignore[attr-defined]\n"
     ]
    }
   ],
   "source": [
    "s.load_attack()\n",
    "s.next()\n",
    "s.run_attack()"
   ]
  },
  {
   "cell_type": "code",
   "execution_count": 3,
   "id": "47d0238e-daff-42bf-b814-1fcc8a074e0c",
   "metadata": {
    "tags": []
   },
   "outputs": [
    {
     "name": "stdout",
     "output_type": "stream",
     "text": [
      "2022-11-07 20:37:07 13s \u001b[33m\u001b[1mWARNING \u001b[0m \u001b[36marmory.instrument.instrument\u001b[0m:\u001b[36mfinalize\u001b[0m:\u001b[36m590\u001b[0m Meter 'benign_input_to_carla_od_AP_per_class' was never measured. The following args were never set: ['scenario.y_pred']\n",
      "2022-11-07 20:37:07 13s \u001b[32m\u001b[1mSUCCESS \u001b[0m \u001b[36marmory.instrument.config\u001b[0m:\u001b[36m_write\u001b[0m:\u001b[36m224\u001b[0m adversarial_carla_od_AP_per_class on adversarial examples w.r.t. ground truth labels: {'mean': 0.69, 'class': {1: 0.76, 2: 0.62}}\n",
      "2022-11-07 20:37:07 13s \u001b[33m\u001b[1mWARNING \u001b[0m \u001b[36marmory.instrument.instrument\u001b[0m:\u001b[36mfinalize\u001b[0m:\u001b[36m590\u001b[0m Meter 'benign_carla_od_disappearance_rate' was never measured. The following args were never set: ['scenario.y_pred']\n",
      "2022-11-07 20:37:07 13s \u001b[32m\u001b[1mSUCCESS \u001b[0m \u001b[36marmory.instrument.config\u001b[0m:\u001b[36m_write\u001b[0m:\u001b[36m224\u001b[0m adversarial_mean_carla_od_disappearance_rate on adversarial examples w.r.t. ground truth labels: 40.00%\n",
      "2022-11-07 20:37:07 13s \u001b[33m\u001b[1mWARNING \u001b[0m \u001b[36marmory.instrument.instrument\u001b[0m:\u001b[36mfinalize\u001b[0m:\u001b[36m590\u001b[0m Meter 'benign_carla_od_hallucinations_per_image' was never measured. The following args were never set: ['scenario.y_pred']\n",
      "2022-11-07 20:37:07 13s \u001b[32m\u001b[1mSUCCESS \u001b[0m \u001b[36marmory.instrument.config\u001b[0m:\u001b[36m_write\u001b[0m:\u001b[36m224\u001b[0m adversarial_mean_carla_od_hallucinations_per_image on adversarial examples w.r.t. ground truth labels: 7.0\n",
      "2022-11-07 20:37:07 13s \u001b[33m\u001b[1mWARNING \u001b[0m \u001b[36marmory.instrument.instrument\u001b[0m:\u001b[36mfinalize\u001b[0m:\u001b[36m590\u001b[0m Meter 'benign_carla_od_misclassification_rate' was never measured. The following args were never set: ['scenario.y_pred']\n",
      "2022-11-07 20:37:07 13s \u001b[32m\u001b[1mSUCCESS \u001b[0m \u001b[36marmory.instrument.config\u001b[0m:\u001b[36m_write\u001b[0m:\u001b[36m224\u001b[0m adversarial_mean_carla_od_misclassification_rate on adversarial examples w.r.t. ground truth labels: 0.00%\n",
      "2022-11-07 20:37:07 13s \u001b[33m\u001b[1mWARNING \u001b[0m \u001b[36marmory.instrument.instrument\u001b[0m:\u001b[36mfinalize\u001b[0m:\u001b[36m590\u001b[0m Meter 'benign_carla_od_true_positive_rate' was never measured. The following args were never set: ['scenario.y_pred']\n",
      "2022-11-07 20:37:07 13s \u001b[32m\u001b[1mSUCCESS \u001b[0m \u001b[36marmory.instrument.config\u001b[0m:\u001b[36m_write\u001b[0m:\u001b[36m224\u001b[0m adversarial_mean_carla_od_true_positive_rate on adversarial examples w.r.t. ground truth labels: 60.00%\n",
      "2022-11-07 20:37:07 13s \u001b[33m\u001b[1mWARNING \u001b[0m \u001b[36marmory.instrument.instrument\u001b[0m:\u001b[36mfinalize\u001b[0m:\u001b[36m590\u001b[0m Meter 'adversarial_input_to_carla_od_AP_per_class_wrt_benign_preds' was never measured. The following args were never set: ['scenario.y_pred']\n",
      "2022-11-07 20:37:07 13s \u001b[33m\u001b[1mWARNING \u001b[0m \u001b[36marmory.instrument.instrument\u001b[0m:\u001b[36mfinalize\u001b[0m:\u001b[36m590\u001b[0m Meter 'adversarial_carla_od_disappearance_rate_wrt_benign_preds' was never measured. The following args were never set: ['scenario.y_pred']\n",
      "2022-11-07 20:37:07 13s \u001b[33m\u001b[1mWARNING \u001b[0m \u001b[36marmory.instrument.instrument\u001b[0m:\u001b[36mfinalize\u001b[0m:\u001b[36m590\u001b[0m Meter 'adversarial_carla_od_hallucinations_per_image_wrt_benign_preds' was never measured. The following args were never set: ['scenario.y_pred']\n",
      "2022-11-07 20:37:07 13s \u001b[33m\u001b[1mWARNING \u001b[0m \u001b[36marmory.instrument.instrument\u001b[0m:\u001b[36mfinalize\u001b[0m:\u001b[36m590\u001b[0m Meter 'adversarial_carla_od_misclassification_rate_wrt_benign_preds' was never measured. The following args were never set: ['scenario.y_pred']\n",
      "2022-11-07 20:37:07 13s \u001b[33m\u001b[1mWARNING \u001b[0m \u001b[36marmory.instrument.instrument\u001b[0m:\u001b[36mfinalize\u001b[0m:\u001b[36m590\u001b[0m Meter 'adversarial_carla_od_true_positive_rate_wrt_benign_preds' was never measured. The following args were never set: ['scenario.y_pred']\n",
      "2022-11-07 20:37:07 13s \u001b[33m\u001b[1mWARNING \u001b[0m \u001b[36marmory.instrument.export\u001b[0m:\u001b[36mfinalize\u001b[0m:\u001b[36m744\u001b[0m Meter 'pred_dict_exporter' was never measured. The following args were never set: ['scenario.y_pred']\n",
      "2022-11-07 20:37:07 13s \u001b[33m\u001b[1mWARNING \u001b[0m \u001b[36marmory.instrument.export\u001b[0m:\u001b[36mfinalize\u001b[0m:\u001b[36m657\u001b[0m Meter 'x_with_boxes_exporter' was never measured. The following args were never set: ['scenario.y_pred']\n",
      "2022-11-07 20:37:07 13s \u001b[33m\u001b[1mWARNING \u001b[0m \u001b[36marmory.instrument.export\u001b[0m:\u001b[36mfinalize\u001b[0m:\u001b[36m827\u001b[0m Meter 'coco_box_format_meter' was never measured. The following args were never set: ['scenario.y_pred']\n"
     ]
    }
   ],
   "source": [
    "s.finalize_results()"
   ]
  },
  {
   "cell_type": "markdown",
   "id": "0497d64a-62f0-466c-b066-583e8af5ce44",
   "metadata": {},
   "source": [
    "`object_detection_mAP_tide` NOT included below - may need to `s.load_metrics()`"
   ]
  },
  {
   "cell_type": "code",
   "execution_count": 4,
   "id": "1b024412-bfc5-4b3d-bf90-0acd22351398",
   "metadata": {},
   "outputs": [
    {
     "data": {
      "text/plain": [
       "{'adversarial_carla_od_AP_per_class': [{'mean': 0.69,\n",
       "   'class': {1: 0.76, 2: 0.62}}],\n",
       " 'adversarial_mean_carla_od_disappearance_rate': [0.4],\n",
       " 'adversarial_mean_carla_od_hallucinations_per_image': [7.0],\n",
       " 'adversarial_mean_carla_od_misclassification_rate': [0.0],\n",
       " 'adversarial_mean_carla_od_true_positive_rate': [0.6],\n",
       " 'perturbation_mean_l0': [14418.0],\n",
       " 'compute': {}}"
      ]
     },
     "execution_count": 4,
     "metadata": {},
     "output_type": "execute_result"
    }
   ],
   "source": [
    "s.results"
   ]
  },
  {
   "cell_type": "markdown",
   "id": "6320d90a-d425-45d3-b508-5330e7c65f61",
   "metadata": {
    "jp-MarkdownHeadingCollapsed": true,
    "tags": []
   },
   "source": [
    "### `load_metric` Test"
   ]
  },
  {
   "cell_type": "code",
   "execution_count": 1,
   "id": "4bb8138d-13e1-4f17-81c8-13522e9de616",
   "metadata": {},
   "outputs": [
    {
     "name": "stdout",
     "output_type": "stream",
     "text": [
      "2022-11-07 20:39:19  0s \u001b[1mINFO    \u001b[0m \u001b[36marmory.delayed_imports\u001b[0m:\u001b[36m<module>\u001b[0m:\u001b[36m7\u001b[0m Importing and configuring torch, tensorflow, and art, if available. This may take some time.\n",
      "2022-11-07 20:39:21  2s \u001b[1mINFO    \u001b[0m \u001b[36marmory.delayed_imports\u001b[0m:\u001b[36m<module>\u001b[0m:\u001b[36m30\u001b[0m Setting tf.config.experimental.set_memory_growth to True on all GPUs\n",
      "2022-11-07 20:39:21  2s \u001b[1mINFO    \u001b[0m \u001b[36mart.config\u001b[0m:\u001b[36mset_data_path\u001b[0m:\u001b[36m55\u001b[0m set ART_DATA_PATH to /tmp/.art/data\n",
      "2022-11-07 20:39:21  2s \u001b[1mINFO    \u001b[0m \u001b[36mart.config\u001b[0m:\u001b[36mset_data_path\u001b[0m:\u001b[36m55\u001b[0m set ART_DATA_PATH to /armory/saved_models/art\n",
      "2022-11-07 20:39:22  3s \u001b[1mINFO    \u001b[0m \u001b[36marmory.scenarios.main\u001b[0m:\u001b[36m_scenario_setup\u001b[0m:\u001b[36m37\u001b[0m this repo is being updated\n",
      "2022-11-07 20:39:22  3s \u001b[31m\u001b[1mERROR   \u001b[0m \u001b[36marmory.scenarios.main\u001b[0m:\u001b[36m_scenario_setup\u001b[0m:\u001b[36m42\u001b[0m eval_id not in config. Inserting current timestamp 1667853562.1336877\n",
      "2022-11-07 20:39:22  3s \u001b[1mINFO    \u001b[0m \u001b[36marmory.scenarios.main\u001b[0m:\u001b[36m_scenario_setup\u001b[0m:\u001b[36m50\u001b[0m armory outputs and logs will be written to /armory/outputs/1667853562.1336877\n",
      "2022-11-07 20:39:22  3s \u001b[1mINFO    \u001b[0m \u001b[36marmory.data.utils\u001b[0m:\u001b[36mmaybe_download_weights_from_s3\u001b[0m:\u001b[36m47\u001b[0m Using available carla_rgb_weights_eval5.pt in Armory `saved_model_dir`\n",
      "2022-11-07 20:39:25  6s \u001b[1mINFO    \u001b[0m \u001b[36marmory.scenarios.scenario\u001b[0m:\u001b[36mload_dataset\u001b[0m:\u001b[36m205\u001b[0m Loading test dataset carla_obj_det_dev...\n"
     ]
    },
    {
     "data": {
      "text/plain": [
       "['carla_od_AP_per_class',\n",
       " 'carla_od_disappearance_rate',\n",
       " 'carla_od_hallucinations_per_image',\n",
       " 'carla_od_misclassification_rate',\n",
       " 'carla_od_true_positive_rate',\n",
       " 'object_detection_mAP_tide']"
      ]
     },
     "execution_count": 1,
     "metadata": {},
     "output_type": "execute_result"
    }
   ],
   "source": [
    "from armory.scenarios.main import get as get_scenario  # restarted kernel\n",
    "\n",
    "s = get_scenario(\n",
    "    \"/armory/tmp/2022-11-03T180812.020999/carla_obj_det_adversarialpatch_undefended.json\",\n",
    "    num_eval_batches=1,\n",
    ").load()\n",
    "\n",
    "s.config[\"attack\"][\"kwargs\"][\"max_iter\"] = 5\n",
    "s.config[\"metric\"][\"record_metric_per_sample\"] = True\n",
    "s.config[\"scenario\"][\"export_batches\"] = True\n",
    "s.config[\"metric\"][\"task\"].append('object_detection_mAP_tide')\n",
    "s.config[\"metric\"][\"task\"]"
   ]
  },
  {
   "cell_type": "code",
   "execution_count": 2,
   "id": "9eeac29a-ad24-4a30-a822-9b1945ab6f3f",
   "metadata": {},
   "outputs": [],
   "source": [
    "s.load_metrics() # necessary, but seems to run metrics calculation twice"
   ]
  },
  {
   "cell_type": "code",
   "execution_count": 3,
   "id": "1bcfb141-8212-4a56-a03b-707280a35022",
   "metadata": {},
   "outputs": [
    {
     "data": {
      "application/vnd.jupyter.widget-view+json": {
       "model_id": "4ece885373d549b783f64c99a3be4467",
       "version_major": 2,
       "version_minor": 0
      },
      "text/plain": [
       "Adversarial Patch PyTorch:   0%|          | 0/5 [00:00<?, ?it/s]"
      ]
     },
     "metadata": {},
     "output_type": "display_data"
    },
    {
     "name": "stderr",
     "output_type": "stream",
     "text": [
      "/opt/conda/lib/python3.8/site-packages/torchvision/transforms/functional.py:404: UserWarning: Argument interpolation should be of type InterpolationMode instead of int. Please, use InterpolationMode enum.\n",
      "  warnings.warn(\n",
      "/opt/conda/lib/python3.8/site-packages/torchvision/transforms/functional.py:654: UserWarning: Argument interpolation should be of type InterpolationMode instead of int. Please, use InterpolationMode enum.\n",
      "  warnings.warn(\n",
      "/opt/conda/lib/python3.8/site-packages/torch/functional.py:445: UserWarning: torch.meshgrid: in an upcoming release, it will be required to pass the indexing argument. (Triggered internally at  /opt/conda/conda-bld/pytorch_1640811806235/work/aten/src/ATen/native/TensorShape.cpp:2157.)\n",
      "  return _VF.meshgrid(tensors, **kwargs)  # type: ignore[attr-defined]\n"
     ]
    },
    {
     "name": "stdout",
     "output_type": "stream",
     "text": [
      "2022-11-07 20:39:31 12s \u001b[32m\u001b[1mSUCCESS \u001b[0m \u001b[36marmory.instrument.config\u001b[0m:\u001b[36m_write\u001b[0m:\u001b[36m224\u001b[0m adversarial_carla_od_disappearance_rate on adversarial examples w.r.t. ground truth labels: 40.00%\n",
      "2022-11-07 20:39:31 12s \u001b[32m\u001b[1mSUCCESS \u001b[0m \u001b[36marmory.instrument.config\u001b[0m:\u001b[36m_write\u001b[0m:\u001b[36m224\u001b[0m adversarial_carla_od_hallucinations_per_image on adversarial examples w.r.t. ground truth labels: 9.0\n",
      "2022-11-07 20:39:31 12s \u001b[32m\u001b[1mSUCCESS \u001b[0m \u001b[36marmory.instrument.config\u001b[0m:\u001b[36m_write\u001b[0m:\u001b[36m224\u001b[0m adversarial_carla_od_misclassification_rate on adversarial examples w.r.t. ground truth labels: 0.00%\n",
      "2022-11-07 20:39:31 12s \u001b[32m\u001b[1mSUCCESS \u001b[0m \u001b[36marmory.instrument.config\u001b[0m:\u001b[36m_write\u001b[0m:\u001b[36m224\u001b[0m adversarial_carla_od_true_positive_rate on adversarial examples w.r.t. ground truth labels: 60.00%\n",
      "2022-11-07 20:39:31 12s \u001b[32m\u001b[1mSUCCESS \u001b[0m \u001b[36marmory.instrument.config\u001b[0m:\u001b[36m_write\u001b[0m:\u001b[36m224\u001b[0m adversarial_object_detection_mAP_tide on adversarial examples w.r.t. ground truth labels: 68.50%\n"
     ]
    }
   ],
   "source": [
    "s.load_attack()\n",
    "s.next()\n",
    "s.run_attack()"
   ]
  },
  {
   "cell_type": "code",
   "execution_count": 4,
   "id": "a8627bb2-73eb-4093-bc50-92216b75bd87",
   "metadata": {
    "tags": []
   },
   "outputs": [
    {
     "name": "stdout",
     "output_type": "stream",
     "text": [
      "2022-11-07 20:39:35 16s \u001b[33m\u001b[1mWARNING \u001b[0m \u001b[36marmory.instrument.instrument\u001b[0m:\u001b[36mfinalize\u001b[0m:\u001b[36m590\u001b[0m Meter 'benign_input_to_carla_od_AP_per_class' was never measured. The following args were never set: ['scenario.y_pred']\n",
      "2022-11-07 20:39:35 16s \u001b[32m\u001b[1mSUCCESS \u001b[0m \u001b[36marmory.instrument.config\u001b[0m:\u001b[36m_write\u001b[0m:\u001b[36m224\u001b[0m adversarial_carla_od_AP_per_class on adversarial examples w.r.t. ground truth labels: {'mean': 0.685, 'class': {1: 0.75, 2: 0.62}}\n",
      "2022-11-07 20:39:35 16s \u001b[33m\u001b[1mWARNING \u001b[0m \u001b[36marmory.instrument.instrument\u001b[0m:\u001b[36mfinalize\u001b[0m:\u001b[36m590\u001b[0m Meter 'benign_carla_od_disappearance_rate' was never measured. The following args were never set: ['scenario.y_pred']\n",
      "2022-11-07 20:39:35 16s \u001b[32m\u001b[1mSUCCESS \u001b[0m \u001b[36marmory.instrument.config\u001b[0m:\u001b[36m_write\u001b[0m:\u001b[36m224\u001b[0m adversarial_mean_carla_od_disappearance_rate on adversarial examples w.r.t. ground truth labels: 40.00%\n",
      "2022-11-07 20:39:35 16s \u001b[33m\u001b[1mWARNING \u001b[0m \u001b[36marmory.instrument.instrument\u001b[0m:\u001b[36mfinalize\u001b[0m:\u001b[36m590\u001b[0m Meter 'benign_carla_od_hallucinations_per_image' was never measured. The following args were never set: ['scenario.y_pred']\n",
      "2022-11-07 20:39:35 16s \u001b[32m\u001b[1mSUCCESS \u001b[0m \u001b[36marmory.instrument.config\u001b[0m:\u001b[36m_write\u001b[0m:\u001b[36m224\u001b[0m adversarial_mean_carla_od_hallucinations_per_image on adversarial examples w.r.t. ground truth labels: 9.0\n",
      "2022-11-07 20:39:35 16s \u001b[33m\u001b[1mWARNING \u001b[0m \u001b[36marmory.instrument.instrument\u001b[0m:\u001b[36mfinalize\u001b[0m:\u001b[36m590\u001b[0m Meter 'benign_carla_od_misclassification_rate' was never measured. The following args were never set: ['scenario.y_pred']\n",
      "2022-11-07 20:39:35 16s \u001b[32m\u001b[1mSUCCESS \u001b[0m \u001b[36marmory.instrument.config\u001b[0m:\u001b[36m_write\u001b[0m:\u001b[36m224\u001b[0m adversarial_mean_carla_od_misclassification_rate on adversarial examples w.r.t. ground truth labels: 0.00%\n",
      "2022-11-07 20:39:35 16s \u001b[33m\u001b[1mWARNING \u001b[0m \u001b[36marmory.instrument.instrument\u001b[0m:\u001b[36mfinalize\u001b[0m:\u001b[36m590\u001b[0m Meter 'benign_carla_od_true_positive_rate' was never measured. The following args were never set: ['scenario.y_pred']\n",
      "2022-11-07 20:39:35 16s \u001b[32m\u001b[1mSUCCESS \u001b[0m \u001b[36marmory.instrument.config\u001b[0m:\u001b[36m_write\u001b[0m:\u001b[36m224\u001b[0m adversarial_mean_carla_od_true_positive_rate on adversarial examples w.r.t. ground truth labels: 60.00%\n",
      "2022-11-07 20:39:35 16s \u001b[33m\u001b[1mWARNING \u001b[0m \u001b[36marmory.instrument.instrument\u001b[0m:\u001b[36mfinalize\u001b[0m:\u001b[36m590\u001b[0m Meter 'adversarial_input_to_carla_od_AP_per_class_wrt_benign_preds' was never measured. The following args were never set: ['scenario.y_pred']\n",
      "2022-11-07 20:39:35 16s \u001b[33m\u001b[1mWARNING \u001b[0m \u001b[36marmory.instrument.instrument\u001b[0m:\u001b[36mfinalize\u001b[0m:\u001b[36m590\u001b[0m Meter 'adversarial_carla_od_disappearance_rate_wrt_benign_preds' was never measured. The following args were never set: ['scenario.y_pred']\n",
      "2022-11-07 20:39:35 16s \u001b[33m\u001b[1mWARNING \u001b[0m \u001b[36marmory.instrument.instrument\u001b[0m:\u001b[36mfinalize\u001b[0m:\u001b[36m590\u001b[0m Meter 'adversarial_carla_od_hallucinations_per_image_wrt_benign_preds' was never measured. The following args were never set: ['scenario.y_pred']\n",
      "2022-11-07 20:39:35 16s \u001b[33m\u001b[1mWARNING \u001b[0m \u001b[36marmory.instrument.instrument\u001b[0m:\u001b[36mfinalize\u001b[0m:\u001b[36m590\u001b[0m Meter 'adversarial_carla_od_misclassification_rate_wrt_benign_preds' was never measured. The following args were never set: ['scenario.y_pred']\n",
      "2022-11-07 20:39:35 16s \u001b[33m\u001b[1mWARNING \u001b[0m \u001b[36marmory.instrument.instrument\u001b[0m:\u001b[36mfinalize\u001b[0m:\u001b[36m590\u001b[0m Meter 'adversarial_carla_od_true_positive_rate_wrt_benign_preds' was never measured. The following args were never set: ['scenario.y_pred']\n",
      "2022-11-07 20:39:35 16s \u001b[33m\u001b[1mWARNING \u001b[0m \u001b[36marmory.instrument.export\u001b[0m:\u001b[36mfinalize\u001b[0m:\u001b[36m744\u001b[0m Meter 'pred_dict_exporter' was never measured. The following args were never set: ['scenario.y_pred']\n",
      "2022-11-07 20:39:35 16s \u001b[33m\u001b[1mWARNING \u001b[0m \u001b[36marmory.instrument.export\u001b[0m:\u001b[36mfinalize\u001b[0m:\u001b[36m657\u001b[0m Meter 'x_with_boxes_exporter' was never measured. The following args were never set: ['scenario.y_pred']\n",
      "2022-11-07 20:39:35 16s \u001b[33m\u001b[1mWARNING \u001b[0m \u001b[36marmory.instrument.export\u001b[0m:\u001b[36mfinalize\u001b[0m:\u001b[36m827\u001b[0m Meter 'coco_box_format_meter' was never measured. The following args were never set: ['scenario.y_pred']\n",
      "2022-11-07 20:39:35 16s \u001b[33m\u001b[1mWARNING \u001b[0m \u001b[36marmory.instrument.instrument\u001b[0m:\u001b[36mfinalize\u001b[0m:\u001b[36m590\u001b[0m Meter 'benign_input_to_carla_od_AP_per_class' was never measured. The following args were never set: ['scenario.y_pred']\n",
      "2022-11-07 20:39:35 16s \u001b[32m\u001b[1mSUCCESS \u001b[0m \u001b[36marmory.instrument.config\u001b[0m:\u001b[36m_write\u001b[0m:\u001b[36m224\u001b[0m adversarial_carla_od_AP_per_class on adversarial examples w.r.t. ground truth labels: {'mean': 0.685, 'class': {1: 0.75, 2: 0.62}}\n",
      "2022-11-07 20:39:35 16s \u001b[33m\u001b[1mWARNING \u001b[0m \u001b[36marmory.instrument.instrument\u001b[0m:\u001b[36mfinalize\u001b[0m:\u001b[36m590\u001b[0m Meter 'benign_carla_od_disappearance_rate' was never measured. The following args were never set: ['scenario.y_pred']\n",
      "2022-11-07 20:39:35 16s \u001b[32m\u001b[1mSUCCESS \u001b[0m \u001b[36marmory.instrument.config\u001b[0m:\u001b[36m_write\u001b[0m:\u001b[36m224\u001b[0m adversarial_mean_carla_od_disappearance_rate on adversarial examples w.r.t. ground truth labels: 40.00%\n",
      "2022-11-07 20:39:35 16s \u001b[33m\u001b[1mWARNING \u001b[0m \u001b[36marmory.instrument.instrument\u001b[0m:\u001b[36mfinalize\u001b[0m:\u001b[36m590\u001b[0m Meter 'benign_carla_od_hallucinations_per_image' was never measured. The following args were never set: ['scenario.y_pred']\n",
      "2022-11-07 20:39:35 16s \u001b[32m\u001b[1mSUCCESS \u001b[0m \u001b[36marmory.instrument.config\u001b[0m:\u001b[36m_write\u001b[0m:\u001b[36m224\u001b[0m adversarial_mean_carla_od_hallucinations_per_image on adversarial examples w.r.t. ground truth labels: 9.0\n",
      "2022-11-07 20:39:35 16s \u001b[33m\u001b[1mWARNING \u001b[0m \u001b[36marmory.instrument.instrument\u001b[0m:\u001b[36mfinalize\u001b[0m:\u001b[36m590\u001b[0m Meter 'benign_carla_od_misclassification_rate' was never measured. The following args were never set: ['scenario.y_pred']\n",
      "2022-11-07 20:39:35 16s \u001b[32m\u001b[1mSUCCESS \u001b[0m \u001b[36marmory.instrument.config\u001b[0m:\u001b[36m_write\u001b[0m:\u001b[36m224\u001b[0m adversarial_mean_carla_od_misclassification_rate on adversarial examples w.r.t. ground truth labels: 0.00%\n",
      "2022-11-07 20:39:35 16s \u001b[33m\u001b[1mWARNING \u001b[0m \u001b[36marmory.instrument.instrument\u001b[0m:\u001b[36mfinalize\u001b[0m:\u001b[36m590\u001b[0m Meter 'benign_carla_od_true_positive_rate' was never measured. The following args were never set: ['scenario.y_pred']\n",
      "2022-11-07 20:39:35 16s \u001b[32m\u001b[1mSUCCESS \u001b[0m \u001b[36marmory.instrument.config\u001b[0m:\u001b[36m_write\u001b[0m:\u001b[36m224\u001b[0m adversarial_mean_carla_od_true_positive_rate on adversarial examples w.r.t. ground truth labels: 60.00%\n",
      "2022-11-07 20:39:35 16s \u001b[33m\u001b[1mWARNING \u001b[0m \u001b[36marmory.instrument.instrument\u001b[0m:\u001b[36mfinalize\u001b[0m:\u001b[36m590\u001b[0m Meter 'benign_object_detection_mAP_tide' was never measured. The following args were never set: ['scenario.y_pred']\n",
      "2022-11-07 20:39:35 16s \u001b[32m\u001b[1mSUCCESS \u001b[0m \u001b[36marmory.instrument.config\u001b[0m:\u001b[36m_write\u001b[0m:\u001b[36m224\u001b[0m adversarial_mean_object_detection_mAP_tide on adversarial examples w.r.t. ground truth labels: 68.50%\n",
      "2022-11-07 20:39:35 16s \u001b[33m\u001b[1mWARNING \u001b[0m \u001b[36marmory.instrument.instrument\u001b[0m:\u001b[36mfinalize\u001b[0m:\u001b[36m590\u001b[0m Meter 'adversarial_input_to_carla_od_AP_per_class_wrt_benign_preds' was never measured. The following args were never set: ['scenario.y_pred']\n",
      "2022-11-07 20:39:35 16s \u001b[33m\u001b[1mWARNING \u001b[0m \u001b[36marmory.instrument.instrument\u001b[0m:\u001b[36mfinalize\u001b[0m:\u001b[36m590\u001b[0m Meter 'adversarial_carla_od_disappearance_rate_wrt_benign_preds' was never measured. The following args were never set: ['scenario.y_pred']\n",
      "2022-11-07 20:39:35 16s \u001b[33m\u001b[1mWARNING \u001b[0m \u001b[36marmory.instrument.instrument\u001b[0m:\u001b[36mfinalize\u001b[0m:\u001b[36m590\u001b[0m Meter 'adversarial_carla_od_hallucinations_per_image_wrt_benign_preds' was never measured. The following args were never set: ['scenario.y_pred']\n",
      "2022-11-07 20:39:35 16s \u001b[33m\u001b[1mWARNING \u001b[0m \u001b[36marmory.instrument.instrument\u001b[0m:\u001b[36mfinalize\u001b[0m:\u001b[36m590\u001b[0m Meter 'adversarial_carla_od_misclassification_rate_wrt_benign_preds' was never measured. The following args were never set: ['scenario.y_pred']\n",
      "2022-11-07 20:39:35 16s \u001b[33m\u001b[1mWARNING \u001b[0m \u001b[36marmory.instrument.instrument\u001b[0m:\u001b[36mfinalize\u001b[0m:\u001b[36m590\u001b[0m Meter 'adversarial_carla_od_true_positive_rate_wrt_benign_preds' was never measured. The following args were never set: ['scenario.y_pred']\n",
      "2022-11-07 20:39:35 16s \u001b[33m\u001b[1mWARNING \u001b[0m \u001b[36marmory.instrument.instrument\u001b[0m:\u001b[36mfinalize\u001b[0m:\u001b[36m590\u001b[0m Meter 'adversarial_object_detection_mAP_tide_wrt_benign_preds' was never measured. The following args were never set: ['scenario.y_pred']\n"
     ]
    }
   ],
   "source": [
    "s.finalize_results()"
   ]
  },
  {
   "cell_type": "code",
   "execution_count": 5,
   "id": "e161498f-e39a-4c58-87a8-e99b232f44b4",
   "metadata": {},
   "outputs": [
    {
     "data": {
      "text/plain": [
       "{'perturbation_l0': [array([14418.])],\n",
       " 'adversarial_carla_od_disappearance_rate': [[0.4]],\n",
       " 'adversarial_carla_od_hallucinations_per_image': [[9]],\n",
       " 'adversarial_carla_od_misclassification_rate': [[0.0]],\n",
       " 'adversarial_carla_od_true_positive_rate': [[0.6]],\n",
       " 'adversarial_object_detection_mAP_tide': [0.685],\n",
       " 'adversarial_carla_od_AP_per_class': [{'mean': 0.685,\n",
       "   'class': {1: 0.75, 2: 0.62}},\n",
       "  {'mean': 0.685, 'class': {1: 0.75, 2: 0.62}}],\n",
       " 'adversarial_mean_carla_od_disappearance_rate': [0.4, 0.4],\n",
       " 'adversarial_mean_carla_od_hallucinations_per_image': [9.0, 9.0],\n",
       " 'adversarial_mean_carla_od_misclassification_rate': [0.0, 0.0],\n",
       " 'adversarial_mean_carla_od_true_positive_rate': [0.6, 0.6],\n",
       " 'perturbation_mean_l0': [14418.0, 14418.0],\n",
       " 'adversarial_mean_object_detection_mAP_tide': [0.685],\n",
       " 'compute': {}}"
      ]
     },
     "execution_count": 5,
     "metadata": {},
     "output_type": "execute_result"
    }
   ],
   "source": [
    "s.results"
   ]
  },
  {
   "cell_type": "code",
   "execution_count": 1,
   "id": "80d3b518-7dd5-40fe-9d04-8cf32bd95494",
   "metadata": {},
   "outputs": [
    {
     "name": "stdout",
     "output_type": "stream",
     "text": [
      "2022-11-07 20:40:32  0s \u001b[1mINFO    \u001b[0m \u001b[36marmory.delayed_imports\u001b[0m:\u001b[36m<module>\u001b[0m:\u001b[36m7\u001b[0m Importing and configuring torch, tensorflow, and art, if available. This may take some time.\n",
      "2022-11-07 20:40:35  2s \u001b[1mINFO    \u001b[0m \u001b[36marmory.delayed_imports\u001b[0m:\u001b[36m<module>\u001b[0m:\u001b[36m30\u001b[0m Setting tf.config.experimental.set_memory_growth to True on all GPUs\n",
      "2022-11-07 20:40:35  2s \u001b[1mINFO    \u001b[0m \u001b[36mart.config\u001b[0m:\u001b[36mset_data_path\u001b[0m:\u001b[36m55\u001b[0m set ART_DATA_PATH to /tmp/.art/data\n",
      "2022-11-07 20:40:35  2s \u001b[1mINFO    \u001b[0m \u001b[36mart.config\u001b[0m:\u001b[36mset_data_path\u001b[0m:\u001b[36m55\u001b[0m set ART_DATA_PATH to /armory/saved_models/art\n",
      "2022-11-07 20:40:35  3s \u001b[1mINFO    \u001b[0m \u001b[36marmory.scenarios.main\u001b[0m:\u001b[36m_scenario_setup\u001b[0m:\u001b[36m37\u001b[0m this repo is being updated\n",
      "2022-11-07 20:40:35  3s \u001b[31m\u001b[1mERROR   \u001b[0m \u001b[36marmory.scenarios.main\u001b[0m:\u001b[36m_scenario_setup\u001b[0m:\u001b[36m42\u001b[0m eval_id not in config. Inserting current timestamp 1667853635.9357457\n",
      "2022-11-07 20:40:35  3s \u001b[1mINFO    \u001b[0m \u001b[36marmory.scenarios.main\u001b[0m:\u001b[36m_scenario_setup\u001b[0m:\u001b[36m50\u001b[0m armory outputs and logs will be written to /armory/outputs/1667853635.9357457\n",
      "2022-11-07 20:40:36  3s \u001b[1mINFO    \u001b[0m \u001b[36marmory.data.utils\u001b[0m:\u001b[36mmaybe_download_weights_from_s3\u001b[0m:\u001b[36m47\u001b[0m Using available carla_rgb_weights_eval5.pt in Armory `saved_model_dir`\n",
      "2022-11-07 20:40:39  6s \u001b[1mINFO    \u001b[0m \u001b[36marmory.scenarios.scenario\u001b[0m:\u001b[36mload_dataset\u001b[0m:\u001b[36m205\u001b[0m Loading test dataset carla_obj_det_dev...\n"
     ]
    },
    {
     "data": {
      "text/plain": [
       "['carla_od_AP_per_class',\n",
       " 'carla_od_disappearance_rate',\n",
       " 'carla_od_hallucinations_per_image',\n",
       " 'carla_od_misclassification_rate',\n",
       " 'carla_od_true_positive_rate',\n",
       " 'object_detection_mAP_tide']"
      ]
     },
     "execution_count": 1,
     "metadata": {},
     "output_type": "execute_result"
    }
   ],
   "source": [
    "from armory.scenarios.main import get as get_scenario  # restarted kernel\n",
    "\n",
    "s = get_scenario(\n",
    "    \"/armory/tmp/2022-11-03T180812.020999/carla_obj_det_adversarialpatch_undefended.json\",\n",
    "    num_eval_batches=1,\n",
    ").load()\n",
    "\n",
    "s.config[\"attack\"][\"kwargs\"][\"max_iter\"] = 5\n",
    "s.config[\"metric\"][\"record_metric_per_sample\"] = True\n",
    "s.config[\"scenario\"][\"export_batches\"] = True\n",
    "s.config[\"metric\"][\"task\"].append('object_detection_mAP_tide')\n",
    "s.config[\"metric\"][\"task\"]"
   ]
  },
  {
   "cell_type": "code",
   "execution_count": 2,
   "id": "1026a7cf-9568-4c22-bac1-ed8b54b3d7cf",
   "metadata": {},
   "outputs": [],
   "source": [
    "s.load_metrics() # necessary, but seems to run metrics calculation twice\n",
    "s.load_metrics() # does loading twice have an effect, or is there something about load_metrics and what I've specified in \"task\" that I'm missing?"
   ]
  },
  {
   "cell_type": "code",
   "execution_count": 3,
   "id": "48aebb5f-a429-4d97-9d20-fc8cb64823eb",
   "metadata": {},
   "outputs": [
    {
     "data": {
      "application/vnd.jupyter.widget-view+json": {
       "model_id": "3a41a8d7b9df44e99f5e0258e4c4eb0f",
       "version_major": 2,
       "version_minor": 0
      },
      "text/plain": [
       "Adversarial Patch PyTorch:   0%|          | 0/5 [00:00<?, ?it/s]"
      ]
     },
     "metadata": {},
     "output_type": "display_data"
    },
    {
     "name": "stderr",
     "output_type": "stream",
     "text": [
      "/opt/conda/lib/python3.8/site-packages/torchvision/transforms/functional.py:404: UserWarning: Argument interpolation should be of type InterpolationMode instead of int. Please, use InterpolationMode enum.\n",
      "  warnings.warn(\n",
      "/opt/conda/lib/python3.8/site-packages/torchvision/transforms/functional.py:654: UserWarning: Argument interpolation should be of type InterpolationMode instead of int. Please, use InterpolationMode enum.\n",
      "  warnings.warn(\n",
      "/opt/conda/lib/python3.8/site-packages/torch/functional.py:445: UserWarning: torch.meshgrid: in an upcoming release, it will be required to pass the indexing argument. (Triggered internally at  /opt/conda/conda-bld/pytorch_1640811806235/work/aten/src/ATen/native/TensorShape.cpp:2157.)\n",
      "  return _VF.meshgrid(tensors, **kwargs)  # type: ignore[attr-defined]\n"
     ]
    },
    {
     "name": "stdout",
     "output_type": "stream",
     "text": [
      "2022-11-07 20:41:18 46s \u001b[32m\u001b[1mSUCCESS \u001b[0m \u001b[36marmory.instrument.config\u001b[0m:\u001b[36m_write\u001b[0m:\u001b[36m224\u001b[0m adversarial_carla_od_disappearance_rate on adversarial examples w.r.t. ground truth labels: 40.00%\n",
      "2022-11-07 20:41:18 46s \u001b[32m\u001b[1mSUCCESS \u001b[0m \u001b[36marmory.instrument.config\u001b[0m:\u001b[36m_write\u001b[0m:\u001b[36m224\u001b[0m adversarial_carla_od_hallucinations_per_image on adversarial examples w.r.t. ground truth labels: 8.0\n",
      "2022-11-07 20:41:18 46s \u001b[32m\u001b[1mSUCCESS \u001b[0m \u001b[36marmory.instrument.config\u001b[0m:\u001b[36m_write\u001b[0m:\u001b[36m224\u001b[0m adversarial_carla_od_misclassification_rate on adversarial examples w.r.t. ground truth labels: 0.00%\n",
      "2022-11-07 20:41:18 46s \u001b[32m\u001b[1mSUCCESS \u001b[0m \u001b[36marmory.instrument.config\u001b[0m:\u001b[36m_write\u001b[0m:\u001b[36m224\u001b[0m adversarial_carla_od_true_positive_rate on adversarial examples w.r.t. ground truth labels: 60.00%\n",
      "2022-11-07 20:41:19 46s \u001b[32m\u001b[1mSUCCESS \u001b[0m \u001b[36marmory.instrument.config\u001b[0m:\u001b[36m_write\u001b[0m:\u001b[36m224\u001b[0m adversarial_object_detection_mAP_tide on adversarial examples w.r.t. ground truth labels: 70.00%\n",
      "2022-11-07 20:41:19 46s \u001b[32m\u001b[1mSUCCESS \u001b[0m \u001b[36marmory.instrument.config\u001b[0m:\u001b[36m_write\u001b[0m:\u001b[36m224\u001b[0m adversarial_carla_od_disappearance_rate on adversarial examples w.r.t. ground truth labels: 40.00%\n",
      "2022-11-07 20:41:19 46s \u001b[32m\u001b[1mSUCCESS \u001b[0m \u001b[36marmory.instrument.config\u001b[0m:\u001b[36m_write\u001b[0m:\u001b[36m224\u001b[0m adversarial_carla_od_hallucinations_per_image on adversarial examples w.r.t. ground truth labels: 8.0\n",
      "2022-11-07 20:41:19 46s \u001b[32m\u001b[1mSUCCESS \u001b[0m \u001b[36marmory.instrument.config\u001b[0m:\u001b[36m_write\u001b[0m:\u001b[36m224\u001b[0m adversarial_carla_od_misclassification_rate on adversarial examples w.r.t. ground truth labels: 0.00%\n",
      "2022-11-07 20:41:19 46s \u001b[32m\u001b[1mSUCCESS \u001b[0m \u001b[36marmory.instrument.config\u001b[0m:\u001b[36m_write\u001b[0m:\u001b[36m224\u001b[0m adversarial_carla_od_true_positive_rate on adversarial examples w.r.t. ground truth labels: 60.00%\n",
      "2022-11-07 20:41:19 46s \u001b[32m\u001b[1mSUCCESS \u001b[0m \u001b[36marmory.instrument.config\u001b[0m:\u001b[36m_write\u001b[0m:\u001b[36m224\u001b[0m adversarial_object_detection_mAP_tide on adversarial examples w.r.t. ground truth labels: 70.00%\n"
     ]
    }
   ],
   "source": [
    "s.load_attack()\n",
    "s.next()\n",
    "s.run_attack()"
   ]
  },
  {
   "cell_type": "code",
   "execution_count": 4,
   "id": "7d6c65ed-5531-4d8b-8f63-93ae25a7ed46",
   "metadata": {
    "tags": []
   },
   "outputs": [
    {
     "name": "stdout",
     "output_type": "stream",
     "text": [
      "2022-11-07 20:41:20 47s \u001b[33m\u001b[1mWARNING \u001b[0m \u001b[36marmory.instrument.instrument\u001b[0m:\u001b[36mfinalize\u001b[0m:\u001b[36m590\u001b[0m Meter 'benign_input_to_carla_od_AP_per_class' was never measured. The following args were never set: ['scenario.y_pred']\n",
      "2022-11-07 20:41:20 47s \u001b[32m\u001b[1mSUCCESS \u001b[0m \u001b[36marmory.instrument.config\u001b[0m:\u001b[36m_write\u001b[0m:\u001b[36m224\u001b[0m adversarial_carla_od_AP_per_class on adversarial examples w.r.t. ground truth labels: {'mean': 0.7, 'class': {1: 0.78, 2: 0.62}}\n",
      "2022-11-07 20:41:20 47s \u001b[33m\u001b[1mWARNING \u001b[0m \u001b[36marmory.instrument.instrument\u001b[0m:\u001b[36mfinalize\u001b[0m:\u001b[36m590\u001b[0m Meter 'benign_carla_od_disappearance_rate' was never measured. The following args were never set: ['scenario.y_pred']\n",
      "2022-11-07 20:41:20 47s \u001b[32m\u001b[1mSUCCESS \u001b[0m \u001b[36marmory.instrument.config\u001b[0m:\u001b[36m_write\u001b[0m:\u001b[36m224\u001b[0m adversarial_mean_carla_od_disappearance_rate on adversarial examples w.r.t. ground truth labels: 40.00%\n",
      "2022-11-07 20:41:20 47s \u001b[33m\u001b[1mWARNING \u001b[0m \u001b[36marmory.instrument.instrument\u001b[0m:\u001b[36mfinalize\u001b[0m:\u001b[36m590\u001b[0m Meter 'benign_carla_od_hallucinations_per_image' was never measured. The following args were never set: ['scenario.y_pred']\n",
      "2022-11-07 20:41:20 47s \u001b[32m\u001b[1mSUCCESS \u001b[0m \u001b[36marmory.instrument.config\u001b[0m:\u001b[36m_write\u001b[0m:\u001b[36m224\u001b[0m adversarial_mean_carla_od_hallucinations_per_image on adversarial examples w.r.t. ground truth labels: 8.0\n",
      "2022-11-07 20:41:20 47s \u001b[33m\u001b[1mWARNING \u001b[0m \u001b[36marmory.instrument.instrument\u001b[0m:\u001b[36mfinalize\u001b[0m:\u001b[36m590\u001b[0m Meter 'benign_carla_od_misclassification_rate' was never measured. The following args were never set: ['scenario.y_pred']\n",
      "2022-11-07 20:41:20 47s \u001b[32m\u001b[1mSUCCESS \u001b[0m \u001b[36marmory.instrument.config\u001b[0m:\u001b[36m_write\u001b[0m:\u001b[36m224\u001b[0m adversarial_mean_carla_od_misclassification_rate on adversarial examples w.r.t. ground truth labels: 0.00%\n",
      "2022-11-07 20:41:20 47s \u001b[33m\u001b[1mWARNING \u001b[0m \u001b[36marmory.instrument.instrument\u001b[0m:\u001b[36mfinalize\u001b[0m:\u001b[36m590\u001b[0m Meter 'benign_carla_od_true_positive_rate' was never measured. The following args were never set: ['scenario.y_pred']\n",
      "2022-11-07 20:41:20 47s \u001b[32m\u001b[1mSUCCESS \u001b[0m \u001b[36marmory.instrument.config\u001b[0m:\u001b[36m_write\u001b[0m:\u001b[36m224\u001b[0m adversarial_mean_carla_od_true_positive_rate on adversarial examples w.r.t. ground truth labels: 60.00%\n",
      "2022-11-07 20:41:20 47s \u001b[33m\u001b[1mWARNING \u001b[0m \u001b[36marmory.instrument.instrument\u001b[0m:\u001b[36mfinalize\u001b[0m:\u001b[36m590\u001b[0m Meter 'adversarial_input_to_carla_od_AP_per_class_wrt_benign_preds' was never measured. The following args were never set: ['scenario.y_pred']\n",
      "2022-11-07 20:41:20 47s \u001b[33m\u001b[1mWARNING \u001b[0m \u001b[36marmory.instrument.instrument\u001b[0m:\u001b[36mfinalize\u001b[0m:\u001b[36m590\u001b[0m Meter 'adversarial_carla_od_disappearance_rate_wrt_benign_preds' was never measured. The following args were never set: ['scenario.y_pred']\n",
      "2022-11-07 20:41:20 47s \u001b[33m\u001b[1mWARNING \u001b[0m \u001b[36marmory.instrument.instrument\u001b[0m:\u001b[36mfinalize\u001b[0m:\u001b[36m590\u001b[0m Meter 'adversarial_carla_od_hallucinations_per_image_wrt_benign_preds' was never measured. The following args were never set: ['scenario.y_pred']\n",
      "2022-11-07 20:41:20 47s \u001b[33m\u001b[1mWARNING \u001b[0m \u001b[36marmory.instrument.instrument\u001b[0m:\u001b[36mfinalize\u001b[0m:\u001b[36m590\u001b[0m Meter 'adversarial_carla_od_misclassification_rate_wrt_benign_preds' was never measured. The following args were never set: ['scenario.y_pred']\n",
      "2022-11-07 20:41:20 47s \u001b[33m\u001b[1mWARNING \u001b[0m \u001b[36marmory.instrument.instrument\u001b[0m:\u001b[36mfinalize\u001b[0m:\u001b[36m590\u001b[0m Meter 'adversarial_carla_od_true_positive_rate_wrt_benign_preds' was never measured. The following args were never set: ['scenario.y_pred']\n",
      "2022-11-07 20:41:20 47s \u001b[33m\u001b[1mWARNING \u001b[0m \u001b[36marmory.instrument.export\u001b[0m:\u001b[36mfinalize\u001b[0m:\u001b[36m744\u001b[0m Meter 'pred_dict_exporter' was never measured. The following args were never set: ['scenario.y_pred']\n",
      "2022-11-07 20:41:20 47s \u001b[33m\u001b[1mWARNING \u001b[0m \u001b[36marmory.instrument.export\u001b[0m:\u001b[36mfinalize\u001b[0m:\u001b[36m657\u001b[0m Meter 'x_with_boxes_exporter' was never measured. The following args were never set: ['scenario.y_pred']\n",
      "2022-11-07 20:41:20 47s \u001b[33m\u001b[1mWARNING \u001b[0m \u001b[36marmory.instrument.export\u001b[0m:\u001b[36mfinalize\u001b[0m:\u001b[36m827\u001b[0m Meter 'coco_box_format_meter' was never measured. The following args were never set: ['scenario.y_pred']\n",
      "2022-11-07 20:41:20 47s \u001b[33m\u001b[1mWARNING \u001b[0m \u001b[36marmory.instrument.instrument\u001b[0m:\u001b[36mfinalize\u001b[0m:\u001b[36m590\u001b[0m Meter 'benign_input_to_carla_od_AP_per_class' was never measured. The following args were never set: ['scenario.y_pred']\n",
      "2022-11-07 20:41:20 47s \u001b[32m\u001b[1mSUCCESS \u001b[0m \u001b[36marmory.instrument.config\u001b[0m:\u001b[36m_write\u001b[0m:\u001b[36m224\u001b[0m adversarial_carla_od_AP_per_class on adversarial examples w.r.t. ground truth labels: {'mean': 0.7, 'class': {1: 0.78, 2: 0.62}}\n",
      "2022-11-07 20:41:20 47s \u001b[33m\u001b[1mWARNING \u001b[0m \u001b[36marmory.instrument.instrument\u001b[0m:\u001b[36mfinalize\u001b[0m:\u001b[36m590\u001b[0m Meter 'benign_carla_od_disappearance_rate' was never measured. The following args were never set: ['scenario.y_pred']\n",
      "2022-11-07 20:41:20 47s \u001b[32m\u001b[1mSUCCESS \u001b[0m \u001b[36marmory.instrument.config\u001b[0m:\u001b[36m_write\u001b[0m:\u001b[36m224\u001b[0m adversarial_mean_carla_od_disappearance_rate on adversarial examples w.r.t. ground truth labels: 40.00%\n",
      "2022-11-07 20:41:20 47s \u001b[33m\u001b[1mWARNING \u001b[0m \u001b[36marmory.instrument.instrument\u001b[0m:\u001b[36mfinalize\u001b[0m:\u001b[36m590\u001b[0m Meter 'benign_carla_od_hallucinations_per_image' was never measured. The following args were never set: ['scenario.y_pred']\n",
      "2022-11-07 20:41:20 47s \u001b[32m\u001b[1mSUCCESS \u001b[0m \u001b[36marmory.instrument.config\u001b[0m:\u001b[36m_write\u001b[0m:\u001b[36m224\u001b[0m adversarial_mean_carla_od_hallucinations_per_image on adversarial examples w.r.t. ground truth labels: 8.0\n",
      "2022-11-07 20:41:20 47s \u001b[33m\u001b[1mWARNING \u001b[0m \u001b[36marmory.instrument.instrument\u001b[0m:\u001b[36mfinalize\u001b[0m:\u001b[36m590\u001b[0m Meter 'benign_carla_od_misclassification_rate' was never measured. The following args were never set: ['scenario.y_pred']\n",
      "2022-11-07 20:41:20 47s \u001b[32m\u001b[1mSUCCESS \u001b[0m \u001b[36marmory.instrument.config\u001b[0m:\u001b[36m_write\u001b[0m:\u001b[36m224\u001b[0m adversarial_mean_carla_od_misclassification_rate on adversarial examples w.r.t. ground truth labels: 0.00%\n",
      "2022-11-07 20:41:20 47s \u001b[33m\u001b[1mWARNING \u001b[0m \u001b[36marmory.instrument.instrument\u001b[0m:\u001b[36mfinalize\u001b[0m:\u001b[36m590\u001b[0m Meter 'benign_carla_od_true_positive_rate' was never measured. The following args were never set: ['scenario.y_pred']\n",
      "2022-11-07 20:41:20 47s \u001b[32m\u001b[1mSUCCESS \u001b[0m \u001b[36marmory.instrument.config\u001b[0m:\u001b[36m_write\u001b[0m:\u001b[36m224\u001b[0m adversarial_mean_carla_od_true_positive_rate on adversarial examples w.r.t. ground truth labels: 60.00%\n",
      "2022-11-07 20:41:20 47s \u001b[33m\u001b[1mWARNING \u001b[0m \u001b[36marmory.instrument.instrument\u001b[0m:\u001b[36mfinalize\u001b[0m:\u001b[36m590\u001b[0m Meter 'benign_object_detection_mAP_tide' was never measured. The following args were never set: ['scenario.y_pred']\n",
      "2022-11-07 20:41:20 47s \u001b[32m\u001b[1mSUCCESS \u001b[0m \u001b[36marmory.instrument.config\u001b[0m:\u001b[36m_write\u001b[0m:\u001b[36m224\u001b[0m adversarial_mean_object_detection_mAP_tide on adversarial examples w.r.t. ground truth labels: 70.00%\n",
      "2022-11-07 20:41:20 47s \u001b[33m\u001b[1mWARNING \u001b[0m \u001b[36marmory.instrument.instrument\u001b[0m:\u001b[36mfinalize\u001b[0m:\u001b[36m590\u001b[0m Meter 'adversarial_input_to_carla_od_AP_per_class_wrt_benign_preds' was never measured. The following args were never set: ['scenario.y_pred']\n",
      "2022-11-07 20:41:20 47s \u001b[33m\u001b[1mWARNING \u001b[0m \u001b[36marmory.instrument.instrument\u001b[0m:\u001b[36mfinalize\u001b[0m:\u001b[36m590\u001b[0m Meter 'adversarial_carla_od_disappearance_rate_wrt_benign_preds' was never measured. The following args were never set: ['scenario.y_pred']\n",
      "2022-11-07 20:41:20 47s \u001b[33m\u001b[1mWARNING \u001b[0m \u001b[36marmory.instrument.instrument\u001b[0m:\u001b[36mfinalize\u001b[0m:\u001b[36m590\u001b[0m Meter 'adversarial_carla_od_hallucinations_per_image_wrt_benign_preds' was never measured. The following args were never set: ['scenario.y_pred']\n",
      "2022-11-07 20:41:20 47s \u001b[33m\u001b[1mWARNING \u001b[0m \u001b[36marmory.instrument.instrument\u001b[0m:\u001b[36mfinalize\u001b[0m:\u001b[36m590\u001b[0m Meter 'adversarial_carla_od_misclassification_rate_wrt_benign_preds' was never measured. The following args were never set: ['scenario.y_pred']\n",
      "2022-11-07 20:41:20 47s \u001b[33m\u001b[1mWARNING \u001b[0m \u001b[36marmory.instrument.instrument\u001b[0m:\u001b[36mfinalize\u001b[0m:\u001b[36m590\u001b[0m Meter 'adversarial_carla_od_true_positive_rate_wrt_benign_preds' was never measured. The following args were never set: ['scenario.y_pred']\n",
      "2022-11-07 20:41:20 47s \u001b[33m\u001b[1mWARNING \u001b[0m \u001b[36marmory.instrument.instrument\u001b[0m:\u001b[36mfinalize\u001b[0m:\u001b[36m590\u001b[0m Meter 'adversarial_object_detection_mAP_tide_wrt_benign_preds' was never measured. The following args were never set: ['scenario.y_pred']\n",
      "2022-11-07 20:41:20 47s \u001b[33m\u001b[1mWARNING \u001b[0m \u001b[36marmory.instrument.instrument\u001b[0m:\u001b[36mfinalize\u001b[0m:\u001b[36m590\u001b[0m Meter 'benign_input_to_carla_od_AP_per_class' was never measured. The following args were never set: ['scenario.y_pred']\n",
      "2022-11-07 20:41:20 47s \u001b[32m\u001b[1mSUCCESS \u001b[0m \u001b[36marmory.instrument.config\u001b[0m:\u001b[36m_write\u001b[0m:\u001b[36m224\u001b[0m adversarial_carla_od_AP_per_class on adversarial examples w.r.t. ground truth labels: {'mean': 0.7, 'class': {1: 0.78, 2: 0.62}}\n",
      "2022-11-07 20:41:20 47s \u001b[33m\u001b[1mWARNING \u001b[0m \u001b[36marmory.instrument.instrument\u001b[0m:\u001b[36mfinalize\u001b[0m:\u001b[36m590\u001b[0m Meter 'benign_carla_od_disappearance_rate' was never measured. The following args were never set: ['scenario.y_pred']\n",
      "2022-11-07 20:41:20 47s \u001b[32m\u001b[1mSUCCESS \u001b[0m \u001b[36marmory.instrument.config\u001b[0m:\u001b[36m_write\u001b[0m:\u001b[36m224\u001b[0m adversarial_mean_carla_od_disappearance_rate on adversarial examples w.r.t. ground truth labels: 40.00%\n",
      "2022-11-07 20:41:20 47s \u001b[33m\u001b[1mWARNING \u001b[0m \u001b[36marmory.instrument.instrument\u001b[0m:\u001b[36mfinalize\u001b[0m:\u001b[36m590\u001b[0m Meter 'benign_carla_od_hallucinations_per_image' was never measured. The following args were never set: ['scenario.y_pred']\n",
      "2022-11-07 20:41:20 47s \u001b[32m\u001b[1mSUCCESS \u001b[0m \u001b[36marmory.instrument.config\u001b[0m:\u001b[36m_write\u001b[0m:\u001b[36m224\u001b[0m adversarial_mean_carla_od_hallucinations_per_image on adversarial examples w.r.t. ground truth labels: 8.0\n",
      "2022-11-07 20:41:20 47s \u001b[33m\u001b[1mWARNING \u001b[0m \u001b[36marmory.instrument.instrument\u001b[0m:\u001b[36mfinalize\u001b[0m:\u001b[36m590\u001b[0m Meter 'benign_carla_od_misclassification_rate' was never measured. The following args were never set: ['scenario.y_pred']\n",
      "2022-11-07 20:41:20 47s \u001b[32m\u001b[1mSUCCESS \u001b[0m \u001b[36marmory.instrument.config\u001b[0m:\u001b[36m_write\u001b[0m:\u001b[36m224\u001b[0m adversarial_mean_carla_od_misclassification_rate on adversarial examples w.r.t. ground truth labels: 0.00%\n",
      "2022-11-07 20:41:20 47s \u001b[33m\u001b[1mWARNING \u001b[0m \u001b[36marmory.instrument.instrument\u001b[0m:\u001b[36mfinalize\u001b[0m:\u001b[36m590\u001b[0m Meter 'benign_carla_od_true_positive_rate' was never measured. The following args were never set: ['scenario.y_pred']\n",
      "2022-11-07 20:41:20 47s \u001b[32m\u001b[1mSUCCESS \u001b[0m \u001b[36marmory.instrument.config\u001b[0m:\u001b[36m_write\u001b[0m:\u001b[36m224\u001b[0m adversarial_mean_carla_od_true_positive_rate on adversarial examples w.r.t. ground truth labels: 60.00%\n",
      "2022-11-07 20:41:20 47s \u001b[33m\u001b[1mWARNING \u001b[0m \u001b[36marmory.instrument.instrument\u001b[0m:\u001b[36mfinalize\u001b[0m:\u001b[36m590\u001b[0m Meter 'benign_object_detection_mAP_tide' was never measured. The following args were never set: ['scenario.y_pred']\n",
      "2022-11-07 20:41:20 47s \u001b[32m\u001b[1mSUCCESS \u001b[0m \u001b[36marmory.instrument.config\u001b[0m:\u001b[36m_write\u001b[0m:\u001b[36m224\u001b[0m adversarial_mean_object_detection_mAP_tide on adversarial examples w.r.t. ground truth labels: 70.00%\n",
      "2022-11-07 20:41:20 47s \u001b[33m\u001b[1mWARNING \u001b[0m \u001b[36marmory.instrument.instrument\u001b[0m:\u001b[36mfinalize\u001b[0m:\u001b[36m590\u001b[0m Meter 'adversarial_input_to_carla_od_AP_per_class_wrt_benign_preds' was never measured. The following args were never set: ['scenario.y_pred']\n",
      "2022-11-07 20:41:20 47s \u001b[33m\u001b[1mWARNING \u001b[0m \u001b[36marmory.instrument.instrument\u001b[0m:\u001b[36mfinalize\u001b[0m:\u001b[36m590\u001b[0m Meter 'adversarial_carla_od_disappearance_rate_wrt_benign_preds' was never measured. The following args were never set: ['scenario.y_pred']\n",
      "2022-11-07 20:41:20 47s \u001b[33m\u001b[1mWARNING \u001b[0m \u001b[36marmory.instrument.instrument\u001b[0m:\u001b[36mfinalize\u001b[0m:\u001b[36m590\u001b[0m Meter 'adversarial_carla_od_hallucinations_per_image_wrt_benign_preds' was never measured. The following args were never set: ['scenario.y_pred']\n",
      "2022-11-07 20:41:20 47s \u001b[33m\u001b[1mWARNING \u001b[0m \u001b[36marmory.instrument.instrument\u001b[0m:\u001b[36mfinalize\u001b[0m:\u001b[36m590\u001b[0m Meter 'adversarial_carla_od_misclassification_rate_wrt_benign_preds' was never measured. The following args were never set: ['scenario.y_pred']\n",
      "2022-11-07 20:41:20 47s \u001b[33m\u001b[1mWARNING \u001b[0m \u001b[36marmory.instrument.instrument\u001b[0m:\u001b[36mfinalize\u001b[0m:\u001b[36m590\u001b[0m Meter 'adversarial_carla_od_true_positive_rate_wrt_benign_preds' was never measured. The following args were never set: ['scenario.y_pred']\n",
      "2022-11-07 20:41:20 47s \u001b[33m\u001b[1mWARNING \u001b[0m \u001b[36marmory.instrument.instrument\u001b[0m:\u001b[36mfinalize\u001b[0m:\u001b[36m590\u001b[0m Meter 'adversarial_object_detection_mAP_tide_wrt_benign_preds' was never measured. The following args were never set: ['scenario.y_pred']\n"
     ]
    }
   ],
   "source": [
    "s.finalize_results()"
   ]
  },
  {
   "cell_type": "code",
   "execution_count": 5,
   "id": "3a058493-9954-4df1-9eda-61e5274e2ef2",
   "metadata": {},
   "outputs": [
    {
     "data": {
      "text/plain": [
       "{'perturbation_l0': [array([14418.]), array([14418.])],\n",
       " 'adversarial_carla_od_disappearance_rate': [[0.4], [0.4]],\n",
       " 'adversarial_carla_od_hallucinations_per_image': [[8], [8]],\n",
       " 'adversarial_carla_od_misclassification_rate': [[0.0], [0.0]],\n",
       " 'adversarial_carla_od_true_positive_rate': [[0.6], [0.6]],\n",
       " 'adversarial_object_detection_mAP_tide': [0.7, 0.7],\n",
       " 'adversarial_carla_od_AP_per_class': [{'mean': 0.7,\n",
       "   'class': {1: 0.78, 2: 0.62}},\n",
       "  {'mean': 0.7, 'class': {1: 0.78, 2: 0.62}},\n",
       "  {'mean': 0.7, 'class': {1: 0.78, 2: 0.62}}],\n",
       " 'adversarial_mean_carla_od_disappearance_rate': [0.4, 0.4, 0.4],\n",
       " 'adversarial_mean_carla_od_hallucinations_per_image': [8.0, 8.0, 8.0],\n",
       " 'adversarial_mean_carla_od_misclassification_rate': [0.0, 0.0, 0.0],\n",
       " 'adversarial_mean_carla_od_true_positive_rate': [0.6, 0.6, 0.6],\n",
       " 'perturbation_mean_l0': [14418.0, 14418.0, 14418.0],\n",
       " 'adversarial_mean_object_detection_mAP_tide': [0.7, 0.7],\n",
       " 'compute': {}}"
      ]
     },
     "execution_count": 5,
     "metadata": {},
     "output_type": "execute_result"
    }
   ],
   "source": [
    "s.results"
   ]
  },
  {
   "cell_type": "markdown",
   "id": "2bda077b-b654-4ea0-b8fd-b5510dc59d44",
   "metadata": {},
   "source": [
    "something strange happening with `s.load_metric()` that I won't worry about for now - just specify additional task in config file for now"
   ]
  },
  {
   "cell_type": "markdown",
   "id": "83f19756-2482-40b0-88a7-e0b878ce72b0",
   "metadata": {
    "jp-MarkdownHeadingCollapsed": true,
    "tags": []
   },
   "source": [
    "### Changing `config` File Directly"
   ]
  },
  {
   "cell_type": "code",
   "execution_count": 1,
   "id": "996c0cc9-79f2-4855-813f-7b1de1eb8559",
   "metadata": {
    "collapsed": true,
    "jupyter": {
     "outputs_hidden": true
    },
    "tags": []
   },
   "outputs": [
    {
     "name": "stdout",
     "output_type": "stream",
     "text": [
      "2022-11-07 20:48:15  0s \u001b[1mINFO    \u001b[0m \u001b[36marmory.delayed_imports\u001b[0m:\u001b[36m<module>\u001b[0m:\u001b[36m7\u001b[0m Importing and configuring torch, tensorflow, and art, if available. This may take some time.\n",
      "2022-11-07 20:48:18  2s \u001b[1mINFO    \u001b[0m \u001b[36marmory.delayed_imports\u001b[0m:\u001b[36m<module>\u001b[0m:\u001b[36m30\u001b[0m Setting tf.config.experimental.set_memory_growth to True on all GPUs\n",
      "2022-11-07 20:48:18  2s \u001b[1mINFO    \u001b[0m \u001b[36mart.config\u001b[0m:\u001b[36mset_data_path\u001b[0m:\u001b[36m55\u001b[0m set ART_DATA_PATH to /tmp/.art/data\n",
      "2022-11-07 20:48:18  2s \u001b[1mINFO    \u001b[0m \u001b[36mart.config\u001b[0m:\u001b[36mset_data_path\u001b[0m:\u001b[36m55\u001b[0m set ART_DATA_PATH to /armory/saved_models/art\n"
     ]
    },
    {
     "ename": "ValidationError",
     "evalue": "'object_detection_mAP_tide' is not one of ['entailment', 'dapricot_patch_target_success', 'dapricot_patch_targeted_AP_per_class', 'apricot_patch_targeted_AP_per_class', 'categorical_accuracy', 'top_n_categorical_accuracy', 'top_5_categorical_accuracy', 'norm', 'l0', 'l1', 'l2', 'lp', 'linf', 'snr', 'snr_db', 'snr_spectrogram', 'snr_spectrogram_db', 'image_circle_patch_diameter', 'mean_l0', 'max_l0', 'mean_l1', 'max_l1', 'mean_l2', 'max_l2', 'mean_linf', 'max_linf', 'video_tracking_mean_iou', 'video_tracking_mean_success_rate', 'mean_image_circle_patch_diameter', 'max_image_circle_patch_diameter', 'word_error_rate', 'object_detection_AP_per_class', 'object_detection_mAP', 'object_detection_disappearance_rate', 'object_detection_hallucinations_per_image', 'object_detection_misclassification_rate', 'object_detection_true_positive_rate', 'carla_od_AP_per_class', 'carla_od_disappearance_rate', 'carla_od_hallucinations_per_image', 'carla_od_misclassification_rate', 'carla_od_true_positive_rate', 'hota', 'deta', 'assa']\n\nFailed validating 'enum' in schema[0]:\n    {'enum': ['entailment',\n              'dapricot_patch_target_success',\n              'dapricot_patch_targeted_AP_per_class',\n              'apricot_patch_targeted_AP_per_class',\n              'categorical_accuracy',\n              'top_n_categorical_accuracy',\n              'top_5_categorical_accuracy',\n              'norm',\n              'l0',\n              'l1',\n              'l2',\n              'lp',\n              'linf',\n              'snr',\n              'snr_db',\n              'snr_spectrogram',\n              'snr_spectrogram_db',\n              'image_circle_patch_diameter',\n              'mean_l0',\n              'max_l0',\n              'mean_l1',\n              'max_l1',\n              'mean_l2',\n              'max_l2',\n              'mean_linf',\n              'max_linf',\n              'video_tracking_mean_iou',\n              'video_tracking_mean_success_rate',\n              'mean_image_circle_patch_diameter',\n              'max_image_circle_patch_diameter',\n              'word_error_rate',\n              'object_detection_AP_per_class',\n              'object_detection_mAP',\n              'object_detection_disappearance_rate',\n              'object_detection_hallucinations_per_image',\n              'object_detection_misclassification_rate',\n              'object_detection_true_positive_rate',\n              'carla_od_AP_per_class',\n              'carla_od_disappearance_rate',\n              'carla_od_hallucinations_per_image',\n              'carla_od_misclassification_rate',\n              'carla_od_true_positive_rate',\n              'hota',\n              'deta',\n              'assa']}\n\nOn instance:\n    'object_detection_mAP_tide'",
     "output_type": "error",
     "traceback": [
      "\u001b[0;31m\u001b[0m",
      "\u001b[0;31mValidationError\u001b[0mTraceback (most recent call last)",
      "Input \u001b[0;32mIn [1]\u001b[0m, in \u001b[0;36m<cell line: 3>\u001b[0;34m()\u001b[0m\n\u001b[1;32m      1\u001b[0m \u001b[38;5;28;01mfrom\u001b[39;00m \u001b[38;5;21;01marmory\u001b[39;00m\u001b[38;5;21;01m.\u001b[39;00m\u001b[38;5;21;01mscenarios\u001b[39;00m\u001b[38;5;21;01m.\u001b[39;00m\u001b[38;5;21;01mmain\u001b[39;00m \u001b[38;5;28;01mimport\u001b[39;00m get \u001b[38;5;28;01mas\u001b[39;00m get_scenario\n\u001b[0;32m----> 3\u001b[0m s \u001b[38;5;241m=\u001b[39m \u001b[43mget_scenario\u001b[49m\u001b[43m(\u001b[49m\n\u001b[1;32m      4\u001b[0m \u001b[43m    \u001b[49m\u001b[38;5;124;43m\"\u001b[39;49m\u001b[38;5;124;43m/armory/tmp/2022-11-03T180812.020999/carla_obj_det_adversarialpatch_undefended.json\u001b[39;49m\u001b[38;5;124;43m\"\u001b[39;49m\u001b[43m,\u001b[49m\n\u001b[1;32m      5\u001b[0m \u001b[43m    \u001b[49m\u001b[43mnum_eval_batches\u001b[49m\u001b[38;5;241;43m=\u001b[39;49m\u001b[38;5;241;43m1\u001b[39;49m\u001b[43m,\u001b[49m\n\u001b[1;32m      6\u001b[0m \u001b[43m)\u001b[49m\u001b[38;5;241m.\u001b[39mload()\n",
      "File \u001b[0;32m/workspace/armory/scenarios/main.py:117\u001b[0m, in \u001b[0;36mget\u001b[0;34m(config_json, from_file, check_run, num_eval_batches, skip_benign, skip_attack, skip_misclassified)\u001b[0m\n\u001b[1;32m    104\u001b[0m \u001b[38;5;28;01mdef\u001b[39;00m \u001b[38;5;21mget\u001b[39m(\n\u001b[1;32m    105\u001b[0m     config_json,\n\u001b[1;32m    106\u001b[0m     from_file\u001b[38;5;241m=\u001b[39m\u001b[38;5;28;01mTrue\u001b[39;00m,\n\u001b[0;32m   (...)\u001b[0m\n\u001b[1;32m    111\u001b[0m     skip_misclassified\u001b[38;5;241m=\u001b[39m\u001b[38;5;28;01mNone\u001b[39;00m,\n\u001b[1;32m    112\u001b[0m ):\n\u001b[1;32m    113\u001b[0m     \u001b[38;5;124;03m\"\"\"\u001b[39;00m\n\u001b[1;32m    114\u001b[0m \u001b[38;5;124;03m    Init environment variables and initialize scenario class with config;\u001b[39;00m\n\u001b[1;32m    115\u001b[0m \u001b[38;5;124;03m    returns a constructed Scenario subclass based on the config specification.\u001b[39;00m\n\u001b[1;32m    116\u001b[0m \u001b[38;5;124;03m    \"\"\"\u001b[39;00m\n\u001b[0;32m--> 117\u001b[0m     config \u001b[38;5;241m=\u001b[39m \u001b[43m_get_config\u001b[49m\u001b[43m(\u001b[49m\u001b[43mconfig_json\u001b[49m\u001b[43m,\u001b[49m\u001b[43m \u001b[49m\u001b[43mfrom_file\u001b[49m\u001b[38;5;241;43m=\u001b[39;49m\u001b[43mfrom_file\u001b[49m\u001b[43m)\u001b[49m\n\u001b[1;32m    118\u001b[0m     scenario_config \u001b[38;5;241m=\u001b[39m config\u001b[38;5;241m.\u001b[39mget(\u001b[38;5;124m\"\u001b[39m\u001b[38;5;124mscenario\u001b[39m\u001b[38;5;124m\"\u001b[39m)\n\u001b[1;32m    119\u001b[0m     \u001b[38;5;28;01mif\u001b[39;00m scenario_config \u001b[38;5;129;01mis\u001b[39;00m \u001b[38;5;28;01mNone\u001b[39;00m:\n",
      "File \u001b[0;32m/workspace/armory/scenarios/main.py:82\u001b[0m, in \u001b[0;36m_get_config\u001b[0;34m(config_json, from_file)\u001b[0m\n\u001b[1;32m     77\u001b[0m \u001b[38;5;124;03m\"\"\"\u001b[39;00m\n\u001b[1;32m     78\u001b[0m \u001b[38;5;124;03mReads a config specification from json, dedcodes it, and returns the\u001b[39;00m\n\u001b[1;32m     79\u001b[0m \u001b[38;5;124;03mresultant dict.\u001b[39;00m\n\u001b[1;32m     80\u001b[0m \u001b[38;5;124;03m\"\"\"\u001b[39;00m\n\u001b[1;32m     81\u001b[0m \u001b[38;5;28;01mif\u001b[39;00m from_file:\n\u001b[0;32m---> 82\u001b[0m     config \u001b[38;5;241m=\u001b[39m \u001b[43mload_config\u001b[49m\u001b[43m(\u001b[49m\u001b[43mconfig_json\u001b[49m\u001b[43m)\u001b[49m\n\u001b[1;32m     83\u001b[0m \u001b[38;5;28;01melse\u001b[39;00m:\n\u001b[1;32m     84\u001b[0m     config_base64_bytes \u001b[38;5;241m=\u001b[39m config_json\u001b[38;5;241m.\u001b[39mencode(\u001b[38;5;124m\"\u001b[39m\u001b[38;5;124mutf-8\u001b[39m\u001b[38;5;124m\"\u001b[39m)\n",
      "File \u001b[0;32m/workspace/armory/utils/configuration.py:39\u001b[0m, in \u001b[0;36mload_config\u001b[0;34m(filepath)\u001b[0m\n\u001b[1;32m     36\u001b[0m \u001b[38;5;28;01mwith\u001b[39;00m \u001b[38;5;28mopen\u001b[39m(filepath) \u001b[38;5;28;01mas\u001b[39;00m f:\n\u001b[1;32m     37\u001b[0m     config \u001b[38;5;241m=\u001b[39m json\u001b[38;5;241m.\u001b[39mload(f)\n\u001b[0;32m---> 39\u001b[0m \u001b[38;5;28;01mreturn\u001b[39;00m \u001b[43mvalidate_config\u001b[49m\u001b[43m(\u001b[49m\u001b[43mconfig\u001b[49m\u001b[43m)\u001b[49m\n",
      "File \u001b[0;32m/workspace/armory/utils/configuration.py:27\u001b[0m, in \u001b[0;36mvalidate_config\u001b[0;34m(config)\u001b[0m\n\u001b[1;32m     22\u001b[0m \u001b[38;5;124;03m\"\"\"\u001b[39;00m\n\u001b[1;32m     23\u001b[0m \u001b[38;5;124;03mValidates that a config matches the default JSON Schema\u001b[39;00m\n\u001b[1;32m     24\u001b[0m \u001b[38;5;124;03m\"\"\"\u001b[39;00m\n\u001b[1;32m     25\u001b[0m schema \u001b[38;5;241m=\u001b[39m _load_schema()\n\u001b[0;32m---> 27\u001b[0m \u001b[43mjsonschema\u001b[49m\u001b[38;5;241;43m.\u001b[39;49m\u001b[43mvalidate\u001b[49m\u001b[43m(\u001b[49m\u001b[43minstance\u001b[49m\u001b[38;5;241;43m=\u001b[39;49m\u001b[43mconfig\u001b[49m\u001b[43m,\u001b[49m\u001b[43m \u001b[49m\u001b[43mschema\u001b[49m\u001b[38;5;241;43m=\u001b[39;49m\u001b[43mschema\u001b[49m\u001b[43m)\u001b[49m\n\u001b[1;32m     29\u001b[0m \u001b[38;5;28;01mreturn\u001b[39;00m config\n",
      "File \u001b[0;32m/opt/conda/lib/python3.8/site-packages/jsonschema/validators.py:1022\u001b[0m, in \u001b[0;36mvalidate\u001b[0;34m(instance, schema, cls, *args, **kwargs)\u001b[0m\n\u001b[1;32m   1020\u001b[0m error \u001b[38;5;241m=\u001b[39m exceptions\u001b[38;5;241m.\u001b[39mbest_match(validator\u001b[38;5;241m.\u001b[39miter_errors(instance))\n\u001b[1;32m   1021\u001b[0m \u001b[38;5;28;01mif\u001b[39;00m error \u001b[38;5;129;01mis\u001b[39;00m \u001b[38;5;129;01mnot\u001b[39;00m \u001b[38;5;28;01mNone\u001b[39;00m:\n\u001b[0;32m-> 1022\u001b[0m     \u001b[38;5;28;01mraise\u001b[39;00m error\n",
      "\u001b[0;31mValidationError\u001b[0m: 'object_detection_mAP_tide' is not one of ['entailment', 'dapricot_patch_target_success', 'dapricot_patch_targeted_AP_per_class', 'apricot_patch_targeted_AP_per_class', 'categorical_accuracy', 'top_n_categorical_accuracy', 'top_5_categorical_accuracy', 'norm', 'l0', 'l1', 'l2', 'lp', 'linf', 'snr', 'snr_db', 'snr_spectrogram', 'snr_spectrogram_db', 'image_circle_patch_diameter', 'mean_l0', 'max_l0', 'mean_l1', 'max_l1', 'mean_l2', 'max_l2', 'mean_linf', 'max_linf', 'video_tracking_mean_iou', 'video_tracking_mean_success_rate', 'mean_image_circle_patch_diameter', 'max_image_circle_patch_diameter', 'word_error_rate', 'object_detection_AP_per_class', 'object_detection_mAP', 'object_detection_disappearance_rate', 'object_detection_hallucinations_per_image', 'object_detection_misclassification_rate', 'object_detection_true_positive_rate', 'carla_od_AP_per_class', 'carla_od_disappearance_rate', 'carla_od_hallucinations_per_image', 'carla_od_misclassification_rate', 'carla_od_true_positive_rate', 'hota', 'deta', 'assa']\n\nFailed validating 'enum' in schema[0]:\n    {'enum': ['entailment',\n              'dapricot_patch_target_success',\n              'dapricot_patch_targeted_AP_per_class',\n              'apricot_patch_targeted_AP_per_class',\n              'categorical_accuracy',\n              'top_n_categorical_accuracy',\n              'top_5_categorical_accuracy',\n              'norm',\n              'l0',\n              'l1',\n              'l2',\n              'lp',\n              'linf',\n              'snr',\n              'snr_db',\n              'snr_spectrogram',\n              'snr_spectrogram_db',\n              'image_circle_patch_diameter',\n              'mean_l0',\n              'max_l0',\n              'mean_l1',\n              'max_l1',\n              'mean_l2',\n              'max_l2',\n              'mean_linf',\n              'max_linf',\n              'video_tracking_mean_iou',\n              'video_tracking_mean_success_rate',\n              'mean_image_circle_patch_diameter',\n              'max_image_circle_patch_diameter',\n              'word_error_rate',\n              'object_detection_AP_per_class',\n              'object_detection_mAP',\n              'object_detection_disappearance_rate',\n              'object_detection_hallucinations_per_image',\n              'object_detection_misclassification_rate',\n              'object_detection_true_positive_rate',\n              'carla_od_AP_per_class',\n              'carla_od_disappearance_rate',\n              'carla_od_hallucinations_per_image',\n              'carla_od_misclassification_rate',\n              'carla_od_true_positive_rate',\n              'hota',\n              'deta',\n              'assa']}\n\nOn instance:\n    'object_detection_mAP_tide'"
     ]
    }
   ],
   "source": [
    "from armory.scenarios.main import get as get_scenario # restarted kernel with updated task for metrics\n",
    "\n",
    "s = get_scenario(\n",
    "    \"/armory/tmp/2022-11-03T180812.020999/carla_obj_det_adversarialpatch_undefended.json\",\n",
    "    num_eval_batches=1,\n",
    ").load()"
   ]
  },
  {
   "cell_type": "code",
   "execution_count": 1,
   "id": "24686300-f543-4c9b-923e-28bc7197d64c",
   "metadata": {},
   "outputs": [
    {
     "name": "stdout",
     "output_type": "stream",
     "text": [
      "2022-11-07 20:51:07  0s \u001b[1mINFO    \u001b[0m \u001b[36marmory.delayed_imports\u001b[0m:\u001b[36m<module>\u001b[0m:\u001b[36m7\u001b[0m Importing and configuring torch, tensorflow, and art, if available. This may take some time.\n",
      "2022-11-07 20:51:09  2s \u001b[1mINFO    \u001b[0m \u001b[36marmory.delayed_imports\u001b[0m:\u001b[36m<module>\u001b[0m:\u001b[36m30\u001b[0m Setting tf.config.experimental.set_memory_growth to True on all GPUs\n",
      "2022-11-07 20:51:09  2s \u001b[1mINFO    \u001b[0m \u001b[36mart.config\u001b[0m:\u001b[36mset_data_path\u001b[0m:\u001b[36m55\u001b[0m set ART_DATA_PATH to /tmp/.art/data\n",
      "2022-11-07 20:51:10  2s \u001b[1mINFO    \u001b[0m \u001b[36mart.config\u001b[0m:\u001b[36mset_data_path\u001b[0m:\u001b[36m55\u001b[0m set ART_DATA_PATH to /armory/saved_models/art\n",
      "2022-11-07 20:51:10  3s \u001b[1mINFO    \u001b[0m \u001b[36marmory.scenarios.main\u001b[0m:\u001b[36m_scenario_setup\u001b[0m:\u001b[36m37\u001b[0m this repo is being updated\n",
      "2022-11-07 20:51:10  3s \u001b[31m\u001b[1mERROR   \u001b[0m \u001b[36marmory.scenarios.main\u001b[0m:\u001b[36m_scenario_setup\u001b[0m:\u001b[36m42\u001b[0m eval_id not in config. Inserting current timestamp 1667854270.4608977\n",
      "2022-11-07 20:51:10  3s \u001b[1mINFO    \u001b[0m \u001b[36marmory.scenarios.main\u001b[0m:\u001b[36m_scenario_setup\u001b[0m:\u001b[36m50\u001b[0m armory outputs and logs will be written to /armory/outputs/1667854270.4608977\n",
      "2022-11-07 20:51:10  3s \u001b[1mINFO    \u001b[0m \u001b[36marmory.data.utils\u001b[0m:\u001b[36mmaybe_download_weights_from_s3\u001b[0m:\u001b[36m47\u001b[0m Using available carla_rgb_weights_eval5.pt in Armory `saved_model_dir`\n",
      "2022-11-07 20:51:14  6s \u001b[1mINFO    \u001b[0m \u001b[36marmory.scenarios.scenario\u001b[0m:\u001b[36mload_dataset\u001b[0m:\u001b[36m205\u001b[0m Loading test dataset carla_obj_det_dev...\n"
     ]
    }
   ],
   "source": [
    "# updated with armory/armory/utils/config_schema.json with 'object_detection_mAP_tide' and restarted kernel\n",
    "from armory.scenarios.main import get as get_scenario\n",
    "\n",
    "s = get_scenario(\n",
    "    \"/armory/tmp/2022-11-03T180812.020999/carla_obj_det_adversarialpatch_undefended.json\",\n",
    "    num_eval_batches=1,\n",
    ").load()"
   ]
  },
  {
   "cell_type": "code",
   "execution_count": 2,
   "id": "ceff7c46-25c5-45ba-adea-eb0ba4035e7e",
   "metadata": {},
   "outputs": [
    {
     "data": {
      "text/plain": [
       "['carla_od_AP_per_class',\n",
       " 'carla_od_disappearance_rate',\n",
       " 'carla_od_hallucinations_per_image',\n",
       " 'carla_od_misclassification_rate',\n",
       " 'carla_od_true_positive_rate',\n",
       " 'object_detection_mAP_tide']"
      ]
     },
     "execution_count": 2,
     "metadata": {},
     "output_type": "execute_result"
    }
   ],
   "source": [
    "s.config[\"attack\"][\"kwargs\"][\"max_iter\"] = 5\n",
    "s.config[\"metric\"][\"record_metric_per_sample\"] = True\n",
    "s.config[\"scenario\"][\"export_batches\"] = True\n",
    "s.config[\"metric\"][\"task\"]"
   ]
  },
  {
   "cell_type": "code",
   "execution_count": 3,
   "id": "5eec8b96-36f3-489f-8e20-73c0d081c536",
   "metadata": {},
   "outputs": [
    {
     "data": {
      "application/vnd.jupyter.widget-view+json": {
       "model_id": "3462ec3713ae4c83860eb6b758c8a5e2",
       "version_major": 2,
       "version_minor": 0
      },
      "text/plain": [
       "Adversarial Patch PyTorch:   0%|          | 0/5 [00:00<?, ?it/s]"
      ]
     },
     "metadata": {},
     "output_type": "display_data"
    },
    {
     "name": "stderr",
     "output_type": "stream",
     "text": [
      "/opt/conda/lib/python3.8/site-packages/torchvision/transforms/functional.py:404: UserWarning: Argument interpolation should be of type InterpolationMode instead of int. Please, use InterpolationMode enum.\n",
      "  warnings.warn(\n",
      "/opt/conda/lib/python3.8/site-packages/torchvision/transforms/functional.py:654: UserWarning: Argument interpolation should be of type InterpolationMode instead of int. Please, use InterpolationMode enum.\n",
      "  warnings.warn(\n",
      "/opt/conda/lib/python3.8/site-packages/torch/functional.py:445: UserWarning: torch.meshgrid: in an upcoming release, it will be required to pass the indexing argument. (Triggered internally at  /opt/conda/conda-bld/pytorch_1640811806235/work/aten/src/ATen/native/TensorShape.cpp:2157.)\n",
      "  return _VF.meshgrid(tensors, **kwargs)  # type: ignore[attr-defined]\n"
     ]
    }
   ],
   "source": [
    "s.load_attack()\n",
    "s.next()\n",
    "s.run_attack()"
   ]
  },
  {
   "cell_type": "code",
   "execution_count": 4,
   "id": "c2480e6e-5d43-4ef7-9074-9d1c56261cf6",
   "metadata": {},
   "outputs": [
    {
     "name": "stdout",
     "output_type": "stream",
     "text": [
      "2022-11-07 20:51:35 27s \u001b[33m\u001b[1mWARNING \u001b[0m \u001b[36marmory.instrument.instrument\u001b[0m:\u001b[36mfinalize\u001b[0m:\u001b[36m590\u001b[0m Meter 'benign_input_to_carla_od_AP_per_class' was never measured. The following args were never set: ['scenario.y_pred']\n",
      "2022-11-07 20:51:35 27s \u001b[32m\u001b[1mSUCCESS \u001b[0m \u001b[36marmory.instrument.config\u001b[0m:\u001b[36m_write\u001b[0m:\u001b[36m224\u001b[0m adversarial_carla_od_AP_per_class on adversarial examples w.r.t. ground truth labels: {'mean': 0.6950000000000001, 'class': {1: 0.76, 2: 0.63}}\n",
      "2022-11-07 20:51:35 27s \u001b[33m\u001b[1mWARNING \u001b[0m \u001b[36marmory.instrument.instrument\u001b[0m:\u001b[36mfinalize\u001b[0m:\u001b[36m590\u001b[0m Meter 'benign_carla_od_disappearance_rate' was never measured. The following args were never set: ['scenario.y_pred']\n",
      "2022-11-07 20:51:35 27s \u001b[32m\u001b[1mSUCCESS \u001b[0m \u001b[36marmory.instrument.config\u001b[0m:\u001b[36m_write\u001b[0m:\u001b[36m224\u001b[0m adversarial_mean_carla_od_disappearance_rate on adversarial examples w.r.t. ground truth labels: 40.00%\n",
      "2022-11-07 20:51:35 27s \u001b[33m\u001b[1mWARNING \u001b[0m \u001b[36marmory.instrument.instrument\u001b[0m:\u001b[36mfinalize\u001b[0m:\u001b[36m590\u001b[0m Meter 'benign_carla_od_hallucinations_per_image' was never measured. The following args were never set: ['scenario.y_pred']\n",
      "2022-11-07 20:51:35 27s \u001b[32m\u001b[1mSUCCESS \u001b[0m \u001b[36marmory.instrument.config\u001b[0m:\u001b[36m_write\u001b[0m:\u001b[36m224\u001b[0m adversarial_mean_carla_od_hallucinations_per_image on adversarial examples w.r.t. ground truth labels: 7.0\n",
      "2022-11-07 20:51:35 27s \u001b[33m\u001b[1mWARNING \u001b[0m \u001b[36marmory.instrument.instrument\u001b[0m:\u001b[36mfinalize\u001b[0m:\u001b[36m590\u001b[0m Meter 'benign_carla_od_misclassification_rate' was never measured. The following args were never set: ['scenario.y_pred']\n",
      "2022-11-07 20:51:35 27s \u001b[32m\u001b[1mSUCCESS \u001b[0m \u001b[36marmory.instrument.config\u001b[0m:\u001b[36m_write\u001b[0m:\u001b[36m224\u001b[0m adversarial_mean_carla_od_misclassification_rate on adversarial examples w.r.t. ground truth labels: 0.00%\n",
      "2022-11-07 20:51:35 27s \u001b[33m\u001b[1mWARNING \u001b[0m \u001b[36marmory.instrument.instrument\u001b[0m:\u001b[36mfinalize\u001b[0m:\u001b[36m590\u001b[0m Meter 'benign_carla_od_true_positive_rate' was never measured. The following args were never set: ['scenario.y_pred']\n",
      "2022-11-07 20:51:35 27s \u001b[32m\u001b[1mSUCCESS \u001b[0m \u001b[36marmory.instrument.config\u001b[0m:\u001b[36m_write\u001b[0m:\u001b[36m224\u001b[0m adversarial_mean_carla_od_true_positive_rate on adversarial examples w.r.t. ground truth labels: 60.00%\n",
      "2022-11-07 20:51:35 27s \u001b[33m\u001b[1mWARNING \u001b[0m \u001b[36marmory.instrument.instrument\u001b[0m:\u001b[36mfinalize\u001b[0m:\u001b[36m590\u001b[0m Meter 'benign_object_detection_mAP_tide' was never measured. The following args were never set: ['scenario.y_pred']\n",
      "2022-11-07 20:51:35 27s \u001b[32m\u001b[1mSUCCESS \u001b[0m \u001b[36marmory.instrument.config\u001b[0m:\u001b[36m_write\u001b[0m:\u001b[36m224\u001b[0m adversarial_mean_object_detection_mAP_tide on adversarial examples w.r.t. ground truth labels: 69.50%\n",
      "2022-11-07 20:51:35 27s \u001b[33m\u001b[1mWARNING \u001b[0m \u001b[36marmory.instrument.instrument\u001b[0m:\u001b[36mfinalize\u001b[0m:\u001b[36m590\u001b[0m Meter 'adversarial_input_to_carla_od_AP_per_class_wrt_benign_preds' was never measured. The following args were never set: ['scenario.y_pred']\n",
      "2022-11-07 20:51:35 27s \u001b[33m\u001b[1mWARNING \u001b[0m \u001b[36marmory.instrument.instrument\u001b[0m:\u001b[36mfinalize\u001b[0m:\u001b[36m590\u001b[0m Meter 'adversarial_carla_od_disappearance_rate_wrt_benign_preds' was never measured. The following args were never set: ['scenario.y_pred']\n",
      "2022-11-07 20:51:35 27s \u001b[33m\u001b[1mWARNING \u001b[0m \u001b[36marmory.instrument.instrument\u001b[0m:\u001b[36mfinalize\u001b[0m:\u001b[36m590\u001b[0m Meter 'adversarial_carla_od_hallucinations_per_image_wrt_benign_preds' was never measured. The following args were never set: ['scenario.y_pred']\n",
      "2022-11-07 20:51:35 27s \u001b[33m\u001b[1mWARNING \u001b[0m \u001b[36marmory.instrument.instrument\u001b[0m:\u001b[36mfinalize\u001b[0m:\u001b[36m590\u001b[0m Meter 'adversarial_carla_od_misclassification_rate_wrt_benign_preds' was never measured. The following args were never set: ['scenario.y_pred']\n",
      "2022-11-07 20:51:35 27s \u001b[33m\u001b[1mWARNING \u001b[0m \u001b[36marmory.instrument.instrument\u001b[0m:\u001b[36mfinalize\u001b[0m:\u001b[36m590\u001b[0m Meter 'adversarial_carla_od_true_positive_rate_wrt_benign_preds' was never measured. The following args were never set: ['scenario.y_pred']\n",
      "2022-11-07 20:51:35 27s \u001b[33m\u001b[1mWARNING \u001b[0m \u001b[36marmory.instrument.instrument\u001b[0m:\u001b[36mfinalize\u001b[0m:\u001b[36m590\u001b[0m Meter 'adversarial_object_detection_mAP_tide_wrt_benign_preds' was never measured. The following args were never set: ['scenario.y_pred']\n",
      "2022-11-07 20:51:35 27s \u001b[33m\u001b[1mWARNING \u001b[0m \u001b[36marmory.instrument.export\u001b[0m:\u001b[36mfinalize\u001b[0m:\u001b[36m744\u001b[0m Meter 'pred_dict_exporter' was never measured. The following args were never set: ['scenario.y_pred']\n",
      "2022-11-07 20:51:35 27s \u001b[33m\u001b[1mWARNING \u001b[0m \u001b[36marmory.instrument.export\u001b[0m:\u001b[36mfinalize\u001b[0m:\u001b[36m657\u001b[0m Meter 'x_with_boxes_exporter' was never measured. The following args were never set: ['scenario.y_pred']\n",
      "2022-11-07 20:51:35 27s \u001b[33m\u001b[1mWARNING \u001b[0m \u001b[36marmory.instrument.export\u001b[0m:\u001b[36mfinalize\u001b[0m:\u001b[36m827\u001b[0m Meter 'coco_box_format_meter' was never measured. The following args were never set: ['scenario.y_pred']\n"
     ]
    }
   ],
   "source": [
    "s.finalize_results()"
   ]
  },
  {
   "cell_type": "code",
   "execution_count": 5,
   "id": "5643381a-21c9-4d0a-96b4-a8b9f20d7369",
   "metadata": {},
   "outputs": [
    {
     "data": {
      "text/plain": [
       "{'adversarial_carla_od_AP_per_class': [{'mean': 0.6950000000000001,\n",
       "   'class': {1: 0.76, 2: 0.63}}],\n",
       " 'adversarial_mean_carla_od_disappearance_rate': [0.4],\n",
       " 'adversarial_mean_carla_od_hallucinations_per_image': [7.0],\n",
       " 'adversarial_mean_carla_od_misclassification_rate': [0.0],\n",
       " 'adversarial_mean_carla_od_true_positive_rate': [0.6],\n",
       " 'adversarial_mean_object_detection_mAP_tide': [0.6950000000000001],\n",
       " 'perturbation_mean_l0': [14418.0],\n",
       " 'compute': {}}"
      ]
     },
     "execution_count": 5,
     "metadata": {},
     "output_type": "execute_result"
    }
   ],
   "source": [
    "# mean in adversarial_carla_od_AP_per_class seems to be coming from MeanAP class in armory/metrics/task.py rather than from object_detection_mAP\n",
    "# note the addition of adversarial_mean_object_detection_mAP_tide\n",
    "s.results"
   ]
  },
  {
   "cell_type": "markdown",
   "id": "1886493f-2118-482b-a572-80673f3a0e1d",
   "metadata": {
    "jp-MarkdownHeadingCollapsed": true,
    "tags": []
   },
   "source": [
    "### Importing `tidecv`"
   ]
  },
  {
   "cell_type": "markdown",
   "id": "b15c0b4d-9352-4095-b26b-c7980e1e17aa",
   "metadata": {},
   "source": [
    "imported `tidecv` and initialized TIDE format data `tidecv.data.Data` and restarted kernel"
   ]
  },
  {
   "cell_type": "code",
   "execution_count": 1,
   "id": "3feac6ba-057a-4f0b-9ee4-986dd8c8399a",
   "metadata": {},
   "outputs": [
    {
     "name": "stdout",
     "output_type": "stream",
     "text": [
      "2022-11-07 20:58:13  0s \u001b[1mINFO    \u001b[0m \u001b[36marmory.delayed_imports\u001b[0m:\u001b[36m<module>\u001b[0m:\u001b[36m7\u001b[0m Importing and configuring torch, tensorflow, and art, if available. This may take some time.\n",
      "2022-11-07 20:58:16  3s \u001b[1mINFO    \u001b[0m \u001b[36marmory.delayed_imports\u001b[0m:\u001b[36m<module>\u001b[0m:\u001b[36m30\u001b[0m Setting tf.config.experimental.set_memory_growth to True on all GPUs\n",
      "2022-11-07 20:58:16  3s \u001b[1mINFO    \u001b[0m \u001b[36mart.config\u001b[0m:\u001b[36mset_data_path\u001b[0m:\u001b[36m55\u001b[0m set ART_DATA_PATH to /tmp/.art/data\n",
      "2022-11-07 20:58:17  3s \u001b[1mINFO    \u001b[0m \u001b[36mart.config\u001b[0m:\u001b[36mset_data_path\u001b[0m:\u001b[36m55\u001b[0m set ART_DATA_PATH to /armory/saved_models/art\n",
      "2022-11-07 20:58:17  4s \u001b[1mINFO    \u001b[0m \u001b[36marmory.scenarios.main\u001b[0m:\u001b[36m_scenario_setup\u001b[0m:\u001b[36m37\u001b[0m this repo is being updated\n",
      "2022-11-07 20:58:17  4s \u001b[31m\u001b[1mERROR   \u001b[0m \u001b[36marmory.scenarios.main\u001b[0m:\u001b[36m_scenario_setup\u001b[0m:\u001b[36m42\u001b[0m eval_id not in config. Inserting current timestamp 1667854697.75545\n",
      "2022-11-07 20:58:17  4s \u001b[1mINFO    \u001b[0m \u001b[36marmory.scenarios.main\u001b[0m:\u001b[36m_scenario_setup\u001b[0m:\u001b[36m50\u001b[0m armory outputs and logs will be written to /armory/outputs/1667854697.75545\n",
      "2022-11-07 20:58:18  5s \u001b[1mINFO    \u001b[0m \u001b[36marmory.data.utils\u001b[0m:\u001b[36mmaybe_download_weights_from_s3\u001b[0m:\u001b[36m47\u001b[0m Using available carla_rgb_weights_eval5.pt in Armory `saved_model_dir`\n",
      "2022-11-07 20:58:22  8s \u001b[1mINFO    \u001b[0m \u001b[36marmory.scenarios.scenario\u001b[0m:\u001b[36mload_dataset\u001b[0m:\u001b[36m205\u001b[0m Loading test dataset carla_obj_det_dev...\n"
     ]
    }
   ],
   "source": [
    "from armory.scenarios.main import get as get_scenario\n",
    "\n",
    "s = get_scenario(\n",
    "    \"/armory/tmp/2022-11-03T180812.020999/carla_obj_det_adversarialpatch_undefended.json\",\n",
    "    num_eval_batches=1,\n",
    ").load()"
   ]
  },
  {
   "cell_type": "code",
   "execution_count": 2,
   "id": "06846c4c-2e6d-47d0-8f50-dc82dd8f58f8",
   "metadata": {},
   "outputs": [
    {
     "data": {
      "text/plain": [
       "['carla_od_AP_per_class',\n",
       " 'carla_od_disappearance_rate',\n",
       " 'carla_od_hallucinations_per_image',\n",
       " 'carla_od_misclassification_rate',\n",
       " 'carla_od_true_positive_rate',\n",
       " 'object_detection_mAP_tide']"
      ]
     },
     "execution_count": 2,
     "metadata": {},
     "output_type": "execute_result"
    }
   ],
   "source": [
    "s.config[\"attack\"][\"kwargs\"][\"max_iter\"] = 5\n",
    "s.config[\"metric\"][\"record_metric_per_sample\"] = True\n",
    "s.config[\"scenario\"][\"export_batches\"] = True\n",
    "s.config[\"metric\"][\"task\"]"
   ]
  },
  {
   "cell_type": "code",
   "execution_count": 3,
   "id": "e5e4edc7-9fc8-43c1-9c19-182b78f79495",
   "metadata": {},
   "outputs": [
    {
     "data": {
      "application/vnd.jupyter.widget-view+json": {
       "model_id": "f733c909b8d849d197f21174a4bce7c2",
       "version_major": 2,
       "version_minor": 0
      },
      "text/plain": [
       "Adversarial Patch PyTorch:   0%|          | 0/5 [00:00<?, ?it/s]"
      ]
     },
     "metadata": {},
     "output_type": "display_data"
    },
    {
     "name": "stderr",
     "output_type": "stream",
     "text": [
      "/opt/conda/lib/python3.8/site-packages/torchvision/transforms/functional.py:404: UserWarning: Argument interpolation should be of type InterpolationMode instead of int. Please, use InterpolationMode enum.\n",
      "  warnings.warn(\n",
      "/opt/conda/lib/python3.8/site-packages/torchvision/transforms/functional.py:654: UserWarning: Argument interpolation should be of type InterpolationMode instead of int. Please, use InterpolationMode enum.\n",
      "  warnings.warn(\n",
      "/opt/conda/lib/python3.8/site-packages/torch/functional.py:445: UserWarning: torch.meshgrid: in an upcoming release, it will be required to pass the indexing argument. (Triggered internally at  /opt/conda/conda-bld/pytorch_1640811806235/work/aten/src/ATen/native/TensorShape.cpp:2157.)\n",
      "  return _VF.meshgrid(tensors, **kwargs)  # type: ignore[attr-defined]\n"
     ]
    }
   ],
   "source": [
    "s.load_attack()\n",
    "s.next()\n",
    "s.run_attack()"
   ]
  },
  {
   "cell_type": "code",
   "execution_count": 4,
   "id": "a2fedd1e-a8b1-4383-9c3c-c60311ba961e",
   "metadata": {},
   "outputs": [
    {
     "name": "stdout",
     "output_type": "stream",
     "text": [
      "2022-11-07 20:58:50 36s \u001b[33m\u001b[1mWARNING \u001b[0m \u001b[36marmory.instrument.instrument\u001b[0m:\u001b[36mfinalize\u001b[0m:\u001b[36m590\u001b[0m Meter 'benign_input_to_carla_od_AP_per_class' was never measured. The following args were never set: ['scenario.y_pred']\n",
      "2022-11-07 20:58:50 36s \u001b[32m\u001b[1mSUCCESS \u001b[0m \u001b[36marmory.instrument.config\u001b[0m:\u001b[36m_write\u001b[0m:\u001b[36m224\u001b[0m adversarial_carla_od_AP_per_class on adversarial examples w.r.t. ground truth labels: {'mean': 0.69, 'class': {1: 0.75, 2: 0.63}}\n",
      "2022-11-07 20:58:50 36s \u001b[33m\u001b[1mWARNING \u001b[0m \u001b[36marmory.instrument.instrument\u001b[0m:\u001b[36mfinalize\u001b[0m:\u001b[36m590\u001b[0m Meter 'benign_carla_od_disappearance_rate' was never measured. The following args were never set: ['scenario.y_pred']\n",
      "2022-11-07 20:58:50 36s \u001b[32m\u001b[1mSUCCESS \u001b[0m \u001b[36marmory.instrument.config\u001b[0m:\u001b[36m_write\u001b[0m:\u001b[36m224\u001b[0m adversarial_mean_carla_od_disappearance_rate on adversarial examples w.r.t. ground truth labels: 40.00%\n",
      "2022-11-07 20:58:50 36s \u001b[33m\u001b[1mWARNING \u001b[0m \u001b[36marmory.instrument.instrument\u001b[0m:\u001b[36mfinalize\u001b[0m:\u001b[36m590\u001b[0m Meter 'benign_carla_od_hallucinations_per_image' was never measured. The following args were never set: ['scenario.y_pred']\n",
      "2022-11-07 20:58:50 36s \u001b[32m\u001b[1mSUCCESS \u001b[0m \u001b[36marmory.instrument.config\u001b[0m:\u001b[36m_write\u001b[0m:\u001b[36m224\u001b[0m adversarial_mean_carla_od_hallucinations_per_image on adversarial examples w.r.t. ground truth labels: 5.0\n",
      "2022-11-07 20:58:50 36s \u001b[33m\u001b[1mWARNING \u001b[0m \u001b[36marmory.instrument.instrument\u001b[0m:\u001b[36mfinalize\u001b[0m:\u001b[36m590\u001b[0m Meter 'benign_carla_od_misclassification_rate' was never measured. The following args were never set: ['scenario.y_pred']\n",
      "2022-11-07 20:58:50 36s \u001b[32m\u001b[1mSUCCESS \u001b[0m \u001b[36marmory.instrument.config\u001b[0m:\u001b[36m_write\u001b[0m:\u001b[36m224\u001b[0m adversarial_mean_carla_od_misclassification_rate on adversarial examples w.r.t. ground truth labels: 0.00%\n",
      "2022-11-07 20:58:50 36s \u001b[33m\u001b[1mWARNING \u001b[0m \u001b[36marmory.instrument.instrument\u001b[0m:\u001b[36mfinalize\u001b[0m:\u001b[36m590\u001b[0m Meter 'benign_carla_od_true_positive_rate' was never measured. The following args were never set: ['scenario.y_pred']\n",
      "2022-11-07 20:58:50 36s \u001b[32m\u001b[1mSUCCESS \u001b[0m \u001b[36marmory.instrument.config\u001b[0m:\u001b[36m_write\u001b[0m:\u001b[36m224\u001b[0m adversarial_mean_carla_od_true_positive_rate on adversarial examples w.r.t. ground truth labels: 60.00%\n",
      "2022-11-07 20:58:50 36s \u001b[33m\u001b[1mWARNING \u001b[0m \u001b[36marmory.instrument.instrument\u001b[0m:\u001b[36mfinalize\u001b[0m:\u001b[36m590\u001b[0m Meter 'benign_object_detection_mAP_tide' was never measured. The following args were never set: ['scenario.y_pred']\n",
      "2022-11-07 20:58:50 36s \u001b[32m\u001b[1mSUCCESS \u001b[0m \u001b[36marmory.instrument.config\u001b[0m:\u001b[36m_write\u001b[0m:\u001b[36m224\u001b[0m adversarial_mean_object_detection_mAP_tide on adversarial examples w.r.t. ground truth labels: 69.00%\n",
      "2022-11-07 20:58:50 36s \u001b[33m\u001b[1mWARNING \u001b[0m \u001b[36marmory.instrument.instrument\u001b[0m:\u001b[36mfinalize\u001b[0m:\u001b[36m590\u001b[0m Meter 'adversarial_input_to_carla_od_AP_per_class_wrt_benign_preds' was never measured. The following args were never set: ['scenario.y_pred']\n",
      "2022-11-07 20:58:50 36s \u001b[33m\u001b[1mWARNING \u001b[0m \u001b[36marmory.instrument.instrument\u001b[0m:\u001b[36mfinalize\u001b[0m:\u001b[36m590\u001b[0m Meter 'adversarial_carla_od_disappearance_rate_wrt_benign_preds' was never measured. The following args were never set: ['scenario.y_pred']\n",
      "2022-11-07 20:58:50 36s \u001b[33m\u001b[1mWARNING \u001b[0m \u001b[36marmory.instrument.instrument\u001b[0m:\u001b[36mfinalize\u001b[0m:\u001b[36m590\u001b[0m Meter 'adversarial_carla_od_hallucinations_per_image_wrt_benign_preds' was never measured. The following args were never set: ['scenario.y_pred']\n",
      "2022-11-07 20:58:50 36s \u001b[33m\u001b[1mWARNING \u001b[0m \u001b[36marmory.instrument.instrument\u001b[0m:\u001b[36mfinalize\u001b[0m:\u001b[36m590\u001b[0m Meter 'adversarial_carla_od_misclassification_rate_wrt_benign_preds' was never measured. The following args were never set: ['scenario.y_pred']\n",
      "2022-11-07 20:58:50 36s \u001b[33m\u001b[1mWARNING \u001b[0m \u001b[36marmory.instrument.instrument\u001b[0m:\u001b[36mfinalize\u001b[0m:\u001b[36m590\u001b[0m Meter 'adversarial_carla_od_true_positive_rate_wrt_benign_preds' was never measured. The following args were never set: ['scenario.y_pred']\n",
      "2022-11-07 20:58:50 36s \u001b[33m\u001b[1mWARNING \u001b[0m \u001b[36marmory.instrument.instrument\u001b[0m:\u001b[36mfinalize\u001b[0m:\u001b[36m590\u001b[0m Meter 'adversarial_object_detection_mAP_tide_wrt_benign_preds' was never measured. The following args were never set: ['scenario.y_pred']\n",
      "2022-11-07 20:58:50 36s \u001b[33m\u001b[1mWARNING \u001b[0m \u001b[36marmory.instrument.export\u001b[0m:\u001b[36mfinalize\u001b[0m:\u001b[36m744\u001b[0m Meter 'pred_dict_exporter' was never measured. The following args were never set: ['scenario.y_pred']\n",
      "2022-11-07 20:58:50 36s \u001b[33m\u001b[1mWARNING \u001b[0m \u001b[36marmory.instrument.export\u001b[0m:\u001b[36mfinalize\u001b[0m:\u001b[36m657\u001b[0m Meter 'x_with_boxes_exporter' was never measured. The following args were never set: ['scenario.y_pred']\n",
      "2022-11-07 20:58:50 36s \u001b[33m\u001b[1mWARNING \u001b[0m \u001b[36marmory.instrument.export\u001b[0m:\u001b[36mfinalize\u001b[0m:\u001b[36m827\u001b[0m Meter 'coco_box_format_meter' was never measured. The following args were never set: ['scenario.y_pred']\n"
     ]
    }
   ],
   "source": [
    "s.finalize_results()"
   ]
  },
  {
   "cell_type": "code",
   "execution_count": 5,
   "id": "2dc4a3cc-7263-4034-8f60-0f185095b7f8",
   "metadata": {},
   "outputs": [
    {
     "data": {
      "text/plain": [
       "{'adversarial_carla_od_AP_per_class': [{'mean': 0.69,\n",
       "   'class': {1: 0.75, 2: 0.63}}],\n",
       " 'adversarial_mean_carla_od_disappearance_rate': [0.4],\n",
       " 'adversarial_mean_carla_od_hallucinations_per_image': [5.0],\n",
       " 'adversarial_mean_carla_od_misclassification_rate': [0.0],\n",
       " 'adversarial_mean_carla_od_true_positive_rate': [0.6],\n",
       " 'adversarial_mean_object_detection_mAP_tide': [0.69],\n",
       " 'perturbation_mean_l0': [14418.0],\n",
       " 'compute': {}}"
      ]
     },
     "execution_count": 5,
     "metadata": {},
     "output_type": "execute_result"
    }
   ],
   "source": [
    "# mean in adversarial_carla_od_AP_per_class seems to be coming from MeanAP class in armory/metrics/task.py rather than from object_detection_mAP\n",
    "# note the addition of adversarial_mean_object_detection_mAP_tide\n",
    "# doesn't seem to be any issue with import tidecv and initializing TIDE format data\n",
    "s.results"
   ]
  },
  {
   "cell_type": "markdown",
   "id": "d3c1a23b-84ec-4c4a-8f96-08ae9d654a21",
   "metadata": {
    "jp-MarkdownHeadingCollapsed": true,
    "tags": []
   },
   "source": [
    "### Testing TIDE Conversion"
   ]
  },
  {
   "cell_type": "markdown",
   "id": "00c13512-d491-4670-b6b0-917e16accf57",
   "metadata": {},
   "source": [
    "defined `armory_to_tide_detection` and calling on `armory_to_tide_detection`"
   ]
  },
  {
   "cell_type": "code",
   "execution_count": 1,
   "id": "802fd571-4162-4afb-870c-2f1aae067c53",
   "metadata": {},
   "outputs": [
    {
     "name": "stdout",
     "output_type": "stream",
     "text": [
      "2022-11-07 21:07:13  0s \u001b[1mINFO    \u001b[0m \u001b[36marmory.delayed_imports\u001b[0m:\u001b[36m<module>\u001b[0m:\u001b[36m7\u001b[0m Importing and configuring torch, tensorflow, and art, if available. This may take some time.\n",
      "2022-11-07 21:07:15  2s \u001b[1mINFO    \u001b[0m \u001b[36marmory.delayed_imports\u001b[0m:\u001b[36m<module>\u001b[0m:\u001b[36m30\u001b[0m Setting tf.config.experimental.set_memory_growth to True on all GPUs\n",
      "2022-11-07 21:07:15  2s \u001b[1mINFO    \u001b[0m \u001b[36mart.config\u001b[0m:\u001b[36mset_data_path\u001b[0m:\u001b[36m55\u001b[0m set ART_DATA_PATH to /tmp/.art/data\n",
      "2022-11-07 21:07:16  2s \u001b[1mINFO    \u001b[0m \u001b[36mart.config\u001b[0m:\u001b[36mset_data_path\u001b[0m:\u001b[36m55\u001b[0m set ART_DATA_PATH to /armory/saved_models/art\n",
      "2022-11-07 21:07:16  3s \u001b[1mINFO    \u001b[0m \u001b[36marmory.scenarios.main\u001b[0m:\u001b[36m_scenario_setup\u001b[0m:\u001b[36m37\u001b[0m this repo is being updated\n",
      "2022-11-07 21:07:16  3s \u001b[31m\u001b[1mERROR   \u001b[0m \u001b[36marmory.scenarios.main\u001b[0m:\u001b[36m_scenario_setup\u001b[0m:\u001b[36m42\u001b[0m eval_id not in config. Inserting current timestamp 1667855236.4970744\n",
      "2022-11-07 21:07:16  3s \u001b[1mINFO    \u001b[0m \u001b[36marmory.scenarios.main\u001b[0m:\u001b[36m_scenario_setup\u001b[0m:\u001b[36m50\u001b[0m armory outputs and logs will be written to /armory/outputs/1667855236.4970744\n",
      "2022-11-07 21:07:17  3s \u001b[1mINFO    \u001b[0m \u001b[36marmory.data.utils\u001b[0m:\u001b[36mmaybe_download_weights_from_s3\u001b[0m:\u001b[36m47\u001b[0m Using available carla_rgb_weights_eval5.pt in Armory `saved_model_dir`\n",
      "2022-11-07 21:07:20  7s \u001b[1mINFO    \u001b[0m \u001b[36marmory.scenarios.scenario\u001b[0m:\u001b[36mload_dataset\u001b[0m:\u001b[36m205\u001b[0m Loading test dataset carla_obj_det_dev...\n"
     ]
    }
   ],
   "source": [
    "from armory.scenarios.main import get as get_scenario # restarted kernel\n",
    "\n",
    "s = get_scenario(\n",
    "    \"/armory/tmp/2022-11-03T180812.020999/carla_obj_det_adversarialpatch_undefended.json\",\n",
    "    num_eval_batches=1,\n",
    ").load()"
   ]
  },
  {
   "cell_type": "code",
   "execution_count": 2,
   "id": "b08df659-2b81-4304-addf-f8b29b4b2f3b",
   "metadata": {},
   "outputs": [],
   "source": [
    "s.config[\"attack\"][\"kwargs\"][\"max_iter\"] = 5\n",
    "s.config[\"metric\"][\"record_metric_per_sample\"] = True\n",
    "s.config[\"scenario\"][\"export_batches\"] = True"
   ]
  },
  {
   "cell_type": "code",
   "execution_count": 3,
   "id": "ca646c09-cdb0-4e4e-8242-5e3b77ed53c6",
   "metadata": {},
   "outputs": [
    {
     "data": {
      "application/vnd.jupyter.widget-view+json": {
       "model_id": "3edb3ad18e1d413ea200261904e42689",
       "version_major": 2,
       "version_minor": 0
      },
      "text/plain": [
       "Adversarial Patch PyTorch:   0%|          | 0/5 [00:00<?, ?it/s]"
      ]
     },
     "metadata": {},
     "output_type": "display_data"
    },
    {
     "name": "stderr",
     "output_type": "stream",
     "text": [
      "/opt/conda/lib/python3.8/site-packages/torchvision/transforms/functional.py:404: UserWarning: Argument interpolation should be of type InterpolationMode instead of int. Please, use InterpolationMode enum.\n",
      "  warnings.warn(\n",
      "/opt/conda/lib/python3.8/site-packages/torchvision/transforms/functional.py:654: UserWarning: Argument interpolation should be of type InterpolationMode instead of int. Please, use InterpolationMode enum.\n",
      "  warnings.warn(\n",
      "/opt/conda/lib/python3.8/site-packages/torch/functional.py:445: UserWarning: torch.meshgrid: in an upcoming release, it will be required to pass the indexing argument. (Triggered internally at  /opt/conda/conda-bld/pytorch_1640811806235/work/aten/src/ATen/native/TensorShape.cpp:2157.)\n",
      "  return _VF.meshgrid(tensors, **kwargs)  # type: ignore[attr-defined]\n"
     ]
    },
    {
     "ename": "AttributeError",
     "evalue": "'list' object has no attribute 'values'",
     "output_type": "error",
     "traceback": [
      "\u001b[0;31m\u001b[0m",
      "\u001b[0;31mAttributeError\u001b[0mTraceback (most recent call last)",
      "Input \u001b[0;32mIn [3]\u001b[0m, in \u001b[0;36m<cell line: 3>\u001b[0;34m()\u001b[0m\n\u001b[1;32m      1\u001b[0m s\u001b[38;5;241m.\u001b[39mload_attack()\n\u001b[1;32m      2\u001b[0m s\u001b[38;5;241m.\u001b[39mnext()\n\u001b[0;32m----> 3\u001b[0m \u001b[43ms\u001b[49m\u001b[38;5;241;43m.\u001b[39;49m\u001b[43mrun_attack\u001b[49m\u001b[43m(\u001b[49m\u001b[43m)\u001b[49m\n",
      "File \u001b[0;32m/workspace/armory/scenarios/carla_object_detection.py:64\u001b[0m, in \u001b[0;36mCarlaObjectDetectionTask.run_attack\u001b[0;34m(self)\u001b[0m\n\u001b[1;32m     61\u001b[0m x_adv\u001b[38;5;241m.\u001b[39mflags\u001b[38;5;241m.\u001b[39mwriteable \u001b[38;5;241m=\u001b[39m \u001b[38;5;28;01mFalse\u001b[39;00m\n\u001b[1;32m     62\u001b[0m y_pred_adv \u001b[38;5;241m=\u001b[39m \u001b[38;5;28mself\u001b[39m\u001b[38;5;241m.\u001b[39mmodel\u001b[38;5;241m.\u001b[39mpredict(x_adv, \u001b[38;5;241m*\u001b[39m\u001b[38;5;241m*\u001b[39m\u001b[38;5;28mself\u001b[39m\u001b[38;5;241m.\u001b[39mpredict_kwargs)\n\u001b[0;32m---> 64\u001b[0m \u001b[38;5;28;43mself\u001b[39;49m\u001b[38;5;241;43m.\u001b[39;49m\u001b[43mprobe\u001b[49m\u001b[38;5;241;43m.\u001b[39;49m\u001b[43mupdate\u001b[49m\u001b[43m(\u001b[49m\u001b[43mx_adv\u001b[49m\u001b[38;5;241;43m=\u001b[39;49m\u001b[43mx_adv\u001b[49m\u001b[43m,\u001b[49m\u001b[43m \u001b[49m\u001b[43my_pred_adv\u001b[49m\u001b[38;5;241;43m=\u001b[39;49m\u001b[43my_pred_adv\u001b[49m\u001b[43m)\u001b[49m\n\u001b[1;32m     65\u001b[0m \u001b[38;5;28;01mif\u001b[39;00m \u001b[38;5;28mself\u001b[39m\u001b[38;5;241m.\u001b[39mtargeted:\n\u001b[1;32m     66\u001b[0m     \u001b[38;5;28mself\u001b[39m\u001b[38;5;241m.\u001b[39mprobe\u001b[38;5;241m.\u001b[39mupdate(y_target\u001b[38;5;241m=\u001b[39my_target)\n",
      "File \u001b[0;32m/workspace/armory/instrument/instrument.py:117\u001b[0m, in \u001b[0;36mProbe.update\u001b[0;34m(self, *preprocessing, **named_values)\u001b[0m\n\u001b[1;32m    115\u001b[0m     value \u001b[38;5;241m=\u001b[39m p(value)\n\u001b[1;32m    116\u001b[0m \u001b[38;5;66;03m# Push to sink\u001b[39;00m\n\u001b[0;32m--> 117\u001b[0m \u001b[38;5;28;43mself\u001b[39;49m\u001b[38;5;241;43m.\u001b[39;49m\u001b[43msink\u001b[49m\u001b[38;5;241;43m.\u001b[39;49m\u001b[43mupdate\u001b[49m\u001b[43m(\u001b[49m\u001b[43mname\u001b[49m\u001b[43m,\u001b[49m\u001b[43m \u001b[49m\u001b[43mvalue\u001b[49m\u001b[43m)\u001b[49m\n",
      "File \u001b[0;32m/workspace/armory/instrument/instrument.py:357\u001b[0m, in \u001b[0;36mHub.update\u001b[0;34m(self, probe_variable, value)\u001b[0m\n\u001b[1;32m    355\u001b[0m     \u001b[38;5;28;01mraise\u001b[39;00m \u001b[38;5;167;01mValueError\u001b[39;00m(\u001b[38;5;124m\"\u001b[39m\u001b[38;5;124mNo meters are measuring\u001b[39m\u001b[38;5;124m\"\u001b[39m)\n\u001b[1;32m    356\u001b[0m \u001b[38;5;28;01mfor\u001b[39;00m meter, arg \u001b[38;5;129;01min\u001b[39;00m meters_args:\n\u001b[0;32m--> 357\u001b[0m     \u001b[43mmeter\u001b[49m\u001b[38;5;241;43m.\u001b[39;49m\u001b[43mset\u001b[49m\u001b[43m(\u001b[49m\u001b[43marg\u001b[49m\u001b[43m,\u001b[49m\u001b[43m \u001b[49m\u001b[43mvalue\u001b[49m\u001b[43m,\u001b[49m\u001b[43m \u001b[49m\u001b[38;5;28;43mself\u001b[39;49m\u001b[38;5;241;43m.\u001b[39;49m\u001b[43mcontext\u001b[49m\u001b[43m[\u001b[49m\u001b[38;5;124;43m\"\u001b[39;49m\u001b[38;5;124;43mbatch\u001b[39;49m\u001b[38;5;124;43m\"\u001b[39;49m\u001b[43m]\u001b[49m\u001b[43m)\u001b[49m\n",
      "File \u001b[0;32m/workspace/armory/instrument/instrument.py:549\u001b[0m, in \u001b[0;36mMeter.set\u001b[0;34m(self, name, value, batch)\u001b[0m\n\u001b[1;32m    547\u001b[0m \u001b[38;5;28mself\u001b[39m\u001b[38;5;241m.\u001b[39marg_batch_indices[i] \u001b[38;5;241m=\u001b[39m batch\n\u001b[1;32m    548\u001b[0m \u001b[38;5;28;01mif\u001b[39;00m \u001b[38;5;28mself\u001b[39m\u001b[38;5;241m.\u001b[39mauto_measure \u001b[38;5;129;01mand\u001b[39;00m \u001b[38;5;28mself\u001b[39m\u001b[38;5;241m.\u001b[39mis_ready():\n\u001b[0;32m--> 549\u001b[0m     \u001b[38;5;28;43mself\u001b[39;49m\u001b[38;5;241;43m.\u001b[39;49m\u001b[43mmeasure\u001b[49m\u001b[43m(\u001b[49m\u001b[43m)\u001b[49m\n",
      "File \u001b[0;32m/workspace/armory/instrument/instrument.py:570\u001b[0m, in \u001b[0;36mMeter.measure\u001b[0;34m(self, clear_values)\u001b[0m\n\u001b[1;32m    568\u001b[0m \u001b[38;5;28;01mdef\u001b[39;00m \u001b[38;5;21mmeasure\u001b[39m(\u001b[38;5;28mself\u001b[39m, clear_values\u001b[38;5;241m=\u001b[39m\u001b[38;5;28;01mTrue\u001b[39;00m):\n\u001b[1;32m    569\u001b[0m     \u001b[38;5;28mself\u001b[39m\u001b[38;5;241m.\u001b[39mis_ready(raise_error\u001b[38;5;241m=\u001b[39m\u001b[38;5;28;01mTrue\u001b[39;00m)\n\u001b[0;32m--> 570\u001b[0m     result \u001b[38;5;241m=\u001b[39m \u001b[38;5;28;43mself\u001b[39;49m\u001b[38;5;241;43m.\u001b[39;49m\u001b[43mmetric\u001b[49m\u001b[43m(\u001b[49m\u001b[38;5;241;43m*\u001b[39;49m\u001b[38;5;28;43mself\u001b[39;49m\u001b[38;5;241;43m.\u001b[39;49m\u001b[43mvalues\u001b[49m\u001b[43m,\u001b[49m\u001b[43m \u001b[49m\u001b[38;5;241;43m*\u001b[39;49m\u001b[38;5;241;43m*\u001b[39;49m\u001b[38;5;28;43mself\u001b[39;49m\u001b[38;5;241;43m.\u001b[39;49m\u001b[43mmetric_kwargs\u001b[49m\u001b[43m)\u001b[49m\n\u001b[1;32m    571\u001b[0m     record \u001b[38;5;241m=\u001b[39m (\u001b[38;5;28mself\u001b[39m\u001b[38;5;241m.\u001b[39mname, \u001b[38;5;28mself\u001b[39m\u001b[38;5;241m.\u001b[39marg_batch_indices[\u001b[38;5;241m0\u001b[39m], result)\n\u001b[1;32m    572\u001b[0m     \u001b[38;5;66;03m# Assume metric is sample-wise, but computed on a batch of samples\u001b[39;00m\n",
      "File \u001b[0;32m/workspace/armory/metrics/task.py:882\u001b[0m, in \u001b[0;36mobject_detection_mAP_tide\u001b[0;34m(y_list, y_pred_list, iou_threshold, class_list)\u001b[0m\n\u001b[1;32m    865\u001b[0m \u001b[38;5;124;03m\"\"\"\u001b[39;00m\n\u001b[1;32m    866\u001b[0m \u001b[38;5;124;03mMean average precision for object detection.\u001b[39;00m\n\u001b[1;32m    867\u001b[0m \n\u001b[0;32m   (...)\u001b[0m\n\u001b[1;32m    877\u001b[0m \u001b[38;5;124;03mreturns: a scalar value\u001b[39;00m\n\u001b[1;32m    878\u001b[0m \u001b[38;5;124;03m\"\"\"\u001b[39;00m\n\u001b[1;32m    880\u001b[0m \u001b[38;5;66;03m# data_ground_truth = tidecv.data.Data(name=\"ground_truth\")\u001b[39;00m\n\u001b[1;32m    881\u001b[0m \u001b[38;5;66;03m# data_detection = tidecv.data.Data(name=\"detection\")\u001b[39;00m\n\u001b[0;32m--> 882\u001b[0m data_ground_truth \u001b[38;5;241m=\u001b[39m \u001b[43marmory_to_tide_ground_truth\u001b[49m\u001b[43m(\u001b[49m\u001b[43my_list\u001b[49m\u001b[43m)\u001b[49m\n\u001b[1;32m    883\u001b[0m \u001b[38;5;66;03m# data_detection = armory_to_tide_detection(y_pred_list, image_id)\u001b[39;00m\n\u001b[1;32m    885\u001b[0m ap_per_class \u001b[38;5;241m=\u001b[39m object_detection_AP_per_class(\n\u001b[1;32m    886\u001b[0m     y_list, y_pred_list, iou_threshold\u001b[38;5;241m=\u001b[39miou_threshold, class_list\u001b[38;5;241m=\u001b[39mclass_list\n\u001b[1;32m    887\u001b[0m )\n",
      "File \u001b[0;32m/workspace/armory/metrics/task.py:825\u001b[0m, in \u001b[0;36marmory_to_tide_ground_truth\u001b[0;34m(y_dict)\u001b[0m\n\u001b[1;32m    823\u001b[0m \u001b[38;5;28;01mdef\u001b[39;00m \u001b[38;5;21marmory_to_tide_ground_truth\u001b[39m(y_dict):\n\u001b[1;32m    824\u001b[0m     data_ground_truth \u001b[38;5;241m=\u001b[39m tidecv\u001b[38;5;241m.\u001b[39mdata\u001b[38;5;241m.\u001b[39mData(name\u001b[38;5;241m=\u001b[39m\u001b[38;5;124m\"\u001b[39m\u001b[38;5;124mground_truth\u001b[39m\u001b[38;5;124m\"\u001b[39m)\n\u001b[0;32m--> 825\u001b[0m     \u001b[38;5;28;01mfor\u001b[39;00m y \u001b[38;5;129;01min\u001b[39;00m [\u001b[38;5;28mdict\u001b[39m(\u001b[38;5;28mzip\u001b[39m(y_dict, t)) \u001b[38;5;28;01mfor\u001b[39;00m t \u001b[38;5;129;01min\u001b[39;00m \u001b[38;5;28mzip\u001b[39m(\u001b[38;5;241m*\u001b[39m\u001b[43my_dict\u001b[49m\u001b[38;5;241;43m.\u001b[39;49m\u001b[43mvalues\u001b[49m())]:\n\u001b[1;32m    826\u001b[0m         x1, y1, x2, y2 \u001b[38;5;241m=\u001b[39m y[\u001b[38;5;124m\"\u001b[39m\u001b[38;5;124mboxes\u001b[39m\u001b[38;5;124m\"\u001b[39m]\n\u001b[1;32m    827\u001b[0m         width \u001b[38;5;241m=\u001b[39m \u001b[38;5;28mabs\u001b[39m(x1 \u001b[38;5;241m-\u001b[39m x2)\n",
      "\u001b[0;31mAttributeError\u001b[0m: 'list' object has no attribute 'values'"
     ]
    }
   ],
   "source": [
    "s.load_attack()\n",
    "s.next()\n",
    "s.run_attack()"
   ]
  },
  {
   "cell_type": "code",
   "execution_count": 1,
   "id": "1ea332f4-a73f-4137-acf0-a9fab69b05dc",
   "metadata": {},
   "outputs": [
    {
     "name": "stdout",
     "output_type": "stream",
     "text": [
      "2022-11-07 21:10:00  0s \u001b[1mINFO    \u001b[0m \u001b[36marmory.delayed_imports\u001b[0m:\u001b[36m<module>\u001b[0m:\u001b[36m7\u001b[0m Importing and configuring torch, tensorflow, and art, if available. This may take some time.\n",
      "2022-11-07 21:10:02  2s \u001b[1mINFO    \u001b[0m \u001b[36marmory.delayed_imports\u001b[0m:\u001b[36m<module>\u001b[0m:\u001b[36m30\u001b[0m Setting tf.config.experimental.set_memory_growth to True on all GPUs\n",
      "2022-11-07 21:10:02  2s \u001b[1mINFO    \u001b[0m \u001b[36mart.config\u001b[0m:\u001b[36mset_data_path\u001b[0m:\u001b[36m55\u001b[0m set ART_DATA_PATH to /tmp/.art/data\n",
      "2022-11-07 21:10:03  2s \u001b[1mINFO    \u001b[0m \u001b[36mart.config\u001b[0m:\u001b[36mset_data_path\u001b[0m:\u001b[36m55\u001b[0m set ART_DATA_PATH to /armory/saved_models/art\n",
      "2022-11-07 21:10:03  3s \u001b[1mINFO    \u001b[0m \u001b[36marmory.scenarios.main\u001b[0m:\u001b[36m_scenario_setup\u001b[0m:\u001b[36m37\u001b[0m this repo is being updated\n",
      "2022-11-07 21:10:03  3s \u001b[31m\u001b[1mERROR   \u001b[0m \u001b[36marmory.scenarios.main\u001b[0m:\u001b[36m_scenario_setup\u001b[0m:\u001b[36m42\u001b[0m eval_id not in config. Inserting current timestamp 1667855403.7905786\n",
      "2022-11-07 21:10:03  3s \u001b[1mINFO    \u001b[0m \u001b[36marmory.scenarios.main\u001b[0m:\u001b[36m_scenario_setup\u001b[0m:\u001b[36m50\u001b[0m armory outputs and logs will be written to /armory/outputs/1667855403.7905786\n",
      "2022-11-07 21:10:04  3s \u001b[1mINFO    \u001b[0m \u001b[36marmory.data.utils\u001b[0m:\u001b[36mmaybe_download_weights_from_s3\u001b[0m:\u001b[36m47\u001b[0m Using available carla_rgb_weights_eval5.pt in Armory `saved_model_dir`\n",
      "2022-11-07 21:10:08  7s \u001b[1mINFO    \u001b[0m \u001b[36marmory.scenarios.scenario\u001b[0m:\u001b[36mload_dataset\u001b[0m:\u001b[36m205\u001b[0m Loading test dataset carla_obj_det_dev...\n"
     ]
    }
   ],
   "source": [
    "# add print statement for y_list\n",
    "# updated config file to:\n",
    "# s.config[\"attack\"][\"kwargs\"][\"max_iter\"] = 5\n",
    "# s.config[\"metric\"][\"record_metric_per_sample\"] = True\n",
    "# s.config[\"scenario\"][\"export_batches\"] = True\n",
    "\n",
    "from armory.scenarios.main import get as get_scenario # restarted kernel\n",
    "\n",
    "s = get_scenario(\n",
    "    \"/armory/tmp/2022-11-03T180812.020999/carla_obj_det_adversarialpatch_undefended.json\",\n",
    "    num_eval_batches=1,\n",
    ").load()"
   ]
  },
  {
   "cell_type": "code",
   "execution_count": 2,
   "id": "edc048a3-a72f-435c-9b63-2db25ba6b7de",
   "metadata": {},
   "outputs": [
    {
     "data": {
      "application/vnd.jupyter.widget-view+json": {
       "model_id": "0d1a7ee13b5d454ba8cbf19407e4316d",
       "version_major": 2,
       "version_minor": 0
      },
      "text/plain": [
       "Adversarial Patch PyTorch:   0%|          | 0/5 [00:00<?, ?it/s]"
      ]
     },
     "metadata": {},
     "output_type": "display_data"
    },
    {
     "name": "stderr",
     "output_type": "stream",
     "text": [
      "/opt/conda/lib/python3.8/site-packages/torchvision/transforms/functional.py:404: UserWarning: Argument interpolation should be of type InterpolationMode instead of int. Please, use InterpolationMode enum.\n",
      "  warnings.warn(\n",
      "/opt/conda/lib/python3.8/site-packages/torchvision/transforms/functional.py:654: UserWarning: Argument interpolation should be of type InterpolationMode instead of int. Please, use InterpolationMode enum.\n",
      "  warnings.warn(\n",
      "/opt/conda/lib/python3.8/site-packages/torch/functional.py:445: UserWarning: torch.meshgrid: in an upcoming release, it will be required to pass the indexing argument. (Triggered internally at  /opt/conda/conda-bld/pytorch_1640811806235/work/aten/src/ATen/native/TensorShape.cpp:2157.)\n",
      "  return _VF.meshgrid(tensors, **kwargs)  # type: ignore[attr-defined]\n"
     ]
    },
    {
     "name": "stdout",
     "output_type": "stream",
     "text": [
      "2022-11-07 21:10:11 10s \u001b[32m\u001b[1mSUCCESS \u001b[0m \u001b[36marmory.instrument.config\u001b[0m:\u001b[36m_write\u001b[0m:\u001b[36m224\u001b[0m adversarial_carla_od_disappearance_rate on adversarial examples w.r.t. ground truth labels: 40.00%\n",
      "2022-11-07 21:10:11 10s \u001b[32m\u001b[1mSUCCESS \u001b[0m \u001b[36marmory.instrument.config\u001b[0m:\u001b[36m_write\u001b[0m:\u001b[36m224\u001b[0m adversarial_carla_od_hallucinations_per_image on adversarial examples w.r.t. ground truth labels: 5.0\n",
      "2022-11-07 21:10:11 10s \u001b[32m\u001b[1mSUCCESS \u001b[0m \u001b[36marmory.instrument.config\u001b[0m:\u001b[36m_write\u001b[0m:\u001b[36m224\u001b[0m adversarial_carla_od_misclassification_rate on adversarial examples w.r.t. ground truth labels: 0.00%\n",
      "2022-11-07 21:10:11 10s \u001b[32m\u001b[1mSUCCESS \u001b[0m \u001b[36marmory.instrument.config\u001b[0m:\u001b[36m_write\u001b[0m:\u001b[36m224\u001b[0m adversarial_carla_od_true_positive_rate on adversarial examples w.r.t. ground truth labels: 60.00%\n",
      "[{'area': array([  936,   385,   433,   602,   313,  1930,   558,  1074, 54479,\n",
      "       11805]), 'boxes': array([[ 917.,  464.,  955.,  527.],\n",
      "       [ 911.,  468.,  940.,  517.],\n",
      "       [ 771.,  467.,  788.,  518.],\n",
      "       [ 820.,  466.,  849.,  521.],\n",
      "       [ 795.,  465.,  810.,  517.],\n",
      "       [1199.,  464., 1237.,  552.],\n",
      "       [ 787.,  465.,  807.,  522.],\n",
      "       [1037.,  460., 1069.,  533.],\n",
      "       [   0.,  427.,  369.,  641.],\n",
      "       [ 346.,  478.,  523.,  582.]], dtype=float32), 'id': array([ 97,  98,  99, 100, 101, 102, 103, 105, 106, 109]), 'image_id': array([84190894, 84190894, 84190894, 84190894, 84190894, 84190894,\n",
      "       84190894, 84190894, 84190894, 84190894]), 'is_crowd': array([False,  True, False, False,  True, False, False, False, False,\n",
      "       False]), 'labels': array([1, 1, 1, 1, 1, 1, 1, 1, 2, 2])}]\n"
     ]
    },
    {
     "ename": "AttributeError",
     "evalue": "'list' object has no attribute 'values'",
     "output_type": "error",
     "traceback": [
      "\u001b[0;31m\u001b[0m",
      "\u001b[0;31mAttributeError\u001b[0mTraceback (most recent call last)",
      "Input \u001b[0;32mIn [2]\u001b[0m, in \u001b[0;36m<cell line: 3>\u001b[0;34m()\u001b[0m\n\u001b[1;32m      1\u001b[0m s\u001b[38;5;241m.\u001b[39mload_attack()\n\u001b[1;32m      2\u001b[0m s\u001b[38;5;241m.\u001b[39mnext()\n\u001b[0;32m----> 3\u001b[0m \u001b[43ms\u001b[49m\u001b[38;5;241;43m.\u001b[39;49m\u001b[43mrun_attack\u001b[49m\u001b[43m(\u001b[49m\u001b[43m)\u001b[49m\n",
      "File \u001b[0;32m/workspace/armory/scenarios/carla_object_detection.py:64\u001b[0m, in \u001b[0;36mCarlaObjectDetectionTask.run_attack\u001b[0;34m(self)\u001b[0m\n\u001b[1;32m     61\u001b[0m x_adv\u001b[38;5;241m.\u001b[39mflags\u001b[38;5;241m.\u001b[39mwriteable \u001b[38;5;241m=\u001b[39m \u001b[38;5;28;01mFalse\u001b[39;00m\n\u001b[1;32m     62\u001b[0m y_pred_adv \u001b[38;5;241m=\u001b[39m \u001b[38;5;28mself\u001b[39m\u001b[38;5;241m.\u001b[39mmodel\u001b[38;5;241m.\u001b[39mpredict(x_adv, \u001b[38;5;241m*\u001b[39m\u001b[38;5;241m*\u001b[39m\u001b[38;5;28mself\u001b[39m\u001b[38;5;241m.\u001b[39mpredict_kwargs)\n\u001b[0;32m---> 64\u001b[0m \u001b[38;5;28;43mself\u001b[39;49m\u001b[38;5;241;43m.\u001b[39;49m\u001b[43mprobe\u001b[49m\u001b[38;5;241;43m.\u001b[39;49m\u001b[43mupdate\u001b[49m\u001b[43m(\u001b[49m\u001b[43mx_adv\u001b[49m\u001b[38;5;241;43m=\u001b[39;49m\u001b[43mx_adv\u001b[49m\u001b[43m,\u001b[49m\u001b[43m \u001b[49m\u001b[43my_pred_adv\u001b[49m\u001b[38;5;241;43m=\u001b[39;49m\u001b[43my_pred_adv\u001b[49m\u001b[43m)\u001b[49m\n\u001b[1;32m     65\u001b[0m \u001b[38;5;28;01mif\u001b[39;00m \u001b[38;5;28mself\u001b[39m\u001b[38;5;241m.\u001b[39mtargeted:\n\u001b[1;32m     66\u001b[0m     \u001b[38;5;28mself\u001b[39m\u001b[38;5;241m.\u001b[39mprobe\u001b[38;5;241m.\u001b[39mupdate(y_target\u001b[38;5;241m=\u001b[39my_target)\n",
      "File \u001b[0;32m/workspace/armory/instrument/instrument.py:117\u001b[0m, in \u001b[0;36mProbe.update\u001b[0;34m(self, *preprocessing, **named_values)\u001b[0m\n\u001b[1;32m    115\u001b[0m     value \u001b[38;5;241m=\u001b[39m p(value)\n\u001b[1;32m    116\u001b[0m \u001b[38;5;66;03m# Push to sink\u001b[39;00m\n\u001b[0;32m--> 117\u001b[0m \u001b[38;5;28;43mself\u001b[39;49m\u001b[38;5;241;43m.\u001b[39;49m\u001b[43msink\u001b[49m\u001b[38;5;241;43m.\u001b[39;49m\u001b[43mupdate\u001b[49m\u001b[43m(\u001b[49m\u001b[43mname\u001b[49m\u001b[43m,\u001b[49m\u001b[43m \u001b[49m\u001b[43mvalue\u001b[49m\u001b[43m)\u001b[49m\n",
      "File \u001b[0;32m/workspace/armory/instrument/instrument.py:357\u001b[0m, in \u001b[0;36mHub.update\u001b[0;34m(self, probe_variable, value)\u001b[0m\n\u001b[1;32m    355\u001b[0m     \u001b[38;5;28;01mraise\u001b[39;00m \u001b[38;5;167;01mValueError\u001b[39;00m(\u001b[38;5;124m\"\u001b[39m\u001b[38;5;124mNo meters are measuring\u001b[39m\u001b[38;5;124m\"\u001b[39m)\n\u001b[1;32m    356\u001b[0m \u001b[38;5;28;01mfor\u001b[39;00m meter, arg \u001b[38;5;129;01min\u001b[39;00m meters_args:\n\u001b[0;32m--> 357\u001b[0m     \u001b[43mmeter\u001b[49m\u001b[38;5;241;43m.\u001b[39;49m\u001b[43mset\u001b[49m\u001b[43m(\u001b[49m\u001b[43marg\u001b[49m\u001b[43m,\u001b[49m\u001b[43m \u001b[49m\u001b[43mvalue\u001b[49m\u001b[43m,\u001b[49m\u001b[43m \u001b[49m\u001b[38;5;28;43mself\u001b[39;49m\u001b[38;5;241;43m.\u001b[39;49m\u001b[43mcontext\u001b[49m\u001b[43m[\u001b[49m\u001b[38;5;124;43m\"\u001b[39;49m\u001b[38;5;124;43mbatch\u001b[39;49m\u001b[38;5;124;43m\"\u001b[39;49m\u001b[43m]\u001b[49m\u001b[43m)\u001b[49m\n",
      "File \u001b[0;32m/workspace/armory/instrument/instrument.py:549\u001b[0m, in \u001b[0;36mMeter.set\u001b[0;34m(self, name, value, batch)\u001b[0m\n\u001b[1;32m    547\u001b[0m \u001b[38;5;28mself\u001b[39m\u001b[38;5;241m.\u001b[39marg_batch_indices[i] \u001b[38;5;241m=\u001b[39m batch\n\u001b[1;32m    548\u001b[0m \u001b[38;5;28;01mif\u001b[39;00m \u001b[38;5;28mself\u001b[39m\u001b[38;5;241m.\u001b[39mauto_measure \u001b[38;5;129;01mand\u001b[39;00m \u001b[38;5;28mself\u001b[39m\u001b[38;5;241m.\u001b[39mis_ready():\n\u001b[0;32m--> 549\u001b[0m     \u001b[38;5;28;43mself\u001b[39;49m\u001b[38;5;241;43m.\u001b[39;49m\u001b[43mmeasure\u001b[49m\u001b[43m(\u001b[49m\u001b[43m)\u001b[49m\n",
      "File \u001b[0;32m/workspace/armory/instrument/instrument.py:570\u001b[0m, in \u001b[0;36mMeter.measure\u001b[0;34m(self, clear_values)\u001b[0m\n\u001b[1;32m    568\u001b[0m \u001b[38;5;28;01mdef\u001b[39;00m \u001b[38;5;21mmeasure\u001b[39m(\u001b[38;5;28mself\u001b[39m, clear_values\u001b[38;5;241m=\u001b[39m\u001b[38;5;28;01mTrue\u001b[39;00m):\n\u001b[1;32m    569\u001b[0m     \u001b[38;5;28mself\u001b[39m\u001b[38;5;241m.\u001b[39mis_ready(raise_error\u001b[38;5;241m=\u001b[39m\u001b[38;5;28;01mTrue\u001b[39;00m)\n\u001b[0;32m--> 570\u001b[0m     result \u001b[38;5;241m=\u001b[39m \u001b[38;5;28;43mself\u001b[39;49m\u001b[38;5;241;43m.\u001b[39;49m\u001b[43mmetric\u001b[49m\u001b[43m(\u001b[49m\u001b[38;5;241;43m*\u001b[39;49m\u001b[38;5;28;43mself\u001b[39;49m\u001b[38;5;241;43m.\u001b[39;49m\u001b[43mvalues\u001b[49m\u001b[43m,\u001b[49m\u001b[43m \u001b[49m\u001b[38;5;241;43m*\u001b[39;49m\u001b[38;5;241;43m*\u001b[39;49m\u001b[38;5;28;43mself\u001b[39;49m\u001b[38;5;241;43m.\u001b[39;49m\u001b[43mmetric_kwargs\u001b[49m\u001b[43m)\u001b[49m\n\u001b[1;32m    571\u001b[0m     record \u001b[38;5;241m=\u001b[39m (\u001b[38;5;28mself\u001b[39m\u001b[38;5;241m.\u001b[39mname, \u001b[38;5;28mself\u001b[39m\u001b[38;5;241m.\u001b[39marg_batch_indices[\u001b[38;5;241m0\u001b[39m], result)\n\u001b[1;32m    572\u001b[0m     \u001b[38;5;66;03m# Assume metric is sample-wise, but computed on a batch of samples\u001b[39;00m\n",
      "File \u001b[0;32m/workspace/armory/metrics/task.py:883\u001b[0m, in \u001b[0;36mobject_detection_mAP_tide\u001b[0;34m(y_list, y_pred_list, iou_threshold, class_list)\u001b[0m\n\u001b[1;32m    880\u001b[0m \u001b[38;5;66;03m# data_ground_truth = tidecv.data.Data(name=\"ground_truth\")\u001b[39;00m\n\u001b[1;32m    881\u001b[0m \u001b[38;5;66;03m# data_detection = tidecv.data.Data(name=\"detection\")\u001b[39;00m\n\u001b[1;32m    882\u001b[0m \u001b[38;5;28mprint\u001b[39m(y_list)\n\u001b[0;32m--> 883\u001b[0m data_ground_truth \u001b[38;5;241m=\u001b[39m \u001b[43marmory_to_tide_ground_truth\u001b[49m\u001b[43m(\u001b[49m\u001b[43my_list\u001b[49m\u001b[43m)\u001b[49m\n\u001b[1;32m    884\u001b[0m \u001b[38;5;66;03m# data_detection = armory_to_tide_detection(y_pred_list, image_id)\u001b[39;00m\n\u001b[1;32m    886\u001b[0m ap_per_class \u001b[38;5;241m=\u001b[39m object_detection_AP_per_class(\n\u001b[1;32m    887\u001b[0m     y_list, y_pred_list, iou_threshold\u001b[38;5;241m=\u001b[39miou_threshold, class_list\u001b[38;5;241m=\u001b[39mclass_list\n\u001b[1;32m    888\u001b[0m )\n",
      "File \u001b[0;32m/workspace/armory/metrics/task.py:825\u001b[0m, in \u001b[0;36marmory_to_tide_ground_truth\u001b[0;34m(y_dict)\u001b[0m\n\u001b[1;32m    823\u001b[0m \u001b[38;5;28;01mdef\u001b[39;00m \u001b[38;5;21marmory_to_tide_ground_truth\u001b[39m(y_dict):\n\u001b[1;32m    824\u001b[0m     data_ground_truth \u001b[38;5;241m=\u001b[39m tidecv\u001b[38;5;241m.\u001b[39mdata\u001b[38;5;241m.\u001b[39mData(name\u001b[38;5;241m=\u001b[39m\u001b[38;5;124m\"\u001b[39m\u001b[38;5;124mground_truth\u001b[39m\u001b[38;5;124m\"\u001b[39m)\n\u001b[0;32m--> 825\u001b[0m     \u001b[38;5;28;01mfor\u001b[39;00m y \u001b[38;5;129;01min\u001b[39;00m [\u001b[38;5;28mdict\u001b[39m(\u001b[38;5;28mzip\u001b[39m(y_dict, t)) \u001b[38;5;28;01mfor\u001b[39;00m t \u001b[38;5;129;01min\u001b[39;00m \u001b[38;5;28mzip\u001b[39m(\u001b[38;5;241m*\u001b[39m\u001b[43my_dict\u001b[49m\u001b[38;5;241;43m.\u001b[39;49m\u001b[43mvalues\u001b[49m())]:\n\u001b[1;32m    826\u001b[0m         x1, y1, x2, y2 \u001b[38;5;241m=\u001b[39m y[\u001b[38;5;124m\"\u001b[39m\u001b[38;5;124mboxes\u001b[39m\u001b[38;5;124m\"\u001b[39m]\n\u001b[1;32m    827\u001b[0m         width \u001b[38;5;241m=\u001b[39m \u001b[38;5;28mabs\u001b[39m(x1 \u001b[38;5;241m-\u001b[39m x2)\n",
      "\u001b[0;31mAttributeError\u001b[0m: 'list' object has no attribute 'values'"
     ]
    }
   ],
   "source": [
    "s.load_attack()\n",
    "s.next()\n",
    "s.run_attack()"
   ]
  },
  {
   "cell_type": "markdown",
   "id": "b710ca06-d237-43d0-8602-ad1f95cb4b6d",
   "metadata": {},
   "source": [
    "passing first element of `y_list` and `y_pred_list` as before, which both contain `dict` and calling both `armory_to_tide_ground_truth` and `armory_to_tide_detection`"
   ]
  },
  {
   "cell_type": "code",
   "execution_count": 1,
   "id": "a0d060f8-b83b-494b-bd3a-b090c1aae160",
   "metadata": {},
   "outputs": [
    {
     "name": "stdout",
     "output_type": "stream",
     "text": [
      "2022-11-07 21:13:06  0s \u001b[1mINFO    \u001b[0m \u001b[36marmory.delayed_imports\u001b[0m:\u001b[36m<module>\u001b[0m:\u001b[36m7\u001b[0m Importing and configuring torch, tensorflow, and art, if available. This may take some time.\n",
      "2022-11-07 21:13:08  2s \u001b[1mINFO    \u001b[0m \u001b[36marmory.delayed_imports\u001b[0m:\u001b[36m<module>\u001b[0m:\u001b[36m30\u001b[0m Setting tf.config.experimental.set_memory_growth to True on all GPUs\n",
      "2022-11-07 21:13:08  2s \u001b[1mINFO    \u001b[0m \u001b[36mart.config\u001b[0m:\u001b[36mset_data_path\u001b[0m:\u001b[36m55\u001b[0m set ART_DATA_PATH to /tmp/.art/data\n",
      "2022-11-07 21:13:09  3s \u001b[1mINFO    \u001b[0m \u001b[36mart.config\u001b[0m:\u001b[36mset_data_path\u001b[0m:\u001b[36m55\u001b[0m set ART_DATA_PATH to /armory/saved_models/art\n",
      "2022-11-07 21:13:09  3s \u001b[1mINFO    \u001b[0m \u001b[36marmory.scenarios.main\u001b[0m:\u001b[36m_scenario_setup\u001b[0m:\u001b[36m37\u001b[0m this repo is being updated\n",
      "2022-11-07 21:13:09  3s \u001b[31m\u001b[1mERROR   \u001b[0m \u001b[36marmory.scenarios.main\u001b[0m:\u001b[36m_scenario_setup\u001b[0m:\u001b[36m42\u001b[0m eval_id not in config. Inserting current timestamp 1667855589.9629729\n",
      "2022-11-07 21:13:09  3s \u001b[1mINFO    \u001b[0m \u001b[36marmory.scenarios.main\u001b[0m:\u001b[36m_scenario_setup\u001b[0m:\u001b[36m50\u001b[0m armory outputs and logs will be written to /armory/outputs/1667855589.9629729\n",
      "2022-11-07 21:13:10  4s \u001b[1mINFO    \u001b[0m \u001b[36marmory.data.utils\u001b[0m:\u001b[36mmaybe_download_weights_from_s3\u001b[0m:\u001b[36m47\u001b[0m Using available carla_rgb_weights_eval5.pt in Armory `saved_model_dir`\n",
      "2022-11-07 21:13:14  8s \u001b[1mINFO    \u001b[0m \u001b[36marmory.scenarios.scenario\u001b[0m:\u001b[36mload_dataset\u001b[0m:\u001b[36m205\u001b[0m Loading test dataset carla_obj_det_dev...\n"
     ]
    }
   ],
   "source": [
    "from armory.scenarios.main import get as get_scenario # restarted kernel\n",
    "\n",
    "s = get_scenario(\n",
    "    \"/armory/tmp/2022-11-03T180812.020999/carla_obj_det_adversarialpatch_undefended.json\",\n",
    "    num_eval_batches=1,\n",
    ").load()"
   ]
  },
  {
   "cell_type": "code",
   "execution_count": 2,
   "id": "35b156d8-a69b-4562-bceb-75f293f8cf2a",
   "metadata": {},
   "outputs": [
    {
     "data": {
      "application/vnd.jupyter.widget-view+json": {
       "model_id": "7abfac94241e4fc0800836a6e34a9089",
       "version_major": 2,
       "version_minor": 0
      },
      "text/plain": [
       "Adversarial Patch PyTorch:   0%|          | 0/5 [00:00<?, ?it/s]"
      ]
     },
     "metadata": {},
     "output_type": "display_data"
    },
    {
     "name": "stderr",
     "output_type": "stream",
     "text": [
      "/opt/conda/lib/python3.8/site-packages/torchvision/transforms/functional.py:404: UserWarning: Argument interpolation should be of type InterpolationMode instead of int. Please, use InterpolationMode enum.\n",
      "  warnings.warn(\n",
      "/opt/conda/lib/python3.8/site-packages/torchvision/transforms/functional.py:654: UserWarning: Argument interpolation should be of type InterpolationMode instead of int. Please, use InterpolationMode enum.\n",
      "  warnings.warn(\n",
      "/opt/conda/lib/python3.8/site-packages/torch/functional.py:445: UserWarning: torch.meshgrid: in an upcoming release, it will be required to pass the indexing argument. (Triggered internally at  /opt/conda/conda-bld/pytorch_1640811806235/work/aten/src/ATen/native/TensorShape.cpp:2157.)\n",
      "  return _VF.meshgrid(tensors, **kwargs)  # type: ignore[attr-defined]\n"
     ]
    },
    {
     "name": "stdout",
     "output_type": "stream",
     "text": [
      "2022-11-07 21:13:24 17s \u001b[32m\u001b[1mSUCCESS \u001b[0m \u001b[36marmory.instrument.config\u001b[0m:\u001b[36m_write\u001b[0m:\u001b[36m224\u001b[0m adversarial_carla_od_disappearance_rate on adversarial examples w.r.t. ground truth labels: 40.00%\n",
      "2022-11-07 21:13:24 17s \u001b[32m\u001b[1mSUCCESS \u001b[0m \u001b[36marmory.instrument.config\u001b[0m:\u001b[36m_write\u001b[0m:\u001b[36m224\u001b[0m adversarial_carla_od_hallucinations_per_image on adversarial examples w.r.t. ground truth labels: 8.0\n",
      "2022-11-07 21:13:24 17s \u001b[32m\u001b[1mSUCCESS \u001b[0m \u001b[36marmory.instrument.config\u001b[0m:\u001b[36m_write\u001b[0m:\u001b[36m224\u001b[0m adversarial_carla_od_misclassification_rate on adversarial examples w.r.t. ground truth labels: 0.00%\n",
      "2022-11-07 21:13:24 17s \u001b[32m\u001b[1mSUCCESS \u001b[0m \u001b[36marmory.instrument.config\u001b[0m:\u001b[36m_write\u001b[0m:\u001b[36m224\u001b[0m adversarial_carla_od_true_positive_rate on adversarial examples w.r.t. ground truth labels: 60.00%\n",
      "2022-11-07 21:13:24 17s \u001b[32m\u001b[1mSUCCESS \u001b[0m \u001b[36marmory.instrument.config\u001b[0m:\u001b[36m_write\u001b[0m:\u001b[36m224\u001b[0m adversarial_object_detection_mAP_tide on adversarial examples w.r.t. ground truth labels: 66.50%\n"
     ]
    }
   ],
   "source": [
    "# ran without issues\n",
    "s.load_attack()\n",
    "s.next()\n",
    "s.run_attack()"
   ]
  },
  {
   "cell_type": "markdown",
   "id": "d5d2820a-cca7-4940-b7d6-172a4fddc105",
   "metadata": {
    "jp-MarkdownHeadingCollapsed": true,
    "tags": []
   },
   "source": [
    "### Evaluate TIDE Metrics"
   ]
  },
  {
   "cell_type": "markdown",
   "id": "592b68b3-31bc-4008-8273-6e4b70dc65f5",
   "metadata": {},
   "source": [
    "returning `TIDE` class"
   ]
  },
  {
   "cell_type": "code",
   "execution_count": 1,
   "id": "27b89b65-c3fc-4d68-aa06-4e110c58bc2d",
   "metadata": {},
   "outputs": [
    {
     "name": "stdout",
     "output_type": "stream",
     "text": [
      "2022-11-07 21:15:53  0s \u001b[1mINFO    \u001b[0m \u001b[36marmory.delayed_imports\u001b[0m:\u001b[36m<module>\u001b[0m:\u001b[36m7\u001b[0m Importing and configuring torch, tensorflow, and art, if available. This may take some time.\n",
      "2022-11-07 21:15:55  2s \u001b[1mINFO    \u001b[0m \u001b[36marmory.delayed_imports\u001b[0m:\u001b[36m<module>\u001b[0m:\u001b[36m30\u001b[0m Setting tf.config.experimental.set_memory_growth to True on all GPUs\n",
      "2022-11-07 21:15:55  2s \u001b[1mINFO    \u001b[0m \u001b[36mart.config\u001b[0m:\u001b[36mset_data_path\u001b[0m:\u001b[36m55\u001b[0m set ART_DATA_PATH to /tmp/.art/data\n",
      "2022-11-07 21:15:56  2s \u001b[1mINFO    \u001b[0m \u001b[36mart.config\u001b[0m:\u001b[36mset_data_path\u001b[0m:\u001b[36m55\u001b[0m set ART_DATA_PATH to /armory/saved_models/art\n",
      "2022-11-07 21:15:56  3s \u001b[1mINFO    \u001b[0m \u001b[36marmory.scenarios.main\u001b[0m:\u001b[36m_scenario_setup\u001b[0m:\u001b[36m37\u001b[0m this repo is being updated\n",
      "2022-11-07 21:15:56  3s \u001b[31m\u001b[1mERROR   \u001b[0m \u001b[36marmory.scenarios.main\u001b[0m:\u001b[36m_scenario_setup\u001b[0m:\u001b[36m42\u001b[0m eval_id not in config. Inserting current timestamp 1667855756.469977\n",
      "2022-11-07 21:15:56  3s \u001b[1mINFO    \u001b[0m \u001b[36marmory.scenarios.main\u001b[0m:\u001b[36m_scenario_setup\u001b[0m:\u001b[36m50\u001b[0m armory outputs and logs will be written to /armory/outputs/1667855756.469977\n",
      "2022-11-07 21:15:57  3s \u001b[1mINFO    \u001b[0m \u001b[36marmory.data.utils\u001b[0m:\u001b[36mmaybe_download_weights_from_s3\u001b[0m:\u001b[36m47\u001b[0m Using available carla_rgb_weights_eval5.pt in Armory `saved_model_dir`\n",
      "2022-11-07 21:16:00  7s \u001b[1mINFO    \u001b[0m \u001b[36marmory.scenarios.scenario\u001b[0m:\u001b[36mload_dataset\u001b[0m:\u001b[36m205\u001b[0m Loading test dataset carla_obj_det_dev...\n"
     ]
    }
   ],
   "source": [
    "from armory.scenarios.main import get as get_scenario # restarted kernel\n",
    "\n",
    "s = get_scenario(\n",
    "    \"/armory/tmp/2022-11-03T180812.020999/carla_obj_det_adversarialpatch_undefended.json\",\n",
    "    num_eval_batches=1,\n",
    ").load()"
   ]
  },
  {
   "cell_type": "code",
   "execution_count": 2,
   "id": "e285c56d-539f-4873-a126-95b992de7a72",
   "metadata": {},
   "outputs": [
    {
     "data": {
      "application/vnd.jupyter.widget-view+json": {
       "model_id": "83bf9cbecd6f49ffa0c04305048be3cb",
       "version_major": 2,
       "version_minor": 0
      },
      "text/plain": [
       "Adversarial Patch PyTorch:   0%|          | 0/5 [00:00<?, ?it/s]"
      ]
     },
     "metadata": {},
     "output_type": "display_data"
    },
    {
     "name": "stderr",
     "output_type": "stream",
     "text": [
      "/opt/conda/lib/python3.8/site-packages/torchvision/transforms/functional.py:404: UserWarning: Argument interpolation should be of type InterpolationMode instead of int. Please, use InterpolationMode enum.\n",
      "  warnings.warn(\n",
      "/opt/conda/lib/python3.8/site-packages/torchvision/transforms/functional.py:654: UserWarning: Argument interpolation should be of type InterpolationMode instead of int. Please, use InterpolationMode enum.\n",
      "  warnings.warn(\n",
      "/opt/conda/lib/python3.8/site-packages/torch/functional.py:445: UserWarning: torch.meshgrid: in an upcoming release, it will be required to pass the indexing argument. (Triggered internally at  /opt/conda/conda-bld/pytorch_1640811806235/work/aten/src/ATen/native/TensorShape.cpp:2157.)\n",
      "  return _VF.meshgrid(tensors, **kwargs)  # type: ignore[attr-defined]\n"
     ]
    },
    {
     "name": "stdout",
     "output_type": "stream",
     "text": [
      "2022-11-07 21:16:07 14s \u001b[32m\u001b[1mSUCCESS \u001b[0m \u001b[36marmory.instrument.config\u001b[0m:\u001b[36m_write\u001b[0m:\u001b[36m224\u001b[0m adversarial_carla_od_disappearance_rate on adversarial examples w.r.t. ground truth labels: 40.00%\n",
      "2022-11-07 21:16:07 14s \u001b[32m\u001b[1mSUCCESS \u001b[0m \u001b[36marmory.instrument.config\u001b[0m:\u001b[36m_write\u001b[0m:\u001b[36m224\u001b[0m adversarial_carla_od_hallucinations_per_image on adversarial examples w.r.t. ground truth labels: 9.0\n",
      "2022-11-07 21:16:07 14s \u001b[32m\u001b[1mSUCCESS \u001b[0m \u001b[36marmory.instrument.config\u001b[0m:\u001b[36m_write\u001b[0m:\u001b[36m224\u001b[0m adversarial_carla_od_misclassification_rate on adversarial examples w.r.t. ground truth labels: 0.00%\n",
      "2022-11-07 21:16:07 14s \u001b[32m\u001b[1mSUCCESS \u001b[0m \u001b[36marmory.instrument.config\u001b[0m:\u001b[36m_write\u001b[0m:\u001b[36m224\u001b[0m adversarial_carla_od_true_positive_rate on adversarial examples w.r.t. ground truth labels: 60.00%\n"
     ]
    },
    {
     "ename": "TypeError",
     "evalue": "unsupported operand type(s) for /: 'TIDE' and 'int'",
     "output_type": "error",
     "traceback": [
      "\u001b[0;31m\u001b[0m",
      "\u001b[0;31mTypeError\u001b[0mTraceback (most recent call last)",
      "Input \u001b[0;32mIn [2]\u001b[0m, in \u001b[0;36m<cell line: 4>\u001b[0;34m()\u001b[0m\n\u001b[1;32m      2\u001b[0m s\u001b[38;5;241m.\u001b[39mload_attack()\n\u001b[1;32m      3\u001b[0m s\u001b[38;5;241m.\u001b[39mnext()\n\u001b[0;32m----> 4\u001b[0m \u001b[43ms\u001b[49m\u001b[38;5;241;43m.\u001b[39;49m\u001b[43mrun_attack\u001b[49m\u001b[43m(\u001b[49m\u001b[43m)\u001b[49m\n",
      "File \u001b[0;32m/workspace/armory/scenarios/carla_object_detection.py:64\u001b[0m, in \u001b[0;36mCarlaObjectDetectionTask.run_attack\u001b[0;34m(self)\u001b[0m\n\u001b[1;32m     61\u001b[0m x_adv\u001b[38;5;241m.\u001b[39mflags\u001b[38;5;241m.\u001b[39mwriteable \u001b[38;5;241m=\u001b[39m \u001b[38;5;28;01mFalse\u001b[39;00m\n\u001b[1;32m     62\u001b[0m y_pred_adv \u001b[38;5;241m=\u001b[39m \u001b[38;5;28mself\u001b[39m\u001b[38;5;241m.\u001b[39mmodel\u001b[38;5;241m.\u001b[39mpredict(x_adv, \u001b[38;5;241m*\u001b[39m\u001b[38;5;241m*\u001b[39m\u001b[38;5;28mself\u001b[39m\u001b[38;5;241m.\u001b[39mpredict_kwargs)\n\u001b[0;32m---> 64\u001b[0m \u001b[38;5;28;43mself\u001b[39;49m\u001b[38;5;241;43m.\u001b[39;49m\u001b[43mprobe\u001b[49m\u001b[38;5;241;43m.\u001b[39;49m\u001b[43mupdate\u001b[49m\u001b[43m(\u001b[49m\u001b[43mx_adv\u001b[49m\u001b[38;5;241;43m=\u001b[39;49m\u001b[43mx_adv\u001b[49m\u001b[43m,\u001b[49m\u001b[43m \u001b[49m\u001b[43my_pred_adv\u001b[49m\u001b[38;5;241;43m=\u001b[39;49m\u001b[43my_pred_adv\u001b[49m\u001b[43m)\u001b[49m\n\u001b[1;32m     65\u001b[0m \u001b[38;5;28;01mif\u001b[39;00m \u001b[38;5;28mself\u001b[39m\u001b[38;5;241m.\u001b[39mtargeted:\n\u001b[1;32m     66\u001b[0m     \u001b[38;5;28mself\u001b[39m\u001b[38;5;241m.\u001b[39mprobe\u001b[38;5;241m.\u001b[39mupdate(y_target\u001b[38;5;241m=\u001b[39my_target)\n",
      "File \u001b[0;32m/workspace/armory/instrument/instrument.py:117\u001b[0m, in \u001b[0;36mProbe.update\u001b[0;34m(self, *preprocessing, **named_values)\u001b[0m\n\u001b[1;32m    115\u001b[0m     value \u001b[38;5;241m=\u001b[39m p(value)\n\u001b[1;32m    116\u001b[0m \u001b[38;5;66;03m# Push to sink\u001b[39;00m\n\u001b[0;32m--> 117\u001b[0m \u001b[38;5;28;43mself\u001b[39;49m\u001b[38;5;241;43m.\u001b[39;49m\u001b[43msink\u001b[49m\u001b[38;5;241;43m.\u001b[39;49m\u001b[43mupdate\u001b[49m\u001b[43m(\u001b[49m\u001b[43mname\u001b[49m\u001b[43m,\u001b[49m\u001b[43m \u001b[49m\u001b[43mvalue\u001b[49m\u001b[43m)\u001b[49m\n",
      "File \u001b[0;32m/workspace/armory/instrument/instrument.py:357\u001b[0m, in \u001b[0;36mHub.update\u001b[0;34m(self, probe_variable, value)\u001b[0m\n\u001b[1;32m    355\u001b[0m     \u001b[38;5;28;01mraise\u001b[39;00m \u001b[38;5;167;01mValueError\u001b[39;00m(\u001b[38;5;124m\"\u001b[39m\u001b[38;5;124mNo meters are measuring\u001b[39m\u001b[38;5;124m\"\u001b[39m)\n\u001b[1;32m    356\u001b[0m \u001b[38;5;28;01mfor\u001b[39;00m meter, arg \u001b[38;5;129;01min\u001b[39;00m meters_args:\n\u001b[0;32m--> 357\u001b[0m     \u001b[43mmeter\u001b[49m\u001b[38;5;241;43m.\u001b[39;49m\u001b[43mset\u001b[49m\u001b[43m(\u001b[49m\u001b[43marg\u001b[49m\u001b[43m,\u001b[49m\u001b[43m \u001b[49m\u001b[43mvalue\u001b[49m\u001b[43m,\u001b[49m\u001b[43m \u001b[49m\u001b[38;5;28;43mself\u001b[39;49m\u001b[38;5;241;43m.\u001b[39;49m\u001b[43mcontext\u001b[49m\u001b[43m[\u001b[49m\u001b[38;5;124;43m\"\u001b[39;49m\u001b[38;5;124;43mbatch\u001b[39;49m\u001b[38;5;124;43m\"\u001b[39;49m\u001b[43m]\u001b[49m\u001b[43m)\u001b[49m\n",
      "File \u001b[0;32m/workspace/armory/instrument/instrument.py:549\u001b[0m, in \u001b[0;36mMeter.set\u001b[0;34m(self, name, value, batch)\u001b[0m\n\u001b[1;32m    547\u001b[0m \u001b[38;5;28mself\u001b[39m\u001b[38;5;241m.\u001b[39marg_batch_indices[i] \u001b[38;5;241m=\u001b[39m batch\n\u001b[1;32m    548\u001b[0m \u001b[38;5;28;01mif\u001b[39;00m \u001b[38;5;28mself\u001b[39m\u001b[38;5;241m.\u001b[39mauto_measure \u001b[38;5;129;01mand\u001b[39;00m \u001b[38;5;28mself\u001b[39m\u001b[38;5;241m.\u001b[39mis_ready():\n\u001b[0;32m--> 549\u001b[0m     \u001b[38;5;28;43mself\u001b[39;49m\u001b[38;5;241;43m.\u001b[39;49m\u001b[43mmeasure\u001b[49m\u001b[43m(\u001b[49m\u001b[43m)\u001b[49m\n",
      "File \u001b[0;32m/workspace/armory/instrument/instrument.py:579\u001b[0m, in \u001b[0;36mMeter.measure\u001b[0;34m(self, clear_values)\u001b[0m\n\u001b[1;32m    577\u001b[0m \u001b[38;5;28;01mif\u001b[39;00m \u001b[38;5;129;01mnot\u001b[39;00m \u001b[38;5;28mself\u001b[39m\u001b[38;5;241m.\u001b[39mrecord_final_only:\n\u001b[1;32m    578\u001b[0m     \u001b[38;5;28;01mfor\u001b[39;00m writer \u001b[38;5;129;01min\u001b[39;00m \u001b[38;5;28mself\u001b[39m\u001b[38;5;241m.\u001b[39mwriters:\n\u001b[0;32m--> 579\u001b[0m         \u001b[43mwriter\u001b[49m\u001b[38;5;241;43m.\u001b[39;49m\u001b[43mwrite\u001b[49m\u001b[43m(\u001b[49m\u001b[43mrecord\u001b[49m\u001b[43m)\u001b[49m\n\u001b[1;32m    580\u001b[0m \u001b[38;5;28;01mif\u001b[39;00m clear_values:\n\u001b[1;32m    581\u001b[0m     \u001b[38;5;28mself\u001b[39m\u001b[38;5;241m.\u001b[39mclear()\n",
      "File \u001b[0;32m/workspace/armory/instrument/instrument.py:686\u001b[0m, in \u001b[0;36mWriter.write\u001b[0;34m(self, record)\u001b[0m\n\u001b[1;32m    684\u001b[0m     \u001b[38;5;28;01mraise\u001b[39;00m \u001b[38;5;167;01mValueError\u001b[39;00m(\u001b[38;5;124m\"\u001b[39m\u001b[38;5;124mCannot write to closed Writer\u001b[39m\u001b[38;5;124m\"\u001b[39m)\n\u001b[1;32m    685\u001b[0m name, batch, result \u001b[38;5;241m=\u001b[39m record\n\u001b[0;32m--> 686\u001b[0m \u001b[38;5;28;01mreturn\u001b[39;00m \u001b[38;5;28;43mself\u001b[39;49m\u001b[38;5;241;43m.\u001b[39;49m\u001b[43m_write\u001b[49m\u001b[43m(\u001b[49m\u001b[43mname\u001b[49m\u001b[43m,\u001b[49m\u001b[43m \u001b[49m\u001b[43mbatch\u001b[49m\u001b[43m,\u001b[49m\u001b[43m \u001b[49m\u001b[43mresult\u001b[49m\u001b[43m)\u001b[49m\n",
      "File \u001b[0;32m/workspace/armory/instrument/config.py:223\u001b[0m, in \u001b[0;36mResultsLogWriter._write\u001b[0;34m(self, name, batch, result)\u001b[0m\n\u001b[1;32m    221\u001b[0m     f_result \u001b[38;5;241m=\u001b[39m \u001b[38;5;124mf\u001b[39m\u001b[38;5;124m\"\u001b[39m\u001b[38;5;132;01m{\u001b[39;00mnp\u001b[38;5;241m.\u001b[39mmean(result)\u001b[38;5;132;01m:\u001b[39;00m\u001b[38;5;124m.2\u001b[39m\u001b[38;5;132;01m}\u001b[39;00m\u001b[38;5;124m\"\u001b[39m\n\u001b[1;32m    222\u001b[0m \u001b[38;5;28;01melse\u001b[39;00m:\n\u001b[0;32m--> 223\u001b[0m     f_result \u001b[38;5;241m=\u001b[39m \u001b[38;5;124mf\u001b[39m\u001b[38;5;124m\"\u001b[39m\u001b[38;5;132;01m{\u001b[39;00mnp\u001b[38;5;241m.\u001b[39mmean(result)\u001b[38;5;132;01m:\u001b[39;00m\u001b[38;5;124m.2%\u001b[39m\u001b[38;5;132;01m}\u001b[39;00m\u001b[38;5;124m\"\u001b[39m\n\u001b[1;32m    224\u001b[0m log\u001b[38;5;241m.\u001b[39msuccess(\n\u001b[1;32m    225\u001b[0m     \u001b[38;5;124mf\u001b[39m\u001b[38;5;124m\"\u001b[39m\u001b[38;5;132;01m{\u001b[39;00mname\u001b[38;5;132;01m}\u001b[39;00m\u001b[38;5;124m on \u001b[39m\u001b[38;5;132;01m{\u001b[39;00m\u001b[38;5;28mself\u001b[39m\u001b[38;5;241m.\u001b[39mtask_type\u001b[38;5;132;01m}\u001b[39;00m\u001b[38;5;124m examples w.r.t. \u001b[39m\u001b[38;5;132;01m{\u001b[39;00m\u001b[38;5;28mself\u001b[39m\u001b[38;5;241m.\u001b[39mwrt\u001b[38;5;132;01m}\u001b[39;00m\u001b[38;5;124m labels: \u001b[39m\u001b[38;5;132;01m{\u001b[39;00mf_result\u001b[38;5;132;01m}\u001b[39;00m\u001b[38;5;124m\"\u001b[39m\n\u001b[1;32m    226\u001b[0m )\n",
      "File \u001b[0;32m<__array_function__ internals>:5\u001b[0m, in \u001b[0;36mmean\u001b[0;34m(*args, **kwargs)\u001b[0m\n",
      "File \u001b[0;32m/opt/conda/lib/python3.8/site-packages/numpy/core/fromnumeric.py:3440\u001b[0m, in \u001b[0;36mmean\u001b[0;34m(a, axis, dtype, out, keepdims, where)\u001b[0m\n\u001b[1;32m   3437\u001b[0m     \u001b[38;5;28;01melse\u001b[39;00m:\n\u001b[1;32m   3438\u001b[0m         \u001b[38;5;28;01mreturn\u001b[39;00m mean(axis\u001b[38;5;241m=\u001b[39maxis, dtype\u001b[38;5;241m=\u001b[39mdtype, out\u001b[38;5;241m=\u001b[39mout, \u001b[38;5;241m*\u001b[39m\u001b[38;5;241m*\u001b[39mkwargs)\n\u001b[0;32m-> 3440\u001b[0m \u001b[38;5;28;01mreturn\u001b[39;00m \u001b[43m_methods\u001b[49m\u001b[38;5;241;43m.\u001b[39;49m\u001b[43m_mean\u001b[49m\u001b[43m(\u001b[49m\u001b[43ma\u001b[49m\u001b[43m,\u001b[49m\u001b[43m \u001b[49m\u001b[43maxis\u001b[49m\u001b[38;5;241;43m=\u001b[39;49m\u001b[43maxis\u001b[49m\u001b[43m,\u001b[49m\u001b[43m \u001b[49m\u001b[43mdtype\u001b[49m\u001b[38;5;241;43m=\u001b[39;49m\u001b[43mdtype\u001b[49m\u001b[43m,\u001b[49m\n\u001b[1;32m   3441\u001b[0m \u001b[43m                      \u001b[49m\u001b[43mout\u001b[49m\u001b[38;5;241;43m=\u001b[39;49m\u001b[43mout\u001b[49m\u001b[43m,\u001b[49m\u001b[43m \u001b[49m\u001b[38;5;241;43m*\u001b[39;49m\u001b[38;5;241;43m*\u001b[39;49m\u001b[43mkwargs\u001b[49m\u001b[43m)\u001b[49m\n",
      "File \u001b[0;32m/opt/conda/lib/python3.8/site-packages/numpy/core/_methods.py:191\u001b[0m, in \u001b[0;36m_mean\u001b[0;34m(a, axis, dtype, out, keepdims, where)\u001b[0m\n\u001b[1;32m    189\u001b[0m         ret \u001b[38;5;241m=\u001b[39m ret\u001b[38;5;241m.\u001b[39mdtype\u001b[38;5;241m.\u001b[39mtype(ret \u001b[38;5;241m/\u001b[39m rcount)\n\u001b[1;32m    190\u001b[0m \u001b[38;5;28;01melse\u001b[39;00m:\n\u001b[0;32m--> 191\u001b[0m     ret \u001b[38;5;241m=\u001b[39m \u001b[43mret\u001b[49m\u001b[43m \u001b[49m\u001b[38;5;241;43m/\u001b[39;49m\u001b[43m \u001b[49m\u001b[43mrcount\u001b[49m\n\u001b[1;32m    193\u001b[0m \u001b[38;5;28;01mreturn\u001b[39;00m ret\n",
      "\u001b[0;31mTypeError\u001b[0m: unsupported operand type(s) for /: 'TIDE' and 'int'"
     ]
    }
   ],
   "source": [
    "s.load_attack()\n",
    "s.next()\n",
    "s.run_attack()"
   ]
  },
  {
   "cell_type": "markdown",
   "id": "a751900a-9300-49cd-9688-eee24b9ca92f",
   "metadata": {},
   "source": [
    "return a specific attribute of `TIDE` - `run_thresholds`"
   ]
  },
  {
   "cell_type": "code",
   "execution_count": 1,
   "id": "5c9762a3-b195-47d1-b6f1-aac0e3e5b2e4",
   "metadata": {},
   "outputs": [
    {
     "name": "stdout",
     "output_type": "stream",
     "text": [
      "2022-11-07 21:20:10  0s \u001b[1mINFO    \u001b[0m \u001b[36marmory.delayed_imports\u001b[0m:\u001b[36m<module>\u001b[0m:\u001b[36m7\u001b[0m Importing and configuring torch, tensorflow, and art, if available. This may take some time.\n",
      "2022-11-07 21:20:12  2s \u001b[1mINFO    \u001b[0m \u001b[36marmory.delayed_imports\u001b[0m:\u001b[36m<module>\u001b[0m:\u001b[36m30\u001b[0m Setting tf.config.experimental.set_memory_growth to True on all GPUs\n",
      "2022-11-07 21:20:12  2s \u001b[1mINFO    \u001b[0m \u001b[36mart.config\u001b[0m:\u001b[36mset_data_path\u001b[0m:\u001b[36m55\u001b[0m set ART_DATA_PATH to /tmp/.art/data\n",
      "2022-11-07 21:20:13  3s \u001b[1mINFO    \u001b[0m \u001b[36mart.config\u001b[0m:\u001b[36mset_data_path\u001b[0m:\u001b[36m55\u001b[0m set ART_DATA_PATH to /armory/saved_models/art\n",
      "2022-11-07 21:20:13  3s \u001b[1mINFO    \u001b[0m \u001b[36marmory.scenarios.main\u001b[0m:\u001b[36m_scenario_setup\u001b[0m:\u001b[36m37\u001b[0m this repo is being updated\n",
      "2022-11-07 21:20:13  3s \u001b[31m\u001b[1mERROR   \u001b[0m \u001b[36marmory.scenarios.main\u001b[0m:\u001b[36m_scenario_setup\u001b[0m:\u001b[36m42\u001b[0m eval_id not in config. Inserting current timestamp 1667856013.6307821\n",
      "2022-11-07 21:20:13  3s \u001b[1mINFO    \u001b[0m \u001b[36marmory.scenarios.main\u001b[0m:\u001b[36m_scenario_setup\u001b[0m:\u001b[36m50\u001b[0m armory outputs and logs will be written to /armory/outputs/1667856013.6307821\n",
      "2022-11-07 21:20:14  4s \u001b[1mINFO    \u001b[0m \u001b[36marmory.data.utils\u001b[0m:\u001b[36mmaybe_download_weights_from_s3\u001b[0m:\u001b[36m47\u001b[0m Using available carla_rgb_weights_eval5.pt in Armory `saved_model_dir`\n",
      "2022-11-07 21:20:18  8s \u001b[1mINFO    \u001b[0m \u001b[36marmory.scenarios.scenario\u001b[0m:\u001b[36mload_dataset\u001b[0m:\u001b[36m205\u001b[0m Loading test dataset carla_obj_det_dev...\n"
     ]
    }
   ],
   "source": [
    "from armory.scenarios.main import get as get_scenario # restarted kernel\n",
    "\n",
    "s = get_scenario(\n",
    "    \"/armory/tmp/2022-11-03T180812.020999/carla_obj_det_adversarialpatch_undefended.json\",\n",
    "    num_eval_batches=1,\n",
    ").load()"
   ]
  },
  {
   "cell_type": "code",
   "execution_count": 2,
   "id": "049b8da4-f4b5-43f3-82f1-152f32bd9c8a",
   "metadata": {},
   "outputs": [
    {
     "data": {
      "application/vnd.jupyter.widget-view+json": {
       "model_id": "abb0deb73be446c981102568253ea2f6",
       "version_major": 2,
       "version_minor": 0
      },
      "text/plain": [
       "Adversarial Patch PyTorch:   0%|          | 0/5 [00:00<?, ?it/s]"
      ]
     },
     "metadata": {},
     "output_type": "display_data"
    },
    {
     "name": "stderr",
     "output_type": "stream",
     "text": [
      "/opt/conda/lib/python3.8/site-packages/torchvision/transforms/functional.py:404: UserWarning: Argument interpolation should be of type InterpolationMode instead of int. Please, use InterpolationMode enum.\n",
      "  warnings.warn(\n",
      "/opt/conda/lib/python3.8/site-packages/torchvision/transforms/functional.py:654: UserWarning: Argument interpolation should be of type InterpolationMode instead of int. Please, use InterpolationMode enum.\n",
      "  warnings.warn(\n",
      "/opt/conda/lib/python3.8/site-packages/torch/functional.py:445: UserWarning: torch.meshgrid: in an upcoming release, it will be required to pass the indexing argument. (Triggered internally at  /opt/conda/conda-bld/pytorch_1640811806235/work/aten/src/ATen/native/TensorShape.cpp:2157.)\n",
      "  return _VF.meshgrid(tensors, **kwargs)  # type: ignore[attr-defined]\n"
     ]
    },
    {
     "name": "stdout",
     "output_type": "stream",
     "text": [
      "2022-11-07 21:20:26 16s \u001b[32m\u001b[1mSUCCESS \u001b[0m \u001b[36marmory.instrument.config\u001b[0m:\u001b[36m_write\u001b[0m:\u001b[36m224\u001b[0m adversarial_carla_od_disappearance_rate on adversarial examples w.r.t. ground truth labels: 40.00%\n",
      "2022-11-07 21:20:26 16s \u001b[32m\u001b[1mSUCCESS \u001b[0m \u001b[36marmory.instrument.config\u001b[0m:\u001b[36m_write\u001b[0m:\u001b[36m224\u001b[0m adversarial_carla_od_hallucinations_per_image on adversarial examples w.r.t. ground truth labels: 6.0\n",
      "2022-11-07 21:20:26 16s \u001b[32m\u001b[1mSUCCESS \u001b[0m \u001b[36marmory.instrument.config\u001b[0m:\u001b[36m_write\u001b[0m:\u001b[36m224\u001b[0m adversarial_carla_od_misclassification_rate on adversarial examples w.r.t. ground truth labels: 0.00%\n",
      "2022-11-07 21:20:26 16s \u001b[32m\u001b[1mSUCCESS \u001b[0m \u001b[36marmory.instrument.config\u001b[0m:\u001b[36m_write\u001b[0m:\u001b[36m224\u001b[0m adversarial_carla_od_true_positive_rate on adversarial examples w.r.t. ground truth labels: 60.00%\n"
     ]
    },
    {
     "ename": "TypeError",
     "evalue": "unsupported operand type(s) for /: 'dict' and 'int'",
     "output_type": "error",
     "traceback": [
      "\u001b[0;31m\u001b[0m",
      "\u001b[0;31mTypeError\u001b[0mTraceback (most recent call last)",
      "Input \u001b[0;32mIn [2]\u001b[0m, in \u001b[0;36m<cell line: 3>\u001b[0;34m()\u001b[0m\n\u001b[1;32m      1\u001b[0m s\u001b[38;5;241m.\u001b[39mload_attack()\n\u001b[1;32m      2\u001b[0m s\u001b[38;5;241m.\u001b[39mnext()\n\u001b[0;32m----> 3\u001b[0m \u001b[43ms\u001b[49m\u001b[38;5;241;43m.\u001b[39;49m\u001b[43mrun_attack\u001b[49m\u001b[43m(\u001b[49m\u001b[43m)\u001b[49m\n",
      "File \u001b[0;32m/workspace/armory/scenarios/carla_object_detection.py:64\u001b[0m, in \u001b[0;36mCarlaObjectDetectionTask.run_attack\u001b[0;34m(self)\u001b[0m\n\u001b[1;32m     61\u001b[0m x_adv\u001b[38;5;241m.\u001b[39mflags\u001b[38;5;241m.\u001b[39mwriteable \u001b[38;5;241m=\u001b[39m \u001b[38;5;28;01mFalse\u001b[39;00m\n\u001b[1;32m     62\u001b[0m y_pred_adv \u001b[38;5;241m=\u001b[39m \u001b[38;5;28mself\u001b[39m\u001b[38;5;241m.\u001b[39mmodel\u001b[38;5;241m.\u001b[39mpredict(x_adv, \u001b[38;5;241m*\u001b[39m\u001b[38;5;241m*\u001b[39m\u001b[38;5;28mself\u001b[39m\u001b[38;5;241m.\u001b[39mpredict_kwargs)\n\u001b[0;32m---> 64\u001b[0m \u001b[38;5;28;43mself\u001b[39;49m\u001b[38;5;241;43m.\u001b[39;49m\u001b[43mprobe\u001b[49m\u001b[38;5;241;43m.\u001b[39;49m\u001b[43mupdate\u001b[49m\u001b[43m(\u001b[49m\u001b[43mx_adv\u001b[49m\u001b[38;5;241;43m=\u001b[39;49m\u001b[43mx_adv\u001b[49m\u001b[43m,\u001b[49m\u001b[43m \u001b[49m\u001b[43my_pred_adv\u001b[49m\u001b[38;5;241;43m=\u001b[39;49m\u001b[43my_pred_adv\u001b[49m\u001b[43m)\u001b[49m\n\u001b[1;32m     65\u001b[0m \u001b[38;5;28;01mif\u001b[39;00m \u001b[38;5;28mself\u001b[39m\u001b[38;5;241m.\u001b[39mtargeted:\n\u001b[1;32m     66\u001b[0m     \u001b[38;5;28mself\u001b[39m\u001b[38;5;241m.\u001b[39mprobe\u001b[38;5;241m.\u001b[39mupdate(y_target\u001b[38;5;241m=\u001b[39my_target)\n",
      "File \u001b[0;32m/workspace/armory/instrument/instrument.py:117\u001b[0m, in \u001b[0;36mProbe.update\u001b[0;34m(self, *preprocessing, **named_values)\u001b[0m\n\u001b[1;32m    115\u001b[0m     value \u001b[38;5;241m=\u001b[39m p(value)\n\u001b[1;32m    116\u001b[0m \u001b[38;5;66;03m# Push to sink\u001b[39;00m\n\u001b[0;32m--> 117\u001b[0m \u001b[38;5;28;43mself\u001b[39;49m\u001b[38;5;241;43m.\u001b[39;49m\u001b[43msink\u001b[49m\u001b[38;5;241;43m.\u001b[39;49m\u001b[43mupdate\u001b[49m\u001b[43m(\u001b[49m\u001b[43mname\u001b[49m\u001b[43m,\u001b[49m\u001b[43m \u001b[49m\u001b[43mvalue\u001b[49m\u001b[43m)\u001b[49m\n",
      "File \u001b[0;32m/workspace/armory/instrument/instrument.py:357\u001b[0m, in \u001b[0;36mHub.update\u001b[0;34m(self, probe_variable, value)\u001b[0m\n\u001b[1;32m    355\u001b[0m     \u001b[38;5;28;01mraise\u001b[39;00m \u001b[38;5;167;01mValueError\u001b[39;00m(\u001b[38;5;124m\"\u001b[39m\u001b[38;5;124mNo meters are measuring\u001b[39m\u001b[38;5;124m\"\u001b[39m)\n\u001b[1;32m    356\u001b[0m \u001b[38;5;28;01mfor\u001b[39;00m meter, arg \u001b[38;5;129;01min\u001b[39;00m meters_args:\n\u001b[0;32m--> 357\u001b[0m     \u001b[43mmeter\u001b[49m\u001b[38;5;241;43m.\u001b[39;49m\u001b[43mset\u001b[49m\u001b[43m(\u001b[49m\u001b[43marg\u001b[49m\u001b[43m,\u001b[49m\u001b[43m \u001b[49m\u001b[43mvalue\u001b[49m\u001b[43m,\u001b[49m\u001b[43m \u001b[49m\u001b[38;5;28;43mself\u001b[39;49m\u001b[38;5;241;43m.\u001b[39;49m\u001b[43mcontext\u001b[49m\u001b[43m[\u001b[49m\u001b[38;5;124;43m\"\u001b[39;49m\u001b[38;5;124;43mbatch\u001b[39;49m\u001b[38;5;124;43m\"\u001b[39;49m\u001b[43m]\u001b[49m\u001b[43m)\u001b[49m\n",
      "File \u001b[0;32m/workspace/armory/instrument/instrument.py:549\u001b[0m, in \u001b[0;36mMeter.set\u001b[0;34m(self, name, value, batch)\u001b[0m\n\u001b[1;32m    547\u001b[0m \u001b[38;5;28mself\u001b[39m\u001b[38;5;241m.\u001b[39marg_batch_indices[i] \u001b[38;5;241m=\u001b[39m batch\n\u001b[1;32m    548\u001b[0m \u001b[38;5;28;01mif\u001b[39;00m \u001b[38;5;28mself\u001b[39m\u001b[38;5;241m.\u001b[39mauto_measure \u001b[38;5;129;01mand\u001b[39;00m \u001b[38;5;28mself\u001b[39m\u001b[38;5;241m.\u001b[39mis_ready():\n\u001b[0;32m--> 549\u001b[0m     \u001b[38;5;28;43mself\u001b[39;49m\u001b[38;5;241;43m.\u001b[39;49m\u001b[43mmeasure\u001b[49m\u001b[43m(\u001b[49m\u001b[43m)\u001b[49m\n",
      "File \u001b[0;32m/workspace/armory/instrument/instrument.py:579\u001b[0m, in \u001b[0;36mMeter.measure\u001b[0;34m(self, clear_values)\u001b[0m\n\u001b[1;32m    577\u001b[0m \u001b[38;5;28;01mif\u001b[39;00m \u001b[38;5;129;01mnot\u001b[39;00m \u001b[38;5;28mself\u001b[39m\u001b[38;5;241m.\u001b[39mrecord_final_only:\n\u001b[1;32m    578\u001b[0m     \u001b[38;5;28;01mfor\u001b[39;00m writer \u001b[38;5;129;01min\u001b[39;00m \u001b[38;5;28mself\u001b[39m\u001b[38;5;241m.\u001b[39mwriters:\n\u001b[0;32m--> 579\u001b[0m         \u001b[43mwriter\u001b[49m\u001b[38;5;241;43m.\u001b[39;49m\u001b[43mwrite\u001b[49m\u001b[43m(\u001b[49m\u001b[43mrecord\u001b[49m\u001b[43m)\u001b[49m\n\u001b[1;32m    580\u001b[0m \u001b[38;5;28;01mif\u001b[39;00m clear_values:\n\u001b[1;32m    581\u001b[0m     \u001b[38;5;28mself\u001b[39m\u001b[38;5;241m.\u001b[39mclear()\n",
      "File \u001b[0;32m/workspace/armory/instrument/instrument.py:686\u001b[0m, in \u001b[0;36mWriter.write\u001b[0;34m(self, record)\u001b[0m\n\u001b[1;32m    684\u001b[0m     \u001b[38;5;28;01mraise\u001b[39;00m \u001b[38;5;167;01mValueError\u001b[39;00m(\u001b[38;5;124m\"\u001b[39m\u001b[38;5;124mCannot write to closed Writer\u001b[39m\u001b[38;5;124m\"\u001b[39m)\n\u001b[1;32m    685\u001b[0m name, batch, result \u001b[38;5;241m=\u001b[39m record\n\u001b[0;32m--> 686\u001b[0m \u001b[38;5;28;01mreturn\u001b[39;00m \u001b[38;5;28;43mself\u001b[39;49m\u001b[38;5;241;43m.\u001b[39;49m\u001b[43m_write\u001b[49m\u001b[43m(\u001b[49m\u001b[43mname\u001b[49m\u001b[43m,\u001b[49m\u001b[43m \u001b[49m\u001b[43mbatch\u001b[49m\u001b[43m,\u001b[49m\u001b[43m \u001b[49m\u001b[43mresult\u001b[49m\u001b[43m)\u001b[49m\n",
      "File \u001b[0;32m/workspace/armory/instrument/config.py:223\u001b[0m, in \u001b[0;36mResultsLogWriter._write\u001b[0;34m(self, name, batch, result)\u001b[0m\n\u001b[1;32m    221\u001b[0m     f_result \u001b[38;5;241m=\u001b[39m \u001b[38;5;124mf\u001b[39m\u001b[38;5;124m\"\u001b[39m\u001b[38;5;132;01m{\u001b[39;00mnp\u001b[38;5;241m.\u001b[39mmean(result)\u001b[38;5;132;01m:\u001b[39;00m\u001b[38;5;124m.2\u001b[39m\u001b[38;5;132;01m}\u001b[39;00m\u001b[38;5;124m\"\u001b[39m\n\u001b[1;32m    222\u001b[0m \u001b[38;5;28;01melse\u001b[39;00m:\n\u001b[0;32m--> 223\u001b[0m     f_result \u001b[38;5;241m=\u001b[39m \u001b[38;5;124mf\u001b[39m\u001b[38;5;124m\"\u001b[39m\u001b[38;5;132;01m{\u001b[39;00mnp\u001b[38;5;241m.\u001b[39mmean(result)\u001b[38;5;132;01m:\u001b[39;00m\u001b[38;5;124m.2%\u001b[39m\u001b[38;5;132;01m}\u001b[39;00m\u001b[38;5;124m\"\u001b[39m\n\u001b[1;32m    224\u001b[0m log\u001b[38;5;241m.\u001b[39msuccess(\n\u001b[1;32m    225\u001b[0m     \u001b[38;5;124mf\u001b[39m\u001b[38;5;124m\"\u001b[39m\u001b[38;5;132;01m{\u001b[39;00mname\u001b[38;5;132;01m}\u001b[39;00m\u001b[38;5;124m on \u001b[39m\u001b[38;5;132;01m{\u001b[39;00m\u001b[38;5;28mself\u001b[39m\u001b[38;5;241m.\u001b[39mtask_type\u001b[38;5;132;01m}\u001b[39;00m\u001b[38;5;124m examples w.r.t. \u001b[39m\u001b[38;5;132;01m{\u001b[39;00m\u001b[38;5;28mself\u001b[39m\u001b[38;5;241m.\u001b[39mwrt\u001b[38;5;132;01m}\u001b[39;00m\u001b[38;5;124m labels: \u001b[39m\u001b[38;5;132;01m{\u001b[39;00mf_result\u001b[38;5;132;01m}\u001b[39;00m\u001b[38;5;124m\"\u001b[39m\n\u001b[1;32m    226\u001b[0m )\n",
      "File \u001b[0;32m<__array_function__ internals>:5\u001b[0m, in \u001b[0;36mmean\u001b[0;34m(*args, **kwargs)\u001b[0m\n",
      "File \u001b[0;32m/opt/conda/lib/python3.8/site-packages/numpy/core/fromnumeric.py:3440\u001b[0m, in \u001b[0;36mmean\u001b[0;34m(a, axis, dtype, out, keepdims, where)\u001b[0m\n\u001b[1;32m   3437\u001b[0m     \u001b[38;5;28;01melse\u001b[39;00m:\n\u001b[1;32m   3438\u001b[0m         \u001b[38;5;28;01mreturn\u001b[39;00m mean(axis\u001b[38;5;241m=\u001b[39maxis, dtype\u001b[38;5;241m=\u001b[39mdtype, out\u001b[38;5;241m=\u001b[39mout, \u001b[38;5;241m*\u001b[39m\u001b[38;5;241m*\u001b[39mkwargs)\n\u001b[0;32m-> 3440\u001b[0m \u001b[38;5;28;01mreturn\u001b[39;00m \u001b[43m_methods\u001b[49m\u001b[38;5;241;43m.\u001b[39;49m\u001b[43m_mean\u001b[49m\u001b[43m(\u001b[49m\u001b[43ma\u001b[49m\u001b[43m,\u001b[49m\u001b[43m \u001b[49m\u001b[43maxis\u001b[49m\u001b[38;5;241;43m=\u001b[39;49m\u001b[43maxis\u001b[49m\u001b[43m,\u001b[49m\u001b[43m \u001b[49m\u001b[43mdtype\u001b[49m\u001b[38;5;241;43m=\u001b[39;49m\u001b[43mdtype\u001b[49m\u001b[43m,\u001b[49m\n\u001b[1;32m   3441\u001b[0m \u001b[43m                      \u001b[49m\u001b[43mout\u001b[49m\u001b[38;5;241;43m=\u001b[39;49m\u001b[43mout\u001b[49m\u001b[43m,\u001b[49m\u001b[43m \u001b[49m\u001b[38;5;241;43m*\u001b[39;49m\u001b[38;5;241;43m*\u001b[39;49m\u001b[43mkwargs\u001b[49m\u001b[43m)\u001b[49m\n",
      "File \u001b[0;32m/opt/conda/lib/python3.8/site-packages/numpy/core/_methods.py:191\u001b[0m, in \u001b[0;36m_mean\u001b[0;34m(a, axis, dtype, out, keepdims, where)\u001b[0m\n\u001b[1;32m    189\u001b[0m         ret \u001b[38;5;241m=\u001b[39m ret\u001b[38;5;241m.\u001b[39mdtype\u001b[38;5;241m.\u001b[39mtype(ret \u001b[38;5;241m/\u001b[39m rcount)\n\u001b[1;32m    190\u001b[0m \u001b[38;5;28;01melse\u001b[39;00m:\n\u001b[0;32m--> 191\u001b[0m     ret \u001b[38;5;241m=\u001b[39m \u001b[43mret\u001b[49m\u001b[43m \u001b[49m\u001b[38;5;241;43m/\u001b[39;49m\u001b[43m \u001b[49m\u001b[43mrcount\u001b[49m\n\u001b[1;32m    193\u001b[0m \u001b[38;5;28;01mreturn\u001b[39;00m ret\n",
      "\u001b[0;31mTypeError\u001b[0m: unsupported operand type(s) for /: 'dict' and 'int'"
     ]
    }
   ],
   "source": [
    "s.load_attack()\n",
    "s.next()\n",
    "s.run_attack()"
   ]
  },
  {
   "cell_type": "markdown",
   "id": "fcf77f20-5154-4b11-8acf-def90f7d4e75",
   "metadata": {},
   "source": [
    "- need to understand what analysis is available from `TIDE` and in what format\n",
    "- need to understand what post-processing occurs in armory after task\n",
    "\n",
    "not returning `TIDE` or `TIDE` attributes for now"
   ]
  },
  {
   "cell_type": "code",
   "execution_count": 1,
   "id": "d8289693-566f-4025-8bd2-3d3a15d43360",
   "metadata": {},
   "outputs": [
    {
     "name": "stdout",
     "output_type": "stream",
     "text": [
      "2022-11-07 21:36:28  0s \u001b[1mINFO    \u001b[0m \u001b[36marmory.delayed_imports\u001b[0m:\u001b[36m<module>\u001b[0m:\u001b[36m7\u001b[0m Importing and configuring torch, tensorflow, and art, if available. This may take some time.\n",
      "2022-11-07 21:36:31  2s \u001b[1mINFO    \u001b[0m \u001b[36marmory.delayed_imports\u001b[0m:\u001b[36m<module>\u001b[0m:\u001b[36m30\u001b[0m Setting tf.config.experimental.set_memory_growth to True on all GPUs\n",
      "2022-11-07 21:36:31  2s \u001b[1mINFO    \u001b[0m \u001b[36mart.config\u001b[0m:\u001b[36mset_data_path\u001b[0m:\u001b[36m55\u001b[0m set ART_DATA_PATH to /tmp/.art/data\n",
      "2022-11-07 21:36:31  2s \u001b[1mINFO    \u001b[0m \u001b[36mart.config\u001b[0m:\u001b[36mset_data_path\u001b[0m:\u001b[36m55\u001b[0m set ART_DATA_PATH to /armory/saved_models/art\n",
      "2022-11-07 21:36:31  3s \u001b[1mINFO    \u001b[0m \u001b[36marmory.scenarios.main\u001b[0m:\u001b[36m_scenario_setup\u001b[0m:\u001b[36m37\u001b[0m this repo is being updated\n",
      "2022-11-07 21:36:31  3s \u001b[31m\u001b[1mERROR   \u001b[0m \u001b[36marmory.scenarios.main\u001b[0m:\u001b[36m_scenario_setup\u001b[0m:\u001b[36m42\u001b[0m eval_id not in config. Inserting current timestamp 1667856991.9132445\n",
      "2022-11-07 21:36:31  3s \u001b[1mINFO    \u001b[0m \u001b[36marmory.scenarios.main\u001b[0m:\u001b[36m_scenario_setup\u001b[0m:\u001b[36m50\u001b[0m armory outputs and logs will be written to /armory/outputs/1667856991.9132445\n",
      "2022-11-07 21:36:32  3s \u001b[1mINFO    \u001b[0m \u001b[36marmory.data.utils\u001b[0m:\u001b[36mmaybe_download_weights_from_s3\u001b[0m:\u001b[36m47\u001b[0m Using available carla_rgb_weights_eval5.pt in Armory `saved_model_dir`\n",
      "2022-11-07 21:36:36  7s \u001b[1mINFO    \u001b[0m \u001b[36marmory.scenarios.scenario\u001b[0m:\u001b[36mload_dataset\u001b[0m:\u001b[36m205\u001b[0m Loading test dataset carla_obj_det_dev...\n"
     ]
    }
   ],
   "source": [
    "from armory.scenarios.main import get as get_scenario # restarted kernel\n",
    "\n",
    "s = get_scenario(\n",
    "    \"/armory/tmp/2022-11-03T180812.020999/carla_obj_det_adversarialpatch_undefended.json\",\n",
    "    num_eval_batches=1,\n",
    ").load()"
   ]
  },
  {
   "cell_type": "code",
   "execution_count": 2,
   "id": "3fbdfd22-266c-444e-b9e3-6d219b3f1215",
   "metadata": {},
   "outputs": [
    {
     "data": {
      "application/vnd.jupyter.widget-view+json": {
       "model_id": "96be62a0fc694e89a0e4d0cc8818ffea",
       "version_major": 2,
       "version_minor": 0
      },
      "text/plain": [
       "Adversarial Patch PyTorch:   0%|          | 0/5 [00:00<?, ?it/s]"
      ]
     },
     "metadata": {},
     "output_type": "display_data"
    },
    {
     "name": "stderr",
     "output_type": "stream",
     "text": [
      "/opt/conda/lib/python3.8/site-packages/torchvision/transforms/functional.py:404: UserWarning: Argument interpolation should be of type InterpolationMode instead of int. Please, use InterpolationMode enum.\n",
      "  warnings.warn(\n",
      "/opt/conda/lib/python3.8/site-packages/torchvision/transforms/functional.py:654: UserWarning: Argument interpolation should be of type InterpolationMode instead of int. Please, use InterpolationMode enum.\n",
      "  warnings.warn(\n",
      "/opt/conda/lib/python3.8/site-packages/torch/functional.py:445: UserWarning: torch.meshgrid: in an upcoming release, it will be required to pass the indexing argument. (Triggered internally at  /opt/conda/conda-bld/pytorch_1640811806235/work/aten/src/ATen/native/TensorShape.cpp:2157.)\n",
      "  return _VF.meshgrid(tensors, **kwargs)  # type: ignore[attr-defined]\n"
     ]
    },
    {
     "name": "stdout",
     "output_type": "stream",
     "text": [
      "2022-11-07 21:36:42 13s \u001b[32m\u001b[1mSUCCESS \u001b[0m \u001b[36marmory.instrument.config\u001b[0m:\u001b[36m_write\u001b[0m:\u001b[36m224\u001b[0m adversarial_carla_od_disappearance_rate on adversarial examples w.r.t. ground truth labels: 40.00%\n",
      "2022-11-07 21:36:42 13s \u001b[32m\u001b[1mSUCCESS \u001b[0m \u001b[36marmory.instrument.config\u001b[0m:\u001b[36m_write\u001b[0m:\u001b[36m224\u001b[0m adversarial_carla_od_hallucinations_per_image on adversarial examples w.r.t. ground truth labels: 8.0\n",
      "2022-11-07 21:36:42 13s \u001b[32m\u001b[1mSUCCESS \u001b[0m \u001b[36marmory.instrument.config\u001b[0m:\u001b[36m_write\u001b[0m:\u001b[36m224\u001b[0m adversarial_carla_od_misclassification_rate on adversarial examples w.r.t. ground truth labels: 0.00%\n",
      "2022-11-07 21:36:42 13s \u001b[32m\u001b[1mSUCCESS \u001b[0m \u001b[36marmory.instrument.config\u001b[0m:\u001b[36m_write\u001b[0m:\u001b[36m224\u001b[0m adversarial_carla_od_true_positive_rate on adversarial examples w.r.t. ground truth labels: 60.00%\n",
      "2022-11-07 21:36:42 13s \u001b[32m\u001b[1mSUCCESS \u001b[0m \u001b[36marmory.instrument.config\u001b[0m:\u001b[36m_write\u001b[0m:\u001b[36m224\u001b[0m adversarial_object_detection_mAP_tide on adversarial examples w.r.t. ground truth labels: 69.00%\n"
     ]
    }
   ],
   "source": [
    "s.load_attack()\n",
    "s.next()\n",
    "s.run_attack()"
   ]
  },
  {
   "cell_type": "markdown",
   "id": "c6c59a30-5202-44be-aa8a-cd3c53c6e30a",
   "metadata": {
    "tags": []
   },
   "source": [
    "### Inspect `TIDE` Attributes"
   ]
  },
  {
   "cell_type": "code",
   "execution_count": 3,
   "id": "1c554046-8184-4b49-b190-8b198cc61828",
   "metadata": {},
   "outputs": [],
   "source": [
    "from tidecv import TIDE\n",
    "import tidecv.data"
   ]
  },
  {
   "cell_type": "code",
   "execution_count": 4,
   "id": "a9c1996c-7cb7-4140-9de7-a25415dc0f9d",
   "metadata": {},
   "outputs": [],
   "source": [
    "data_detection = tidecv.data.Data(name=f\"\"\"{s.config[\"eval_id\"]}_detection\"\"\")\n",
    "data_ground_truth = tidecv.data.Data(name=f\"\"\"{s.config[\"eval_id\"]}_ground_truth\"\"\")"
   ]
  },
  {
   "cell_type": "code",
   "execution_count": 5,
   "id": "3508b010-c5cb-462c-8267-c4ec5bcdea52",
   "metadata": {},
   "outputs": [],
   "source": [
    "y_dict = s.y[0]\n",
    "for y in [dict(zip(y_dict, t)) for t in zip(*y_dict.values())]:\n",
    "    x1, y1, x2, y2 = y[\"boxes\"]\n",
    "    width = abs(x1 - x2)\n",
    "    height = abs(y1 - y2)\n",
    "    x_min = min(x1, x2)\n",
    "    y_min = min(y1, y2)\n",
    "\n",
    "    y_tidecv = {\n",
    "        \"image_id\": y[\"image_id\"],\n",
    "        \"class_id\": y[\"labels\"],\n",
    "        \"box\": [x_min, y_min, width, height],\n",
    "    }\n",
    "    data_ground_truth.add_ground_truth(**y_tidecv)\n",
    "\n",
    "image_id = y[\"image_id\"]\n",
    "\n",
    "y_dict = s.y_pred_adv[0]\n",
    "for y in [dict(zip(y_dict, t)) for t in zip(*y_dict.values())]:\n",
    "    x1, y1, x2, y2 = y[\"boxes\"]\n",
    "    width = abs(x1 - x2)\n",
    "    height = abs(y1 - y2)\n",
    "    x_min = min(x1, x2)\n",
    "    y_min = min(y1, y2)\n",
    "\n",
    "    # y_tidecv = {\"image_id\": y[\"image_id\"], \"class_id\": y[\"labels\"], \"box\": [x_min, y_min, width, height], \"score\": y[\"scores\"]}\n",
    "    y_tidecv = {\n",
    "        \"image_id\": image_id,\n",
    "        \"class_id\": y[\"labels\"],\n",
    "        \"box\": [x_min, y_min, width, height],\n",
    "        \"score\": y[\"scores\"],\n",
    "    }\n",
    "    data_detection.add_detection(**y_tidecv)"
   ]
  },
  {
   "cell_type": "code",
   "execution_count": 6,
   "id": "44a790dc-0f0b-463d-9bf0-1c794b67f116",
   "metadata": {},
   "outputs": [
    {
     "name": "stdout",
     "output_type": "stream",
     "text": [
      "-- 1667856991.9132445_detection --\n",
      "\n",
      "bbox AP @ [50-95]: 32.73\n",
      "                                         bbox AP @ [50-95]\n",
      "===================================================================================================\n",
      "  Thresh       50       55       60       65       70       75       80       85       90       95  \n",
      "---------------------------------------------------------------------------------------------------\n",
      "    AP      68.72    68.72    59.97    52.51    25.64    20.50    12.41    12.41     6.44     0.00  \n",
      "===================================================================================================\n",
      "\n",
      "                         Main Errors\n",
      "=============================================================\n",
      "  Type      Cls      Loc     Both     Dupe      Bkg     Miss  \n",
      "-------------------------------------------------------------\n",
      "   dAP     0.00     7.80     2.89     0.00     2.89     0.00  \n",
      "=============================================================\n",
      "\n",
      "        Special Error\n",
      "=============================\n",
      "  Type   FalsePos   FalseNeg  \n",
      "-----------------------------\n",
      "   dAP      24.85       5.75  \n",
      "=============================\n",
      "\n"
     ]
    }
   ],
   "source": [
    "tide = TIDE()\n",
    "tide.evaluate_range(data_ground_truth, data_detection, mode=TIDE.BOX)\n",
    "tide.summarize()"
   ]
  },
  {
   "cell_type": "code",
   "execution_count": 7,
   "id": "819a7abe-8b7a-4f6e-860f-d849946ee30b",
   "metadata": {
    "tags": []
   },
   "outputs": [
    {
     "data": {
      "text/plain": [
       "{'pos_thresh': 0.5,\n",
       " 'bg_thresh': 0.1,\n",
       " 'mode': 'bbox',\n",
       " 'pos_thresh_int': 50,\n",
       " 'runs': {'1667856991.9132445_detection': <tidecv.quantify.TIDERun at 0x7fba14098be0>},\n",
       " 'run_thresholds': {'1667856991.9132445_detection': [<tidecv.quantify.TIDERun at 0x7fba14098be0>,\n",
       "   <tidecv.quantify.TIDERun at 0x7fba140986d0>,\n",
       "   <tidecv.quantify.TIDERun at 0x7fba1409d940>,\n",
       "   <tidecv.quantify.TIDERun at 0x7fba1409da90>,\n",
       "   <tidecv.quantify.TIDERun at 0x7fba1409dbe0>,\n",
       "   <tidecv.quantify.TIDERun at 0x7fba1409dd30>,\n",
       "   <tidecv.quantify.TIDERun at 0x7fba1409dee0>,\n",
       "   <tidecv.quantify.TIDERun at 0x7fba13fee070>,\n",
       "   <tidecv.quantify.TIDERun at 0x7fba13fee1c0>,\n",
       "   <tidecv.quantify.TIDERun at 0x7fba13fee310>]},\n",
       " 'run_main_errors': {},\n",
       " 'run_special_errors': {},\n",
       " 'qualifiers': OrderedDict(),\n",
       " 'plotter': <tidecv.plotting.Plotter at 0x7fba14098a90>}"
      ]
     },
     "execution_count": 7,
     "metadata": {},
     "output_type": "execute_result"
    }
   ],
   "source": [
    "tide.__dict__"
   ]
  },
  {
   "cell_type": "code",
   "execution_count": 10,
   "id": "18c8aee0-4256-4a87-9617-6dd5fafbeb4c",
   "metadata": {
    "collapsed": true,
    "jupyter": {
     "outputs_hidden": true
    },
    "tags": []
   },
   "outputs": [
    {
     "data": {
      "text/plain": [
       "[<tidecv.quantify.TIDERun at 0x7fba14098be0>,\n",
       " <tidecv.quantify.TIDERun at 0x7fba140986d0>,\n",
       " <tidecv.quantify.TIDERun at 0x7fba1409d940>,\n",
       " <tidecv.quantify.TIDERun at 0x7fba1409da90>,\n",
       " <tidecv.quantify.TIDERun at 0x7fba1409dbe0>,\n",
       " <tidecv.quantify.TIDERun at 0x7fba1409dd30>,\n",
       " <tidecv.quantify.TIDERun at 0x7fba1409dee0>,\n",
       " <tidecv.quantify.TIDERun at 0x7fba13fee070>,\n",
       " <tidecv.quantify.TIDERun at 0x7fba13fee1c0>,\n",
       " <tidecv.quantify.TIDERun at 0x7fba13fee310>]"
      ]
     },
     "execution_count": 10,
     "metadata": {},
     "output_type": "execute_result"
    }
   ],
   "source": [
    "tide.run_thresholds[\"1667856991.9132445_detection\"]"
   ]
  },
  {
   "cell_type": "code",
   "execution_count": 11,
   "id": "18aa1de3-2fe1-4622-a3bc-92f30139126c",
   "metadata": {},
   "outputs": [],
   "source": [
    "tide_run = tide.run_thresholds[\"1667856991.9132445_detection\"][0]"
   ]
  },
  {
   "cell_type": "code",
   "execution_count": 12,
   "id": "6c6b5f59-c697-4abf-a52d-aa12d2d4e388",
   "metadata": {
    "collapsed": true,
    "jupyter": {
     "outputs_hidden": true
    },
    "tags": []
   },
   "outputs": [
    {
     "data": {
      "text/plain": [
       "{'gt': <tidecv.data.Data at 0x7fba14098910>,\n",
       " 'preds': <tidecv.data.Data at 0x7fba14098970>,\n",
       " 'errors': [<tidecv.errors.main_errors.OtherError at 0x7fba14098e20>,\n",
       "  <tidecv.errors.main_errors.BoxError at 0x7fba14098e50>,\n",
       "  <tidecv.errors.main_errors.BackgroundError at 0x7fba14098ee0>,\n",
       "  <tidecv.errors.main_errors.BackgroundError at 0x7fba14098b80>,\n",
       "  <tidecv.errors.main_errors.OtherError at 0x7fba14098bb0>,\n",
       "  <tidecv.errors.main_errors.OtherError at 0x7fba14098cd0>,\n",
       "  <tidecv.errors.main_errors.OtherError at 0x7fba14098fd0>,\n",
       "  <tidecv.errors.main_errors.OtherError at 0x7fba14098eb0>,\n",
       "  <tidecv.errors.main_errors.BackgroundError at 0x7fba14098d00>,\n",
       "  <tidecv.errors.main_errors.BackgroundError at 0x7fba14098e80>,\n",
       "  <tidecv.errors.main_errors.BackgroundError at 0x7fbb91fd6610>,\n",
       "  <tidecv.errors.main_errors.OtherError at 0x7fba140d2580>,\n",
       "  <tidecv.errors.main_errors.OtherError at 0x7fba140d24c0>,\n",
       "  <tidecv.errors.main_errors.BackgroundError at 0x7fbb99888970>,\n",
       "  <tidecv.errors.main_errors.BackgroundError at 0x7fbb998884f0>,\n",
       "  <tidecv.errors.main_errors.OtherError at 0x7fbb91fcb730>,\n",
       "  <tidecv.errors.main_errors.OtherError at 0x7fbb91fd6700>,\n",
       "  <tidecv.errors.main_errors.OtherError at 0x7fbb91fd61c0>,\n",
       "  <tidecv.errors.main_errors.BackgroundError at 0x7fba14098ac0>,\n",
       "  <tidecv.errors.main_errors.BoxError at 0x7fba14098fa0>,\n",
       "  <tidecv.errors.main_errors.OtherError at 0x7fbb99888b50>,\n",
       "  <tidecv.errors.main_errors.ClassError at 0x7fba13afbbe0>,\n",
       "  <tidecv.errors.main_errors.OtherError at 0x7fba13afbac0>,\n",
       "  <tidecv.errors.main_errors.OtherError at 0x7fba13afbc70>,\n",
       "  <tidecv.errors.main_errors.OtherError at 0x7fba13afb100>,\n",
       "  <tidecv.errors.main_errors.OtherError at 0x7fba13afb130>,\n",
       "  <tidecv.errors.main_errors.OtherError at 0x7fba13afbe50>,\n",
       "  <tidecv.errors.main_errors.BackgroundError at 0x7fba13afbbb0>,\n",
       "  <tidecv.errors.main_errors.BoxError at 0x7fba13afb6d0>,\n",
       "  <tidecv.errors.main_errors.BackgroundError at 0x7fba13afb160>,\n",
       "  <tidecv.errors.main_errors.OtherError at 0x7fba13afb310>,\n",
       "  <tidecv.errors.main_errors.BoxError at 0x7fba13afbb50>,\n",
       "  <tidecv.errors.main_errors.BackgroundError at 0x7fba13afbfd0>,\n",
       "  <tidecv.errors.main_errors.OtherError at 0x7fba140f2940>,\n",
       "  <tidecv.errors.main_errors.OtherError at 0x7fba140f2e20>,\n",
       "  <tidecv.errors.main_errors.BackgroundError at 0x7fba140f2ac0>,\n",
       "  <tidecv.errors.main_errors.OtherError at 0x7fba140f2520>,\n",
       "  <tidecv.errors.main_errors.OtherError at 0x7fba1409d040>,\n",
       "  <tidecv.errors.main_errors.BackgroundError at 0x7fba1409d0a0>,\n",
       "  <tidecv.errors.main_errors.BackgroundError at 0x7fba1409d100>,\n",
       "  <tidecv.errors.main_errors.BackgroundError at 0x7fba1409d160>,\n",
       "  <tidecv.errors.main_errors.OtherError at 0x7fba1409d1c0>,\n",
       "  <tidecv.errors.main_errors.ClassError at 0x7fba1409d220>,\n",
       "  <tidecv.errors.main_errors.BackgroundError at 0x7fba1409d250>,\n",
       "  <tidecv.errors.main_errors.OtherError at 0x7fba1409d2b0>,\n",
       "  <tidecv.errors.main_errors.OtherError at 0x7fba1409d310>,\n",
       "  <tidecv.errors.main_errors.OtherError at 0x7fba1409d370>,\n",
       "  <tidecv.errors.main_errors.BoxError at 0x7fba1409d3d0>,\n",
       "  <tidecv.errors.main_errors.OtherError at 0x7fba1409d400>,\n",
       "  <tidecv.errors.main_errors.OtherError at 0x7fba1409d460>,\n",
       "  <tidecv.errors.main_errors.BackgroundError at 0x7fba1409d4c0>,\n",
       "  <tidecv.errors.main_errors.BackgroundError at 0x7fba1409d520>,\n",
       "  <tidecv.errors.main_errors.DuplicateError at 0x7fba1409d580>,\n",
       "  <tidecv.errors.main_errors.OtherError at 0x7fba1409d5e0>,\n",
       "  <tidecv.errors.main_errors.BackgroundError at 0x7fba1409d640>,\n",
       "  <tidecv.errors.main_errors.OtherError at 0x7fba1409d6a0>,\n",
       "  <tidecv.errors.main_errors.OtherError at 0x7fba1409d700>,\n",
       "  <tidecv.errors.main_errors.BackgroundError at 0x7fba1409d760>,\n",
       "  <tidecv.errors.main_errors.BoxError at 0x7fba1409d7c0>,\n",
       "  <tidecv.errors.main_errors.BoxError at 0x7fba1409d7f0>,\n",
       "  <tidecv.errors.main_errors.BoxError at 0x7fba1409d820>,\n",
       "  <tidecv.errors.main_errors.OtherError at 0x7fba1409d850>,\n",
       "  <tidecv.errors.main_errors.BoxError at 0x7fba1409d8b0>,\n",
       "  <tidecv.errors.main_errors.OtherError at 0x7fba1409d8e0>],\n",
       " 'error_dict': {tidecv.errors.main_errors.ClassError: [<tidecv.errors.main_errors.ClassError at 0x7fba13afbbe0>,\n",
       "   <tidecv.errors.main_errors.ClassError at 0x7fba1409d220>],\n",
       "  tidecv.errors.main_errors.BoxError: [<tidecv.errors.main_errors.BoxError at 0x7fba14098e50>,\n",
       "   <tidecv.errors.main_errors.BoxError at 0x7fba14098fa0>,\n",
       "   <tidecv.errors.main_errors.BoxError at 0x7fba13afb6d0>,\n",
       "   <tidecv.errors.main_errors.BoxError at 0x7fba13afbb50>,\n",
       "   <tidecv.errors.main_errors.BoxError at 0x7fba1409d3d0>,\n",
       "   <tidecv.errors.main_errors.BoxError at 0x7fba1409d7c0>,\n",
       "   <tidecv.errors.main_errors.BoxError at 0x7fba1409d7f0>,\n",
       "   <tidecv.errors.main_errors.BoxError at 0x7fba1409d820>,\n",
       "   <tidecv.errors.main_errors.BoxError at 0x7fba1409d8b0>],\n",
       "  tidecv.errors.main_errors.OtherError: [<tidecv.errors.main_errors.OtherError at 0x7fba14098e20>,\n",
       "   <tidecv.errors.main_errors.OtherError at 0x7fba14098bb0>,\n",
       "   <tidecv.errors.main_errors.OtherError at 0x7fba14098cd0>,\n",
       "   <tidecv.errors.main_errors.OtherError at 0x7fba14098fd0>,\n",
       "   <tidecv.errors.main_errors.OtherError at 0x7fba14098eb0>,\n",
       "   <tidecv.errors.main_errors.OtherError at 0x7fba140d2580>,\n",
       "   <tidecv.errors.main_errors.OtherError at 0x7fba140d24c0>,\n",
       "   <tidecv.errors.main_errors.OtherError at 0x7fbb91fcb730>,\n",
       "   <tidecv.errors.main_errors.OtherError at 0x7fbb91fd6700>,\n",
       "   <tidecv.errors.main_errors.OtherError at 0x7fbb91fd61c0>,\n",
       "   <tidecv.errors.main_errors.OtherError at 0x7fbb99888b50>,\n",
       "   <tidecv.errors.main_errors.OtherError at 0x7fba13afbac0>,\n",
       "   <tidecv.errors.main_errors.OtherError at 0x7fba13afbc70>,\n",
       "   <tidecv.errors.main_errors.OtherError at 0x7fba13afb100>,\n",
       "   <tidecv.errors.main_errors.OtherError at 0x7fba13afb130>,\n",
       "   <tidecv.errors.main_errors.OtherError at 0x7fba13afbe50>,\n",
       "   <tidecv.errors.main_errors.OtherError at 0x7fba13afb310>,\n",
       "   <tidecv.errors.main_errors.OtherError at 0x7fba140f2940>,\n",
       "   <tidecv.errors.main_errors.OtherError at 0x7fba140f2e20>,\n",
       "   <tidecv.errors.main_errors.OtherError at 0x7fba140f2520>,\n",
       "   <tidecv.errors.main_errors.OtherError at 0x7fba1409d040>,\n",
       "   <tidecv.errors.main_errors.OtherError at 0x7fba1409d1c0>,\n",
       "   <tidecv.errors.main_errors.OtherError at 0x7fba1409d2b0>,\n",
       "   <tidecv.errors.main_errors.OtherError at 0x7fba1409d310>,\n",
       "   <tidecv.errors.main_errors.OtherError at 0x7fba1409d370>,\n",
       "   <tidecv.errors.main_errors.OtherError at 0x7fba1409d400>,\n",
       "   <tidecv.errors.main_errors.OtherError at 0x7fba1409d460>,\n",
       "   <tidecv.errors.main_errors.OtherError at 0x7fba1409d5e0>,\n",
       "   <tidecv.errors.main_errors.OtherError at 0x7fba1409d6a0>,\n",
       "   <tidecv.errors.main_errors.OtherError at 0x7fba1409d700>,\n",
       "   <tidecv.errors.main_errors.OtherError at 0x7fba1409d850>,\n",
       "   <tidecv.errors.main_errors.OtherError at 0x7fba1409d8e0>],\n",
       "  tidecv.errors.main_errors.DuplicateError: [<tidecv.errors.main_errors.DuplicateError at 0x7fba1409d580>],\n",
       "  tidecv.errors.main_errors.BackgroundError: [<tidecv.errors.main_errors.BackgroundError at 0x7fba14098ee0>,\n",
       "   <tidecv.errors.main_errors.BackgroundError at 0x7fba14098b80>,\n",
       "   <tidecv.errors.main_errors.BackgroundError at 0x7fba14098d00>,\n",
       "   <tidecv.errors.main_errors.BackgroundError at 0x7fba14098e80>,\n",
       "   <tidecv.errors.main_errors.BackgroundError at 0x7fbb91fd6610>,\n",
       "   <tidecv.errors.main_errors.BackgroundError at 0x7fbb99888970>,\n",
       "   <tidecv.errors.main_errors.BackgroundError at 0x7fbb998884f0>,\n",
       "   <tidecv.errors.main_errors.BackgroundError at 0x7fba14098ac0>,\n",
       "   <tidecv.errors.main_errors.BackgroundError at 0x7fba13afbbb0>,\n",
       "   <tidecv.errors.main_errors.BackgroundError at 0x7fba13afb160>,\n",
       "   <tidecv.errors.main_errors.BackgroundError at 0x7fba13afbfd0>,\n",
       "   <tidecv.errors.main_errors.BackgroundError at 0x7fba140f2ac0>,\n",
       "   <tidecv.errors.main_errors.BackgroundError at 0x7fba1409d0a0>,\n",
       "   <tidecv.errors.main_errors.BackgroundError at 0x7fba1409d100>,\n",
       "   <tidecv.errors.main_errors.BackgroundError at 0x7fba1409d160>,\n",
       "   <tidecv.errors.main_errors.BackgroundError at 0x7fba1409d250>,\n",
       "   <tidecv.errors.main_errors.BackgroundError at 0x7fba1409d4c0>,\n",
       "   <tidecv.errors.main_errors.BackgroundError at 0x7fba1409d520>,\n",
       "   <tidecv.errors.main_errors.BackgroundError at 0x7fba1409d640>,\n",
       "   <tidecv.errors.main_errors.BackgroundError at 0x7fba1409d760>],\n",
       "  tidecv.errors.main_errors.MissedError: []},\n",
       " 'ap_data': <tidecv.ap.ClassedAPDataObject at 0x7fba140988e0>,\n",
       " 'qualifiers': {},\n",
       " 'false_negatives': {1: [{'_id': 3,\n",
       "    'score': 1,\n",
       "    'image': 84190894,\n",
       "    'class': 1,\n",
       "    'bbox': [820.0, 466.0, 29.0, 55.0],\n",
       "    'mask': None,\n",
       "    'ignore': False}],\n",
       "  2: []},\n",
       " 'pos_thresh': 0.5,\n",
       " 'bg_thresh': 0.1,\n",
       " 'mode': 'bbox',\n",
       " 'max_dets': 100,\n",
       " 'run_errors': True,\n",
       " 'ap': 68.71758604431871}"
      ]
     },
     "execution_count": 12,
     "metadata": {},
     "output_type": "execute_result"
    }
   ],
   "source": [
    "tide_run.__dict__"
   ]
  },
  {
   "cell_type": "code",
   "execution_count": 28,
   "id": "5dd05949-24c6-4632-8aa5-b6be225fc8b4",
   "metadata": {
    "collapsed": true,
    "jupyter": {
     "outputs_hidden": true
    },
    "tags": []
   },
   "outputs": [
    {
     "data": {
      "text/plain": [
       "{'gt': <tidecv.data.Data at 0x7fba14098910>,\n",
       " 'preds': <tidecv.data.Data at 0x7fba14098970>,\n",
       " 'errors': [],\n",
       " 'error_dict': {tidecv.errors.main_errors.ClassError: [],\n",
       "  tidecv.errors.main_errors.BoxError: [],\n",
       "  tidecv.errors.main_errors.OtherError: [],\n",
       "  tidecv.errors.main_errors.DuplicateError: [],\n",
       "  tidecv.errors.main_errors.BackgroundError: [],\n",
       "  tidecv.errors.main_errors.MissedError: []},\n",
       " 'ap_data': <tidecv.ap.ClassedAPDataObject at 0x7fba14098c70>,\n",
       " 'qualifiers': {},\n",
       " 'false_negatives': {1: [], 2: []},\n",
       " 'pos_thresh': 0.55,\n",
       " 'bg_thresh': 0.1,\n",
       " 'mode': 'bbox',\n",
       " 'max_dets': 100,\n",
       " 'run_errors': False,\n",
       " 'ap': 68.71758604431871}"
      ]
     },
     "execution_count": 28,
     "metadata": {},
     "output_type": "execute_result"
    }
   ],
   "source": [
    "tide.run_thresholds[\"1667856991.9132445_detection\"][1].__dict__"
   ]
  },
  {
   "cell_type": "code",
   "execution_count": 13,
   "id": "7808c684-f041-4c21-87c5-32ca6c2e8268",
   "metadata": {},
   "outputs": [
    {
     "data": {
      "text/plain": [
       "(<tidecv.data.Data at 0x7fba14098910>, <tidecv.data.Data at 0x7fba14098910>)"
      ]
     },
     "execution_count": 13,
     "metadata": {},
     "output_type": "execute_result"
    }
   ],
   "source": [
    "tide.run_thresholds[\"1667856991.9132445_detection\"][0].gt, tide.run_thresholds[\"1667856991.9132445_detection\"][1].gt"
   ]
  },
  {
   "cell_type": "code",
   "execution_count": 14,
   "id": "c4524c7b-e143-4b88-ad2c-eebfdaffcd07",
   "metadata": {},
   "outputs": [
    {
     "data": {
      "text/plain": [
       "(<tidecv.data.Data at 0x7fba14098970>, <tidecv.data.Data at 0x7fba14098970>)"
      ]
     },
     "execution_count": 14,
     "metadata": {},
     "output_type": "execute_result"
    }
   ],
   "source": [
    "tide.run_thresholds[\"1667856991.9132445_detection\"][0].preds, tide.run_thresholds[\"1667856991.9132445_detection\"][1].preds"
   ]
  },
  {
   "cell_type": "code",
   "execution_count": 15,
   "id": "a1b92eb7-b779-489e-b03a-027a5081a784",
   "metadata": {},
   "outputs": [
    {
     "data": {
      "text/plain": [
       "(<tidecv.ap.ClassedAPDataObject at 0x7fba140988e0>,\n",
       " <tidecv.ap.ClassedAPDataObject at 0x7fba14098c70>)"
      ]
     },
     "execution_count": 15,
     "metadata": {},
     "output_type": "execute_result"
    }
   ],
   "source": [
    "tide.run_thresholds[\"1667856991.9132445_detection\"][0].ap_data, tide.run_thresholds[\"1667856991.9132445_detection\"][1].ap_data"
   ]
  },
  {
   "cell_type": "code",
   "execution_count": 16,
   "id": "16f3fc07-1fe9-45cb-bc78-40d0a061a061",
   "metadata": {},
   "outputs": [
    {
     "data": {
      "text/plain": [
       "{'objs': defaultdict(<function tidecv.ap.ClassedAPDataObject.__init__.<locals>.<lambda>()>,\n",
       "             {1: <tidecv.ap.APDataObject at 0x7fba14098ca0>,\n",
       "              2: <tidecv.ap.APDataObject at 0x7fba14098df0>})}"
      ]
     },
     "execution_count": 16,
     "metadata": {},
     "output_type": "execute_result"
    }
   ],
   "source": [
    "tide.run_thresholds[\"1667856991.9132445_detection\"][0].ap_data.__dict__"
   ]
  },
  {
   "cell_type": "code",
   "execution_count": 18,
   "id": "b0f23033-e857-4533-bc08-db7f5422408e",
   "metadata": {
    "collapsed": true,
    "jupyter": {
     "outputs_hidden": true
    },
    "tags": []
   },
   "outputs": [
    {
     "data": {
      "text/plain": [
       "{'data_points': {1: (0.9994326,\n",
       "   True,\n",
       "   {'iou': 0.9245518758479946, 'used': True, 'matched_with': 5}),\n",
       "  2: (0.999106,\n",
       "   True,\n",
       "   {'iou': 0.7977648520124891, 'used': True, 'matched_with': 7}),\n",
       "  3: (0.9963212,\n",
       "   True,\n",
       "   {'iou': 0.8995216260955201, 'used': True, 'matched_with': 0}),\n",
       "  5: (0.97808826,\n",
       "   True,\n",
       "   {'iou': 0.571368137327256, 'used': True, 'matched_with': 2}),\n",
       "  6: (0.97474253,\n",
       "   True,\n",
       "   {'iou': 0.7370450092844837, 'used': True, 'matched_with': 6}),\n",
       "  7: (0.88413954, False, {'iou': 0.45835275170233336, 'used': False}),\n",
       "  29: (0.16692981,\n",
       "   True,\n",
       "   {'iou': 0.6386969558490525, 'used': True, 'matched_with': 1}),\n",
       "  37: (0.12395082, False, {'iou': 0.0, 'used': False}),\n",
       "  39: (0.11998381, False, {'iou': 0.3470018492916188, 'used': False}),\n",
       "  51: (0.07773191, False, {'iou': 0.0, 'used': False}),\n",
       "  55: (0.07287586, False, {'iou': 0.3008712414642878, 'used': False}),\n",
       "  57: (0.07231914,\n",
       "   True,\n",
       "   {'iou': 0.634780629303345, 'used': True, 'matched_with': 4}),\n",
       "  66: (0.059268743, False, {'iou': 0.0754727303900228, 'used': False}),\n",
       "  67: (0.054108314, False, {'iou': 0.4253772877883419, 'used': False}),\n",
       "  68: (0.052434698, False, {'iou': 0.2808309871243767, 'used': False}),\n",
       "  71: (0.05045995, False, {'iou': 0.4316418117847679, 'used': False})},\n",
       " 'false_negatives': {3},\n",
       " 'num_gt_positives': 8,\n",
       " 'curve': (array([0.  , 0.01, 0.02, 0.03, 0.04, 0.05, 0.06, 0.07, 0.08, 0.09, 0.1 ,\n",
       "         0.11, 0.12, 0.13, 0.14, 0.15, 0.16, 0.17, 0.18, 0.19, 0.2 , 0.21,\n",
       "         0.22, 0.23, 0.24, 0.25, 0.26, 0.27, 0.28, 0.29, 0.3 , 0.31, 0.32,\n",
       "         0.33, 0.34, 0.35, 0.36, 0.37, 0.38, 0.39, 0.4 , 0.41, 0.42, 0.43,\n",
       "         0.44, 0.45, 0.46, 0.47, 0.48, 0.49, 0.5 , 0.51, 0.52, 0.53, 0.54,\n",
       "         0.55, 0.56, 0.57, 0.58, 0.59, 0.6 , 0.61, 0.62, 0.63, 0.64, 0.65,\n",
       "         0.66, 0.67, 0.68, 0.69, 0.7 , 0.71, 0.72, 0.73, 0.74, 0.75, 0.76,\n",
       "         0.77, 0.78, 0.79, 0.8 , 0.81, 0.82, 0.83, 0.84, 0.85, 0.86, 0.87,\n",
       "         0.88, 0.89, 0.9 , 0.91, 0.92, 0.93, 0.94, 0.95, 0.96, 0.97, 0.98,\n",
       "         0.99, 1.  ]),\n",
       "  [1.0,\n",
       "   1.0,\n",
       "   1.0,\n",
       "   1.0,\n",
       "   1.0,\n",
       "   1.0,\n",
       "   1.0,\n",
       "   1.0,\n",
       "   1.0,\n",
       "   1.0,\n",
       "   1.0,\n",
       "   1.0,\n",
       "   1.0,\n",
       "   1.0,\n",
       "   1.0,\n",
       "   1.0,\n",
       "   1.0,\n",
       "   1.0,\n",
       "   1.0,\n",
       "   1.0,\n",
       "   1.0,\n",
       "   1.0,\n",
       "   1.0,\n",
       "   1.0,\n",
       "   1.0,\n",
       "   1.0,\n",
       "   1.0,\n",
       "   1.0,\n",
       "   1.0,\n",
       "   1.0,\n",
       "   1.0,\n",
       "   1.0,\n",
       "   1.0,\n",
       "   1.0,\n",
       "   1.0,\n",
       "   1.0,\n",
       "   1.0,\n",
       "   1.0,\n",
       "   1.0,\n",
       "   1.0,\n",
       "   1.0,\n",
       "   1.0,\n",
       "   1.0,\n",
       "   1.0,\n",
       "   1.0,\n",
       "   1.0,\n",
       "   1.0,\n",
       "   1.0,\n",
       "   1.0,\n",
       "   1.0,\n",
       "   1.0,\n",
       "   1.0,\n",
       "   1.0,\n",
       "   1.0,\n",
       "   1.0,\n",
       "   1.0,\n",
       "   1.0,\n",
       "   1.0,\n",
       "   1.0,\n",
       "   1.0,\n",
       "   1.0,\n",
       "   1.0,\n",
       "   1.0,\n",
       "   0.8571428571428571,\n",
       "   0.8571428571428571,\n",
       "   0.8571428571428571,\n",
       "   0.8571428571428571,\n",
       "   0.8571428571428571,\n",
       "   0.8571428571428571,\n",
       "   0.8571428571428571,\n",
       "   0.8571428571428571,\n",
       "   0.8571428571428571,\n",
       "   0.8571428571428571,\n",
       "   0.8571428571428571,\n",
       "   0.8571428571428571,\n",
       "   0.8571428571428571,\n",
       "   0.5833333333333334,\n",
       "   0.5833333333333334,\n",
       "   0.5833333333333334,\n",
       "   0.5833333333333334,\n",
       "   0.5833333333333334,\n",
       "   0.5833333333333334,\n",
       "   0.5833333333333334,\n",
       "   0.5833333333333334,\n",
       "   0.5833333333333334,\n",
       "   0.5833333333333334,\n",
       "   0.5833333333333334,\n",
       "   0.5833333333333334,\n",
       "   0,\n",
       "   0,\n",
       "   0,\n",
       "   0,\n",
       "   0,\n",
       "   0,\n",
       "   0,\n",
       "   0,\n",
       "   0,\n",
       "   0,\n",
       "   0,\n",
       "   0,\n",
       "   0])}"
      ]
     },
     "execution_count": 18,
     "metadata": {},
     "output_type": "execute_result"
    }
   ],
   "source": [
    "tide.run_thresholds[\"1667856991.9132445_detection\"][0].ap_data.objs[1].__dict__"
   ]
  },
  {
   "cell_type": "code",
   "execution_count": 19,
   "id": "f6f5f34a-4be8-48b0-ae18-e44c0765e0ad",
   "metadata": {
    "collapsed": true,
    "jupyter": {
     "outputs_hidden": true
    },
    "tags": []
   },
   "outputs": [
    {
     "data": {
      "text/plain": [
       "{'data_points': {0: (0.9997086,\n",
       "   True,\n",
       "   {'iou': 0.6739147966805912, 'used': True, 'matched_with': 8}),\n",
       "  4: (0.99338573, False, {'iou': 0.0, 'used': False}),\n",
       "  8: (0.8227306, False, {'iou': 0.0, 'used': False}),\n",
       "  9: (0.8161569, False, {'iou': 0.0, 'used': False}),\n",
       "  10: (0.7570994, False, {'iou': 0.0, 'used': False}),\n",
       "  11: (0.65207857, False, {'iou': 0.0, 'used': False}),\n",
       "  12: (0.5776314, False, {'iou': 0.0, 'used': False}),\n",
       "  13: (0.5255517, False, {'iou': 0.0, 'used': False}),\n",
       "  14: (0.47226134, False, {'iou': 0.0, 'used': False}),\n",
       "  15: (0.4361815, False, {'iou': 0.0, 'used': False}),\n",
       "  16: (0.38184935, False, {'iou': 0.0, 'used': False}),\n",
       "  17: (0.3669223, False, {'iou': 0.0, 'used': False}),\n",
       "  18: (0.35739827, False, {'iou': 0.0, 'used': False}),\n",
       "  19: (0.34083498, False, {'iou': 0.0, 'used': False}),\n",
       "  20: (0.32284287,\n",
       "   True,\n",
       "   {'iou': 0.8761788742840252, 'used': True, 'matched_with': 9}),\n",
       "  21: (0.31888455, False, {'iou': 0.0, 'used': False}),\n",
       "  22: (0.25066376, False, {'iou': 0.0, 'used': False}),\n",
       "  23: (0.24068286, False, {'iou': 0.0, 'used': False}),\n",
       "  24: (0.2218957, False, {'iou': 0.0, 'used': False}),\n",
       "  25: (0.21014345, False, {'iou': 0.0, 'used': False}),\n",
       "  26: (0.18746415, False, {'iou': 0.4114919205989019, 'used': False}),\n",
       "  27: (0.17608641, False, {'iou': 0.0, 'used': False}),\n",
       "  28: (0.1727878, False, {'iou': 0.0, 'used': False}),\n",
       "  30: (0.15930708, False, {'iou': 0.0, 'used': False}),\n",
       "  31: (0.15308298, False, {'iou': 0.0, 'used': False}),\n",
       "  32: (0.14736897, False, {'iou': 0.0, 'used': False}),\n",
       "  33: (0.14574958, False, {'iou': 0.0, 'used': False}),\n",
       "  34: (0.14466187, False, {'iou': 0.0, 'used': False}),\n",
       "  35: (0.14417702, False, {'iou': 0.0, 'used': False}),\n",
       "  36: (0.13974877, False, {'iou': 0.3718480918137483, 'used': False}),\n",
       "  38: (0.12319865, False, {'iou': 0.0, 'used': False}),\n",
       "  40: (0.1149265, False, {'iou': 0.0, 'used': False}),\n",
       "  41: (0.113957904, False, {'iou': 0.0, 'used': False}),\n",
       "  42: (0.11223273, False, {'iou': 0.0, 'used': False}),\n",
       "  43: (0.11196663, False, {'iou': 0.0, 'used': False}),\n",
       "  44: (0.10621009, False, {'iou': 0.0, 'used': False}),\n",
       "  45: (0.105721265, False, {'iou': 0.0, 'used': False}),\n",
       "  46: (0.103725776, False, {'iou': 0.0, 'used': False}),\n",
       "  47: (0.09972889, False, {'iou': 0.005340271930103935, 'used': False}),\n",
       "  48: (0.08174308, False, {'iou': 0.0, 'used': False}),\n",
       "  49: (0.08132034, False, {'iou': 0.0, 'used': False}),\n",
       "  50: (0.08122449, False, {'iou': 0.0, 'used': False}),\n",
       "  52: (0.0758915, False, {'iou': 0.0, 'used': False}),\n",
       "  53: (0.07491856, False, {'iou': 0.0, 'used': False}),\n",
       "  54: (0.07320261, False, {'iou': 0.0, 'used': False}),\n",
       "  56: (0.07237085, False, {'iou': 0.0, 'used': False}),\n",
       "  58: (0.071023874, False, {'iou': 0.0, 'used': False}),\n",
       "  59: (0.068310894, False, {'iou': 0.0, 'used': False}),\n",
       "  60: (0.06655449, False, {'iou': 0.0, 'used': False}),\n",
       "  61: (0.06653325, False, {'iou': 0.6946737553674742, 'used': False}),\n",
       "  62: (0.061623123, False, {'iou': 0.0, 'used': False}),\n",
       "  63: (0.061422653, False, {'iou': 0.0, 'used': False}),\n",
       "  64: (0.061135598, False, {'iou': 0.0, 'used': False}),\n",
       "  65: (0.060745563, False, {'iou': 0.0, 'used': False}),\n",
       "  69: (0.05090782, False, {'iou': 0.31235353757921897, 'used': False}),\n",
       "  70: (0.05066293, False, {'iou': 0.0, 'used': False}),\n",
       "  72: (0.050375838, False, {'iou': 0.0, 'used': False})},\n",
       " 'false_negatives': set(),\n",
       " 'num_gt_positives': 2,\n",
       " 'curve': (array([0.  , 0.01, 0.02, 0.03, 0.04, 0.05, 0.06, 0.07, 0.08, 0.09, 0.1 ,\n",
       "         0.11, 0.12, 0.13, 0.14, 0.15, 0.16, 0.17, 0.18, 0.19, 0.2 , 0.21,\n",
       "         0.22, 0.23, 0.24, 0.25, 0.26, 0.27, 0.28, 0.29, 0.3 , 0.31, 0.32,\n",
       "         0.33, 0.34, 0.35, 0.36, 0.37, 0.38, 0.39, 0.4 , 0.41, 0.42, 0.43,\n",
       "         0.44, 0.45, 0.46, 0.47, 0.48, 0.49, 0.5 , 0.51, 0.52, 0.53, 0.54,\n",
       "         0.55, 0.56, 0.57, 0.58, 0.59, 0.6 , 0.61, 0.62, 0.63, 0.64, 0.65,\n",
       "         0.66, 0.67, 0.68, 0.69, 0.7 , 0.71, 0.72, 0.73, 0.74, 0.75, 0.76,\n",
       "         0.77, 0.78, 0.79, 0.8 , 0.81, 0.82, 0.83, 0.84, 0.85, 0.86, 0.87,\n",
       "         0.88, 0.89, 0.9 , 0.91, 0.92, 0.93, 0.94, 0.95, 0.96, 0.97, 0.98,\n",
       "         0.99, 1.  ]),\n",
       "  [1.0,\n",
       "   1.0,\n",
       "   1.0,\n",
       "   1.0,\n",
       "   1.0,\n",
       "   1.0,\n",
       "   1.0,\n",
       "   1.0,\n",
       "   1.0,\n",
       "   1.0,\n",
       "   1.0,\n",
       "   1.0,\n",
       "   1.0,\n",
       "   1.0,\n",
       "   1.0,\n",
       "   1.0,\n",
       "   1.0,\n",
       "   1.0,\n",
       "   1.0,\n",
       "   1.0,\n",
       "   1.0,\n",
       "   1.0,\n",
       "   1.0,\n",
       "   1.0,\n",
       "   1.0,\n",
       "   1.0,\n",
       "   1.0,\n",
       "   1.0,\n",
       "   1.0,\n",
       "   1.0,\n",
       "   1.0,\n",
       "   1.0,\n",
       "   1.0,\n",
       "   1.0,\n",
       "   1.0,\n",
       "   1.0,\n",
       "   1.0,\n",
       "   1.0,\n",
       "   1.0,\n",
       "   1.0,\n",
       "   1.0,\n",
       "   1.0,\n",
       "   1.0,\n",
       "   1.0,\n",
       "   1.0,\n",
       "   1.0,\n",
       "   1.0,\n",
       "   1.0,\n",
       "   1.0,\n",
       "   1.0,\n",
       "   1.0,\n",
       "   0.13333333333333333,\n",
       "   0.13333333333333333,\n",
       "   0.13333333333333333,\n",
       "   0.13333333333333333,\n",
       "   0.13333333333333333,\n",
       "   0.13333333333333333,\n",
       "   0.13333333333333333,\n",
       "   0.13333333333333333,\n",
       "   0.13333333333333333,\n",
       "   0.13333333333333333,\n",
       "   0.13333333333333333,\n",
       "   0.13333333333333333,\n",
       "   0.13333333333333333,\n",
       "   0.13333333333333333,\n",
       "   0.13333333333333333,\n",
       "   0.13333333333333333,\n",
       "   0.13333333333333333,\n",
       "   0.13333333333333333,\n",
       "   0.13333333333333333,\n",
       "   0.13333333333333333,\n",
       "   0.13333333333333333,\n",
       "   0.13333333333333333,\n",
       "   0.13333333333333333,\n",
       "   0.13333333333333333,\n",
       "   0.13333333333333333,\n",
       "   0.13333333333333333,\n",
       "   0.13333333333333333,\n",
       "   0.13333333333333333,\n",
       "   0.13333333333333333,\n",
       "   0.13333333333333333,\n",
       "   0.13333333333333333,\n",
       "   0.13333333333333333,\n",
       "   0.13333333333333333,\n",
       "   0.13333333333333333,\n",
       "   0.13333333333333333,\n",
       "   0.13333333333333333,\n",
       "   0.13333333333333333,\n",
       "   0.13333333333333333,\n",
       "   0.13333333333333333,\n",
       "   0.13333333333333333,\n",
       "   0.13333333333333333,\n",
       "   0.13333333333333333,\n",
       "   0.13333333333333333,\n",
       "   0.13333333333333333,\n",
       "   0.13333333333333333,\n",
       "   0.13333333333333333,\n",
       "   0.13333333333333333,\n",
       "   0.13333333333333333,\n",
       "   0.13333333333333333,\n",
       "   0.13333333333333333])}"
      ]
     },
     "execution_count": 19,
     "metadata": {},
     "output_type": "execute_result"
    }
   ],
   "source": [
    "tide.run_thresholds[\"1667856991.9132445_detection\"][0].ap_data.objs[2].__dict__"
   ]
  },
  {
   "cell_type": "code",
   "execution_count": 20,
   "id": "e5d20371-83bd-4d4f-9ffb-df8909f43874",
   "metadata": {},
   "outputs": [
    {
     "data": {
      "text/plain": [
       "73"
      ]
     },
     "execution_count": 20,
     "metadata": {},
     "output_type": "execute_result"
    }
   ],
   "source": [
    "len(s.y_pred_adv[0][\"labels\"])"
   ]
  },
  {
   "cell_type": "code",
   "execution_count": 24,
   "id": "f85b29e6-1877-49cd-b3b5-9e6c2e462de7",
   "metadata": {},
   "outputs": [
    {
     "data": {
      "text/plain": [
       "(64, 0)"
      ]
     },
     "execution_count": 24,
     "metadata": {},
     "output_type": "execute_result"
    }
   ],
   "source": [
    "len(tide.run_thresholds[\"1667856991.9132445_detection\"][0].errors), len(tide.run_thresholds[\"1667856991.9132445_detection\"][1].errors) # len(errors) seems to be 0 for all i > 0"
   ]
  },
  {
   "cell_type": "code",
   "execution_count": 25,
   "id": "2b12864c-eeca-452f-bcb3-d43278a81e02",
   "metadata": {},
   "outputs": [
    {
     "data": {
      "text/plain": [
       "{tidecv.errors.main_errors.ClassError: [],\n",
       " tidecv.errors.main_errors.BoxError: [],\n",
       " tidecv.errors.main_errors.OtherError: [],\n",
       " tidecv.errors.main_errors.DuplicateError: [],\n",
       " tidecv.errors.main_errors.BackgroundError: [],\n",
       " tidecv.errors.main_errors.MissedError: []}"
      ]
     },
     "execution_count": 25,
     "metadata": {},
     "output_type": "execute_result"
    }
   ],
   "source": [
    "tide.run_thresholds[\"1667856991.9132445_detection\"][1].error_dict"
   ]
  },
  {
   "cell_type": "code",
   "execution_count": 27,
   "id": "50f12950-5bd5-4bdb-b3e2-5fbce69324d7",
   "metadata": {},
   "outputs": [
    {
     "data": {
      "text/plain": [
       "[2, 9, 32, 1, 20, 0]"
      ]
     },
     "execution_count": 27,
     "metadata": {},
     "output_type": "execute_result"
    }
   ],
   "source": [
    "[len(v) for v in tide.run_thresholds[\"1667856991.9132445_detection\"][0].error_dict.values()]"
   ]
  },
  {
   "cell_type": "markdown",
   "id": "07dc99ee-423c-42d5-8a75-002df7ef1aa1",
   "metadata": {
    "jp-MarkdownHeadingCollapsed": true,
    "tags": []
   },
   "source": [
    "### Updated Conversion Process"
   ]
  },
  {
   "cell_type": "markdown",
   "id": "5d778bd5-d1e3-4687-8ede-4d299fb42ea6",
   "metadata": {},
   "source": [
    "`y_list` and `y_pred_list` can have more than one element\n",
    "- test with `num_eval_batches=2`"
   ]
  },
  {
   "cell_type": "code",
   "execution_count": 1,
   "id": "b483afb4-d872-4043-ba8d-84b6a24e41c0",
   "metadata": {},
   "outputs": [
    {
     "name": "stdout",
     "output_type": "stream",
     "text": [
      "2022-11-09 15:58:13  0s \u001b[1mINFO    \u001b[0m \u001b[36marmory.delayed_imports\u001b[0m:\u001b[36m<module>\u001b[0m:\u001b[36m7\u001b[0m Importing and configuring torch, tensorflow, and art, if available. This may take some time.\n",
      "2022-11-09 15:58:15  2s \u001b[1mINFO    \u001b[0m \u001b[36marmory.delayed_imports\u001b[0m:\u001b[36m<module>\u001b[0m:\u001b[36m30\u001b[0m Setting tf.config.experimental.set_memory_growth to True on all GPUs\n",
      "2022-11-09 15:58:15  2s \u001b[1mINFO    \u001b[0m \u001b[36mart.config\u001b[0m:\u001b[36mset_data_path\u001b[0m:\u001b[36m55\u001b[0m set ART_DATA_PATH to /tmp/.art/data\n",
      "2022-11-09 15:58:16  2s \u001b[1mINFO    \u001b[0m \u001b[36mart.config\u001b[0m:\u001b[36mset_data_path\u001b[0m:\u001b[36m55\u001b[0m set ART_DATA_PATH to /armory/saved_models/art\n",
      "2022-11-09 15:58:16  3s \u001b[1mINFO    \u001b[0m \u001b[36marmory.scenarios.main\u001b[0m:\u001b[36m_scenario_setup\u001b[0m:\u001b[36m37\u001b[0m this repo is being updated\n",
      "2022-11-09 15:58:16  3s \u001b[31m\u001b[1mERROR   \u001b[0m \u001b[36marmory.scenarios.main\u001b[0m:\u001b[36m_scenario_setup\u001b[0m:\u001b[36m44\u001b[0m eval_id not in config. Inserting current timestamp 1668009496.7303746\n",
      "2022-11-09 15:58:16  3s \u001b[1mINFO    \u001b[0m \u001b[36marmory.scenarios.main\u001b[0m:\u001b[36m_scenario_setup\u001b[0m:\u001b[36m52\u001b[0m armory outputs and logs will be written to /armory/outputs/1668009496.7303746\n",
      "2022-11-09 15:58:17  3s \u001b[1mINFO    \u001b[0m \u001b[36marmory.data.utils\u001b[0m:\u001b[36mmaybe_download_weights_from_s3\u001b[0m:\u001b[36m47\u001b[0m Using available carla_rgb_weights_eval5.pt in Armory `saved_model_dir`\n",
      "2022-11-09 15:58:21  7s \u001b[1mINFO    \u001b[0m \u001b[36marmory.scenarios.scenario\u001b[0m:\u001b[36mload_dataset\u001b[0m:\u001b[36m205\u001b[0m Loading test dataset carla_obj_det_dev...\n"
     ]
    }
   ],
   "source": [
    "from armory.scenarios.main import get as get_scenario # restarted kernel\n",
    "\n",
    "s = get_scenario(\n",
    "    \"/armory/tmp/2022-11-03T180812.020999/carla_obj_det_adversarialpatch_undefended.json\",\n",
    "    # num_eval_batches=1,\n",
    "    num_eval_batches=2,\n",
    ").load()"
   ]
  },
  {
   "cell_type": "code",
   "execution_count": 2,
   "id": "7d51c760-22a6-47d9-95cc-243d202617f0",
   "metadata": {},
   "outputs": [
    {
     "data": {
      "application/vnd.jupyter.widget-view+json": {
       "model_id": "3552790a428f41cc9f7e2b606f2e75f0",
       "version_major": 2,
       "version_minor": 0
      },
      "text/plain": [
       "Adversarial Patch PyTorch:   0%|          | 0/5 [00:00<?, ?it/s]"
      ]
     },
     "metadata": {},
     "output_type": "display_data"
    },
    {
     "name": "stderr",
     "output_type": "stream",
     "text": [
      "/opt/conda/lib/python3.8/site-packages/torchvision/transforms/functional.py:404: UserWarning: Argument interpolation should be of type InterpolationMode instead of int. Please, use InterpolationMode enum.\n",
      "  warnings.warn(\n",
      "/opt/conda/lib/python3.8/site-packages/torchvision/transforms/functional.py:654: UserWarning: Argument interpolation should be of type InterpolationMode instead of int. Please, use InterpolationMode enum.\n",
      "  warnings.warn(\n",
      "/opt/conda/lib/python3.8/site-packages/torch/functional.py:445: UserWarning: torch.meshgrid: in an upcoming release, it will be required to pass the indexing argument. (Triggered internally at  /opt/conda/conda-bld/pytorch_1640811806235/work/aten/src/ATen/native/TensorShape.cpp:2157.)\n",
      "  return _VF.meshgrid(tensors, **kwargs)  # type: ignore[attr-defined]\n"
     ]
    },
    {
     "name": "stdout",
     "output_type": "stream",
     "text": [
      "2022-11-09 15:58:27 14s \u001b[32m\u001b[1mSUCCESS \u001b[0m \u001b[36marmory.instrument.config\u001b[0m:\u001b[36m_write\u001b[0m:\u001b[36m224\u001b[0m adversarial_carla_od_disappearance_rate on adversarial examples w.r.t. ground truth labels: 40.00%\n",
      "2022-11-09 15:58:27 14s \u001b[32m\u001b[1mSUCCESS \u001b[0m \u001b[36marmory.instrument.config\u001b[0m:\u001b[36m_write\u001b[0m:\u001b[36m224\u001b[0m adversarial_carla_od_hallucinations_per_image on adversarial examples w.r.t. ground truth labels: 5.0\n",
      "2022-11-09 15:58:27 14s \u001b[32m\u001b[1mSUCCESS \u001b[0m \u001b[36marmory.instrument.config\u001b[0m:\u001b[36m_write\u001b[0m:\u001b[36m224\u001b[0m adversarial_carla_od_misclassification_rate on adversarial examples w.r.t. ground truth labels: 0.00%\n",
      "2022-11-09 15:58:27 14s \u001b[32m\u001b[1mSUCCESS \u001b[0m \u001b[36marmory.instrument.config\u001b[0m:\u001b[36m_write\u001b[0m:\u001b[36m224\u001b[0m adversarial_carla_od_true_positive_rate on adversarial examples w.r.t. ground truth labels: 60.00%\n",
      "len(y[\"labels\"]): 10, len(data_ground_truth.annotations): 10\n",
      "len(y_pred[\"labels\"]): 62, len(data_detection.annotations): 62\n",
      "-- detection --\n",
      "\n",
      "bbox AP @ [50-95]: 34.99\n",
      "                                         bbox AP @ [50-95]\n",
      "===================================================================================================\n",
      "  Thresh       50       55       60       65       70       75       80       85       90       95  \n",
      "---------------------------------------------------------------------------------------------------\n",
      "    AP      68.14    68.14    66.37    60.56    26.26    26.26    13.88    13.88     6.44     0.00  \n",
      "===================================================================================================\n",
      "\n",
      "                         Main Errors\n",
      "=============================================================\n",
      "  Type      Cls      Loc     Both     Dupe      Bkg     Miss  \n",
      "-------------------------------------------------------------\n",
      "   dAP     4.62     0.00    10.31     0.92     0.88     4.88  \n",
      "=============================================================\n",
      "\n",
      "        Special Error\n",
      "=============================\n",
      "  Type   FalsePos   FalseNeg  \n",
      "-----------------------------\n",
      "   dAP      19.48      12.09  \n",
      "=============================\n",
      "\n",
      "2022-11-09 15:58:27 14s \u001b[32m\u001b[1mSUCCESS \u001b[0m \u001b[36marmory.instrument.config\u001b[0m:\u001b[36m_write\u001b[0m:\u001b[36m224\u001b[0m adversarial_object_detection_mAP_tide on adversarial examples w.r.t. ground truth labels: 68.50%\n"
     ]
    },
    {
     "data": {
      "application/vnd.jupyter.widget-view+json": {
       "model_id": "8e5669b9d84b429795f07a57ac705af9",
       "version_major": 2,
       "version_minor": 0
      },
      "text/plain": [
       "Adversarial Patch PyTorch:   0%|          | 0/5 [00:00<?, ?it/s]"
      ]
     },
     "metadata": {},
     "output_type": "display_data"
    },
    {
     "name": "stdout",
     "output_type": "stream",
     "text": [
      "2022-11-09 15:58:29 16s \u001b[32m\u001b[1mSUCCESS \u001b[0m \u001b[36marmory.instrument.config\u001b[0m:\u001b[36m_write\u001b[0m:\u001b[36m224\u001b[0m adversarial_carla_od_disappearance_rate on adversarial examples w.r.t. ground truth labels: 21.43%\n",
      "2022-11-09 15:58:29 16s \u001b[32m\u001b[1mSUCCESS \u001b[0m \u001b[36marmory.instrument.config\u001b[0m:\u001b[36m_write\u001b[0m:\u001b[36m224\u001b[0m adversarial_carla_od_hallucinations_per_image on adversarial examples w.r.t. ground truth labels: 4.0\n",
      "2022-11-09 15:58:29 16s \u001b[32m\u001b[1mSUCCESS \u001b[0m \u001b[36marmory.instrument.config\u001b[0m:\u001b[36m_write\u001b[0m:\u001b[36m224\u001b[0m adversarial_carla_od_misclassification_rate on adversarial examples w.r.t. ground truth labels: 0.00%\n",
      "2022-11-09 15:58:29 16s \u001b[32m\u001b[1mSUCCESS \u001b[0m \u001b[36marmory.instrument.config\u001b[0m:\u001b[36m_write\u001b[0m:\u001b[36m224\u001b[0m adversarial_carla_od_true_positive_rate on adversarial examples w.r.t. ground truth labels: 78.57%\n",
      "len(y[\"labels\"]): 14, len(data_ground_truth.annotations): 14\n",
      "len(y_pred[\"labels\"]): 41, len(data_detection.annotations): 41\n",
      "-- detection --\n",
      "\n",
      "bbox AP @ [50-95]: 51.96\n",
      "                                         bbox AP @ [50-95]\n",
      "===================================================================================================\n",
      "  Thresh       50       55       60       65       70       75       80       85       90       95  \n",
      "---------------------------------------------------------------------------------------------------\n",
      "    AP      85.64    85.64    85.64    72.60    52.90    52.90    33.59    25.33    25.33     0.00  \n",
      "===================================================================================================\n",
      "\n",
      "                         Main Errors\n",
      "=============================================================\n",
      "  Type      Cls      Loc     Both     Dupe      Bkg     Miss  \n",
      "-------------------------------------------------------------\n",
      "   dAP     0.00     0.00     0.00     0.00     0.50    13.64  \n",
      "=============================================================\n",
      "\n",
      "        Special Error\n",
      "=============================\n",
      "  Type   FalsePos   FalseNeg  \n",
      "-----------------------------\n",
      "   dAP       0.50      13.64  \n",
      "=============================\n",
      "\n",
      "2022-11-09 15:58:29 16s \u001b[32m\u001b[1mSUCCESS \u001b[0m \u001b[36marmory.instrument.config\u001b[0m:\u001b[36m_write\u001b[0m:\u001b[36m224\u001b[0m adversarial_object_detection_mAP_tide on adversarial examples w.r.t. ground truth labels: 86.00%\n"
     ]
    }
   ],
   "source": [
    "# note matching numbers from print statements\n",
    "s.load_attack()\n",
    "s.next()\n",
    "s.run_attack()\n",
    "s.next()\n",
    "s.run_attack()"
   ]
  },
  {
   "cell_type": "code",
   "execution_count": 3,
   "id": "aa0a72a0-0c20-45f5-9f4d-359970cd5cf4",
   "metadata": {},
   "outputs": [
    {
     "name": "stdout",
     "output_type": "stream",
     "text": [
      "2022-11-09 15:58:43 30s \u001b[33m\u001b[1mWARNING \u001b[0m \u001b[36marmory.instrument.instrument\u001b[0m:\u001b[36mfinalize\u001b[0m:\u001b[36m590\u001b[0m Meter 'benign_input_to_carla_od_AP_per_class' was never measured. The following args were never set: ['scenario.y_pred']\n",
      "2022-11-09 15:58:43 30s \u001b[32m\u001b[1mSUCCESS \u001b[0m \u001b[36marmory.instrument.config\u001b[0m:\u001b[36m_write\u001b[0m:\u001b[36m224\u001b[0m adversarial_carla_od_AP_per_class on adversarial examples w.r.t. ground truth labels: {'mean': 0.76, 'class': {1: 0.69, 2: 0.83}}\n",
      "2022-11-09 15:58:43 30s \u001b[33m\u001b[1mWARNING \u001b[0m \u001b[36marmory.instrument.instrument\u001b[0m:\u001b[36mfinalize\u001b[0m:\u001b[36m590\u001b[0m Meter 'benign_carla_od_disappearance_rate' was never measured. The following args were never set: ['scenario.y_pred']\n",
      "2022-11-09 15:58:43 30s \u001b[32m\u001b[1mSUCCESS \u001b[0m \u001b[36marmory.instrument.config\u001b[0m:\u001b[36m_write\u001b[0m:\u001b[36m224\u001b[0m adversarial_mean_carla_od_disappearance_rate on adversarial examples w.r.t. ground truth labels: 30.71%\n",
      "2022-11-09 15:58:43 30s \u001b[33m\u001b[1mWARNING \u001b[0m \u001b[36marmory.instrument.instrument\u001b[0m:\u001b[36mfinalize\u001b[0m:\u001b[36m590\u001b[0m Meter 'benign_carla_od_hallucinations_per_image' was never measured. The following args were never set: ['scenario.y_pred']\n",
      "2022-11-09 15:58:43 30s \u001b[32m\u001b[1mSUCCESS \u001b[0m \u001b[36marmory.instrument.config\u001b[0m:\u001b[36m_write\u001b[0m:\u001b[36m224\u001b[0m adversarial_mean_carla_od_hallucinations_per_image on adversarial examples w.r.t. ground truth labels: 4.5\n",
      "2022-11-09 15:58:43 30s \u001b[33m\u001b[1mWARNING \u001b[0m \u001b[36marmory.instrument.instrument\u001b[0m:\u001b[36mfinalize\u001b[0m:\u001b[36m590\u001b[0m Meter 'benign_carla_od_misclassification_rate' was never measured. The following args were never set: ['scenario.y_pred']\n",
      "2022-11-09 15:58:43 30s \u001b[32m\u001b[1mSUCCESS \u001b[0m \u001b[36marmory.instrument.config\u001b[0m:\u001b[36m_write\u001b[0m:\u001b[36m224\u001b[0m adversarial_mean_carla_od_misclassification_rate on adversarial examples w.r.t. ground truth labels: 0.00%\n",
      "2022-11-09 15:58:43 30s \u001b[33m\u001b[1mWARNING \u001b[0m \u001b[36marmory.instrument.instrument\u001b[0m:\u001b[36mfinalize\u001b[0m:\u001b[36m590\u001b[0m Meter 'benign_carla_od_true_positive_rate' was never measured. The following args were never set: ['scenario.y_pred']\n",
      "2022-11-09 15:58:43 30s \u001b[32m\u001b[1mSUCCESS \u001b[0m \u001b[36marmory.instrument.config\u001b[0m:\u001b[36m_write\u001b[0m:\u001b[36m224\u001b[0m adversarial_mean_carla_od_true_positive_rate on adversarial examples w.r.t. ground truth labels: 69.29%\n",
      "2022-11-09 15:58:43 30s \u001b[33m\u001b[1mWARNING \u001b[0m \u001b[36marmory.instrument.instrument\u001b[0m:\u001b[36mfinalize\u001b[0m:\u001b[36m590\u001b[0m Meter 'benign_object_detection_mAP_tide' was never measured. The following args were never set: ['scenario.y_pred']\n",
      "2022-11-09 15:58:43 30s \u001b[32m\u001b[1mSUCCESS \u001b[0m \u001b[36marmory.instrument.config\u001b[0m:\u001b[36m_write\u001b[0m:\u001b[36m224\u001b[0m adversarial_mean_object_detection_mAP_tide on adversarial examples w.r.t. ground truth labels: 77.25%\n",
      "2022-11-09 15:58:43 30s \u001b[33m\u001b[1mWARNING \u001b[0m \u001b[36marmory.instrument.instrument\u001b[0m:\u001b[36mfinalize\u001b[0m:\u001b[36m590\u001b[0m Meter 'adversarial_input_to_carla_od_AP_per_class_wrt_benign_preds' was never measured. The following args were never set: ['scenario.y_pred']\n",
      "2022-11-09 15:58:43 30s \u001b[33m\u001b[1mWARNING \u001b[0m \u001b[36marmory.instrument.instrument\u001b[0m:\u001b[36mfinalize\u001b[0m:\u001b[36m590\u001b[0m Meter 'adversarial_carla_od_disappearance_rate_wrt_benign_preds' was never measured. The following args were never set: ['scenario.y_pred']\n",
      "2022-11-09 15:58:43 30s \u001b[33m\u001b[1mWARNING \u001b[0m \u001b[36marmory.instrument.instrument\u001b[0m:\u001b[36mfinalize\u001b[0m:\u001b[36m590\u001b[0m Meter 'adversarial_carla_od_hallucinations_per_image_wrt_benign_preds' was never measured. The following args were never set: ['scenario.y_pred']\n",
      "2022-11-09 15:58:43 30s \u001b[33m\u001b[1mWARNING \u001b[0m \u001b[36marmory.instrument.instrument\u001b[0m:\u001b[36mfinalize\u001b[0m:\u001b[36m590\u001b[0m Meter 'adversarial_carla_od_misclassification_rate_wrt_benign_preds' was never measured. The following args were never set: ['scenario.y_pred']\n",
      "2022-11-09 15:58:43 30s \u001b[33m\u001b[1mWARNING \u001b[0m \u001b[36marmory.instrument.instrument\u001b[0m:\u001b[36mfinalize\u001b[0m:\u001b[36m590\u001b[0m Meter 'adversarial_carla_od_true_positive_rate_wrt_benign_preds' was never measured. The following args were never set: ['scenario.y_pred']\n",
      "2022-11-09 15:58:43 30s \u001b[33m\u001b[1mWARNING \u001b[0m \u001b[36marmory.instrument.instrument\u001b[0m:\u001b[36mfinalize\u001b[0m:\u001b[36m590\u001b[0m Meter 'adversarial_object_detection_mAP_tide_wrt_benign_preds' was never measured. The following args were never set: ['scenario.y_pred']\n",
      "2022-11-09 15:58:43 30s \u001b[33m\u001b[1mWARNING \u001b[0m \u001b[36marmory.instrument.export\u001b[0m:\u001b[36mfinalize\u001b[0m:\u001b[36m744\u001b[0m Meter 'pred_dict_exporter' was never measured. The following args were never set: ['scenario.y_pred']\n",
      "2022-11-09 15:58:43 30s \u001b[33m\u001b[1mWARNING \u001b[0m \u001b[36marmory.instrument.export\u001b[0m:\u001b[36mfinalize\u001b[0m:\u001b[36m657\u001b[0m Meter 'x_with_boxes_exporter' was never measured. The following args were never set: ['scenario.y_pred']\n",
      "2022-11-09 15:58:43 30s \u001b[33m\u001b[1mWARNING \u001b[0m \u001b[36marmory.instrument.export\u001b[0m:\u001b[36mfinalize\u001b[0m:\u001b[36m827\u001b[0m Meter 'coco_box_format_meter' was never measured. The following args were never set: ['scenario.y_pred']\n"
     ]
    },
    {
     "data": {
      "text/plain": [
       "{'perturbation_l0': [array([14418.]), array([5166.])],\n",
       " 'adversarial_carla_od_disappearance_rate': [[0.4], [0.2142857142857143]],\n",
       " 'adversarial_carla_od_hallucinations_per_image': [[5], [4]],\n",
       " 'adversarial_carla_od_misclassification_rate': [[0.0], [0.0]],\n",
       " 'adversarial_carla_od_true_positive_rate': [[0.6], [0.7857142857142857]],\n",
       " 'adversarial_object_detection_mAP_tide': [0.685, 0.86],\n",
       " 'adversarial_carla_od_AP_per_class': [{'mean': 0.76,\n",
       "   'class': {1: 0.69, 2: 0.83}}],\n",
       " 'adversarial_mean_carla_od_disappearance_rate': [0.30714285714285716],\n",
       " 'adversarial_mean_carla_od_hallucinations_per_image': [4.5],\n",
       " 'adversarial_mean_carla_od_misclassification_rate': [0.0],\n",
       " 'adversarial_mean_carla_od_true_positive_rate': [0.6928571428571428],\n",
       " 'adversarial_mean_object_detection_mAP_tide': [0.7725],\n",
       " 'perturbation_mean_l0': [9792.0],\n",
       " 'compute': {}}"
      ]
     },
     "execution_count": 3,
     "metadata": {},
     "output_type": "execute_result"
    }
   ],
   "source": [
    "s.finalize_results()\n",
    "s.results"
   ]
  },
  {
   "cell_type": "markdown",
   "id": "6c84d860-12bb-460c-bf06-54c1cf1d5aaa",
   "metadata": {},
   "source": [
    "need `TIDE` to run across all images rather than each image within the context of armory..."
   ]
  },
  {
   "cell_type": "code",
   "execution_count": 5,
   "id": "59d1dd50-b0b2-4bf0-9c31-44cdec23b0d9",
   "metadata": {},
   "outputs": [],
   "source": [
    "import numpy as np"
   ]
  },
  {
   "cell_type": "code",
   "execution_count": 6,
   "id": "768d074a-7dff-47fd-9ac2-2957016822db",
   "metadata": {},
   "outputs": [
    {
     "data": {
      "text/plain": [
       "0.7725"
      ]
     },
     "execution_count": 6,
     "metadata": {},
     "output_type": "execute_result"
    }
   ],
   "source": [
    "np.mean([0.685, 0.86])"
   ]
  },
  {
   "cell_type": "markdown",
   "id": "acf5c977-f6b1-4abe-805a-2fff0189d66b",
   "metadata": {},
   "source": [
    "testing without `\"export_batches\": true,` in config file"
   ]
  },
  {
   "cell_type": "code",
   "execution_count": 1,
   "id": "849938be-d4c7-492d-8e4b-268080376d42",
   "metadata": {},
   "outputs": [
    {
     "name": "stdout",
     "output_type": "stream",
     "text": [
      "2022-11-09 16:58:14  0s \u001b[1mINFO    \u001b[0m \u001b[36marmory.delayed_imports\u001b[0m:\u001b[36m<module>\u001b[0m:\u001b[36m7\u001b[0m Importing and configuring torch, tensorflow, and art, if available. This may take some time.\n",
      "2022-11-09 16:58:16  2s \u001b[1mINFO    \u001b[0m \u001b[36marmory.delayed_imports\u001b[0m:\u001b[36m<module>\u001b[0m:\u001b[36m30\u001b[0m Setting tf.config.experimental.set_memory_growth to True on all GPUs\n",
      "2022-11-09 16:58:16  2s \u001b[1mINFO    \u001b[0m \u001b[36mart.config\u001b[0m:\u001b[36mset_data_path\u001b[0m:\u001b[36m55\u001b[0m set ART_DATA_PATH to /tmp/.art/data\n",
      "2022-11-09 16:58:16  2s \u001b[1mINFO    \u001b[0m \u001b[36mart.config\u001b[0m:\u001b[36mset_data_path\u001b[0m:\u001b[36m55\u001b[0m set ART_DATA_PATH to /armory/saved_models/art\n",
      "2022-11-09 16:58:17  3s \u001b[1mINFO    \u001b[0m \u001b[36marmory.scenarios.main\u001b[0m:\u001b[36m_scenario_setup\u001b[0m:\u001b[36m37\u001b[0m this repo is being updated\n",
      "2022-11-09 16:58:17  3s \u001b[31m\u001b[1mERROR   \u001b[0m \u001b[36marmory.scenarios.main\u001b[0m:\u001b[36m_scenario_setup\u001b[0m:\u001b[36m44\u001b[0m eval_id not in config. Inserting current timestamp 1668013097.2395182\n",
      "2022-11-09 16:58:17  3s \u001b[1mINFO    \u001b[0m \u001b[36marmory.scenarios.main\u001b[0m:\u001b[36m_scenario_setup\u001b[0m:\u001b[36m52\u001b[0m armory outputs and logs will be written to /armory/outputs/1668013097.2395182\n",
      "2022-11-09 16:58:17  3s \u001b[1mINFO    \u001b[0m \u001b[36marmory.data.utils\u001b[0m:\u001b[36mmaybe_download_weights_from_s3\u001b[0m:\u001b[36m47\u001b[0m Using available carla_rgb_weights_eval5.pt in Armory `saved_model_dir`\n",
      "2022-11-09 16:58:21  7s \u001b[1mINFO    \u001b[0m \u001b[36marmory.scenarios.scenario\u001b[0m:\u001b[36mload_dataset\u001b[0m:\u001b[36m205\u001b[0m Loading test dataset carla_obj_det_dev...\n"
     ]
    }
   ],
   "source": [
    "from armory.scenarios.main import get as get_scenario # restarted kernel\n",
    "\n",
    "s = get_scenario(\n",
    "    \"/armory/tmp/2022-11-03T180812.020999/carla_obj_det_adversarialpatch_undefended.json\",\n",
    "    # num_eval_batches=1,\n",
    "    num_eval_batches=2,\n",
    ").load()"
   ]
  },
  {
   "cell_type": "code",
   "execution_count": 2,
   "id": "4b378e76-655d-4e0f-a83d-4eefc37dfeb1",
   "metadata": {},
   "outputs": [
    {
     "data": {
      "application/vnd.jupyter.widget-view+json": {
       "model_id": "e7bc6d25cef64db1bd675f0cfd732795",
       "version_major": 2,
       "version_minor": 0
      },
      "text/plain": [
       "Adversarial Patch PyTorch:   0%|          | 0/5 [00:00<?, ?it/s]"
      ]
     },
     "metadata": {},
     "output_type": "display_data"
    },
    {
     "name": "stderr",
     "output_type": "stream",
     "text": [
      "/opt/conda/lib/python3.8/site-packages/torchvision/transforms/functional.py:404: UserWarning: Argument interpolation should be of type InterpolationMode instead of int. Please, use InterpolationMode enum.\n",
      "  warnings.warn(\n",
      "/opt/conda/lib/python3.8/site-packages/torchvision/transforms/functional.py:654: UserWarning: Argument interpolation should be of type InterpolationMode instead of int. Please, use InterpolationMode enum.\n",
      "  warnings.warn(\n",
      "/opt/conda/lib/python3.8/site-packages/torch/functional.py:445: UserWarning: torch.meshgrid: in an upcoming release, it will be required to pass the indexing argument. (Triggered internally at  /opt/conda/conda-bld/pytorch_1640811806235/work/aten/src/ATen/native/TensorShape.cpp:2157.)\n",
      "  return _VF.meshgrid(tensors, **kwargs)  # type: ignore[attr-defined]\n"
     ]
    },
    {
     "name": "stdout",
     "output_type": "stream",
     "text": [
      "2022-11-09 16:59:37 1m23s \u001b[32m\u001b[1mSUCCESS \u001b[0m \u001b[36marmory.instrument.config\u001b[0m:\u001b[36m_write\u001b[0m:\u001b[36m224\u001b[0m adversarial_carla_od_disappearance_rate on adversarial examples w.r.t. ground truth labels: 30.00%\n",
      "2022-11-09 16:59:37 1m23s \u001b[32m\u001b[1mSUCCESS \u001b[0m \u001b[36marmory.instrument.config\u001b[0m:\u001b[36m_write\u001b[0m:\u001b[36m224\u001b[0m adversarial_carla_od_hallucinations_per_image on adversarial examples w.r.t. ground truth labels: 7.0\n",
      "2022-11-09 16:59:37 1m23s \u001b[32m\u001b[1mSUCCESS \u001b[0m \u001b[36marmory.instrument.config\u001b[0m:\u001b[36m_write\u001b[0m:\u001b[36m224\u001b[0m adversarial_carla_od_misclassification_rate on adversarial examples w.r.t. ground truth labels: 10.00%\n",
      "2022-11-09 16:59:37 1m23s \u001b[32m\u001b[1mSUCCESS \u001b[0m \u001b[36marmory.instrument.config\u001b[0m:\u001b[36m_write\u001b[0m:\u001b[36m224\u001b[0m adversarial_carla_od_true_positive_rate on adversarial examples w.r.t. ground truth labels: 60.00%\n",
      "len(y[\"labels\"]): 10, len(data_ground_truth.annotations): 10\n",
      "len(y_pred[\"labels\"]): 69, len(data_detection.annotations): 69\n",
      "-- detection --\n",
      "\n",
      "bbox AP @ [50-95]: 32.95\n",
      "                                         bbox AP @ [50-95]\n",
      "===================================================================================================\n",
      "  Thresh       50       55       60       65       70       75       80       85       90       95  \n",
      "---------------------------------------------------------------------------------------------------\n",
      "    AP      64.80    64.80    52.74    52.74    25.76    25.76    16.09    16.09    10.73     0.00  \n",
      "===================================================================================================\n",
      "\n",
      "                         Main Errors\n",
      "=============================================================\n",
      "  Type      Cls      Loc     Both     Dupe      Bkg     Miss  \n",
      "-------------------------------------------------------------\n",
      "   dAP     6.50     0.69     1.96     0.00     3.34     4.83  \n",
      "=============================================================\n",
      "\n",
      "        Special Error\n",
      "=============================\n",
      "  Type   FalsePos   FalseNeg  \n",
      "-----------------------------\n",
      "   dAP      22.83      11.88  \n",
      "=============================\n",
      "\n",
      "2022-11-09 16:59:37 1m23s \u001b[32m\u001b[1mSUCCESS \u001b[0m \u001b[36marmory.instrument.config\u001b[0m:\u001b[36m_write\u001b[0m:\u001b[36m224\u001b[0m adversarial_object_detection_mAP_tide on adversarial examples w.r.t. ground truth labels: 65.50%\n"
     ]
    },
    {
     "data": {
      "application/vnd.jupyter.widget-view+json": {
       "model_id": "c9618ceb157d4f54835cfcfe69c6195c",
       "version_major": 2,
       "version_minor": 0
      },
      "text/plain": [
       "Adversarial Patch PyTorch:   0%|          | 0/5 [00:00<?, ?it/s]"
      ]
     },
     "metadata": {},
     "output_type": "display_data"
    },
    {
     "name": "stdout",
     "output_type": "stream",
     "text": [
      "2022-11-09 16:59:38 1m24s \u001b[32m\u001b[1mSUCCESS \u001b[0m \u001b[36marmory.instrument.config\u001b[0m:\u001b[36m_write\u001b[0m:\u001b[36m224\u001b[0m adversarial_carla_od_disappearance_rate on adversarial examples w.r.t. ground truth labels: 21.43%\n",
      "2022-11-09 16:59:38 1m24s \u001b[32m\u001b[1mSUCCESS \u001b[0m \u001b[36marmory.instrument.config\u001b[0m:\u001b[36m_write\u001b[0m:\u001b[36m224\u001b[0m adversarial_carla_od_hallucinations_per_image on adversarial examples w.r.t. ground truth labels: 4.0\n",
      "2022-11-09 16:59:38 1m24s \u001b[32m\u001b[1mSUCCESS \u001b[0m \u001b[36marmory.instrument.config\u001b[0m:\u001b[36m_write\u001b[0m:\u001b[36m224\u001b[0m adversarial_carla_od_misclassification_rate on adversarial examples w.r.t. ground truth labels: 0.00%\n",
      "2022-11-09 16:59:38 1m24s \u001b[32m\u001b[1mSUCCESS \u001b[0m \u001b[36marmory.instrument.config\u001b[0m:\u001b[36m_write\u001b[0m:\u001b[36m224\u001b[0m adversarial_carla_od_true_positive_rate on adversarial examples w.r.t. ground truth labels: 78.57%\n",
      "len(y[\"labels\"]): 14, len(data_ground_truth.annotations): 14\n",
      "len(y_pred[\"labels\"]): 38, len(data_detection.annotations): 38\n",
      "-- detection --\n",
      "\n",
      "bbox AP @ [50-95]: 53.42\n",
      "                                         bbox AP @ [50-95]\n",
      "===================================================================================================\n",
      "  Thresh       50       55       60       65       70       75       80       85       90       95  \n",
      "---------------------------------------------------------------------------------------------------\n",
      "    AP      85.64    85.64    85.64    73.94    55.25    55.25    35.94    28.47    28.47     0.00  \n",
      "===================================================================================================\n",
      "\n",
      "                         Main Errors\n",
      "=============================================================\n",
      "  Type      Cls      Loc     Both     Dupe      Bkg     Miss  \n",
      "-------------------------------------------------------------\n",
      "   dAP     0.00     0.00     0.00     0.00     0.50    13.64  \n",
      "=============================================================\n",
      "\n",
      "        Special Error\n",
      "=============================\n",
      "  Type   FalsePos   FalseNeg  \n",
      "-----------------------------\n",
      "   dAP       0.50      13.64  \n",
      "=============================\n",
      "\n",
      "2022-11-09 16:59:38 1m24s \u001b[32m\u001b[1mSUCCESS \u001b[0m \u001b[36marmory.instrument.config\u001b[0m:\u001b[36m_write\u001b[0m:\u001b[36m224\u001b[0m adversarial_object_detection_mAP_tide on adversarial examples w.r.t. ground truth labels: 86.00%\n"
     ]
    }
   ],
   "source": [
    "# note matching numbers from print statements\n",
    "s.load_attack()\n",
    "s.next()\n",
    "s.run_attack()\n",
    "s.next()\n",
    "s.run_attack()"
   ]
  },
  {
   "cell_type": "code",
   "execution_count": 3,
   "id": "b6c3cb79-094f-42ae-a6c7-fe767fb6e16a",
   "metadata": {},
   "outputs": [
    {
     "name": "stdout",
     "output_type": "stream",
     "text": [
      "2022-11-09 16:59:44 1m30s \u001b[33m\u001b[1mWARNING \u001b[0m \u001b[36marmory.instrument.instrument\u001b[0m:\u001b[36mfinalize\u001b[0m:\u001b[36m590\u001b[0m Meter 'benign_input_to_carla_od_AP_per_class' was never measured. The following args were never set: ['scenario.y_pred']\n",
      "2022-11-09 16:59:44 1m30s \u001b[32m\u001b[1mSUCCESS \u001b[0m \u001b[36marmory.instrument.config\u001b[0m:\u001b[36m_write\u001b[0m:\u001b[36m224\u001b[0m adversarial_carla_od_AP_per_class on adversarial examples w.r.t. ground truth labels: {'mean': 0.78, 'class': {1: 0.69, 2: 0.87}}\n",
      "2022-11-09 16:59:44 1m30s \u001b[33m\u001b[1mWARNING \u001b[0m \u001b[36marmory.instrument.instrument\u001b[0m:\u001b[36mfinalize\u001b[0m:\u001b[36m590\u001b[0m Meter 'benign_carla_od_disappearance_rate' was never measured. The following args were never set: ['scenario.y_pred']\n",
      "2022-11-09 16:59:44 1m30s \u001b[32m\u001b[1mSUCCESS \u001b[0m \u001b[36marmory.instrument.config\u001b[0m:\u001b[36m_write\u001b[0m:\u001b[36m224\u001b[0m adversarial_mean_carla_od_disappearance_rate on adversarial examples w.r.t. ground truth labels: 25.71%\n",
      "2022-11-09 16:59:44 1m30s \u001b[33m\u001b[1mWARNING \u001b[0m \u001b[36marmory.instrument.instrument\u001b[0m:\u001b[36mfinalize\u001b[0m:\u001b[36m590\u001b[0m Meter 'benign_carla_od_hallucinations_per_image' was never measured. The following args were never set: ['scenario.y_pred']\n",
      "2022-11-09 16:59:44 1m30s \u001b[32m\u001b[1mSUCCESS \u001b[0m \u001b[36marmory.instrument.config\u001b[0m:\u001b[36m_write\u001b[0m:\u001b[36m224\u001b[0m adversarial_mean_carla_od_hallucinations_per_image on adversarial examples w.r.t. ground truth labels: 5.5\n",
      "2022-11-09 16:59:44 1m30s \u001b[33m\u001b[1mWARNING \u001b[0m \u001b[36marmory.instrument.instrument\u001b[0m:\u001b[36mfinalize\u001b[0m:\u001b[36m590\u001b[0m Meter 'benign_carla_od_misclassification_rate' was never measured. The following args were never set: ['scenario.y_pred']\n",
      "2022-11-09 16:59:44 1m30s \u001b[32m\u001b[1mSUCCESS \u001b[0m \u001b[36marmory.instrument.config\u001b[0m:\u001b[36m_write\u001b[0m:\u001b[36m224\u001b[0m adversarial_mean_carla_od_misclassification_rate on adversarial examples w.r.t. ground truth labels: 5.00%\n",
      "2022-11-09 16:59:44 1m30s \u001b[33m\u001b[1mWARNING \u001b[0m \u001b[36marmory.instrument.instrument\u001b[0m:\u001b[36mfinalize\u001b[0m:\u001b[36m590\u001b[0m Meter 'benign_carla_od_true_positive_rate' was never measured. The following args were never set: ['scenario.y_pred']\n",
      "2022-11-09 16:59:44 1m30s \u001b[32m\u001b[1mSUCCESS \u001b[0m \u001b[36marmory.instrument.config\u001b[0m:\u001b[36m_write\u001b[0m:\u001b[36m224\u001b[0m adversarial_mean_carla_od_true_positive_rate on adversarial examples w.r.t. ground truth labels: 69.29%\n",
      "2022-11-09 16:59:44 1m30s \u001b[33m\u001b[1mWARNING \u001b[0m \u001b[36marmory.instrument.instrument\u001b[0m:\u001b[36mfinalize\u001b[0m:\u001b[36m590\u001b[0m Meter 'benign_object_detection_mAP_tide' was never measured. The following args were never set: ['scenario.y_pred']\n",
      "2022-11-09 16:59:44 1m30s \u001b[32m\u001b[1mSUCCESS \u001b[0m \u001b[36marmory.instrument.config\u001b[0m:\u001b[36m_write\u001b[0m:\u001b[36m224\u001b[0m adversarial_mean_object_detection_mAP_tide on adversarial examples w.r.t. ground truth labels: 75.75%\n",
      "2022-11-09 16:59:44 1m30s \u001b[33m\u001b[1mWARNING \u001b[0m \u001b[36marmory.instrument.instrument\u001b[0m:\u001b[36mfinalize\u001b[0m:\u001b[36m590\u001b[0m Meter 'adversarial_input_to_carla_od_AP_per_class_wrt_benign_preds' was never measured. The following args were never set: ['scenario.y_pred']\n",
      "2022-11-09 16:59:44 1m30s \u001b[33m\u001b[1mWARNING \u001b[0m \u001b[36marmory.instrument.instrument\u001b[0m:\u001b[36mfinalize\u001b[0m:\u001b[36m590\u001b[0m Meter 'adversarial_carla_od_disappearance_rate_wrt_benign_preds' was never measured. The following args were never set: ['scenario.y_pred']\n",
      "2022-11-09 16:59:44 1m30s \u001b[33m\u001b[1mWARNING \u001b[0m \u001b[36marmory.instrument.instrument\u001b[0m:\u001b[36mfinalize\u001b[0m:\u001b[36m590\u001b[0m Meter 'adversarial_carla_od_hallucinations_per_image_wrt_benign_preds' was never measured. The following args were never set: ['scenario.y_pred']\n",
      "2022-11-09 16:59:44 1m30s \u001b[33m\u001b[1mWARNING \u001b[0m \u001b[36marmory.instrument.instrument\u001b[0m:\u001b[36mfinalize\u001b[0m:\u001b[36m590\u001b[0m Meter 'adversarial_carla_od_misclassification_rate_wrt_benign_preds' was never measured. The following args were never set: ['scenario.y_pred']\n",
      "2022-11-09 16:59:44 1m30s \u001b[33m\u001b[1mWARNING \u001b[0m \u001b[36marmory.instrument.instrument\u001b[0m:\u001b[36mfinalize\u001b[0m:\u001b[36m590\u001b[0m Meter 'adversarial_carla_od_true_positive_rate_wrt_benign_preds' was never measured. The following args were never set: ['scenario.y_pred']\n",
      "2022-11-09 16:59:44 1m30s \u001b[33m\u001b[1mWARNING \u001b[0m \u001b[36marmory.instrument.instrument\u001b[0m:\u001b[36mfinalize\u001b[0m:\u001b[36m590\u001b[0m Meter 'adversarial_object_detection_mAP_tide_wrt_benign_preds' was never measured. The following args were never set: ['scenario.y_pred']\n",
      "2022-11-09 16:59:44 1m30s \u001b[33m\u001b[1mWARNING \u001b[0m \u001b[36marmory.instrument.export\u001b[0m:\u001b[36mfinalize\u001b[0m:\u001b[36m744\u001b[0m Meter 'pred_dict_exporter' was never measured. The following args were never set: ['scenario.y_pred']\n",
      "2022-11-09 16:59:44 1m30s \u001b[33m\u001b[1mWARNING \u001b[0m \u001b[36marmory.instrument.export\u001b[0m:\u001b[36mfinalize\u001b[0m:\u001b[36m657\u001b[0m Meter 'x_with_boxes_exporter' was never measured. The following args were never set: ['scenario.y_pred']\n",
      "2022-11-09 16:59:44 1m30s \u001b[33m\u001b[1mWARNING \u001b[0m \u001b[36marmory.instrument.export\u001b[0m:\u001b[36mfinalize\u001b[0m:\u001b[36m827\u001b[0m Meter 'coco_box_format_meter' was never measured. The following args were never set: ['scenario.y_pred']\n"
     ]
    },
    {
     "data": {
      "text/plain": [
       "{'perturbation_l0': [array([14418.]), array([5166.])],\n",
       " 'adversarial_carla_od_disappearance_rate': [[0.30000000000000004],\n",
       "  [0.2142857142857143]],\n",
       " 'adversarial_carla_od_hallucinations_per_image': [[7], [4]],\n",
       " 'adversarial_carla_od_misclassification_rate': [[0.1], [0.0]],\n",
       " 'adversarial_carla_od_true_positive_rate': [[0.6], [0.7857142857142857]],\n",
       " 'adversarial_object_detection_mAP_tide': [0.655, 0.86],\n",
       " 'adversarial_carla_od_AP_per_class': [{'mean': 0.78,\n",
       "   'class': {1: 0.69, 2: 0.87}}],\n",
       " 'adversarial_mean_carla_od_disappearance_rate': [0.2571428571428572],\n",
       " 'adversarial_mean_carla_od_hallucinations_per_image': [5.5],\n",
       " 'adversarial_mean_carla_od_misclassification_rate': [0.05],\n",
       " 'adversarial_mean_carla_od_true_positive_rate': [0.6928571428571428],\n",
       " 'adversarial_mean_object_detection_mAP_tide': [0.7575000000000001],\n",
       " 'perturbation_mean_l0': [9792.0],\n",
       " 'compute': {}}"
      ]
     },
     "execution_count": 3,
     "metadata": {},
     "output_type": "execute_result"
    }
   ],
   "source": [
    "s.finalize_results()\n",
    "s.results"
   ]
  },
  {
   "cell_type": "code",
   "execution_count": 5,
   "id": "5b30eb2c-d2eb-47e3-b220-e9ee0d47266f",
   "metadata": {},
   "outputs": [
    {
     "data": {
      "text/plain": [
       "0.2571428571428572"
      ]
     },
     "execution_count": 5,
     "metadata": {},
     "output_type": "execute_result"
    }
   ],
   "source": [
    "import numpy as np\n",
    "np.mean([0.30000000000000004, 0.2142857142857143])"
   ]
  },
  {
   "cell_type": "markdown",
   "id": "bc648376-bb9b-400b-a82e-8318a7d13821",
   "metadata": {},
   "source": [
    "printing `average_precision_by_class`"
   ]
  },
  {
   "cell_type": "code",
   "execution_count": 1,
   "id": "2e5e92f6-9b6a-4598-87e2-d703d396a053",
   "metadata": {},
   "outputs": [
    {
     "name": "stdout",
     "output_type": "stream",
     "text": [
      "2022-11-09 17:11:11  0s \u001b[1mINFO    \u001b[0m \u001b[36marmory.delayed_imports\u001b[0m:\u001b[36m<module>\u001b[0m:\u001b[36m7\u001b[0m Importing and configuring torch, tensorflow, and art, if available. This may take some time.\n",
      "2022-11-09 17:11:13  2s \u001b[1mINFO    \u001b[0m \u001b[36marmory.delayed_imports\u001b[0m:\u001b[36m<module>\u001b[0m:\u001b[36m30\u001b[0m Setting tf.config.experimental.set_memory_growth to True on all GPUs\n",
      "2022-11-09 17:11:13  2s \u001b[1mINFO    \u001b[0m \u001b[36mart.config\u001b[0m:\u001b[36mset_data_path\u001b[0m:\u001b[36m55\u001b[0m set ART_DATA_PATH to /tmp/.art/data\n",
      "2022-11-09 17:11:14  2s \u001b[1mINFO    \u001b[0m \u001b[36mart.config\u001b[0m:\u001b[36mset_data_path\u001b[0m:\u001b[36m55\u001b[0m set ART_DATA_PATH to /armory/saved_models/art\n",
      "2022-11-09 17:11:14  3s \u001b[1mINFO    \u001b[0m \u001b[36marmory.scenarios.main\u001b[0m:\u001b[36m_scenario_setup\u001b[0m:\u001b[36m37\u001b[0m this repo is being updated\n",
      "2022-11-09 17:11:14  3s \u001b[31m\u001b[1mERROR   \u001b[0m \u001b[36marmory.scenarios.main\u001b[0m:\u001b[36m_scenario_setup\u001b[0m:\u001b[36m44\u001b[0m eval_id not in config. Inserting current timestamp 1668013874.533566\n",
      "2022-11-09 17:11:14  3s \u001b[1mINFO    \u001b[0m \u001b[36marmory.scenarios.main\u001b[0m:\u001b[36m_scenario_setup\u001b[0m:\u001b[36m52\u001b[0m armory outputs and logs will be written to /armory/outputs/1668013874.533566\n",
      "2022-11-09 17:11:15  3s \u001b[1mINFO    \u001b[0m \u001b[36marmory.data.utils\u001b[0m:\u001b[36mmaybe_download_weights_from_s3\u001b[0m:\u001b[36m47\u001b[0m Using available carla_rgb_weights_eval5.pt in Armory `saved_model_dir`\n",
      "2022-11-09 17:11:18  7s \u001b[1mINFO    \u001b[0m \u001b[36marmory.scenarios.scenario\u001b[0m:\u001b[36mload_dataset\u001b[0m:\u001b[36m205\u001b[0m Loading test dataset carla_obj_det_dev...\n"
     ]
    }
   ],
   "source": [
    "from armory.scenarios.main import get as get_scenario # restarted kernel\n",
    "\n",
    "s = get_scenario(\n",
    "    \"/armory/tmp/2022-11-03T180812.020999/carla_obj_det_adversarialpatch_undefended.json\",\n",
    "    # num_eval_batches=1,\n",
    "    num_eval_batches=2,\n",
    ").load()"
   ]
  },
  {
   "cell_type": "code",
   "execution_count": 2,
   "id": "3237886c-9c29-4618-aa9e-0fd23ce2f615",
   "metadata": {},
   "outputs": [
    {
     "data": {
      "application/vnd.jupyter.widget-view+json": {
       "model_id": "db9b6e4253704e1b8cddc3eead3b321d",
       "version_major": 2,
       "version_minor": 0
      },
      "text/plain": [
       "Adversarial Patch PyTorch:   0%|          | 0/5 [00:00<?, ?it/s]"
      ]
     },
     "metadata": {},
     "output_type": "display_data"
    },
    {
     "name": "stderr",
     "output_type": "stream",
     "text": [
      "/opt/conda/lib/python3.8/site-packages/torchvision/transforms/functional.py:404: UserWarning: Argument interpolation should be of type InterpolationMode instead of int. Please, use InterpolationMode enum.\n",
      "  warnings.warn(\n",
      "/opt/conda/lib/python3.8/site-packages/torchvision/transforms/functional.py:654: UserWarning: Argument interpolation should be of type InterpolationMode instead of int. Please, use InterpolationMode enum.\n",
      "  warnings.warn(\n",
      "/opt/conda/lib/python3.8/site-packages/torch/functional.py:445: UserWarning: torch.meshgrid: in an upcoming release, it will be required to pass the indexing argument. (Triggered internally at  /opt/conda/conda-bld/pytorch_1640811806235/work/aten/src/ATen/native/TensorShape.cpp:2157.)\n",
      "  return _VF.meshgrid(tensors, **kwargs)  # type: ignore[attr-defined]\n"
     ]
    },
    {
     "name": "stdout",
     "output_type": "stream",
     "text": [
      "2022-11-09 17:11:22 10s \u001b[32m\u001b[1mSUCCESS \u001b[0m \u001b[36marmory.instrument.config\u001b[0m:\u001b[36m_write\u001b[0m:\u001b[36m224\u001b[0m adversarial_carla_od_disappearance_rate on adversarial examples w.r.t. ground truth labels: 40.00%\n",
      "2022-11-09 17:11:22 10s \u001b[32m\u001b[1mSUCCESS \u001b[0m \u001b[36marmory.instrument.config\u001b[0m:\u001b[36m_write\u001b[0m:\u001b[36m224\u001b[0m adversarial_carla_od_hallucinations_per_image on adversarial examples w.r.t. ground truth labels: 5.0\n",
      "2022-11-09 17:11:22 10s \u001b[32m\u001b[1mSUCCESS \u001b[0m \u001b[36marmory.instrument.config\u001b[0m:\u001b[36m_write\u001b[0m:\u001b[36m224\u001b[0m adversarial_carla_od_misclassification_rate on adversarial examples w.r.t. ground truth labels: 0.00%\n",
      "2022-11-09 17:11:22 10s \u001b[32m\u001b[1mSUCCESS \u001b[0m \u001b[36marmory.instrument.config\u001b[0m:\u001b[36m_write\u001b[0m:\u001b[36m224\u001b[0m adversarial_carla_od_true_positive_rate on adversarial examples w.r.t. ground truth labels: 60.00%\n",
      "len(y[\"labels\"]): 10, len(data_ground_truth.annotations): 10\n",
      "len(y_pred[\"labels\"]): 60, len(data_detection.annotations): 60\n",
      "-- detection --\n",
      "\n",
      "bbox AP @ [50-95]: 34.17\n",
      "                                         bbox AP @ [50-95]\n",
      "===================================================================================================\n",
      "  Thresh       50       55       60       65       70       75       80       85       90       95  \n",
      "---------------------------------------------------------------------------------------------------\n",
      "    AP      75.29    61.71    61.71    56.83    26.77    21.62    13.53    13.53    10.73     0.00  \n",
      "===================================================================================================\n",
      "\n",
      "                         Main Errors\n",
      "=============================================================\n",
      "  Type      Cls      Loc     Both     Dupe      Bkg     Miss  \n",
      "-------------------------------------------------------------\n",
      "   dAP     0.00     2.96     4.40     0.00     4.22     0.00  \n",
      "=============================================================\n",
      "\n",
      "        Special Error\n",
      "=============================\n",
      "  Type   FalsePos   FalseNeg  \n",
      "-----------------------------\n",
      "   dAP      24.71       0.00  \n",
      "=============================\n",
      "\n",
      "{1: 0.88, 2: 0.65}\n",
      "2022-11-09 17:11:22 10s \u001b[32m\u001b[1mSUCCESS \u001b[0m \u001b[36marmory.instrument.config\u001b[0m:\u001b[36m_write\u001b[0m:\u001b[36m224\u001b[0m adversarial_object_detection_mAP_tide on adversarial examples w.r.t. ground truth labels: 76.50%\n"
     ]
    },
    {
     "data": {
      "application/vnd.jupyter.widget-view+json": {
       "model_id": "2b28ffd87f1b442c91cd9a3a1a47844f",
       "version_major": 2,
       "version_minor": 0
      },
      "text/plain": [
       "Adversarial Patch PyTorch:   0%|          | 0/5 [00:00<?, ?it/s]"
      ]
     },
     "metadata": {},
     "output_type": "display_data"
    },
    {
     "name": "stdout",
     "output_type": "stream",
     "text": [
      "2022-11-09 17:11:23 11s \u001b[32m\u001b[1mSUCCESS \u001b[0m \u001b[36marmory.instrument.config\u001b[0m:\u001b[36m_write\u001b[0m:\u001b[36m224\u001b[0m adversarial_carla_od_disappearance_rate on adversarial examples w.r.t. ground truth labels: 21.43%\n",
      "2022-11-09 17:11:23 11s \u001b[32m\u001b[1mSUCCESS \u001b[0m \u001b[36marmory.instrument.config\u001b[0m:\u001b[36m_write\u001b[0m:\u001b[36m224\u001b[0m adversarial_carla_od_hallucinations_per_image on adversarial examples w.r.t. ground truth labels: 4.0\n",
      "2022-11-09 17:11:23 11s \u001b[32m\u001b[1mSUCCESS \u001b[0m \u001b[36marmory.instrument.config\u001b[0m:\u001b[36m_write\u001b[0m:\u001b[36m224\u001b[0m adversarial_carla_od_misclassification_rate on adversarial examples w.r.t. ground truth labels: 0.00%\n",
      "2022-11-09 17:11:23 11s \u001b[32m\u001b[1mSUCCESS \u001b[0m \u001b[36marmory.instrument.config\u001b[0m:\u001b[36m_write\u001b[0m:\u001b[36m224\u001b[0m adversarial_carla_od_true_positive_rate on adversarial examples w.r.t. ground truth labels: 78.57%\n",
      "len(y[\"labels\"]): 14, len(data_ground_truth.annotations): 14\n",
      "len(y_pred[\"labels\"]): 38, len(data_detection.annotations): 38\n",
      "-- detection --\n",
      "\n",
      "bbox AP @ [50-95]: 52.84\n",
      "                                         bbox AP @ [50-95]\n",
      "===================================================================================================\n",
      "  Thresh       50       55       60       65       70       75       80       85       90       95  \n",
      "---------------------------------------------------------------------------------------------------\n",
      "    AP      85.64    85.64    85.64    81.44    52.90    52.90    33.59    25.33    25.33     0.00  \n",
      "===================================================================================================\n",
      "\n",
      "                         Main Errors\n",
      "=============================================================\n",
      "  Type      Cls      Loc     Both     Dupe      Bkg     Miss  \n",
      "-------------------------------------------------------------\n",
      "   dAP     0.00     0.00     0.00     0.00     0.50    13.64  \n",
      "=============================================================\n",
      "\n",
      "        Special Error\n",
      "=============================\n",
      "  Type   FalsePos   FalseNeg  \n",
      "-----------------------------\n",
      "   dAP       0.50      13.64  \n",
      "=============================\n",
      "\n",
      "{1: 0.72, 2: 1.0}\n",
      "2022-11-09 17:11:23 11s \u001b[32m\u001b[1mSUCCESS \u001b[0m \u001b[36marmory.instrument.config\u001b[0m:\u001b[36m_write\u001b[0m:\u001b[36m224\u001b[0m adversarial_object_detection_mAP_tide on adversarial examples w.r.t. ground truth labels: 86.00%\n"
     ]
    }
   ],
   "source": [
    "# note matching numbers from print statements\n",
    "s.load_attack()\n",
    "s.next()\n",
    "s.run_attack()\n",
    "s.next()\n",
    "s.run_attack()"
   ]
  },
  {
   "cell_type": "code",
   "execution_count": 3,
   "id": "9204cfeb-a2a1-4065-888d-d86caad53eae",
   "metadata": {},
   "outputs": [
    {
     "name": "stdout",
     "output_type": "stream",
     "text": [
      "2022-11-09 17:11:33 22s \u001b[33m\u001b[1mWARNING \u001b[0m \u001b[36marmory.instrument.instrument\u001b[0m:\u001b[36mfinalize\u001b[0m:\u001b[36m590\u001b[0m Meter 'benign_input_to_carla_od_AP_per_class' was never measured. The following args were never set: ['scenario.y_pred']\n",
      "{1: 0.73, 2: 0.88}\n",
      "2022-11-09 17:11:33 22s \u001b[32m\u001b[1mSUCCESS \u001b[0m \u001b[36marmory.instrument.config\u001b[0m:\u001b[36m_write\u001b[0m:\u001b[36m224\u001b[0m adversarial_carla_od_AP_per_class on adversarial examples w.r.t. ground truth labels: {'mean': 0.8049999999999999, 'class': {1: 0.73, 2: 0.88}}\n",
      "2022-11-09 17:11:33 22s \u001b[33m\u001b[1mWARNING \u001b[0m \u001b[36marmory.instrument.instrument\u001b[0m:\u001b[36mfinalize\u001b[0m:\u001b[36m590\u001b[0m Meter 'benign_carla_od_disappearance_rate' was never measured. The following args were never set: ['scenario.y_pred']\n",
      "2022-11-09 17:11:33 22s \u001b[32m\u001b[1mSUCCESS \u001b[0m \u001b[36marmory.instrument.config\u001b[0m:\u001b[36m_write\u001b[0m:\u001b[36m224\u001b[0m adversarial_mean_carla_od_disappearance_rate on adversarial examples w.r.t. ground truth labels: 30.71%\n",
      "2022-11-09 17:11:33 22s \u001b[33m\u001b[1mWARNING \u001b[0m \u001b[36marmory.instrument.instrument\u001b[0m:\u001b[36mfinalize\u001b[0m:\u001b[36m590\u001b[0m Meter 'benign_carla_od_hallucinations_per_image' was never measured. The following args were never set: ['scenario.y_pred']\n",
      "2022-11-09 17:11:33 22s \u001b[32m\u001b[1mSUCCESS \u001b[0m \u001b[36marmory.instrument.config\u001b[0m:\u001b[36m_write\u001b[0m:\u001b[36m224\u001b[0m adversarial_mean_carla_od_hallucinations_per_image on adversarial examples w.r.t. ground truth labels: 4.5\n",
      "2022-11-09 17:11:33 22s \u001b[33m\u001b[1mWARNING \u001b[0m \u001b[36marmory.instrument.instrument\u001b[0m:\u001b[36mfinalize\u001b[0m:\u001b[36m590\u001b[0m Meter 'benign_carla_od_misclassification_rate' was never measured. The following args were never set: ['scenario.y_pred']\n",
      "2022-11-09 17:11:33 22s \u001b[32m\u001b[1mSUCCESS \u001b[0m \u001b[36marmory.instrument.config\u001b[0m:\u001b[36m_write\u001b[0m:\u001b[36m224\u001b[0m adversarial_mean_carla_od_misclassification_rate on adversarial examples w.r.t. ground truth labels: 0.00%\n",
      "2022-11-09 17:11:33 22s \u001b[33m\u001b[1mWARNING \u001b[0m \u001b[36marmory.instrument.instrument\u001b[0m:\u001b[36mfinalize\u001b[0m:\u001b[36m590\u001b[0m Meter 'benign_carla_od_true_positive_rate' was never measured. The following args were never set: ['scenario.y_pred']\n",
      "2022-11-09 17:11:33 22s \u001b[32m\u001b[1mSUCCESS \u001b[0m \u001b[36marmory.instrument.config\u001b[0m:\u001b[36m_write\u001b[0m:\u001b[36m224\u001b[0m adversarial_mean_carla_od_true_positive_rate on adversarial examples w.r.t. ground truth labels: 69.29%\n",
      "2022-11-09 17:11:33 22s \u001b[33m\u001b[1mWARNING \u001b[0m \u001b[36marmory.instrument.instrument\u001b[0m:\u001b[36mfinalize\u001b[0m:\u001b[36m590\u001b[0m Meter 'benign_object_detection_mAP_tide' was never measured. The following args were never set: ['scenario.y_pred']\n",
      "2022-11-09 17:11:33 22s \u001b[32m\u001b[1mSUCCESS \u001b[0m \u001b[36marmory.instrument.config\u001b[0m:\u001b[36m_write\u001b[0m:\u001b[36m224\u001b[0m adversarial_mean_object_detection_mAP_tide on adversarial examples w.r.t. ground truth labels: 81.25%\n",
      "2022-11-09 17:11:33 22s \u001b[33m\u001b[1mWARNING \u001b[0m \u001b[36marmory.instrument.instrument\u001b[0m:\u001b[36mfinalize\u001b[0m:\u001b[36m590\u001b[0m Meter 'adversarial_input_to_carla_od_AP_per_class_wrt_benign_preds' was never measured. The following args were never set: ['scenario.y_pred']\n",
      "2022-11-09 17:11:33 22s \u001b[33m\u001b[1mWARNING \u001b[0m \u001b[36marmory.instrument.instrument\u001b[0m:\u001b[36mfinalize\u001b[0m:\u001b[36m590\u001b[0m Meter 'adversarial_carla_od_disappearance_rate_wrt_benign_preds' was never measured. The following args were never set: ['scenario.y_pred']\n",
      "2022-11-09 17:11:33 22s \u001b[33m\u001b[1mWARNING \u001b[0m \u001b[36marmory.instrument.instrument\u001b[0m:\u001b[36mfinalize\u001b[0m:\u001b[36m590\u001b[0m Meter 'adversarial_carla_od_hallucinations_per_image_wrt_benign_preds' was never measured. The following args were never set: ['scenario.y_pred']\n",
      "2022-11-09 17:11:33 22s \u001b[33m\u001b[1mWARNING \u001b[0m \u001b[36marmory.instrument.instrument\u001b[0m:\u001b[36mfinalize\u001b[0m:\u001b[36m590\u001b[0m Meter 'adversarial_carla_od_misclassification_rate_wrt_benign_preds' was never measured. The following args were never set: ['scenario.y_pred']\n",
      "2022-11-09 17:11:33 22s \u001b[33m\u001b[1mWARNING \u001b[0m \u001b[36marmory.instrument.instrument\u001b[0m:\u001b[36mfinalize\u001b[0m:\u001b[36m590\u001b[0m Meter 'adversarial_carla_od_true_positive_rate_wrt_benign_preds' was never measured. The following args were never set: ['scenario.y_pred']\n",
      "2022-11-09 17:11:33 22s \u001b[33m\u001b[1mWARNING \u001b[0m \u001b[36marmory.instrument.instrument\u001b[0m:\u001b[36mfinalize\u001b[0m:\u001b[36m590\u001b[0m Meter 'adversarial_object_detection_mAP_tide_wrt_benign_preds' was never measured. The following args were never set: ['scenario.y_pred']\n",
      "2022-11-09 17:11:33 22s \u001b[33m\u001b[1mWARNING \u001b[0m \u001b[36marmory.instrument.export\u001b[0m:\u001b[36mfinalize\u001b[0m:\u001b[36m744\u001b[0m Meter 'pred_dict_exporter' was never measured. The following args were never set: ['scenario.y_pred']\n",
      "2022-11-09 17:11:33 22s \u001b[33m\u001b[1mWARNING \u001b[0m \u001b[36marmory.instrument.export\u001b[0m:\u001b[36mfinalize\u001b[0m:\u001b[36m657\u001b[0m Meter 'x_with_boxes_exporter' was never measured. The following args were never set: ['scenario.y_pred']\n",
      "2022-11-09 17:11:33 22s \u001b[33m\u001b[1mWARNING \u001b[0m \u001b[36marmory.instrument.export\u001b[0m:\u001b[36mfinalize\u001b[0m:\u001b[36m827\u001b[0m Meter 'coco_box_format_meter' was never measured. The following args were never set: ['scenario.y_pred']\n"
     ]
    },
    {
     "data": {
      "text/plain": [
       "{'perturbation_l0': [array([14418.]), array([5166.])],\n",
       " 'adversarial_carla_od_disappearance_rate': [[0.4], [0.2142857142857143]],\n",
       " 'adversarial_carla_od_hallucinations_per_image': [[5], [4]],\n",
       " 'adversarial_carla_od_misclassification_rate': [[0.0], [0.0]],\n",
       " 'adversarial_carla_od_true_positive_rate': [[0.6], [0.7857142857142857]],\n",
       " 'adversarial_object_detection_mAP_tide': [0.765, 0.86],\n",
       " 'adversarial_carla_od_AP_per_class': [{'mean': 0.8049999999999999,\n",
       "   'class': {1: 0.73, 2: 0.88}}],\n",
       " 'adversarial_mean_carla_od_disappearance_rate': [0.30714285714285716],\n",
       " 'adversarial_mean_carla_od_hallucinations_per_image': [4.5],\n",
       " 'adversarial_mean_carla_od_misclassification_rate': [0.0],\n",
       " 'adversarial_mean_carla_od_true_positive_rate': [0.6928571428571428],\n",
       " 'adversarial_mean_object_detection_mAP_tide': [0.8125],\n",
       " 'perturbation_mean_l0': [9792.0],\n",
       " 'compute': {}}"
      ]
     },
     "execution_count": 3,
     "metadata": {},
     "output_type": "execute_result"
    }
   ],
   "source": [
    "s.finalize_results()\n",
    "s.results"
   ]
  },
  {
   "cell_type": "markdown",
   "id": "de26de13-72f6-4b34-934b-3b2897064908",
   "metadata": {},
   "source": [
    "note that the mean of `average_precisions_by_class`:\n",
    "- `{1: 0.88, 2: 0.65}`\n",
    "- `{1: 0.72, 2: 1.0}`\n",
    "\n",
    "does not equal values in `adversarial_carla_od_AP_per_class`:\n",
    "- `[{'mean': 0.8049999999999999, 'class': {1: 0.73, 2: 0.88}}]`\n",
    "\n",
    "which means that even as `average_precisions_by_class` from `object_detection_AP_per_class` is being calculated per batch, `object_detection_AP_per_class` (called through `carla_od_AP_per_class`) also seems to be calculated over all detections and objects (note `{1: 0.73, 2: 0.88}`) while running `s.finalize_results()`), while `object_detection_mAP_tide` is not called during `s.finalize_results()`"
   ]
  },
  {
   "cell_type": "code",
   "execution_count": 5,
   "id": "d9e7a11c-8619-47dc-b21a-33b29e4f8a06",
   "metadata": {},
   "outputs": [],
   "source": [
    "import numpy as np"
   ]
  },
  {
   "cell_type": "code",
   "execution_count": 6,
   "id": "9fbb9ebd-92c5-4c77-94ab-40c245dcf471",
   "metadata": {},
   "outputs": [
    {
     "data": {
      "text/plain": [
       "0.8"
      ]
     },
     "execution_count": 6,
     "metadata": {},
     "output_type": "execute_result"
    }
   ],
   "source": [
    "np.mean([.88, .72])"
   ]
  },
  {
   "cell_type": "markdown",
   "id": "4b7d28b1-08d5-4458-af69-9b7845233653",
   "metadata": {},
   "source": [
    "added `\"export_batches\": true,` back in config file"
   ]
  },
  {
   "cell_type": "code",
   "execution_count": 1,
   "id": "6c435a08-c634-4bf5-9fcd-ba93e078e098",
   "metadata": {},
   "outputs": [
    {
     "name": "stdout",
     "output_type": "stream",
     "text": [
      "2022-11-09 18:52:34  0s \u001b[1mINFO    \u001b[0m \u001b[36marmory.delayed_imports\u001b[0m:\u001b[36m<module>\u001b[0m:\u001b[36m7\u001b[0m Importing and configuring torch, tensorflow, and art, if available. This may take some time.\n",
      "2022-11-09 18:52:36  2s \u001b[1mINFO    \u001b[0m \u001b[36marmory.delayed_imports\u001b[0m:\u001b[36m<module>\u001b[0m:\u001b[36m30\u001b[0m Setting tf.config.experimental.set_memory_growth to True on all GPUs\n",
      "2022-11-09 18:52:36  2s \u001b[1mINFO    \u001b[0m \u001b[36mart.config\u001b[0m:\u001b[36mset_data_path\u001b[0m:\u001b[36m55\u001b[0m set ART_DATA_PATH to /tmp/.art/data\n",
      "2022-11-09 18:52:37  2s \u001b[1mINFO    \u001b[0m \u001b[36mart.config\u001b[0m:\u001b[36mset_data_path\u001b[0m:\u001b[36m55\u001b[0m set ART_DATA_PATH to /armory/saved_models/art\n",
      "2022-11-09 18:52:37  3s \u001b[1mINFO    \u001b[0m \u001b[36marmory.scenarios.main\u001b[0m:\u001b[36m_scenario_setup\u001b[0m:\u001b[36m37\u001b[0m this repo is being updated\n",
      "2022-11-09 18:52:37  3s \u001b[31m\u001b[1mERROR   \u001b[0m \u001b[36marmory.scenarios.main\u001b[0m:\u001b[36m_scenario_setup\u001b[0m:\u001b[36m44\u001b[0m eval_id not in config. Inserting current timestamp 1668019957.4257207\n",
      "2022-11-09 18:52:37  3s \u001b[1mINFO    \u001b[0m \u001b[36marmory.scenarios.main\u001b[0m:\u001b[36m_scenario_setup\u001b[0m:\u001b[36m52\u001b[0m armory outputs and logs will be written to /armory/outputs/1668019957.4257207\n",
      "2022-11-09 18:52:38  3s \u001b[1mINFO    \u001b[0m \u001b[36marmory.data.utils\u001b[0m:\u001b[36mmaybe_download_weights_from_s3\u001b[0m:\u001b[36m47\u001b[0m Using available carla_rgb_weights_eval5.pt in Armory `saved_model_dir`\n",
      "2022-11-09 18:52:41  7s \u001b[1mINFO    \u001b[0m \u001b[36marmory.scenarios.scenario\u001b[0m:\u001b[36mload_dataset\u001b[0m:\u001b[36m205\u001b[0m Loading test dataset carla_obj_det_dev...\n"
     ]
    }
   ],
   "source": [
    "from armory.scenarios.main import get as get_scenario # restarted kernel\n",
    "\n",
    "s = get_scenario(\n",
    "    \"/armory/tmp/2022-11-03T180812.020999/carla_obj_det_adversarialpatch_undefended.json\",\n",
    "    # num_eval_batches=1,\n",
    "    num_eval_batches=2,\n",
    ").load()"
   ]
  },
  {
   "cell_type": "code",
   "execution_count": 2,
   "id": "ca840b08-d1af-4166-be4c-c812f42a9ab8",
   "metadata": {
    "tags": []
   },
   "outputs": [
    {
     "data": {
      "application/vnd.jupyter.widget-view+json": {
       "model_id": "ccd0405511e44becacf916bb823184b4",
       "version_major": 2,
       "version_minor": 0
      },
      "text/plain": [
       "Adversarial Patch PyTorch:   0%|          | 0/5 [00:00<?, ?it/s]"
      ]
     },
     "metadata": {},
     "output_type": "display_data"
    },
    {
     "name": "stderr",
     "output_type": "stream",
     "text": [
      "/opt/conda/lib/python3.8/site-packages/torchvision/transforms/functional.py:404: UserWarning: Argument interpolation should be of type InterpolationMode instead of int. Please, use InterpolationMode enum.\n",
      "  warnings.warn(\n",
      "/opt/conda/lib/python3.8/site-packages/torchvision/transforms/functional.py:654: UserWarning: Argument interpolation should be of type InterpolationMode instead of int. Please, use InterpolationMode enum.\n",
      "  warnings.warn(\n",
      "/opt/conda/lib/python3.8/site-packages/torch/functional.py:445: UserWarning: torch.meshgrid: in an upcoming release, it will be required to pass the indexing argument. (Triggered internally at  /opt/conda/conda-bld/pytorch_1640811806235/work/aten/src/ATen/native/TensorShape.cpp:2157.)\n",
      "  return _VF.meshgrid(tensors, **kwargs)  # type: ignore[attr-defined]\n"
     ]
    },
    {
     "name": "stdout",
     "output_type": "stream",
     "text": [
      "2022-11-09 18:52:48 13s \u001b[32m\u001b[1mSUCCESS \u001b[0m \u001b[36marmory.instrument.config\u001b[0m:\u001b[36m_write\u001b[0m:\u001b[36m224\u001b[0m adversarial_carla_od_disappearance_rate on adversarial examples w.r.t. ground truth labels: 40.00%\n",
      "2022-11-09 18:52:48 13s \u001b[32m\u001b[1mSUCCESS \u001b[0m \u001b[36marmory.instrument.config\u001b[0m:\u001b[36m_write\u001b[0m:\u001b[36m224\u001b[0m adversarial_carla_od_hallucinations_per_image on adversarial examples w.r.t. ground truth labels: 5.0\n",
      "2022-11-09 18:52:48 13s \u001b[32m\u001b[1mSUCCESS \u001b[0m \u001b[36marmory.instrument.config\u001b[0m:\u001b[36m_write\u001b[0m:\u001b[36m224\u001b[0m adversarial_carla_od_misclassification_rate on adversarial examples w.r.t. ground truth labels: 0.00%\n",
      "2022-11-09 18:52:48 13s \u001b[32m\u001b[1mSUCCESS \u001b[0m \u001b[36marmory.instrument.config\u001b[0m:\u001b[36m_write\u001b[0m:\u001b[36m224\u001b[0m adversarial_carla_od_true_positive_rate on adversarial examples w.r.t. ground truth labels: 60.00%\n",
      "len(y[\"labels\"]): 10, len(data_ground_truth.annotations): 10\n",
      "len(y_pred[\"labels\"]): 58, len(data_detection.annotations): 58\n",
      "-- detection --\n",
      "\n",
      "bbox AP @ [50-95]: 31.97\n",
      "                                         bbox AP @ [50-95]\n",
      "===================================================================================================\n",
      "  Thresh       50       55       60       65       70       75       80       85       90       95  \n",
      "---------------------------------------------------------------------------------------------------\n",
      "    AP      66.76    66.76    54.71    54.71    21.62    21.62    13.53    13.53     6.44     0.00  \n",
      "===================================================================================================\n",
      "\n",
      "                         Main Errors\n",
      "=============================================================\n",
      "  Type      Cls      Loc     Both     Dupe      Bkg     Miss  \n",
      "-------------------------------------------------------------\n",
      "   dAP     4.16     3.47     4.40     1.61     2.75     0.00  \n",
      "=============================================================\n",
      "\n",
      "        Special Error\n",
      "=============================\n",
      "  Type   FalsePos   FalseNeg  \n",
      "-----------------------------\n",
      "   dAP      20.86      11.88  \n",
      "=============================\n",
      "\n",
      "{1: 0.7, 2: 0.65}\n",
      "2022-11-09 18:52:48 13s \u001b[32m\u001b[1mSUCCESS \u001b[0m \u001b[36marmory.instrument.config\u001b[0m:\u001b[36m_write\u001b[0m:\u001b[36m224\u001b[0m adversarial_object_detection_mAP_tide on adversarial examples w.r.t. ground truth labels: 67.50%\n"
     ]
    },
    {
     "data": {
      "application/vnd.jupyter.widget-view+json": {
       "model_id": "0f975c44864e4b9b99de3c6acebf104e",
       "version_major": 2,
       "version_minor": 0
      },
      "text/plain": [
       "Adversarial Patch PyTorch:   0%|          | 0/5 [00:00<?, ?it/s]"
      ]
     },
     "metadata": {},
     "output_type": "display_data"
    },
    {
     "name": "stdout",
     "output_type": "stream",
     "text": [
      "2022-11-09 18:52:50 15s \u001b[32m\u001b[1mSUCCESS \u001b[0m \u001b[36marmory.instrument.config\u001b[0m:\u001b[36m_write\u001b[0m:\u001b[36m224\u001b[0m adversarial_carla_od_disappearance_rate on adversarial examples w.r.t. ground truth labels: 21.43%\n",
      "2022-11-09 18:52:50 15s \u001b[32m\u001b[1mSUCCESS \u001b[0m \u001b[36marmory.instrument.config\u001b[0m:\u001b[36m_write\u001b[0m:\u001b[36m224\u001b[0m adversarial_carla_od_hallucinations_per_image on adversarial examples w.r.t. ground truth labels: 4.0\n",
      "2022-11-09 18:52:50 15s \u001b[32m\u001b[1mSUCCESS \u001b[0m \u001b[36marmory.instrument.config\u001b[0m:\u001b[36m_write\u001b[0m:\u001b[36m224\u001b[0m adversarial_carla_od_misclassification_rate on adversarial examples w.r.t. ground truth labels: 0.00%\n",
      "2022-11-09 18:52:50 15s \u001b[32m\u001b[1mSUCCESS \u001b[0m \u001b[36marmory.instrument.config\u001b[0m:\u001b[36m_write\u001b[0m:\u001b[36m224\u001b[0m adversarial_carla_od_true_positive_rate on adversarial examples w.r.t. ground truth labels: 78.57%\n",
      "len(y[\"labels\"]): 14, len(data_ground_truth.annotations): 14\n",
      "len(y_pred[\"labels\"]): 40, len(data_detection.annotations): 40\n",
      "-- detection --\n",
      "\n",
      "bbox AP @ [50-95]: 51.96\n",
      "                                         bbox AP @ [50-95]\n",
      "===================================================================================================\n",
      "  Thresh       50       55       60       65       70       75       80       85       90       95  \n",
      "---------------------------------------------------------------------------------------------------\n",
      "    AP      85.64    85.64    85.64    72.60    52.90    52.90    33.59    25.33    25.33     0.00  \n",
      "===================================================================================================\n",
      "\n",
      "                         Main Errors\n",
      "=============================================================\n",
      "  Type      Cls      Loc     Both     Dupe      Bkg     Miss  \n",
      "-------------------------------------------------------------\n",
      "   dAP     0.00     0.00     0.00     0.00     0.50    13.64  \n",
      "=============================================================\n",
      "\n",
      "        Special Error\n",
      "=============================\n",
      "  Type   FalsePos   FalseNeg  \n",
      "-----------------------------\n",
      "   dAP       0.50      13.64  \n",
      "=============================\n",
      "\n",
      "{1: 0.72, 2: 1.0}\n",
      "2022-11-09 18:52:50 15s \u001b[32m\u001b[1mSUCCESS \u001b[0m \u001b[36marmory.instrument.config\u001b[0m:\u001b[36m_write\u001b[0m:\u001b[36m224\u001b[0m adversarial_object_detection_mAP_tide on adversarial examples w.r.t. ground truth labels: 86.00%\n"
     ]
    }
   ],
   "source": [
    "# note matching numbers from print statements\n",
    "s.load_attack()\n",
    "s.next()\n",
    "s.run_attack()\n",
    "s.next()\n",
    "s.run_attack()"
   ]
  },
  {
   "cell_type": "code",
   "execution_count": 3,
   "id": "1f4049e4-a631-470f-9930-61d2381d6b1d",
   "metadata": {},
   "outputs": [
    {
     "name": "stdout",
     "output_type": "stream",
     "text": [
      "2022-11-09 18:53:00 25s \u001b[33m\u001b[1mWARNING \u001b[0m \u001b[36marmory.instrument.instrument\u001b[0m:\u001b[36mfinalize\u001b[0m:\u001b[36m590\u001b[0m Meter 'benign_input_to_carla_od_AP_per_class' was never measured. The following args were never set: ['scenario.y_pred']\n",
      "{1: 0.69, 2: 0.83}\n",
      "2022-11-09 18:53:00 25s \u001b[32m\u001b[1mSUCCESS \u001b[0m \u001b[36marmory.instrument.config\u001b[0m:\u001b[36m_write\u001b[0m:\u001b[36m224\u001b[0m adversarial_carla_od_AP_per_class on adversarial examples w.r.t. ground truth labels: {'mean': 0.76, 'class': {1: 0.69, 2: 0.83}}\n",
      "2022-11-09 18:53:00 25s \u001b[33m\u001b[1mWARNING \u001b[0m \u001b[36marmory.instrument.instrument\u001b[0m:\u001b[36mfinalize\u001b[0m:\u001b[36m590\u001b[0m Meter 'benign_carla_od_disappearance_rate' was never measured. The following args were never set: ['scenario.y_pred']\n",
      "2022-11-09 18:53:00 25s \u001b[32m\u001b[1mSUCCESS \u001b[0m \u001b[36marmory.instrument.config\u001b[0m:\u001b[36m_write\u001b[0m:\u001b[36m224\u001b[0m adversarial_mean_carla_od_disappearance_rate on adversarial examples w.r.t. ground truth labels: 30.71%\n",
      "2022-11-09 18:53:00 25s \u001b[33m\u001b[1mWARNING \u001b[0m \u001b[36marmory.instrument.instrument\u001b[0m:\u001b[36mfinalize\u001b[0m:\u001b[36m590\u001b[0m Meter 'benign_carla_od_hallucinations_per_image' was never measured. The following args were never set: ['scenario.y_pred']\n",
      "2022-11-09 18:53:00 25s \u001b[32m\u001b[1mSUCCESS \u001b[0m \u001b[36marmory.instrument.config\u001b[0m:\u001b[36m_write\u001b[0m:\u001b[36m224\u001b[0m adversarial_mean_carla_od_hallucinations_per_image on adversarial examples w.r.t. ground truth labels: 4.5\n",
      "2022-11-09 18:53:00 25s \u001b[33m\u001b[1mWARNING \u001b[0m \u001b[36marmory.instrument.instrument\u001b[0m:\u001b[36mfinalize\u001b[0m:\u001b[36m590\u001b[0m Meter 'benign_carla_od_misclassification_rate' was never measured. The following args were never set: ['scenario.y_pred']\n",
      "2022-11-09 18:53:00 25s \u001b[32m\u001b[1mSUCCESS \u001b[0m \u001b[36marmory.instrument.config\u001b[0m:\u001b[36m_write\u001b[0m:\u001b[36m224\u001b[0m adversarial_mean_carla_od_misclassification_rate on adversarial examples w.r.t. ground truth labels: 0.00%\n",
      "2022-11-09 18:53:00 25s \u001b[33m\u001b[1mWARNING \u001b[0m \u001b[36marmory.instrument.instrument\u001b[0m:\u001b[36mfinalize\u001b[0m:\u001b[36m590\u001b[0m Meter 'benign_carla_od_true_positive_rate' was never measured. The following args were never set: ['scenario.y_pred']\n",
      "2022-11-09 18:53:00 25s \u001b[32m\u001b[1mSUCCESS \u001b[0m \u001b[36marmory.instrument.config\u001b[0m:\u001b[36m_write\u001b[0m:\u001b[36m224\u001b[0m adversarial_mean_carla_od_true_positive_rate on adversarial examples w.r.t. ground truth labels: 69.29%\n",
      "2022-11-09 18:53:00 25s \u001b[33m\u001b[1mWARNING \u001b[0m \u001b[36marmory.instrument.instrument\u001b[0m:\u001b[36mfinalize\u001b[0m:\u001b[36m590\u001b[0m Meter 'benign_object_detection_mAP_tide' was never measured. The following args were never set: ['scenario.y_pred']\n",
      "2022-11-09 18:53:00 25s \u001b[32m\u001b[1mSUCCESS \u001b[0m \u001b[36marmory.instrument.config\u001b[0m:\u001b[36m_write\u001b[0m:\u001b[36m224\u001b[0m adversarial_mean_object_detection_mAP_tide on adversarial examples w.r.t. ground truth labels: 76.75%\n",
      "2022-11-09 18:53:00 25s \u001b[33m\u001b[1mWARNING \u001b[0m \u001b[36marmory.instrument.instrument\u001b[0m:\u001b[36mfinalize\u001b[0m:\u001b[36m590\u001b[0m Meter 'adversarial_input_to_carla_od_AP_per_class_wrt_benign_preds' was never measured. The following args were never set: ['scenario.y_pred']\n",
      "2022-11-09 18:53:00 25s \u001b[33m\u001b[1mWARNING \u001b[0m \u001b[36marmory.instrument.instrument\u001b[0m:\u001b[36mfinalize\u001b[0m:\u001b[36m590\u001b[0m Meter 'adversarial_carla_od_disappearance_rate_wrt_benign_preds' was never measured. The following args were never set: ['scenario.y_pred']\n",
      "2022-11-09 18:53:00 25s \u001b[33m\u001b[1mWARNING \u001b[0m \u001b[36marmory.instrument.instrument\u001b[0m:\u001b[36mfinalize\u001b[0m:\u001b[36m590\u001b[0m Meter 'adversarial_carla_od_hallucinations_per_image_wrt_benign_preds' was never measured. The following args were never set: ['scenario.y_pred']\n",
      "2022-11-09 18:53:00 25s \u001b[33m\u001b[1mWARNING \u001b[0m \u001b[36marmory.instrument.instrument\u001b[0m:\u001b[36mfinalize\u001b[0m:\u001b[36m590\u001b[0m Meter 'adversarial_carla_od_misclassification_rate_wrt_benign_preds' was never measured. The following args were never set: ['scenario.y_pred']\n",
      "2022-11-09 18:53:00 25s \u001b[33m\u001b[1mWARNING \u001b[0m \u001b[36marmory.instrument.instrument\u001b[0m:\u001b[36mfinalize\u001b[0m:\u001b[36m590\u001b[0m Meter 'adversarial_carla_od_true_positive_rate_wrt_benign_preds' was never measured. The following args were never set: ['scenario.y_pred']\n",
      "2022-11-09 18:53:00 25s \u001b[33m\u001b[1mWARNING \u001b[0m \u001b[36marmory.instrument.instrument\u001b[0m:\u001b[36mfinalize\u001b[0m:\u001b[36m590\u001b[0m Meter 'adversarial_object_detection_mAP_tide_wrt_benign_preds' was never measured. The following args were never set: ['scenario.y_pred']\n",
      "2022-11-09 18:53:00 25s \u001b[33m\u001b[1mWARNING \u001b[0m \u001b[36marmory.instrument.export\u001b[0m:\u001b[36mfinalize\u001b[0m:\u001b[36m744\u001b[0m Meter 'pred_dict_exporter' was never measured. The following args were never set: ['scenario.y_pred']\n",
      "2022-11-09 18:53:00 25s \u001b[33m\u001b[1mWARNING \u001b[0m \u001b[36marmory.instrument.export\u001b[0m:\u001b[36mfinalize\u001b[0m:\u001b[36m657\u001b[0m Meter 'x_with_boxes_exporter' was never measured. The following args were never set: ['scenario.y_pred']\n",
      "2022-11-09 18:53:00 25s \u001b[33m\u001b[1mWARNING \u001b[0m \u001b[36marmory.instrument.export\u001b[0m:\u001b[36mfinalize\u001b[0m:\u001b[36m827\u001b[0m Meter 'coco_box_format_meter' was never measured. The following args were never set: ['scenario.y_pred']\n"
     ]
    },
    {
     "data": {
      "text/plain": [
       "{'perturbation_l0': [array([14418.]), array([5166.])],\n",
       " 'adversarial_carla_od_disappearance_rate': [[0.4], [0.2142857142857143]],\n",
       " 'adversarial_carla_od_hallucinations_per_image': [[5], [4]],\n",
       " 'adversarial_carla_od_misclassification_rate': [[0.0], [0.0]],\n",
       " 'adversarial_carla_od_true_positive_rate': [[0.6], [0.7857142857142857]],\n",
       " 'adversarial_object_detection_mAP_tide': [0.675, 0.86],\n",
       " 'adversarial_carla_od_AP_per_class': [{'mean': 0.76,\n",
       "   'class': {1: 0.69, 2: 0.83}}],\n",
       " 'adversarial_mean_carla_od_disappearance_rate': [0.30714285714285716],\n",
       " 'adversarial_mean_carla_od_hallucinations_per_image': [4.5],\n",
       " 'adversarial_mean_carla_od_misclassification_rate': [0.0],\n",
       " 'adversarial_mean_carla_od_true_positive_rate': [0.6928571428571428],\n",
       " 'adversarial_mean_object_detection_mAP_tide': [0.7675000000000001],\n",
       " 'perturbation_mean_l0': [9792.0],\n",
       " 'compute': {}}"
      ]
     },
     "execution_count": 3,
     "metadata": {},
     "output_type": "execute_result"
    }
   ],
   "source": [
    "s.finalize_results()\n",
    "s.results"
   ]
  },
  {
   "cell_type": "markdown",
   "id": "f656b497-2fac-4509-aa6a-dc76a1aa446f",
   "metadata": {
    "jp-MarkdownHeadingCollapsed": true,
    "tags": []
   },
   "source": [
    "#### `MEAN_AP_METRICS`"
   ]
  },
  {
   "cell_type": "markdown",
   "id": "4817bd8c-27a9-49d4-8831-bc04c6fdfc98",
   "metadata": {},
   "source": [
    "added `\"object_detection_mAP_tide\",` to `MEAN_AP_METRICS` in `armory/instrument/config.py`"
   ]
  },
  {
   "cell_type": "code",
   "execution_count": 1,
   "id": "df247647-3418-4f0f-abef-bf07ca07d736",
   "metadata": {},
   "outputs": [
    {
     "name": "stdout",
     "output_type": "stream",
     "text": [
      "2022-11-09 18:59:50  0s \u001b[1mINFO    \u001b[0m \u001b[36marmory.delayed_imports\u001b[0m:\u001b[36m<module>\u001b[0m:\u001b[36m7\u001b[0m Importing and configuring torch, tensorflow, and art, if available. This may take some time.\n",
      "2022-11-09 18:59:52  2s \u001b[1mINFO    \u001b[0m \u001b[36marmory.delayed_imports\u001b[0m:\u001b[36m<module>\u001b[0m:\u001b[36m30\u001b[0m Setting tf.config.experimental.set_memory_growth to True on all GPUs\n",
      "2022-11-09 18:59:52  2s \u001b[1mINFO    \u001b[0m \u001b[36mart.config\u001b[0m:\u001b[36mset_data_path\u001b[0m:\u001b[36m55\u001b[0m set ART_DATA_PATH to /tmp/.art/data\n",
      "2022-11-09 18:59:53  2s \u001b[1mINFO    \u001b[0m \u001b[36mart.config\u001b[0m:\u001b[36mset_data_path\u001b[0m:\u001b[36m55\u001b[0m set ART_DATA_PATH to /armory/saved_models/art\n",
      "2022-11-09 18:59:53  3s \u001b[1mINFO    \u001b[0m \u001b[36marmory.scenarios.main\u001b[0m:\u001b[36m_scenario_setup\u001b[0m:\u001b[36m37\u001b[0m this repo is being updated\n",
      "2022-11-09 18:59:53  3s \u001b[31m\u001b[1mERROR   \u001b[0m \u001b[36marmory.scenarios.main\u001b[0m:\u001b[36m_scenario_setup\u001b[0m:\u001b[36m44\u001b[0m eval_id not in config. Inserting current timestamp 1668020393.6422882\n",
      "2022-11-09 18:59:53  3s \u001b[1mINFO    \u001b[0m \u001b[36marmory.scenarios.main\u001b[0m:\u001b[36m_scenario_setup\u001b[0m:\u001b[36m52\u001b[0m armory outputs and logs will be written to /armory/outputs/1668020393.6422882\n",
      "2022-11-09 18:59:54  3s \u001b[1mINFO    \u001b[0m \u001b[36marmory.data.utils\u001b[0m:\u001b[36mmaybe_download_weights_from_s3\u001b[0m:\u001b[36m47\u001b[0m Using available carla_rgb_weights_eval5.pt in Armory `saved_model_dir`\n",
      "2022-11-09 18:59:58  7s \u001b[1mINFO    \u001b[0m \u001b[36marmory.scenarios.scenario\u001b[0m:\u001b[36mload_dataset\u001b[0m:\u001b[36m205\u001b[0m Loading test dataset carla_obj_det_dev...\n"
     ]
    }
   ],
   "source": [
    "from armory.scenarios.main import get as get_scenario # restarted kernel\n",
    "\n",
    "s = get_scenario(\n",
    "    \"/armory/tmp/2022-11-03T180812.020999/carla_obj_det_adversarialpatch_undefended.json\",\n",
    "    # num_eval_batches=1,\n",
    "    num_eval_batches=2,\n",
    ").load()"
   ]
  },
  {
   "cell_type": "code",
   "execution_count": 2,
   "id": "e61250dc-2fb9-419f-ac36-df662774d844",
   "metadata": {
    "tags": []
   },
   "outputs": [
    {
     "data": {
      "application/vnd.jupyter.widget-view+json": {
       "model_id": "999990a7b6e540ed81d160ed6ce30e41",
       "version_major": 2,
       "version_minor": 0
      },
      "text/plain": [
       "Adversarial Patch PyTorch:   0%|          | 0/5 [00:00<?, ?it/s]"
      ]
     },
     "metadata": {},
     "output_type": "display_data"
    },
    {
     "name": "stderr",
     "output_type": "stream",
     "text": [
      "/opt/conda/lib/python3.8/site-packages/torchvision/transforms/functional.py:404: UserWarning: Argument interpolation should be of type InterpolationMode instead of int. Please, use InterpolationMode enum.\n",
      "  warnings.warn(\n",
      "/opt/conda/lib/python3.8/site-packages/torchvision/transforms/functional.py:654: UserWarning: Argument interpolation should be of type InterpolationMode instead of int. Please, use InterpolationMode enum.\n",
      "  warnings.warn(\n",
      "/opt/conda/lib/python3.8/site-packages/torch/functional.py:445: UserWarning: torch.meshgrid: in an upcoming release, it will be required to pass the indexing argument. (Triggered internally at  /opt/conda/conda-bld/pytorch_1640811806235/work/aten/src/ATen/native/TensorShape.cpp:2157.)\n",
      "  return _VF.meshgrid(tensors, **kwargs)  # type: ignore[attr-defined]\n"
     ]
    },
    {
     "name": "stdout",
     "output_type": "stream",
     "text": [
      "2022-11-09 19:00:06 15s \u001b[32m\u001b[1mSUCCESS \u001b[0m \u001b[36marmory.instrument.config\u001b[0m:\u001b[36m_write\u001b[0m:\u001b[36m225\u001b[0m adversarial_carla_od_disappearance_rate on adversarial examples w.r.t. ground truth labels: 40.00%\n",
      "2022-11-09 19:00:06 15s \u001b[32m\u001b[1mSUCCESS \u001b[0m \u001b[36marmory.instrument.config\u001b[0m:\u001b[36m_write\u001b[0m:\u001b[36m225\u001b[0m adversarial_carla_od_hallucinations_per_image on adversarial examples w.r.t. ground truth labels: 5.0\n",
      "2022-11-09 19:00:06 15s \u001b[32m\u001b[1mSUCCESS \u001b[0m \u001b[36marmory.instrument.config\u001b[0m:\u001b[36m_write\u001b[0m:\u001b[36m225\u001b[0m adversarial_carla_od_misclassification_rate on adversarial examples w.r.t. ground truth labels: 0.00%\n",
      "2022-11-09 19:00:06 15s \u001b[32m\u001b[1mSUCCESS \u001b[0m \u001b[36marmory.instrument.config\u001b[0m:\u001b[36m_write\u001b[0m:\u001b[36m225\u001b[0m adversarial_carla_od_true_positive_rate on adversarial examples w.r.t. ground truth labels: 60.00%\n"
     ]
    },
    {
     "data": {
      "application/vnd.jupyter.widget-view+json": {
       "model_id": "c97fca5971f8472e91e4d59a06b3e3eb",
       "version_major": 2,
       "version_minor": 0
      },
      "text/plain": [
       "Adversarial Patch PyTorch:   0%|          | 0/5 [00:00<?, ?it/s]"
      ]
     },
     "metadata": {},
     "output_type": "display_data"
    },
    {
     "name": "stdout",
     "output_type": "stream",
     "text": [
      "2022-11-09 19:00:08 18s \u001b[32m\u001b[1mSUCCESS \u001b[0m \u001b[36marmory.instrument.config\u001b[0m:\u001b[36m_write\u001b[0m:\u001b[36m225\u001b[0m adversarial_carla_od_disappearance_rate on adversarial examples w.r.t. ground truth labels: 21.43%\n",
      "2022-11-09 19:00:08 18s \u001b[32m\u001b[1mSUCCESS \u001b[0m \u001b[36marmory.instrument.config\u001b[0m:\u001b[36m_write\u001b[0m:\u001b[36m225\u001b[0m adversarial_carla_od_hallucinations_per_image on adversarial examples w.r.t. ground truth labels: 4.0\n",
      "2022-11-09 19:00:08 18s \u001b[32m\u001b[1mSUCCESS \u001b[0m \u001b[36marmory.instrument.config\u001b[0m:\u001b[36m_write\u001b[0m:\u001b[36m225\u001b[0m adversarial_carla_od_misclassification_rate on adversarial examples w.r.t. ground truth labels: 0.00%\n",
      "2022-11-09 19:00:08 18s \u001b[32m\u001b[1mSUCCESS \u001b[0m \u001b[36marmory.instrument.config\u001b[0m:\u001b[36m_write\u001b[0m:\u001b[36m225\u001b[0m adversarial_carla_od_true_positive_rate on adversarial examples w.r.t. ground truth labels: 78.57%\n"
     ]
    }
   ],
   "source": [
    "# note matching numbers from print statements\n",
    "s.load_attack()\n",
    "s.next()\n",
    "s.run_attack()\n",
    "s.next()\n",
    "s.run_attack()"
   ]
  },
  {
   "cell_type": "markdown",
   "id": "643f05e9-1676-46fb-952b-428c878ef3ba",
   "metadata": {},
   "source": [
    "in the logs of the cell above, there are no longer any results from `object_detection_mAP_tide` or `object_detection_AP_per_class`\n",
    "- previous outputs from `s.run_attack()` were coming from calls to `object_detection_mAP_tide`, which then calls on `object_detection_AP_per_class`\n",
    "- previous outputs from `s.finalize_results()` were coming from calls to `carla_od_AP_per_class` (an element of `MEAN_AP_METRICS`), which then calls on `object_detection_AP_per_class`\n",
    "- should expect to see summarized `TIDE` output when calling `s.finalize_results()` in next cell"
   ]
  },
  {
   "cell_type": "code",
   "execution_count": 3,
   "id": "32c0e030-c300-42e5-a5c3-0b7afd4c4ea5",
   "metadata": {},
   "outputs": [
    {
     "name": "stdout",
     "output_type": "stream",
     "text": [
      "2022-11-09 19:07:04 7m13s \u001b[33m\u001b[1mWARNING \u001b[0m \u001b[36marmory.instrument.instrument\u001b[0m:\u001b[36mfinalize\u001b[0m:\u001b[36m590\u001b[0m Meter 'benign_input_to_carla_od_AP_per_class' was never measured. The following args were never set: ['scenario.y_pred']\n",
      "{1: 0.7, 2: 0.88}\n",
      "2022-11-09 19:07:04 7m13s \u001b[32m\u001b[1mSUCCESS \u001b[0m \u001b[36marmory.instrument.config\u001b[0m:\u001b[36m_write\u001b[0m:\u001b[36m225\u001b[0m adversarial_carla_od_AP_per_class on adversarial examples w.r.t. ground truth labels: {'mean': 0.79, 'class': {1: 0.7, 2: 0.88}}\n",
      "2022-11-09 19:07:04 7m13s \u001b[33m\u001b[1mWARNING \u001b[0m \u001b[36marmory.instrument.instrument\u001b[0m:\u001b[36mfinalize\u001b[0m:\u001b[36m590\u001b[0m Meter 'benign_carla_od_disappearance_rate' was never measured. The following args were never set: ['scenario.y_pred']\n",
      "2022-11-09 19:07:04 7m13s \u001b[32m\u001b[1mSUCCESS \u001b[0m \u001b[36marmory.instrument.config\u001b[0m:\u001b[36m_write\u001b[0m:\u001b[36m225\u001b[0m adversarial_mean_carla_od_disappearance_rate on adversarial examples w.r.t. ground truth labels: 30.71%\n",
      "2022-11-09 19:07:04 7m13s \u001b[33m\u001b[1mWARNING \u001b[0m \u001b[36marmory.instrument.instrument\u001b[0m:\u001b[36mfinalize\u001b[0m:\u001b[36m590\u001b[0m Meter 'benign_carla_od_hallucinations_per_image' was never measured. The following args were never set: ['scenario.y_pred']\n",
      "2022-11-09 19:07:04 7m13s \u001b[32m\u001b[1mSUCCESS \u001b[0m \u001b[36marmory.instrument.config\u001b[0m:\u001b[36m_write\u001b[0m:\u001b[36m225\u001b[0m adversarial_mean_carla_od_hallucinations_per_image on adversarial examples w.r.t. ground truth labels: 4.5\n",
      "2022-11-09 19:07:04 7m13s \u001b[33m\u001b[1mWARNING \u001b[0m \u001b[36marmory.instrument.instrument\u001b[0m:\u001b[36mfinalize\u001b[0m:\u001b[36m590\u001b[0m Meter 'benign_carla_od_misclassification_rate' was never measured. The following args were never set: ['scenario.y_pred']\n",
      "2022-11-09 19:07:04 7m13s \u001b[32m\u001b[1mSUCCESS \u001b[0m \u001b[36marmory.instrument.config\u001b[0m:\u001b[36m_write\u001b[0m:\u001b[36m225\u001b[0m adversarial_mean_carla_od_misclassification_rate on adversarial examples w.r.t. ground truth labels: 0.00%\n",
      "2022-11-09 19:07:04 7m13s \u001b[33m\u001b[1mWARNING \u001b[0m \u001b[36marmory.instrument.instrument\u001b[0m:\u001b[36mfinalize\u001b[0m:\u001b[36m590\u001b[0m Meter 'benign_carla_od_true_positive_rate' was never measured. The following args were never set: ['scenario.y_pred']\n",
      "2022-11-09 19:07:04 7m13s \u001b[32m\u001b[1mSUCCESS \u001b[0m \u001b[36marmory.instrument.config\u001b[0m:\u001b[36m_write\u001b[0m:\u001b[36m225\u001b[0m adversarial_mean_carla_od_true_positive_rate on adversarial examples w.r.t. ground truth labels: 69.29%\n",
      "2022-11-09 19:07:04 7m13s \u001b[33m\u001b[1mWARNING \u001b[0m \u001b[36marmory.instrument.instrument\u001b[0m:\u001b[36mfinalize\u001b[0m:\u001b[36m590\u001b[0m Meter 'benign_input_to_object_detection_mAP_tide' was never measured. The following args were never set: ['scenario.y_pred']\n",
      "len(y[\"labels\"]): 10, len(data_ground_truth.annotations): 10\n",
      "len(y_pred[\"labels\"]): 62, len(data_detection.annotations): 62\n",
      "len(y[\"labels\"]): 14, len(data_ground_truth.annotations): 24\n",
      "len(y_pred[\"labels\"]): 39, len(data_detection.annotations): 101\n",
      "-- detection --\n",
      "\n",
      "bbox AP @ [50-95]: 42.45\n",
      "                                         bbox AP @ [50-95]\n",
      "===================================================================================================\n",
      "  Thresh       50       55       60       65       70       75       80       85       90       95  \n",
      "---------------------------------------------------------------------------------------------------\n",
      "    AP      79.27    79.27    76.01    71.18    36.49    34.21    20.07    15.58    12.46     0.00  \n",
      "===================================================================================================\n",
      "\n",
      "                         Main Errors\n",
      "=============================================================\n",
      "  Type      Cls      Loc     Both     Dupe      Bkg     Miss  \n",
      "-------------------------------------------------------------\n",
      "   dAP     1.73     1.79     1.41     0.35     1.98     6.73  \n",
      "=============================================================\n",
      "\n",
      "        Special Error\n",
      "=============================\n",
      "  Type   FalsePos   FalseNeg  \n",
      "-----------------------------\n",
      "   dAP       7.37      12.80  \n",
      "=============================\n",
      "\n",
      "{1: 0.7, 2: 0.88}\n"
     ]
    },
    {
     "ename": "AttributeError",
     "evalue": "'numpy.float64' object has no attribute 'values'",
     "output_type": "error",
     "traceback": [
      "\u001b[0;31m\u001b[0m",
      "\u001b[0;31mAttributeError\u001b[0mTraceback (most recent call last)",
      "Input \u001b[0;32mIn [3]\u001b[0m, in \u001b[0;36m<cell line: 1>\u001b[0;34m()\u001b[0m\n\u001b[0;32m----> 1\u001b[0m \u001b[43ms\u001b[49m\u001b[38;5;241;43m.\u001b[39;49m\u001b[43mfinalize_results\u001b[49m\u001b[43m(\u001b[49m\u001b[43m)\u001b[49m\n\u001b[1;32m      2\u001b[0m s\u001b[38;5;241m.\u001b[39mresults\n",
      "File \u001b[0;32m/workspace/armory/scenarios/scenario.py:369\u001b[0m, in \u001b[0;36mScenario.finalize_results\u001b[0;34m(self)\u001b[0m\n\u001b[1;32m    368\u001b[0m \u001b[38;5;28;01mdef\u001b[39;00m \u001b[38;5;21mfinalize_results\u001b[39m(\u001b[38;5;28mself\u001b[39m):\n\u001b[0;32m--> 369\u001b[0m     \u001b[38;5;28mself\u001b[39m\u001b[38;5;241m.\u001b[39mmetric_results \u001b[38;5;241m=\u001b[39m \u001b[38;5;28;43mself\u001b[39;49m\u001b[38;5;241;43m.\u001b[39;49m\u001b[43mmetrics_logger\u001b[49m\u001b[38;5;241;43m.\u001b[39;49m\u001b[43mresults\u001b[49m\u001b[43m(\u001b[49m\u001b[43m)\u001b[49m\n\u001b[1;32m    370\u001b[0m     \u001b[38;5;28mself\u001b[39m\u001b[38;5;241m.\u001b[39mcompute_results \u001b[38;5;241m=\u001b[39m \u001b[38;5;28mself\u001b[39m\u001b[38;5;241m.\u001b[39mprofiler\u001b[38;5;241m.\u001b[39mresults()\n\u001b[1;32m    371\u001b[0m     \u001b[38;5;28mself\u001b[39m\u001b[38;5;241m.\u001b[39mresults \u001b[38;5;241m=\u001b[39m {}\n",
      "File \u001b[0;32m/workspace/armory/instrument/config.py:118\u001b[0m, in \u001b[0;36mMetricsLogger.results\u001b[0;34m(self)\u001b[0m\n\u001b[1;32m    117\u001b[0m \u001b[38;5;28;01mdef\u001b[39;00m \u001b[38;5;21mresults\u001b[39m(\u001b[38;5;28mself\u001b[39m):\n\u001b[0;32m--> 118\u001b[0m     \u001b[43mget_hub\u001b[49m\u001b[43m(\u001b[49m\u001b[43m)\u001b[49m\u001b[38;5;241;43m.\u001b[39;49m\u001b[43mclose\u001b[49m\u001b[43m(\u001b[49m\u001b[43m)\u001b[49m\n\u001b[1;32m    119\u001b[0m     \u001b[38;5;28;01mif\u001b[39;00m \u001b[38;5;28mself\u001b[39m\u001b[38;5;241m.\u001b[39mmetric_results \u001b[38;5;129;01mis\u001b[39;00m \u001b[38;5;28;01mNone\u001b[39;00m:\n\u001b[1;32m    120\u001b[0m         log\u001b[38;5;241m.\u001b[39mwarning(\u001b[38;5;124m\"\u001b[39m\u001b[38;5;124mNo metric results received from ResultsWriter\u001b[39m\u001b[38;5;124m\"\u001b[39m)\n",
      "File \u001b[0;32m/workspace/armory/instrument/instrument.py:444\u001b[0m, in \u001b[0;36mHub.close\u001b[0;34m(self)\u001b[0m\n\u001b[1;32m    441\u001b[0m     \u001b[38;5;28;01mreturn\u001b[39;00m\n\u001b[1;32m    443\u001b[0m \u001b[38;5;28;01mfor\u001b[39;00m meter \u001b[38;5;129;01min\u001b[39;00m \u001b[38;5;28mself\u001b[39m\u001b[38;5;241m.\u001b[39mmeters:\n\u001b[0;32m--> 444\u001b[0m     \u001b[43mmeter\u001b[49m\u001b[38;5;241;43m.\u001b[39;49m\u001b[43mfinalize\u001b[49m\u001b[43m(\u001b[49m\u001b[43m)\u001b[49m\n\u001b[1;32m    446\u001b[0m \u001b[38;5;28;01mfor\u001b[39;00m writer \u001b[38;5;129;01min\u001b[39;00m \u001b[38;5;28mself\u001b[39m\u001b[38;5;241m.\u001b[39mwriters:\n\u001b[1;32m    447\u001b[0m     writer\u001b[38;5;241m.\u001b[39mclose()\n",
      "File \u001b[0;32m/workspace/armory/instrument/instrument.py:599\u001b[0m, in \u001b[0;36mMeter.finalize\u001b[0;34m(self)\u001b[0m\n\u001b[1;32m    596\u001b[0m \u001b[38;5;28;01mif\u001b[39;00m \u001b[38;5;28mself\u001b[39m\u001b[38;5;241m.\u001b[39mfinal \u001b[38;5;129;01mis\u001b[39;00m \u001b[38;5;28;01mNone\u001b[39;00m:\n\u001b[1;32m    597\u001b[0m     \u001b[38;5;28;01mreturn\u001b[39;00m\n\u001b[0;32m--> 599\u001b[0m result \u001b[38;5;241m=\u001b[39m \u001b[38;5;28;43mself\u001b[39;49m\u001b[38;5;241;43m.\u001b[39;49m\u001b[43mfinal\u001b[49m\u001b[43m(\u001b[49m\u001b[38;5;28;43mself\u001b[39;49m\u001b[38;5;241;43m.\u001b[39;49m\u001b[43m_results\u001b[49m\u001b[43m,\u001b[49m\u001b[43m \u001b[49m\u001b[38;5;241;43m*\u001b[39;49m\u001b[38;5;241;43m*\u001b[39;49m\u001b[38;5;28;43mself\u001b[39;49m\u001b[38;5;241;43m.\u001b[39;49m\u001b[43mfinal_kwargs\u001b[49m\u001b[43m)\u001b[49m\n\u001b[1;32m    600\u001b[0m record \u001b[38;5;241m=\u001b[39m (\u001b[38;5;28mself\u001b[39m\u001b[38;5;241m.\u001b[39mfinal_name, \u001b[38;5;28;01mNone\u001b[39;00m, result)\n\u001b[1;32m    601\u001b[0m \u001b[38;5;28mself\u001b[39m\u001b[38;5;241m.\u001b[39m_final_result \u001b[38;5;241m=\u001b[39m result\n",
      "File \u001b[0;32m/workspace/armory/metrics/task.py:244\u001b[0m, in \u001b[0;36mMeanAP.__call__\u001b[0;34m(self, values, **kwargs)\u001b[0m\n\u001b[1;32m    242\u001b[0m args \u001b[38;5;241m=\u001b[39m [\u001b[38;5;28mlist\u001b[39m(x) \u001b[38;5;28;01mfor\u001b[39;00m x \u001b[38;5;129;01min\u001b[39;00m \u001b[38;5;28mzip\u001b[39m(\u001b[38;5;241m*\u001b[39mvalues)]\n\u001b[1;32m    243\u001b[0m ap \u001b[38;5;241m=\u001b[39m \u001b[38;5;28mself\u001b[39m\u001b[38;5;241m.\u001b[39map_metric(\u001b[38;5;241m*\u001b[39margs, \u001b[38;5;241m*\u001b[39m\u001b[38;5;241m*\u001b[39mkwargs)\n\u001b[0;32m--> 244\u001b[0m mean_ap \u001b[38;5;241m=\u001b[39m np\u001b[38;5;241m.\u001b[39mfromiter(\u001b[43map\u001b[49m\u001b[38;5;241;43m.\u001b[39;49m\u001b[43mvalues\u001b[49m(), dtype\u001b[38;5;241m=\u001b[39m\u001b[38;5;28mfloat\u001b[39m)\u001b[38;5;241m.\u001b[39mmean()\n\u001b[1;32m    245\u001b[0m \u001b[38;5;28;01mreturn\u001b[39;00m {\u001b[38;5;124m\"\u001b[39m\u001b[38;5;124mmean\u001b[39m\u001b[38;5;124m\"\u001b[39m: mean_ap, \u001b[38;5;124m\"\u001b[39m\u001b[38;5;124mclass\u001b[39m\u001b[38;5;124m\"\u001b[39m: ap}\n",
      "\u001b[0;31mAttributeError\u001b[0m: 'numpy.float64' object has no attribute 'values'"
     ]
    }
   ],
   "source": [
    "s.finalize_results()\n",
    "s.results"
   ]
  },
  {
   "cell_type": "markdown",
   "id": "dd1c8816-0b97-46cb-80f5-bfb92f2eac5c",
   "metadata": {},
   "source": [
    "`MEAN_AP_METRICS` expects outputs from tasks to be in a specific format which `object_detection_mAP_tide` does not follow - the error in the previous cell would also be an issue if `object_detection_mAP` were also included in `MEAN_AP_METRICS`"
   ]
  },
  {
   "cell_type": "markdown",
   "id": "5a0fe844-e76c-4767-8574-9cfdb2a59487",
   "metadata": {
    "jp-MarkdownHeadingCollapsed": true,
    "tags": []
   },
   "source": [
    "### Test `davidslater/better-global-metrics`"
   ]
  },
  {
   "cell_type": "markdown",
   "id": "b465cff1-da64-48c9-9968-711b83a92c4d",
   "metadata": {},
   "source": [
    "removed `object_detection_mAP_tide` from config file since it is not defined in `davidslater/better-global-metrics`\n",
    "- notice below that `this repo is being updated` will no longer appear in the logs when calling `get_scenario`"
   ]
  },
  {
   "cell_type": "code",
   "execution_count": 1,
   "id": "de9cfe4c-c602-464e-8c5c-42f0a16599d2",
   "metadata": {},
   "outputs": [
    {
     "name": "stdout",
     "output_type": "stream",
     "text": [
      "2022-11-10 15:47:06  0s \u001b[1mINFO    \u001b[0m \u001b[36marmory.delayed_imports\u001b[0m:\u001b[36m<module>\u001b[0m:\u001b[36m7\u001b[0m Importing and configuring torch, tensorflow, and art, if available. This may take some time.\n",
      "2022-11-10 15:47:08  2s \u001b[1mINFO    \u001b[0m \u001b[36marmory.delayed_imports\u001b[0m:\u001b[36m<module>\u001b[0m:\u001b[36m30\u001b[0m Setting tf.config.experimental.set_memory_growth to True on all GPUs\n",
      "2022-11-10 15:47:08  2s \u001b[1mINFO    \u001b[0m \u001b[36mart.config\u001b[0m:\u001b[36mset_data_path\u001b[0m:\u001b[36m55\u001b[0m set ART_DATA_PATH to /tmp/.art/data\n",
      "2022-11-10 15:47:09  3s \u001b[1mINFO    \u001b[0m \u001b[36mart.config\u001b[0m:\u001b[36mset_data_path\u001b[0m:\u001b[36m55\u001b[0m set ART_DATA_PATH to /armory/saved_models/art\n",
      "2022-11-10 15:47:09  3s \u001b[31m\u001b[1mERROR   \u001b[0m \u001b[36marmory.scenarios.main\u001b[0m:\u001b[36m_scenario_setup\u001b[0m:\u001b[36m41\u001b[0m eval_id not in config. Inserting current timestamp 1668095229.8753428\n",
      "2022-11-10 15:47:09  3s \u001b[1mINFO    \u001b[0m \u001b[36marmory.scenarios.main\u001b[0m:\u001b[36m_scenario_setup\u001b[0m:\u001b[36m49\u001b[0m armory outputs and logs will be written to /armory/outputs/1668095229.8753428\n",
      "2022-11-10 15:47:09  3s \u001b[1mINFO    \u001b[0m \u001b[36marmory.data.utils\u001b[0m:\u001b[36mmaybe_download_weights_from_s3\u001b[0m:\u001b[36m47\u001b[0m Using available carla_rgb_weights_eval5.pt in Armory `saved_model_dir`\n",
      "2022-11-10 15:47:13  7s \u001b[1mINFO    \u001b[0m \u001b[36marmory.scenarios.scenario\u001b[0m:\u001b[36mload_dataset\u001b[0m:\u001b[36m205\u001b[0m Loading test dataset carla_obj_det_dev...\n"
     ]
    }
   ],
   "source": [
    "from armory.scenarios.main import get as get_scenario # restarted kernel\n",
    "\n",
    "s = get_scenario(\n",
    "    \"/armory/tmp/2022-11-03T180812.020999/carla_obj_det_adversarialpatch_undefended.json\",\n",
    "    # num_eval_batches=1,\n",
    "    num_eval_batches=2,\n",
    ").load()"
   ]
  },
  {
   "cell_type": "code",
   "execution_count": 2,
   "id": "5a0e4d6c-0dba-4642-ad45-5f55c66bafd7",
   "metadata": {
    "tags": []
   },
   "outputs": [
    {
     "data": {
      "application/vnd.jupyter.widget-view+json": {
       "model_id": "bb12f3e1c5544241895130ea5d2052d8",
       "version_major": 2,
       "version_minor": 0
      },
      "text/plain": [
       "Adversarial Patch PyTorch:   0%|          | 0/5 [00:00<?, ?it/s]"
      ]
     },
     "metadata": {},
     "output_type": "display_data"
    },
    {
     "name": "stderr",
     "output_type": "stream",
     "text": [
      "/opt/conda/lib/python3.8/site-packages/torchvision/transforms/functional.py:404: UserWarning: Argument interpolation should be of type InterpolationMode instead of int. Please, use InterpolationMode enum.\n",
      "  warnings.warn(\n",
      "/opt/conda/lib/python3.8/site-packages/torchvision/transforms/functional.py:654: UserWarning: Argument interpolation should be of type InterpolationMode instead of int. Please, use InterpolationMode enum.\n",
      "  warnings.warn(\n",
      "/opt/conda/lib/python3.8/site-packages/torch/functional.py:445: UserWarning: torch.meshgrid: in an upcoming release, it will be required to pass the indexing argument. (Triggered internally at  /opt/conda/conda-bld/pytorch_1640811806235/work/aten/src/ATen/native/TensorShape.cpp:2157.)\n",
      "  return _VF.meshgrid(tensors, **kwargs)  # type: ignore[attr-defined]\n"
     ]
    },
    {
     "data": {
      "application/vnd.jupyter.widget-view+json": {
       "model_id": "d62af90ef3364b77b66e591287e7070f",
       "version_major": 2,
       "version_minor": 0
      },
      "text/plain": [
       "Adversarial Patch PyTorch:   0%|          | 0/5 [00:00<?, ?it/s]"
      ]
     },
     "metadata": {},
     "output_type": "display_data"
    }
   ],
   "source": [
    "# note matching numbers from print statements\n",
    "s.load_attack()\n",
    "s.next()\n",
    "s.run_attack()\n",
    "s.next()\n",
    "s.run_attack()"
   ]
  },
  {
   "cell_type": "code",
   "execution_count": 3,
   "id": "35ac4780-dd0e-4b55-bb96-60dc0f53714a",
   "metadata": {},
   "outputs": [
    {
     "name": "stdout",
     "output_type": "stream",
     "text": [
      "2022-11-10 15:47:38 31s \u001b[33m\u001b[1mWARNING \u001b[0m \u001b[36marmory.instrument.instrument\u001b[0m:\u001b[36mfinalize\u001b[0m:\u001b[36m590\u001b[0m Meter 'benign_input_to_carla_od_AP_per_class' was never measured. The following args were never set: ['scenario.y_pred']\n",
      "2022-11-10 15:47:38 31s \u001b[32m\u001b[1mSUCCESS \u001b[0m \u001b[36marmory.instrument.config\u001b[0m:\u001b[36m_write\u001b[0m:\u001b[36m229\u001b[0m adversarial_carla_od_AP_per_class on adversarial examples w.r.t. ground truth labels: {'mean': 0.78, 'class': {1: 0.69, 2: 0.87}}\n",
      "2022-11-10 15:47:38 31s \u001b[33m\u001b[1mWARNING \u001b[0m \u001b[36marmory.instrument.instrument\u001b[0m:\u001b[36mfinalize\u001b[0m:\u001b[36m590\u001b[0m Meter 'input_to_benign_carla_od_disappearance_rate' was never measured. The following args were never set: ['scenario.y_pred']\n",
      "2022-11-10 15:47:38 31s \u001b[32m\u001b[1mSUCCESS \u001b[0m \u001b[36marmory.instrument.config\u001b[0m:\u001b[36m_write\u001b[0m:\u001b[36m229\u001b[0m adversarial_carla_od_disappearance_rate on adversarial examples w.r.t. ground truth labels: 30.71%\n",
      "2022-11-10 15:47:38 31s \u001b[33m\u001b[1mWARNING \u001b[0m \u001b[36marmory.instrument.instrument\u001b[0m:\u001b[36mfinalize\u001b[0m:\u001b[36m590\u001b[0m Meter 'input_to_benign_carla_od_hallucinations_per_image' was never measured. The following args were never set: ['scenario.y_pred']\n",
      "2022-11-10 15:47:38 31s \u001b[32m\u001b[1mSUCCESS \u001b[0m \u001b[36marmory.instrument.config\u001b[0m:\u001b[36m_write\u001b[0m:\u001b[36m229\u001b[0m adversarial_carla_od_hallucinations_per_image on adversarial examples w.r.t. ground truth labels: 5.5\n",
      "2022-11-10 15:47:38 31s \u001b[33m\u001b[1mWARNING \u001b[0m \u001b[36marmory.instrument.instrument\u001b[0m:\u001b[36mfinalize\u001b[0m:\u001b[36m590\u001b[0m Meter 'input_to_benign_carla_od_misclassification_rate' was never measured. The following args were never set: ['scenario.y_pred']\n",
      "2022-11-10 15:47:38 31s \u001b[32m\u001b[1mSUCCESS \u001b[0m \u001b[36marmory.instrument.config\u001b[0m:\u001b[36m_write\u001b[0m:\u001b[36m229\u001b[0m adversarial_carla_od_misclassification_rate on adversarial examples w.r.t. ground truth labels: 0.00%\n",
      "2022-11-10 15:47:38 31s \u001b[33m\u001b[1mWARNING \u001b[0m \u001b[36marmory.instrument.instrument\u001b[0m:\u001b[36mfinalize\u001b[0m:\u001b[36m590\u001b[0m Meter 'input_to_benign_carla_od_true_positive_rate' was never measured. The following args were never set: ['scenario.y_pred']\n",
      "2022-11-10 15:47:38 31s \u001b[32m\u001b[1mSUCCESS \u001b[0m \u001b[36marmory.instrument.config\u001b[0m:\u001b[36m_write\u001b[0m:\u001b[36m229\u001b[0m adversarial_carla_od_true_positive_rate on adversarial examples w.r.t. ground truth labels: 69.29%\n",
      "2022-11-10 15:47:38 31s \u001b[33m\u001b[1mWARNING \u001b[0m \u001b[36marmory.instrument.instrument\u001b[0m:\u001b[36mfinalize\u001b[0m:\u001b[36m590\u001b[0m Meter 'adversarial_input_to_carla_od_AP_per_class_wrt_benign_preds' was never measured. The following args were never set: ['scenario.y_pred']\n",
      "2022-11-10 15:47:38 31s \u001b[33m\u001b[1mWARNING \u001b[0m \u001b[36marmory.instrument.instrument\u001b[0m:\u001b[36mfinalize\u001b[0m:\u001b[36m590\u001b[0m Meter 'input_to_adversarial_carla_od_disappearance_rate_wrt_benign_preds' was never measured. The following args were never set: ['scenario.y_pred']\n",
      "2022-11-10 15:47:38 31s \u001b[33m\u001b[1mWARNING \u001b[0m \u001b[36marmory.instrument.instrument\u001b[0m:\u001b[36mfinalize\u001b[0m:\u001b[36m590\u001b[0m Meter 'input_to_adversarial_carla_od_hallucinations_per_image_wrt_benign_preds' was never measured. The following args were never set: ['scenario.y_pred']\n",
      "2022-11-10 15:47:38 31s \u001b[33m\u001b[1mWARNING \u001b[0m \u001b[36marmory.instrument.instrument\u001b[0m:\u001b[36mfinalize\u001b[0m:\u001b[36m590\u001b[0m Meter 'input_to_adversarial_carla_od_misclassification_rate_wrt_benign_preds' was never measured. The following args were never set: ['scenario.y_pred']\n",
      "2022-11-10 15:47:38 31s \u001b[33m\u001b[1mWARNING \u001b[0m \u001b[36marmory.instrument.instrument\u001b[0m:\u001b[36mfinalize\u001b[0m:\u001b[36m590\u001b[0m Meter 'input_to_adversarial_carla_od_true_positive_rate_wrt_benign_preds' was never measured. The following args were never set: ['scenario.y_pred']\n",
      "2022-11-10 15:47:38 31s \u001b[33m\u001b[1mWARNING \u001b[0m \u001b[36marmory.instrument.export\u001b[0m:\u001b[36mfinalize\u001b[0m:\u001b[36m744\u001b[0m Meter 'pred_dict_exporter' was never measured. The following args were never set: ['scenario.y_pred']\n",
      "2022-11-10 15:47:38 31s \u001b[33m\u001b[1mWARNING \u001b[0m \u001b[36marmory.instrument.export\u001b[0m:\u001b[36mfinalize\u001b[0m:\u001b[36m657\u001b[0m Meter 'x_with_boxes_exporter' was never measured. The following args were never set: ['scenario.y_pred']\n",
      "2022-11-10 15:47:38 31s \u001b[33m\u001b[1mWARNING \u001b[0m \u001b[36marmory.instrument.export\u001b[0m:\u001b[36mfinalize\u001b[0m:\u001b[36m827\u001b[0m Meter 'coco_box_format_meter' was never measured. The following args were never set: ['scenario.y_pred']\n"
     ]
    },
    {
     "data": {
      "text/plain": [
       "{'perturbation_l0': [array([14418.]), array([5166.])],\n",
       " 'adversarial_carla_od_AP_per_class': [{'mean': 0.78,\n",
       "   'class': {1: 0.69, 2: 0.87}}],\n",
       " 'adversarial_carla_od_disappearance_rate': [[0.4, 0.2142857142857143]],\n",
       " 'adversarial_carla_od_hallucinations_per_image': [[7, 4]],\n",
       " 'adversarial_carla_od_misclassification_rate': [[0.0, 0.0]],\n",
       " 'adversarial_carla_od_true_positive_rate': [[0.6, 0.7857142857142857]],\n",
       " 'perturbation_mean_l0': [9792.0],\n",
       " 'compute': {}}"
      ]
     },
     "execution_count": 3,
     "metadata": {},
     "output_type": "execute_result"
    }
   ],
   "source": [
    "# davidslater/better-global-metrics\n",
    "s.finalize_results()\n",
    "s.results"
   ]
  },
  {
   "cell_type": "code",
   "execution_count": 3,
   "id": "ae2cf568-b0b0-495c-9e95-44789874e8af",
   "metadata": {},
   "outputs": [
    {
     "name": "stdout",
     "output_type": "stream",
     "text": [
      "2022-11-09 16:59:44 1m30s \u001b[33m\u001b[1mWARNING \u001b[0m \u001b[36marmory.instrument.instrument\u001b[0m:\u001b[36mfinalize\u001b[0m:\u001b[36m590\u001b[0m Meter 'benign_input_to_carla_od_AP_per_class' was never measured. The following args were never set: ['scenario.y_pred']\n",
      "2022-11-09 16:59:44 1m30s \u001b[32m\u001b[1mSUCCESS \u001b[0m \u001b[36marmory.instrument.config\u001b[0m:\u001b[36m_write\u001b[0m:\u001b[36m224\u001b[0m adversarial_carla_od_AP_per_class on adversarial examples w.r.t. ground truth labels: {'mean': 0.78, 'class': {1: 0.69, 2: 0.87}}\n",
      "2022-11-09 16:59:44 1m30s \u001b[33m\u001b[1mWARNING \u001b[0m \u001b[36marmory.instrument.instrument\u001b[0m:\u001b[36mfinalize\u001b[0m:\u001b[36m590\u001b[0m Meter 'benign_carla_od_disappearance_rate' was never measured. The following args were never set: ['scenario.y_pred']\n",
      "2022-11-09 16:59:44 1m30s \u001b[32m\u001b[1mSUCCESS \u001b[0m \u001b[36marmory.instrument.config\u001b[0m:\u001b[36m_write\u001b[0m:\u001b[36m224\u001b[0m adversarial_mean_carla_od_disappearance_rate on adversarial examples w.r.t. ground truth labels: 25.71%\n",
      "2022-11-09 16:59:44 1m30s \u001b[33m\u001b[1mWARNING \u001b[0m \u001b[36marmory.instrument.instrument\u001b[0m:\u001b[36mfinalize\u001b[0m:\u001b[36m590\u001b[0m Meter 'benign_carla_od_hallucinations_per_image' was never measured. The following args were never set: ['scenario.y_pred']\n",
      "2022-11-09 16:59:44 1m30s \u001b[32m\u001b[1mSUCCESS \u001b[0m \u001b[36marmory.instrument.config\u001b[0m:\u001b[36m_write\u001b[0m:\u001b[36m224\u001b[0m adversarial_mean_carla_od_hallucinations_per_image on adversarial examples w.r.t. ground truth labels: 5.5\n",
      "2022-11-09 16:59:44 1m30s \u001b[33m\u001b[1mWARNING \u001b[0m \u001b[36marmory.instrument.instrument\u001b[0m:\u001b[36mfinalize\u001b[0m:\u001b[36m590\u001b[0m Meter 'benign_carla_od_misclassification_rate' was never measured. The following args were never set: ['scenario.y_pred']\n",
      "2022-11-09 16:59:44 1m30s \u001b[32m\u001b[1mSUCCESS \u001b[0m \u001b[36marmory.instrument.config\u001b[0m:\u001b[36m_write\u001b[0m:\u001b[36m224\u001b[0m adversarial_mean_carla_od_misclassification_rate on adversarial examples w.r.t. ground truth labels: 5.00%\n",
      "2022-11-09 16:59:44 1m30s \u001b[33m\u001b[1mWARNING \u001b[0m \u001b[36marmory.instrument.instrument\u001b[0m:\u001b[36mfinalize\u001b[0m:\u001b[36m590\u001b[0m Meter 'benign_carla_od_true_positive_rate' was never measured. The following args were never set: ['scenario.y_pred']\n",
      "2022-11-09 16:59:44 1m30s \u001b[32m\u001b[1mSUCCESS \u001b[0m \u001b[36marmory.instrument.config\u001b[0m:\u001b[36m_write\u001b[0m:\u001b[36m224\u001b[0m adversarial_mean_carla_od_true_positive_rate on adversarial examples w.r.t. ground truth labels: 69.29%\n",
      "2022-11-09 16:59:44 1m30s \u001b[33m\u001b[1mWARNING \u001b[0m \u001b[36marmory.instrument.instrument\u001b[0m:\u001b[36mfinalize\u001b[0m:\u001b[36m590\u001b[0m Meter 'benign_object_detection_mAP_tide' was never measured. The following args were never set: ['scenario.y_pred']\n",
      "2022-11-09 16:59:44 1m30s \u001b[32m\u001b[1mSUCCESS \u001b[0m \u001b[36marmory.instrument.config\u001b[0m:\u001b[36m_write\u001b[0m:\u001b[36m224\u001b[0m adversarial_mean_object_detection_mAP_tide on adversarial examples w.r.t. ground truth labels: 75.75%\n",
      "2022-11-09 16:59:44 1m30s \u001b[33m\u001b[1mWARNING \u001b[0m \u001b[36marmory.instrument.instrument\u001b[0m:\u001b[36mfinalize\u001b[0m:\u001b[36m590\u001b[0m Meter 'adversarial_input_to_carla_od_AP_per_class_wrt_benign_preds' was never measured. The following args were never set: ['scenario.y_pred']\n",
      "2022-11-09 16:59:44 1m30s \u001b[33m\u001b[1mWARNING \u001b[0m \u001b[36marmory.instrument.instrument\u001b[0m:\u001b[36mfinalize\u001b[0m:\u001b[36m590\u001b[0m Meter 'adversarial_carla_od_disappearance_rate_wrt_benign_preds' was never measured. The following args were never set: ['scenario.y_pred']\n",
      "2022-11-09 16:59:44 1m30s \u001b[33m\u001b[1mWARNING \u001b[0m \u001b[36marmory.instrument.instrument\u001b[0m:\u001b[36mfinalize\u001b[0m:\u001b[36m590\u001b[0m Meter 'adversarial_carla_od_hallucinations_per_image_wrt_benign_preds' was never measured. The following args were never set: ['scenario.y_pred']\n",
      "2022-11-09 16:59:44 1m30s \u001b[33m\u001b[1mWARNING \u001b[0m \u001b[36marmory.instrument.instrument\u001b[0m:\u001b[36mfinalize\u001b[0m:\u001b[36m590\u001b[0m Meter 'adversarial_carla_od_misclassification_rate_wrt_benign_preds' was never measured. The following args were never set: ['scenario.y_pred']\n",
      "2022-11-09 16:59:44 1m30s \u001b[33m\u001b[1mWARNING \u001b[0m \u001b[36marmory.instrument.instrument\u001b[0m:\u001b[36mfinalize\u001b[0m:\u001b[36m590\u001b[0m Meter 'adversarial_carla_od_true_positive_rate_wrt_benign_preds' was never measured. The following args were never set: ['scenario.y_pred']\n",
      "2022-11-09 16:59:44 1m30s \u001b[33m\u001b[1mWARNING \u001b[0m \u001b[36marmory.instrument.instrument\u001b[0m:\u001b[36mfinalize\u001b[0m:\u001b[36m590\u001b[0m Meter 'adversarial_object_detection_mAP_tide_wrt_benign_preds' was never measured. The following args were never set: ['scenario.y_pred']\n",
      "2022-11-09 16:59:44 1m30s \u001b[33m\u001b[1mWARNING \u001b[0m \u001b[36marmory.instrument.export\u001b[0m:\u001b[36mfinalize\u001b[0m:\u001b[36m744\u001b[0m Meter 'pred_dict_exporter' was never measured. The following args were never set: ['scenario.y_pred']\n",
      "2022-11-09 16:59:44 1m30s \u001b[33m\u001b[1mWARNING \u001b[0m \u001b[36marmory.instrument.export\u001b[0m:\u001b[36mfinalize\u001b[0m:\u001b[36m657\u001b[0m Meter 'x_with_boxes_exporter' was never measured. The following args were never set: ['scenario.y_pred']\n",
      "2022-11-09 16:59:44 1m30s \u001b[33m\u001b[1mWARNING \u001b[0m \u001b[36marmory.instrument.export\u001b[0m:\u001b[36mfinalize\u001b[0m:\u001b[36m827\u001b[0m Meter 'coco_box_format_meter' was never measured. The following args were never set: ['scenario.y_pred']\n"
     ]
    },
    {
     "data": {
      "text/plain": [
       "{'perturbation_l0': [array([14418.]), array([5166.])],\n",
       " 'adversarial_carla_od_disappearance_rate': [[0.30000000000000004],\n",
       "  [0.2142857142857143]],\n",
       " 'adversarial_carla_od_hallucinations_per_image': [[7], [4]],\n",
       " 'adversarial_carla_od_misclassification_rate': [[0.1], [0.0]],\n",
       " 'adversarial_carla_od_true_positive_rate': [[0.6], [0.7857142857142857]],\n",
       " 'adversarial_object_detection_mAP_tide': [0.655, 0.86],\n",
       " 'adversarial_carla_od_AP_per_class': [{'mean': 0.78,\n",
       "   'class': {1: 0.69, 2: 0.87}}],\n",
       " 'adversarial_mean_carla_od_disappearance_rate': [0.2571428571428572],\n",
       " 'adversarial_mean_carla_od_hallucinations_per_image': [5.5],\n",
       " 'adversarial_mean_carla_od_misclassification_rate': [0.05],\n",
       " 'adversarial_mean_carla_od_true_positive_rate': [0.6928571428571428],\n",
       " 'adversarial_mean_object_detection_mAP_tide': [0.7575000000000001],\n",
       " 'perturbation_mean_l0': [9792.0],\n",
       " 'compute': {}}"
      ]
     },
     "execution_count": 3,
     "metadata": {},
     "output_type": "execute_result"
    }
   ],
   "source": [
    "# rc0.16.1\n",
    "s.finalize_results()\n",
    "s.results"
   ]
  },
  {
   "cell_type": "markdown",
   "id": "ad7d98d3-865a-43da-86da-7008f3da0c4e",
   "metadata": {},
   "source": [
    "- note that using `GlobalMeter` only seems to affect *when* a task is called and not so much *how* the aggregation takes place (despite the decorator setting the namespace as `population` for instance)\n",
    "- rather, how the aggregation is done (whether it's by image, by class, or both) is mostly determined by the task definition (not always since running a task after every batch is aggregating by image as a default)\n",
    "- it might be better (if possible, and if it already exists, great) to generalize tasks and create a paramter that can specify how the aggregation should be done\n",
    "    - the decorators for the following namespaces would seem to indicate that such a functionality already exists:\n",
    "        - aggregate\n",
    "        - population\n",
    "        - batch\n",
    "        - element\n",
    "    - the namespace cannot, however, override a task definition such as one for `_object_detection_get_tpr_mr_dr_hr` and any other tasks that depend on it (e.g. `object_detection_disappearance_rate`)\n",
    "- that I mentioned image and class, are groupings specific to object detection - to generalize even further to other tasks would require more thought in designing metrics..."
   ]
  },
  {
   "cell_type": "markdown",
   "id": "bba90e69-e4a0-4dda-a675-2d57a996d440",
   "metadata": {},
   "source": [
    "discussed with David and agreed to move forward with merge `davidslater/better-global-metrics` into `pp/tide`\n",
    "- using `GlobalMeter` does make population metrics easier to implement\n",
    "- David will look into any downstream effects"
   ]
  },
  {
   "cell_type": "markdown",
   "id": "cab24180-397c-4a31-b240-271745dab386",
   "metadata": {
    "tags": []
   },
   "source": [
    "### Use `GlobalMeter`"
   ]
  },
  {
   "cell_type": "markdown",
   "id": "7b3375c4-d70c-4d41-b8ed-ed7160e1d966",
   "metadata": {
    "jp-MarkdownHeadingCollapsed": true,
    "tags": []
   },
   "source": [
    "#### NO Kernel Restart"
   ]
  },
  {
   "cell_type": "code",
   "execution_count": 4,
   "id": "0ab61efc-b3e9-4e56-a99e-068c1e0932f9",
   "metadata": {},
   "outputs": [],
   "source": [
    "import importlib"
   ]
  },
  {
   "cell_type": "code",
   "execution_count": 6,
   "id": "cd748913-a635-4472-b6dc-d2a8d7eada0a",
   "metadata": {},
   "outputs": [],
   "source": [
    "import armory"
   ]
  },
  {
   "cell_type": "code",
   "execution_count": 7,
   "id": "f4fc04a9-a874-4c55-95d5-c52bd86f7808",
   "metadata": {},
   "outputs": [
    {
     "data": {
      "text/plain": [
       "<module 'armory' from '/workspace/armory/__init__.py'>"
      ]
     },
     "execution_count": 7,
     "metadata": {},
     "output_type": "execute_result"
    }
   ],
   "source": [
    "importlib.reload(armory)"
   ]
  },
  {
   "cell_type": "code",
   "execution_count": 8,
   "id": "03cccc70-ad9b-4017-b81b-4fab351ae274",
   "metadata": {
    "collapsed": true,
    "jupyter": {
     "outputs_hidden": true
    },
    "tags": []
   },
   "outputs": [
    {
     "name": "stdout",
     "output_type": "stream",
     "text": [
      "2022-11-10 18:23:15 2h36m8s \u001b[31m\u001b[1mERROR   \u001b[0m \u001b[36marmory.scenarios.main\u001b[0m:\u001b[36m_scenario_setup\u001b[0m:\u001b[36m41\u001b[0m eval_id not in config. Inserting current timestamp 1668104595.3002133\n",
      "2022-11-10 18:23:15 2h36m8s \u001b[1mINFO    \u001b[0m \u001b[36marmory.scenarios.main\u001b[0m:\u001b[36m_scenario_setup\u001b[0m:\u001b[36m49\u001b[0m armory outputs and logs will be written to /armory/outputs/1668104595.3002133\n",
      "2022-11-10 18:23:15 2h36m8s \u001b[1mINFO    \u001b[0m \u001b[36marmory.data.utils\u001b[0m:\u001b[36mmaybe_download_weights_from_s3\u001b[0m:\u001b[36m47\u001b[0m Using available carla_rgb_weights_eval5.pt in Armory `saved_model_dir`\n",
      "2022-11-10 18:23:16 2h36m9s \u001b[1mINFO    \u001b[0m \u001b[36marmory.scenarios.scenario\u001b[0m:\u001b[36mload_dataset\u001b[0m:\u001b[36m205\u001b[0m Loading test dataset carla_obj_det_dev...\n"
     ]
    },
    {
     "ename": "ValueError",
     "evalue": "object_detection_mAP_tide not a valid module and function path",
     "output_type": "error",
     "traceback": [
      "\u001b[0;31m\u001b[0m",
      "\u001b[0;31mKeyError\u001b[0mTraceback (most recent call last)",
      "File \u001b[0;32m/workspace/armory/metrics/__init__.py:35\u001b[0m, in \u001b[0;36mget_supported_metric\u001b[0;34m(name, instantiate_if_class)\u001b[0m\n\u001b[1;32m     34\u001b[0m \u001b[38;5;28;01mtry\u001b[39;00m:\n\u001b[0;32m---> 35\u001b[0m     function \u001b[38;5;241m=\u001b[39m \u001b[43mSUPPORTED_METRICS\u001b[49m\u001b[43m[\u001b[49m\u001b[43mname\u001b[49m\u001b[43m]\u001b[49m\n\u001b[1;32m     36\u001b[0m \u001b[38;5;28;01mexcept\u001b[39;00m \u001b[38;5;167;01mKeyError\u001b[39;00m:\n",
      "\u001b[0;31mKeyError\u001b[0m: 'object_detection_mAP_tide'",
      "\nDuring handling of the above exception, another exception occurred:\n",
      "\u001b[0;31mKeyError\u001b[0mTraceback (most recent call last)",
      "File \u001b[0;32m/workspace/armory/metrics/__init__.py:90\u001b[0m, in \u001b[0;36mget\u001b[0;34m(name, instantiate_if_class)\u001b[0m\n\u001b[1;32m     89\u001b[0m \u001b[38;5;28;01mtry\u001b[39;00m:\n\u001b[0;32m---> 90\u001b[0m     \u001b[38;5;28;01mreturn\u001b[39;00m \u001b[43mget_supported_metric\u001b[49m\u001b[43m(\u001b[49m\u001b[43mname\u001b[49m\u001b[43m,\u001b[49m\u001b[43m \u001b[49m\u001b[43minstantiate_if_class\u001b[49m\u001b[38;5;241;43m=\u001b[39;49m\u001b[43minstantiate_if_class\u001b[49m\u001b[43m)\u001b[49m\n\u001b[1;32m     91\u001b[0m \u001b[38;5;28;01mexcept\u001b[39;00m \u001b[38;5;167;01mKeyError\u001b[39;00m:\n",
      "File \u001b[0;32m/workspace/armory/metrics/__init__.py:37\u001b[0m, in \u001b[0;36mget_supported_metric\u001b[0;34m(name, instantiate_if_class)\u001b[0m\n\u001b[1;32m     36\u001b[0m \u001b[38;5;28;01mexcept\u001b[39;00m \u001b[38;5;167;01mKeyError\u001b[39;00m:\n\u001b[0;32m---> 37\u001b[0m     \u001b[38;5;28;01mraise\u001b[39;00m \u001b[38;5;167;01mKeyError\u001b[39;00m(\u001b[38;5;124mf\u001b[39m\u001b[38;5;124m\"\u001b[39m\u001b[38;5;132;01m{\u001b[39;00mname\u001b[38;5;132;01m}\u001b[39;00m\u001b[38;5;124m is not part of armory.metrics\u001b[39m\u001b[38;5;124m\"\u001b[39m)\n\u001b[1;32m     38\u001b[0m \u001b[38;5;28;01mreturn\u001b[39;00m _instantiate_validate(\n\u001b[1;32m     39\u001b[0m     function, name, instantiate_if_class\u001b[38;5;241m=\u001b[39minstantiate_if_class\n\u001b[1;32m     40\u001b[0m )\n",
      "\u001b[0;31mKeyError\u001b[0m: 'object_detection_mAP_tide is not part of armory.metrics'",
      "\nDuring handling of the above exception, another exception occurred:\n",
      "\u001b[0;31mValueError\u001b[0mTraceback (most recent call last)",
      "Input \u001b[0;32mIn [8]\u001b[0m, in \u001b[0;36m<cell line: 3>\u001b[0;34m()\u001b[0m\n\u001b[1;32m      1\u001b[0m \u001b[38;5;28;01mfrom\u001b[39;00m \u001b[38;5;21;01marmory\u001b[39;00m\u001b[38;5;21;01m.\u001b[39;00m\u001b[38;5;21;01mscenarios\u001b[39;00m\u001b[38;5;21;01m.\u001b[39;00m\u001b[38;5;21;01mmain\u001b[39;00m \u001b[38;5;28;01mimport\u001b[39;00m get \u001b[38;5;28;01mas\u001b[39;00m get_scenario \u001b[38;5;66;03m# restarted kernel\u001b[39;00m\n\u001b[0;32m----> 3\u001b[0m s \u001b[38;5;241m=\u001b[39m \u001b[43mget_scenario\u001b[49m\u001b[43m(\u001b[49m\n\u001b[1;32m      4\u001b[0m \u001b[43m    \u001b[49m\u001b[38;5;124;43m\"\u001b[39;49m\u001b[38;5;124;43m/armory/tmp/2022-11-03T180812.020999/carla_obj_det_adversarialpatch_undefended.json\u001b[39;49m\u001b[38;5;124;43m\"\u001b[39;49m\u001b[43m,\u001b[49m\n\u001b[1;32m      5\u001b[0m \u001b[43m    \u001b[49m\u001b[38;5;66;43;03m# num_eval_batches=1,\u001b[39;49;00m\n\u001b[1;32m      6\u001b[0m \u001b[43m    \u001b[49m\u001b[43mnum_eval_batches\u001b[49m\u001b[38;5;241;43m=\u001b[39;49m\u001b[38;5;241;43m2\u001b[39;49m\u001b[43m,\u001b[49m\n\u001b[1;32m      7\u001b[0m \u001b[43m)\u001b[49m\u001b[38;5;241;43m.\u001b[39;49m\u001b[43mload\u001b[49m\u001b[43m(\u001b[49m\u001b[43m)\u001b[49m\n",
      "File \u001b[0;32m/workspace/armory/scenarios/scenario.py:277\u001b[0m, in \u001b[0;36mScenario.load\u001b[0;34m(self)\u001b[0m\n\u001b[1;32m    275\u001b[0m \u001b[38;5;28mself\u001b[39m\u001b[38;5;241m.\u001b[39mload_attack()\n\u001b[1;32m    276\u001b[0m \u001b[38;5;28mself\u001b[39m\u001b[38;5;241m.\u001b[39mload_dataset()\n\u001b[0;32m--> 277\u001b[0m \u001b[38;5;28;43mself\u001b[39;49m\u001b[38;5;241;43m.\u001b[39;49m\u001b[43mload_metrics\u001b[49m\u001b[43m(\u001b[49m\u001b[43m)\u001b[49m\n\u001b[1;32m    278\u001b[0m \u001b[38;5;28mself\u001b[39m\u001b[38;5;241m.\u001b[39mload_export_meters()\n\u001b[1;32m    279\u001b[0m \u001b[38;5;28;01mreturn\u001b[39;00m \u001b[38;5;28mself\u001b[39m\n",
      "File \u001b[0;32m/workspace/armory/scenarios/carla_object_detection.py:76\u001b[0m, in \u001b[0;36mCarlaObjectDetectionTask.load_metrics\u001b[0;34m(self)\u001b[0m\n\u001b[1;32m     75\u001b[0m \u001b[38;5;28;01mdef\u001b[39;00m \u001b[38;5;21mload_metrics\u001b[39m(\u001b[38;5;28mself\u001b[39m):\n\u001b[0;32m---> 76\u001b[0m     \u001b[38;5;28;43msuper\u001b[39;49m\u001b[43m(\u001b[49m\u001b[43m)\u001b[49m\u001b[38;5;241;43m.\u001b[39;49m\u001b[43mload_metrics\u001b[49m\u001b[43m(\u001b[49m\u001b[43m)\u001b[49m\n\u001b[1;32m     77\u001b[0m     \u001b[38;5;66;03m# measure adversarial results using benign predictions as labels\u001b[39;00m\n\u001b[1;32m     78\u001b[0m     \u001b[38;5;28mself\u001b[39m\u001b[38;5;241m.\u001b[39mmetrics_logger\u001b[38;5;241m.\u001b[39madd_tasks_wrt_benign_predictions()\n",
      "File \u001b[0;32m/workspace/armory/scenarios/scenario.py:223\u001b[0m, in \u001b[0;36mScenario.load_metrics\u001b[0;34m(self)\u001b[0m\n\u001b[1;32m    218\u001b[0m     log\u001b[38;5;241m.\u001b[39mwarning(\n\u001b[1;32m    219\u001b[0m         \u001b[38;5;124m\"\u001b[39m\u001b[38;5;124mRun \u001b[39m\u001b[38;5;124m'\u001b[39m\u001b[38;5;124mload_attack\u001b[39m\u001b[38;5;124m'\u001b[39m\u001b[38;5;124m before \u001b[39m\u001b[38;5;124m'\u001b[39m\u001b[38;5;124mload_metrics\u001b[39m\u001b[38;5;124m'\u001b[39m\u001b[38;5;124m if not just doing benign inference\u001b[39m\u001b[38;5;124m\"\u001b[39m\n\u001b[1;32m    220\u001b[0m     )\n\u001b[1;32m    222\u001b[0m metrics_config \u001b[38;5;241m=\u001b[39m \u001b[38;5;28mself\u001b[39m\u001b[38;5;241m.\u001b[39mconfig[\u001b[38;5;124m\"\u001b[39m\u001b[38;5;124mmetric\u001b[39m\u001b[38;5;124m\"\u001b[39m]\n\u001b[0;32m--> 223\u001b[0m metrics_logger \u001b[38;5;241m=\u001b[39m \u001b[43mMetricsLogger\u001b[49m\u001b[38;5;241;43m.\u001b[39;49m\u001b[43mfrom_config\u001b[49m\u001b[43m(\u001b[49m\n\u001b[1;32m    224\u001b[0m \u001b[43m    \u001b[49m\u001b[43mmetrics_config\u001b[49m\u001b[43m,\u001b[49m\n\u001b[1;32m    225\u001b[0m \u001b[43m    \u001b[49m\u001b[43minclude_benign\u001b[49m\u001b[38;5;241;43m=\u001b[39;49m\u001b[38;5;129;43;01mnot\u001b[39;49;00m\u001b[43m \u001b[49m\u001b[38;5;28;43mself\u001b[39;49m\u001b[38;5;241;43m.\u001b[39;49m\u001b[43mskip_benign\u001b[49m\u001b[43m,\u001b[49m\n\u001b[1;32m    226\u001b[0m \u001b[43m    \u001b[49m\u001b[43minclude_adversarial\u001b[49m\u001b[38;5;241;43m=\u001b[39;49m\u001b[38;5;129;43;01mnot\u001b[39;49;00m\u001b[43m \u001b[49m\u001b[38;5;28;43mself\u001b[39;49m\u001b[38;5;241;43m.\u001b[39;49m\u001b[43mskip_attack\u001b[49m\u001b[43m,\u001b[49m\n\u001b[1;32m    227\u001b[0m \u001b[43m    \u001b[49m\u001b[43minclude_targeted\u001b[49m\u001b[38;5;241;43m=\u001b[39;49m\u001b[38;5;28;43mself\u001b[39;49m\u001b[38;5;241;43m.\u001b[39;49m\u001b[43mtargeted\u001b[49m\u001b[43m,\u001b[49m\n\u001b[1;32m    228\u001b[0m \u001b[43m\u001b[49m\u001b[43m)\u001b[49m\n\u001b[1;32m    229\u001b[0m \u001b[38;5;28mself\u001b[39m\u001b[38;5;241m.\u001b[39mprofiler \u001b[38;5;241m=\u001b[39m compute\u001b[38;5;241m.\u001b[39mprofiler_from_config(metrics_config)\n\u001b[1;32m    230\u001b[0m \u001b[38;5;28mself\u001b[39m\u001b[38;5;241m.\u001b[39mmetrics_logger \u001b[38;5;241m=\u001b[39m metrics_logger\n",
      "File \u001b[0;32m/workspace/armory/instrument/config.py:105\u001b[0m, in \u001b[0;36mMetricsLogger.from_config\u001b[0;34m(cls, config, include_benign, include_adversarial, include_targeted)\u001b[0m\n\u001b[1;32m     97\u001b[0m \u001b[38;5;129m@classmethod\u001b[39m\n\u001b[1;32m     98\u001b[0m \u001b[38;5;28;01mdef\u001b[39;00m \u001b[38;5;21mfrom_config\u001b[39m(\n\u001b[1;32m     99\u001b[0m     \u001b[38;5;28mcls\u001b[39m,\n\u001b[0;32m   (...)\u001b[0m\n\u001b[1;32m    103\u001b[0m     include_targeted\u001b[38;5;241m=\u001b[39m\u001b[38;5;28;01mTrue\u001b[39;00m,\n\u001b[1;32m    104\u001b[0m ):\n\u001b[0;32m--> 105\u001b[0m     \u001b[38;5;28;01mreturn\u001b[39;00m \u001b[38;5;28;43mcls\u001b[39;49m\u001b[43m(\u001b[49m\n\u001b[1;32m    106\u001b[0m \u001b[43m        \u001b[49m\u001b[43minclude_benign\u001b[49m\u001b[38;5;241;43m=\u001b[39;49m\u001b[43minclude_benign\u001b[49m\u001b[43m,\u001b[49m\n\u001b[1;32m    107\u001b[0m \u001b[43m        \u001b[49m\u001b[43minclude_adversarial\u001b[49m\u001b[38;5;241;43m=\u001b[39;49m\u001b[43minclude_adversarial\u001b[49m\u001b[43m,\u001b[49m\n\u001b[1;32m    108\u001b[0m \u001b[43m        \u001b[49m\u001b[43minclude_targeted\u001b[49m\u001b[38;5;241;43m=\u001b[39;49m\u001b[43minclude_targeted\u001b[49m\u001b[43m,\u001b[49m\n\u001b[1;32m    109\u001b[0m \u001b[43m        \u001b[49m\u001b[38;5;241;43m*\u001b[39;49m\u001b[38;5;241;43m*\u001b[39;49m\u001b[43m{\u001b[49m\u001b[43mk\u001b[49m\u001b[43m:\u001b[49m\u001b[43m \u001b[49m\u001b[43mv\u001b[49m\u001b[43m \u001b[49m\u001b[38;5;28;43;01mfor\u001b[39;49;00m\u001b[43m \u001b[49m\u001b[43mk\u001b[49m\u001b[43m,\u001b[49m\u001b[43m \u001b[49m\u001b[43mv\u001b[49m\u001b[43m \u001b[49m\u001b[38;5;129;43;01min\u001b[39;49;00m\u001b[43m \u001b[49m\u001b[43mconfig\u001b[49m\u001b[38;5;241;43m.\u001b[39;49m\u001b[43mitems\u001b[49m\u001b[43m(\u001b[49m\u001b[43m)\u001b[49m\u001b[43m \u001b[49m\u001b[38;5;28;43;01mif\u001b[39;49;00m\u001b[43m \u001b[49m\u001b[43mk\u001b[49m\u001b[43m \u001b[49m\u001b[38;5;241;43m!=\u001b[39;49m\u001b[43m \u001b[49m\u001b[38;5;124;43m\"\u001b[39;49m\u001b[38;5;124;43mprofiler_type\u001b[39;49m\u001b[38;5;124;43m\"\u001b[39;49m\u001b[43m}\u001b[49m\u001b[43m,\u001b[49m\n\u001b[1;32m    110\u001b[0m \u001b[43m    \u001b[49m\u001b[43m)\u001b[49m\n",
      "File \u001b[0;32m/workspace/armory/instrument/config.py:61\u001b[0m, in \u001b[0;36mMetricsLogger.__init__\u001b[0;34m(self, task, task_kwargs, perturbation, means, include_benign, include_adversarial, include_targeted, record_metric_per_sample, max_record_size)\u001b[0m\n\u001b[1;32m     58\u001b[0m     \u001b[38;5;28;01mif\u001b[39;00m \u001b[38;5;28misinstance\u001b[39m(task_kwargs, \u001b[38;5;28mdict\u001b[39m):\n\u001b[1;32m     59\u001b[0m         \u001b[38;5;28mself\u001b[39m\u001b[38;5;241m.\u001b[39mtask_kwargs \u001b[38;5;241m=\u001b[39m [task_kwargs]\n\u001b[0;32m---> 61\u001b[0m     \u001b[43mconstruct_meters_for_task_metrics\u001b[49m\u001b[43m(\u001b[49m\n\u001b[1;32m     62\u001b[0m \u001b[43m        \u001b[49m\u001b[38;5;28;43mself\u001b[39;49m\u001b[38;5;241;43m.\u001b[39;49m\u001b[43mtask\u001b[49m\u001b[43m,\u001b[49m\n\u001b[1;32m     63\u001b[0m \u001b[43m        \u001b[49m\u001b[43muse_mean\u001b[49m\u001b[38;5;241;43m=\u001b[39;49m\u001b[43mmeans\u001b[49m\u001b[43m,\u001b[49m\n\u001b[1;32m     64\u001b[0m \u001b[43m        \u001b[49m\u001b[43minclude_benign\u001b[49m\u001b[38;5;241;43m=\u001b[39;49m\u001b[38;5;28;43mself\u001b[39;49m\u001b[38;5;241;43m.\u001b[39;49m\u001b[43minclude_benign\u001b[49m\u001b[43m,\u001b[49m\n\u001b[1;32m     65\u001b[0m \u001b[43m        \u001b[49m\u001b[43minclude_adversarial\u001b[49m\u001b[38;5;241;43m=\u001b[39;49m\u001b[38;5;28;43mself\u001b[39;49m\u001b[38;5;241;43m.\u001b[39;49m\u001b[43minclude_adversarial\u001b[49m\u001b[43m,\u001b[49m\n\u001b[1;32m     66\u001b[0m \u001b[43m        \u001b[49m\u001b[43minclude_targeted\u001b[49m\u001b[38;5;241;43m=\u001b[39;49m\u001b[38;5;28;43mself\u001b[39;49m\u001b[38;5;241;43m.\u001b[39;49m\u001b[43minclude_targeted\u001b[49m\u001b[43m,\u001b[49m\n\u001b[1;32m     67\u001b[0m \u001b[43m        \u001b[49m\u001b[43mtask_kwargs\u001b[49m\u001b[38;5;241;43m=\u001b[39;49m\u001b[38;5;28;43mself\u001b[39;49m\u001b[38;5;241;43m.\u001b[39;49m\u001b[43mtask_kwargs\u001b[49m\u001b[43m,\u001b[49m\n\u001b[1;32m     68\u001b[0m \u001b[43m        \u001b[49m\u001b[43mrecord_final_only\u001b[49m\u001b[38;5;241;43m=\u001b[39;49m\u001b[38;5;28;43mself\u001b[39;49m\u001b[38;5;241;43m.\u001b[39;49m\u001b[43mrecord_final_only\u001b[49m\u001b[43m,\u001b[49m\n\u001b[1;32m     69\u001b[0m \u001b[43m    \u001b[49m\u001b[43m)\u001b[49m\n\u001b[1;32m     70\u001b[0m \u001b[38;5;28;01mif\u001b[39;00m perturbation \u001b[38;5;129;01mis\u001b[39;00m \u001b[38;5;129;01mnot\u001b[39;00m \u001b[38;5;28;01mNone\u001b[39;00m \u001b[38;5;129;01mand\u001b[39;00m \u001b[38;5;28mself\u001b[39m\u001b[38;5;241m.\u001b[39minclude_adversarial:\n\u001b[1;32m     71\u001b[0m     \u001b[38;5;28;01mif\u001b[39;00m \u001b[38;5;28misinstance\u001b[39m(perturbation, \u001b[38;5;28mstr\u001b[39m):\n",
      "File \u001b[0;32m/workspace/armory/instrument/config.py:372\u001b[0m, in \u001b[0;36mconstruct_meters_for_task_metrics\u001b[0;34m(names, use_mean, include_benign, include_adversarial, include_targeted, record_final_only, task_kwargs)\u001b[0m\n\u001b[1;32m    369\u001b[0m hub \u001b[38;5;241m=\u001b[39m get_hub()\n\u001b[1;32m    371\u001b[0m tuples \u001b[38;5;241m=\u001b[39m []\n\u001b[0;32m--> 372\u001b[0m \u001b[38;5;28;01mfor\u001b[39;00m name, metric_kwargs \u001b[38;5;129;01min\u001b[39;00m \u001b[38;5;28mzip\u001b[39m(names, task_kwargs):\n\u001b[1;32m    373\u001b[0m     task \u001b[38;5;241m=\u001b[39m _task_metric(\n\u001b[1;32m    374\u001b[0m         name,\n\u001b[1;32m    375\u001b[0m         metric_kwargs,\n\u001b[0;32m   (...)\u001b[0m\n\u001b[1;32m    380\u001b[0m         record_final_only\u001b[38;5;241m=\u001b[39mrecord_final_only,\n\u001b[1;32m    381\u001b[0m     )\n\u001b[1;32m    382\u001b[0m     tuples\u001b[38;5;241m.\u001b[39mappend(task)\n",
      "File \u001b[0;32m/workspace/armory/instrument/config.py:247\u001b[0m, in \u001b[0;36m_task_metric\u001b[0;34m(name, metric_kwargs, use_mean, include_benign, include_adversarial, include_targeted, record_final_only)\u001b[0m\n\u001b[1;32m    235\u001b[0m \u001b[38;5;28;01mdef\u001b[39;00m \u001b[38;5;21m_task_metric\u001b[39m(\n\u001b[1;32m    236\u001b[0m     name,\n\u001b[1;32m    237\u001b[0m     metric_kwargs,\n\u001b[0;32m   (...)\u001b[0m\n\u001b[1;32m    242\u001b[0m     record_final_only\u001b[38;5;241m=\u001b[39m\u001b[38;5;28;01mTrue\u001b[39;00m,\n\u001b[1;32m    243\u001b[0m ):\n\u001b[1;32m    244\u001b[0m     \u001b[38;5;124;03m\"\"\"\u001b[39;00m\n\u001b[1;32m    245\u001b[0m \u001b[38;5;124;03m    Return list of meters generated for this specific task\u001b[39;00m\n\u001b[1;32m    246\u001b[0m \u001b[38;5;124;03m    \"\"\"\u001b[39;00m\n\u001b[0;32m--> 247\u001b[0m     meters \u001b[38;5;241m=\u001b[39m []\n\u001b[1;32m    248\u001b[0m     metric \u001b[38;5;241m=\u001b[39m metrics\u001b[38;5;241m.\u001b[39mget(name)\n\u001b[1;32m    249\u001b[0m     final_kwargs \u001b[38;5;241m=\u001b[39m {}\n",
      "File \u001b[0;32m/workspace/armory/metrics/__init__.py:92\u001b[0m, in \u001b[0;36mget\u001b[0;34m(name, instantiate_if_class)\u001b[0m\n\u001b[1;32m     90\u001b[0m     \u001b[38;5;28;01mreturn\u001b[39;00m get_supported_metric(name, instantiate_if_class\u001b[38;5;241m=\u001b[39minstantiate_if_class)\n\u001b[1;32m     91\u001b[0m \u001b[38;5;28;01mexcept\u001b[39;00m \u001b[38;5;167;01mKeyError\u001b[39;00m:\n\u001b[0;32m---> 92\u001b[0m     \u001b[38;5;28;01mreturn\u001b[39;00m \u001b[43mload\u001b[49m\u001b[43m(\u001b[49m\u001b[43mname\u001b[49m\u001b[43m,\u001b[49m\u001b[43m \u001b[49m\u001b[43minstantiate_if_class\u001b[49m\u001b[38;5;241;43m=\u001b[39;49m\u001b[43minstantiate_if_class\u001b[49m\u001b[43m)\u001b[49m\n",
      "File \u001b[0;32m/workspace/armory/metrics/__init__.py:51\u001b[0m, in \u001b[0;36mload\u001b[0;34m(string, instantiate_if_class)\u001b[0m\n\u001b[1;32m     49\u001b[0m     \u001b[38;5;28;01mraise\u001b[39;00m \u001b[38;5;167;01mValueError\u001b[39;00m(\u001b[38;5;124mf\u001b[39m\u001b[38;5;124m\"\u001b[39m\u001b[38;5;132;01m{\u001b[39;00mstring\u001b[38;5;132;01m}\u001b[39;00m\u001b[38;5;124m is not a valid \u001b[39m\u001b[38;5;124m'\u001b[39m\u001b[38;5;124m.\u001b[39m\u001b[38;5;124m'\u001b[39m\u001b[38;5;124m-separated set of identifiers\u001b[39m\u001b[38;5;124m\"\u001b[39m)\n\u001b[1;32m     50\u001b[0m \u001b[38;5;28;01mif\u001b[39;00m \u001b[38;5;28mlen\u001b[39m(tokens) \u001b[38;5;241m<\u001b[39m \u001b[38;5;241m2\u001b[39m:\n\u001b[0;32m---> 51\u001b[0m     \u001b[38;5;28;01mraise\u001b[39;00m \u001b[38;5;167;01mValueError\u001b[39;00m(\u001b[38;5;124mf\u001b[39m\u001b[38;5;124m\"\u001b[39m\u001b[38;5;132;01m{\u001b[39;00mstring\u001b[38;5;132;01m}\u001b[39;00m\u001b[38;5;124m not a valid module and function path\u001b[39m\u001b[38;5;124m\"\u001b[39m)\n\u001b[1;32m     53\u001b[0m errors \u001b[38;5;241m=\u001b[39m []\n\u001b[1;32m     54\u001b[0m \u001b[38;5;28;01mfor\u001b[39;00m i \u001b[38;5;129;01min\u001b[39;00m \u001b[38;5;28mrange\u001b[39m(\u001b[38;5;28mlen\u001b[39m(tokens) \u001b[38;5;241m-\u001b[39m \u001b[38;5;241m1\u001b[39m, \u001b[38;5;241m0\u001b[39m, \u001b[38;5;241m-\u001b[39m\u001b[38;5;241m1\u001b[39m):\n",
      "\u001b[0;31mValueError\u001b[0m: object_detection_mAP_tide not a valid module and function path"
     ]
    }
   ],
   "source": [
    "from armory.scenarios.main import get as get_scenario # did NOT restart kernel\n",
    "\n",
    "s = get_scenario(\n",
    "    \"/armory/tmp/2022-11-03T180812.020999/carla_obj_det_adversarialpatch_undefended.json\",\n",
    "    # num_eval_batches=1,\n",
    "    num_eval_batches=2,\n",
    ").load()"
   ]
  },
  {
   "cell_type": "markdown",
   "id": "6d07e2fa-b94a-4097-b1ba-41478347d4ba",
   "metadata": {
    "jp-MarkdownHeadingCollapsed": true,
    "tags": []
   },
   "source": [
    "#### Restarted Kernel"
   ]
  },
  {
   "cell_type": "code",
   "execution_count": 1,
   "id": "f0427c43-7dd3-45f4-94a7-71f1304a93fb",
   "metadata": {},
   "outputs": [
    {
     "name": "stdout",
     "output_type": "stream",
     "text": [
      "2022-11-10 18:24:01  0s \u001b[1mINFO    \u001b[0m \u001b[36marmory.delayed_imports\u001b[0m:\u001b[36m<module>\u001b[0m:\u001b[36m7\u001b[0m Importing and configuring torch, tensorflow, and art, if available. This may take some time.\n",
      "2022-11-10 18:24:03  2s \u001b[1mINFO    \u001b[0m \u001b[36marmory.delayed_imports\u001b[0m:\u001b[36m<module>\u001b[0m:\u001b[36m30\u001b[0m Setting tf.config.experimental.set_memory_growth to True on all GPUs\n",
      "2022-11-10 18:24:03  2s \u001b[1mINFO    \u001b[0m \u001b[36mart.config\u001b[0m:\u001b[36mset_data_path\u001b[0m:\u001b[36m55\u001b[0m set ART_DATA_PATH to /tmp/.art/data\n",
      "2022-11-10 18:24:03  2s \u001b[1mINFO    \u001b[0m \u001b[36mart.config\u001b[0m:\u001b[36mset_data_path\u001b[0m:\u001b[36m55\u001b[0m set ART_DATA_PATH to /armory/saved_models/art\n",
      "2022-11-10 18:24:04  3s \u001b[1mINFO    \u001b[0m \u001b[36marmory.scenarios.main\u001b[0m:\u001b[36m_scenario_setup\u001b[0m:\u001b[36m37\u001b[0m this repo is being updated\n",
      "2022-11-10 18:24:04  3s \u001b[31m\u001b[1mERROR   \u001b[0m \u001b[36marmory.scenarios.main\u001b[0m:\u001b[36m_scenario_setup\u001b[0m:\u001b[36m44\u001b[0m eval_id not in config. Inserting current timestamp 1668104644.118754\n",
      "2022-11-10 18:24:04  3s \u001b[1mINFO    \u001b[0m \u001b[36marmory.scenarios.main\u001b[0m:\u001b[36m_scenario_setup\u001b[0m:\u001b[36m52\u001b[0m armory outputs and logs will be written to /armory/outputs/1668104644.118754\n",
      "2022-11-10 18:24:04  3s \u001b[1mINFO    \u001b[0m \u001b[36marmory.data.utils\u001b[0m:\u001b[36mmaybe_download_weights_from_s3\u001b[0m:\u001b[36m47\u001b[0m Using available carla_rgb_weights_eval5.pt in Armory `saved_model_dir`\n",
      "2022-11-10 18:24:08  7s \u001b[1mINFO    \u001b[0m \u001b[36marmory.scenarios.scenario\u001b[0m:\u001b[36mload_dataset\u001b[0m:\u001b[36m205\u001b[0m Loading test dataset carla_obj_det_dev...\n"
     ]
    }
   ],
   "source": [
    "# guess reloading is not enough?\n",
    "# will try importlib.reload(armory.scenarios) next...\n",
    "from armory.scenarios.main import get as get_scenario # restarted kernel\n",
    "\n",
    "s = get_scenario(\n",
    "    \"/armory/tmp/2022-11-03T180812.020999/carla_obj_det_adversarialpatch_undefended.json\",\n",
    "    # num_eval_batches=1,\n",
    "    num_eval_batches=2,\n",
    ").load()"
   ]
  },
  {
   "cell_type": "code",
   "execution_count": 2,
   "id": "5a85aec0-696a-4cb8-a413-236d366877dd",
   "metadata": {
    "tags": []
   },
   "outputs": [
    {
     "data": {
      "application/vnd.jupyter.widget-view+json": {
       "model_id": "a9d0e456a0e549448af5f3f06ed8a4c8",
       "version_major": 2,
       "version_minor": 0
      },
      "text/plain": [
       "Adversarial Patch PyTorch:   0%|          | 0/5 [00:00<?, ?it/s]"
      ]
     },
     "metadata": {},
     "output_type": "display_data"
    },
    {
     "name": "stderr",
     "output_type": "stream",
     "text": [
      "/opt/conda/lib/python3.8/site-packages/torchvision/transforms/functional.py:404: UserWarning: Argument interpolation should be of type InterpolationMode instead of int. Please, use InterpolationMode enum.\n",
      "  warnings.warn(\n",
      "/opt/conda/lib/python3.8/site-packages/torchvision/transforms/functional.py:654: UserWarning: Argument interpolation should be of type InterpolationMode instead of int. Please, use InterpolationMode enum.\n",
      "  warnings.warn(\n",
      "/opt/conda/lib/python3.8/site-packages/torch/functional.py:445: UserWarning: torch.meshgrid: in an upcoming release, it will be required to pass the indexing argument. (Triggered internally at  /opt/conda/conda-bld/pytorch_1640811806235/work/aten/src/ATen/native/TensorShape.cpp:2157.)\n",
      "  return _VF.meshgrid(tensors, **kwargs)  # type: ignore[attr-defined]\n"
     ]
    },
    {
     "data": {
      "application/vnd.jupyter.widget-view+json": {
       "model_id": "75548af3dc8a44aaa5be0489b959306e",
       "version_major": 2,
       "version_minor": 0
      },
      "text/plain": [
       "Adversarial Patch PyTorch:   0%|          | 0/5 [00:00<?, ?it/s]"
      ]
     },
     "metadata": {},
     "output_type": "display_data"
    }
   ],
   "source": [
    "s.next()\n",
    "s.run_attack()\n",
    "s.next()\n",
    "s.run_attack()"
   ]
  },
  {
   "cell_type": "code",
   "execution_count": 3,
   "id": "9fd2b027-1d8a-4329-b533-b23355153ff2",
   "metadata": {},
   "outputs": [
    {
     "name": "stdout",
     "output_type": "stream",
     "text": [
      "2022-11-10 18:25:23 1m23s \u001b[33m\u001b[1mWARNING \u001b[0m \u001b[36marmory.instrument.instrument\u001b[0m:\u001b[36mfinalize\u001b[0m:\u001b[36m590\u001b[0m Meter 'benign_input_to_carla_od_AP_per_class' was never measured. The following args were never set: ['scenario.y_pred']\n",
      "{1: 0.7, 2: 0.87}\n",
      "2022-11-10 18:25:24 1m23s \u001b[32m\u001b[1mSUCCESS \u001b[0m \u001b[36marmory.instrument.config\u001b[0m:\u001b[36m_write\u001b[0m:\u001b[36m230\u001b[0m adversarial_carla_od_AP_per_class on adversarial examples w.r.t. ground truth labels: {'mean': 0.7849999999999999, 'class': {1: 0.7, 2: 0.87}}\n",
      "2022-11-10 18:25:24 1m23s \u001b[33m\u001b[1mWARNING \u001b[0m \u001b[36marmory.instrument.instrument\u001b[0m:\u001b[36mfinalize\u001b[0m:\u001b[36m590\u001b[0m Meter 'input_to_benign_carla_od_disappearance_rate' was never measured. The following args were never set: ['scenario.y_pred']\n",
      "2022-11-10 18:25:24 1m23s \u001b[32m\u001b[1mSUCCESS \u001b[0m \u001b[36marmory.instrument.config\u001b[0m:\u001b[36m_write\u001b[0m:\u001b[36m230\u001b[0m adversarial_carla_od_disappearance_rate on adversarial examples w.r.t. ground truth labels: 25.71%\n",
      "2022-11-10 18:25:24 1m23s \u001b[33m\u001b[1mWARNING \u001b[0m \u001b[36marmory.instrument.instrument\u001b[0m:\u001b[36mfinalize\u001b[0m:\u001b[36m590\u001b[0m Meter 'input_to_benign_carla_od_hallucinations_per_image' was never measured. The following args were never set: ['scenario.y_pred']\n",
      "2022-11-10 18:25:24 1m23s \u001b[32m\u001b[1mSUCCESS \u001b[0m \u001b[36marmory.instrument.config\u001b[0m:\u001b[36m_write\u001b[0m:\u001b[36m230\u001b[0m adversarial_carla_od_hallucinations_per_image on adversarial examples w.r.t. ground truth labels: 5.5\n",
      "2022-11-10 18:25:24 1m23s \u001b[33m\u001b[1mWARNING \u001b[0m \u001b[36marmory.instrument.instrument\u001b[0m:\u001b[36mfinalize\u001b[0m:\u001b[36m590\u001b[0m Meter 'input_to_benign_carla_od_misclassification_rate' was never measured. The following args were never set: ['scenario.y_pred']\n",
      "2022-11-10 18:25:24 1m23s \u001b[32m\u001b[1mSUCCESS \u001b[0m \u001b[36marmory.instrument.config\u001b[0m:\u001b[36m_write\u001b[0m:\u001b[36m230\u001b[0m adversarial_carla_od_misclassification_rate on adversarial examples w.r.t. ground truth labels: 5.00%\n",
      "2022-11-10 18:25:24 1m23s \u001b[33m\u001b[1mWARNING \u001b[0m \u001b[36marmory.instrument.instrument\u001b[0m:\u001b[36mfinalize\u001b[0m:\u001b[36m590\u001b[0m Meter 'input_to_benign_carla_od_true_positive_rate' was never measured. The following args were never set: ['scenario.y_pred']\n",
      "2022-11-10 18:25:24 1m23s \u001b[32m\u001b[1mSUCCESS \u001b[0m \u001b[36marmory.instrument.config\u001b[0m:\u001b[36m_write\u001b[0m:\u001b[36m230\u001b[0m adversarial_carla_od_true_positive_rate on adversarial examples w.r.t. ground truth labels: 69.29%\n",
      "2022-11-10 18:25:24 1m23s \u001b[33m\u001b[1mWARNING \u001b[0m \u001b[36marmory.instrument.instrument\u001b[0m:\u001b[36mfinalize\u001b[0m:\u001b[36m590\u001b[0m Meter 'benign_input_to_object_detection_mAP_tide' was never measured. The following args were never set: ['scenario.y_pred']\n",
      "len(y[\"labels\"]): 10, len(data_ground_truth.annotations): 10\n",
      "len(y_pred[\"labels\"]): 71, len(data_detection.annotations): 71\n",
      "len(y[\"labels\"]): 14, len(data_ground_truth.annotations): 24\n",
      "len(y_pred[\"labels\"]): 38, len(data_detection.annotations): 109\n",
      "-- detection --\n",
      "\n",
      "bbox AP @ [50-95]: 42.29\n",
      "                                         bbox AP @ [50-95]\n",
      "===================================================================================================\n",
      "  Thresh       50       55       60       65       70       75       80       85       90       95  \n",
      "---------------------------------------------------------------------------------------------------\n",
      "    AP      79.34    78.38    78.38    65.86    35.94    35.94    19.70    15.21    14.16     0.00  \n",
      "===================================================================================================\n",
      "\n",
      "                         Main Errors\n",
      "=============================================================\n",
      "  Type      Cls      Loc     Both     Dupe      Bkg     Miss  \n",
      "-------------------------------------------------------------\n",
      "   dAP     2.92     0.50     1.89     0.32     1.63     6.93  \n",
      "=============================================================\n",
      "\n",
      "        Special Error\n",
      "=============================\n",
      "  Type   FalsePos   FalseNeg  \n",
      "-----------------------------\n",
      "   dAP       9.77       9.94  \n",
      "=============================\n",
      "\n",
      "{1: 0.7, 2: 0.87}\n"
     ]
    },
    {
     "ename": "AttributeError",
     "evalue": "'numpy.float64' object has no attribute 'values'",
     "output_type": "error",
     "traceback": [
      "\u001b[0;31m\u001b[0m",
      "\u001b[0;31mAttributeError\u001b[0mTraceback (most recent call last)",
      "Input \u001b[0;32mIn [3]\u001b[0m, in \u001b[0;36m<cell line: 1>\u001b[0;34m()\u001b[0m\n\u001b[0;32m----> 1\u001b[0m \u001b[43ms\u001b[49m\u001b[38;5;241;43m.\u001b[39;49m\u001b[43mfinalize_results\u001b[49m\u001b[43m(\u001b[49m\u001b[43m)\u001b[49m\n\u001b[1;32m      2\u001b[0m s\u001b[38;5;241m.\u001b[39mresults\n",
      "File \u001b[0;32m/workspace/armory/scenarios/scenario.py:369\u001b[0m, in \u001b[0;36mScenario.finalize_results\u001b[0;34m(self)\u001b[0m\n\u001b[1;32m    368\u001b[0m \u001b[38;5;28;01mdef\u001b[39;00m \u001b[38;5;21mfinalize_results\u001b[39m(\u001b[38;5;28mself\u001b[39m):\n\u001b[0;32m--> 369\u001b[0m     \u001b[38;5;28mself\u001b[39m\u001b[38;5;241m.\u001b[39mmetric_results \u001b[38;5;241m=\u001b[39m \u001b[38;5;28;43mself\u001b[39;49m\u001b[38;5;241;43m.\u001b[39;49m\u001b[43mmetrics_logger\u001b[49m\u001b[38;5;241;43m.\u001b[39;49m\u001b[43mresults\u001b[49m\u001b[43m(\u001b[49m\u001b[43m)\u001b[49m\n\u001b[1;32m    370\u001b[0m     \u001b[38;5;28mself\u001b[39m\u001b[38;5;241m.\u001b[39mcompute_results \u001b[38;5;241m=\u001b[39m \u001b[38;5;28mself\u001b[39m\u001b[38;5;241m.\u001b[39mprofiler\u001b[38;5;241m.\u001b[39mresults()\n\u001b[1;32m    371\u001b[0m     \u001b[38;5;28mself\u001b[39m\u001b[38;5;241m.\u001b[39mresults \u001b[38;5;241m=\u001b[39m {}\n",
      "File \u001b[0;32m/workspace/armory/instrument/config.py:119\u001b[0m, in \u001b[0;36mMetricsLogger.results\u001b[0;34m(self)\u001b[0m\n\u001b[1;32m    118\u001b[0m \u001b[38;5;28;01mdef\u001b[39;00m \u001b[38;5;21mresults\u001b[39m(\u001b[38;5;28mself\u001b[39m):\n\u001b[0;32m--> 119\u001b[0m     \u001b[43mget_hub\u001b[49m\u001b[43m(\u001b[49m\u001b[43m)\u001b[49m\u001b[38;5;241;43m.\u001b[39;49m\u001b[43mclose\u001b[49m\u001b[43m(\u001b[49m\u001b[43m)\u001b[49m\n\u001b[1;32m    120\u001b[0m     \u001b[38;5;28;01mif\u001b[39;00m \u001b[38;5;28mself\u001b[39m\u001b[38;5;241m.\u001b[39mmetric_results \u001b[38;5;129;01mis\u001b[39;00m \u001b[38;5;28;01mNone\u001b[39;00m:\n\u001b[1;32m    121\u001b[0m         log\u001b[38;5;241m.\u001b[39mwarning(\u001b[38;5;124m\"\u001b[39m\u001b[38;5;124mNo metric results received from ResultsWriter\u001b[39m\u001b[38;5;124m\"\u001b[39m)\n",
      "File \u001b[0;32m/workspace/armory/instrument/instrument.py:444\u001b[0m, in \u001b[0;36mHub.close\u001b[0;34m(self)\u001b[0m\n\u001b[1;32m    441\u001b[0m     \u001b[38;5;28;01mreturn\u001b[39;00m\n\u001b[1;32m    443\u001b[0m \u001b[38;5;28;01mfor\u001b[39;00m meter \u001b[38;5;129;01min\u001b[39;00m \u001b[38;5;28mself\u001b[39m\u001b[38;5;241m.\u001b[39mmeters:\n\u001b[0;32m--> 444\u001b[0m     \u001b[43mmeter\u001b[49m\u001b[38;5;241;43m.\u001b[39;49m\u001b[43mfinalize\u001b[49m\u001b[43m(\u001b[49m\u001b[43m)\u001b[49m\n\u001b[1;32m    446\u001b[0m \u001b[38;5;28;01mfor\u001b[39;00m writer \u001b[38;5;129;01min\u001b[39;00m \u001b[38;5;28mself\u001b[39m\u001b[38;5;241m.\u001b[39mwriters:\n\u001b[1;32m    447\u001b[0m     writer\u001b[38;5;241m.\u001b[39mclose()\n",
      "File \u001b[0;32m/workspace/armory/instrument/instrument.py:599\u001b[0m, in \u001b[0;36mMeter.finalize\u001b[0;34m(self)\u001b[0m\n\u001b[1;32m    596\u001b[0m \u001b[38;5;28;01mif\u001b[39;00m \u001b[38;5;28mself\u001b[39m\u001b[38;5;241m.\u001b[39mfinal \u001b[38;5;129;01mis\u001b[39;00m \u001b[38;5;28;01mNone\u001b[39;00m:\n\u001b[1;32m    597\u001b[0m     \u001b[38;5;28;01mreturn\u001b[39;00m\n\u001b[0;32m--> 599\u001b[0m result \u001b[38;5;241m=\u001b[39m \u001b[38;5;28;43mself\u001b[39;49m\u001b[38;5;241;43m.\u001b[39;49m\u001b[43mfinal\u001b[49m\u001b[43m(\u001b[49m\u001b[38;5;28;43mself\u001b[39;49m\u001b[38;5;241;43m.\u001b[39;49m\u001b[43m_results\u001b[49m\u001b[43m,\u001b[49m\u001b[43m \u001b[49m\u001b[38;5;241;43m*\u001b[39;49m\u001b[38;5;241;43m*\u001b[39;49m\u001b[38;5;28;43mself\u001b[39;49m\u001b[38;5;241;43m.\u001b[39;49m\u001b[43mfinal_kwargs\u001b[49m\u001b[43m)\u001b[49m\n\u001b[1;32m    600\u001b[0m record \u001b[38;5;241m=\u001b[39m (\u001b[38;5;28mself\u001b[39m\u001b[38;5;241m.\u001b[39mfinal_name, \u001b[38;5;28;01mNone\u001b[39;00m, result)\n\u001b[1;32m    601\u001b[0m \u001b[38;5;28mself\u001b[39m\u001b[38;5;241m.\u001b[39m_final_result \u001b[38;5;241m=\u001b[39m result\n",
      "File \u001b[0;32m/workspace/armory/metrics/task.py:244\u001b[0m, in \u001b[0;36mMeanAP.__call__\u001b[0;34m(self, values, **kwargs)\u001b[0m\n\u001b[1;32m    242\u001b[0m args \u001b[38;5;241m=\u001b[39m [\u001b[38;5;28mlist\u001b[39m(x) \u001b[38;5;28;01mfor\u001b[39;00m x \u001b[38;5;129;01min\u001b[39;00m \u001b[38;5;28mzip\u001b[39m(\u001b[38;5;241m*\u001b[39mvalues)]\n\u001b[1;32m    243\u001b[0m ap \u001b[38;5;241m=\u001b[39m \u001b[38;5;28mself\u001b[39m\u001b[38;5;241m.\u001b[39map_metric(\u001b[38;5;241m*\u001b[39margs, \u001b[38;5;241m*\u001b[39m\u001b[38;5;241m*\u001b[39mkwargs)\n\u001b[0;32m--> 244\u001b[0m mean_ap \u001b[38;5;241m=\u001b[39m np\u001b[38;5;241m.\u001b[39mfromiter(\u001b[43map\u001b[49m\u001b[38;5;241;43m.\u001b[39;49m\u001b[43mvalues\u001b[49m(), dtype\u001b[38;5;241m=\u001b[39m\u001b[38;5;28mfloat\u001b[39m)\u001b[38;5;241m.\u001b[39mmean()\n\u001b[1;32m    245\u001b[0m \u001b[38;5;28;01mreturn\u001b[39;00m {\u001b[38;5;124m\"\u001b[39m\u001b[38;5;124mmean\u001b[39m\u001b[38;5;124m\"\u001b[39m: mean_ap, \u001b[38;5;124m\"\u001b[39m\u001b[38;5;124mclass\u001b[39m\u001b[38;5;124m\"\u001b[39m: ap}\n",
      "\u001b[0;31mAttributeError\u001b[0m: 'numpy.float64' object has no attribute 'values'"
     ]
    }
   ],
   "source": [
    "s.finalize_results()\n",
    "s.results"
   ]
  },
  {
   "cell_type": "markdown",
   "id": "b94284b5-34e7-417b-8a26-626e71cc25b5",
   "metadata": {},
   "source": [
    "because of `GlobalMeter`, should not need to add `object_detection_mAP_tide` to `MEAN_AP_METRICS` anymore"
   ]
  },
  {
   "cell_type": "markdown",
   "id": "f01e557d-ab03-405b-99b3-a1c5a08db91f",
   "metadata": {
    "jp-MarkdownHeadingCollapsed": true,
    "tags": []
   },
   "source": [
    "#### NO Kernel Restart"
   ]
  },
  {
   "cell_type": "code",
   "execution_count": 4,
   "id": "3085017b-1a6a-47f2-861c-2abdd56dadbc",
   "metadata": {},
   "outputs": [
    {
     "data": {
      "text/plain": [
       "<module 'armory.scenarios' from '/workspace/armory/scenarios/__init__.py'>"
      ]
     },
     "execution_count": 4,
     "metadata": {},
     "output_type": "execute_result"
    }
   ],
   "source": [
    "import importlib\n",
    "import armory.scenarios\n",
    "importlib.reload(armory.scenarios)"
   ]
  },
  {
   "cell_type": "code",
   "execution_count": 5,
   "id": "534efdda-1418-43c6-bf87-58794339c94d",
   "metadata": {},
   "outputs": [
    {
     "name": "stdout",
     "output_type": "stream",
     "text": [
      "2022-11-10 18:28:14 4m13s \u001b[1mINFO    \u001b[0m \u001b[36marmory.scenarios.main\u001b[0m:\u001b[36m_scenario_setup\u001b[0m:\u001b[36m37\u001b[0m this repo is being updated\n",
      "2022-11-10 18:28:14 4m13s \u001b[31m\u001b[1mERROR   \u001b[0m \u001b[36marmory.scenarios.main\u001b[0m:\u001b[36m_scenario_setup\u001b[0m:\u001b[36m44\u001b[0m eval_id not in config. Inserting current timestamp 1668104894.4983003\n",
      "2022-11-10 18:28:14 4m13s \u001b[1mINFO    \u001b[0m \u001b[36marmory.scenarios.main\u001b[0m:\u001b[36m_scenario_setup\u001b[0m:\u001b[36m52\u001b[0m armory outputs and logs will be written to /armory/outputs/1668104894.4983003\n",
      "2022-11-10 18:28:14 4m13s \u001b[1mINFO    \u001b[0m \u001b[36marmory.data.utils\u001b[0m:\u001b[36mmaybe_download_weights_from_s3\u001b[0m:\u001b[36m47\u001b[0m Using available carla_rgb_weights_eval5.pt in Armory `saved_model_dir`\n",
      "2022-11-10 18:28:15 4m14s \u001b[1mINFO    \u001b[0m \u001b[36marmory.scenarios.scenario\u001b[0m:\u001b[36mload_dataset\u001b[0m:\u001b[36m205\u001b[0m Loading test dataset carla_obj_det_dev...\n"
     ]
    }
   ],
   "source": [
    "from armory.scenarios.main import get as get_scenario # did NOT restart kernel\n",
    "\n",
    "s = get_scenario(\n",
    "    \"/armory/tmp/2022-11-03T180812.020999/carla_obj_det_adversarialpatch_undefended.json\",\n",
    "    # num_eval_batches=1,\n",
    "    num_eval_batches=2,\n",
    ").load()"
   ]
  },
  {
   "cell_type": "code",
   "execution_count": 6,
   "id": "b9f459e7-c61f-42c4-b772-a3f8c4cebfd2",
   "metadata": {
    "tags": []
   },
   "outputs": [
    {
     "data": {
      "application/vnd.jupyter.widget-view+json": {
       "model_id": "5cd054010aab432580d59f832de528b5",
       "version_major": 2,
       "version_minor": 0
      },
      "text/plain": [
       "Adversarial Patch PyTorch:   0%|          | 0/5 [00:00<?, ?it/s]"
      ]
     },
     "metadata": {},
     "output_type": "display_data"
    },
    {
     "name": "stderr",
     "output_type": "stream",
     "text": [
      "/opt/conda/lib/python3.8/site-packages/torchvision/transforms/functional.py:404: UserWarning: Argument interpolation should be of type InterpolationMode instead of int. Please, use InterpolationMode enum.\n",
      "  warnings.warn(\n",
      "/opt/conda/lib/python3.8/site-packages/torchvision/transforms/functional.py:654: UserWarning: Argument interpolation should be of type InterpolationMode instead of int. Please, use InterpolationMode enum.\n",
      "  warnings.warn(\n"
     ]
    },
    {
     "data": {
      "application/vnd.jupyter.widget-view+json": {
       "model_id": "b6ae1297562549f7ba322f4de46ae641",
       "version_major": 2,
       "version_minor": 0
      },
      "text/plain": [
       "Adversarial Patch PyTorch:   0%|          | 0/5 [00:00<?, ?it/s]"
      ]
     },
     "metadata": {},
     "output_type": "display_data"
    }
   ],
   "source": [
    "s.next()\n",
    "s.run_attack()\n",
    "s.next()\n",
    "s.run_attack()"
   ]
  },
  {
   "cell_type": "code",
   "execution_count": 7,
   "id": "3c74204a-83a1-4b22-882a-5d8aa232e790",
   "metadata": {},
   "outputs": [
    {
     "name": "stdout",
     "output_type": "stream",
     "text": [
      "2022-11-10 18:28:44 4m43s \u001b[33m\u001b[1mWARNING \u001b[0m \u001b[36marmory.instrument.instrument\u001b[0m:\u001b[36mfinalize\u001b[0m:\u001b[36m590\u001b[0m Meter 'benign_input_to_carla_od_AP_per_class' was never measured. The following args were never set: ['scenario.y_pred']\n",
      "{1: 0.69, 2: 0.84}\n",
      "2022-11-10 18:28:44 4m43s \u001b[32m\u001b[1mSUCCESS \u001b[0m \u001b[36marmory.instrument.config\u001b[0m:\u001b[36m_write\u001b[0m:\u001b[36m230\u001b[0m adversarial_carla_od_AP_per_class on adversarial examples w.r.t. ground truth labels: {'mean': 0.7649999999999999, 'class': {1: 0.69, 2: 0.84}}\n",
      "2022-11-10 18:28:44 4m43s \u001b[33m\u001b[1mWARNING \u001b[0m \u001b[36marmory.instrument.instrument\u001b[0m:\u001b[36mfinalize\u001b[0m:\u001b[36m590\u001b[0m Meter 'input_to_benign_carla_od_disappearance_rate' was never measured. The following args were never set: ['scenario.y_pred']\n",
      "2022-11-10 18:28:44 4m43s \u001b[32m\u001b[1mSUCCESS \u001b[0m \u001b[36marmory.instrument.config\u001b[0m:\u001b[36m_write\u001b[0m:\u001b[36m230\u001b[0m adversarial_carla_od_disappearance_rate on adversarial examples w.r.t. ground truth labels: 28.21%\n",
      "2022-11-10 18:28:44 4m43s \u001b[33m\u001b[1mWARNING \u001b[0m \u001b[36marmory.instrument.instrument\u001b[0m:\u001b[36mfinalize\u001b[0m:\u001b[36m590\u001b[0m Meter 'input_to_benign_carla_od_hallucinations_per_image' was never measured. The following args were never set: ['scenario.y_pred']\n",
      "2022-11-10 18:28:44 4m43s \u001b[32m\u001b[1mSUCCESS \u001b[0m \u001b[36marmory.instrument.config\u001b[0m:\u001b[36m_write\u001b[0m:\u001b[36m230\u001b[0m adversarial_carla_od_hallucinations_per_image on adversarial examples w.r.t. ground truth labels: 5.5\n",
      "2022-11-10 18:28:44 4m43s \u001b[33m\u001b[1mWARNING \u001b[0m \u001b[36marmory.instrument.instrument\u001b[0m:\u001b[36mfinalize\u001b[0m:\u001b[36m590\u001b[0m Meter 'input_to_benign_carla_od_misclassification_rate' was never measured. The following args were never set: ['scenario.y_pred']\n",
      "2022-11-10 18:28:44 4m43s \u001b[32m\u001b[1mSUCCESS \u001b[0m \u001b[36marmory.instrument.config\u001b[0m:\u001b[36m_write\u001b[0m:\u001b[36m230\u001b[0m adversarial_carla_od_misclassification_rate on adversarial examples w.r.t. ground truth labels: 2.50%\n",
      "2022-11-10 18:28:44 4m43s \u001b[33m\u001b[1mWARNING \u001b[0m \u001b[36marmory.instrument.instrument\u001b[0m:\u001b[36mfinalize\u001b[0m:\u001b[36m590\u001b[0m Meter 'input_to_benign_carla_od_true_positive_rate' was never measured. The following args were never set: ['scenario.y_pred']\n",
      "2022-11-10 18:28:44 4m43s \u001b[32m\u001b[1mSUCCESS \u001b[0m \u001b[36marmory.instrument.config\u001b[0m:\u001b[36m_write\u001b[0m:\u001b[36m230\u001b[0m adversarial_carla_od_true_positive_rate on adversarial examples w.r.t. ground truth labels: 69.29%\n",
      "2022-11-10 18:28:44 4m43s \u001b[33m\u001b[1mWARNING \u001b[0m \u001b[36marmory.instrument.instrument\u001b[0m:\u001b[36mfinalize\u001b[0m:\u001b[36m590\u001b[0m Meter 'benign_input_to_object_detection_mAP_tide' was never measured. The following args were never set: ['scenario.y_pred']\n",
      "len(y[\"labels\"]): 10, len(data_ground_truth.annotations): 10\n",
      "len(y_pred[\"labels\"]): 71, len(data_detection.annotations): 71\n",
      "len(y[\"labels\"]): 14, len(data_ground_truth.annotations): 24\n",
      "len(y_pred[\"labels\"]): 38, len(data_detection.annotations): 109\n",
      "len(y[\"labels\"]): 10, len(data_ground_truth.annotations): 34\n",
      "len(y_pred[\"labels\"]): 59, len(data_detection.annotations): 168\n",
      "len(y[\"labels\"]): 14, len(data_ground_truth.annotations): 48\n",
      "len(y_pred[\"labels\"]): 38, len(data_detection.annotations): 206\n",
      "-- detection --\n",
      "\n",
      "bbox AP @ [50-95]: 41.57\n",
      "                                         bbox AP @ [50-95]\n",
      "===================================================================================================\n",
      "  Thresh       50       55       60       65       70       75       80       85       90       95  \n",
      "---------------------------------------------------------------------------------------------------\n",
      "    AP      77.20    76.77    75.78    66.37    35.19    35.19    19.82    15.26    14.16     0.00  \n",
      "===================================================================================================\n",
      "\n",
      "                         Main Errors\n",
      "=============================================================\n",
      "  Type      Cls      Loc     Both     Dupe      Bkg     Miss  \n",
      "-------------------------------------------------------------\n",
      "   dAP     2.26     0.16     2.85     0.32     1.55     9.47  \n",
      "=============================================================\n",
      "\n",
      "        Special Error\n",
      "=============================\n",
      "  Type   FalsePos   FalseNeg  \n",
      "-----------------------------\n",
      "   dAP       9.43      12.76  \n",
      "=============================\n",
      "\n",
      "{1: 0.69, 2: 0.84}\n"
     ]
    },
    {
     "ename": "AttributeError",
     "evalue": "'numpy.float64' object has no attribute 'values'",
     "output_type": "error",
     "traceback": [
      "\u001b[0;31m\u001b[0m",
      "\u001b[0;31mAttributeError\u001b[0mTraceback (most recent call last)",
      "Input \u001b[0;32mIn [7]\u001b[0m, in \u001b[0;36m<cell line: 1>\u001b[0;34m()\u001b[0m\n\u001b[0;32m----> 1\u001b[0m \u001b[43ms\u001b[49m\u001b[38;5;241;43m.\u001b[39;49m\u001b[43mfinalize_results\u001b[49m\u001b[43m(\u001b[49m\u001b[43m)\u001b[49m\n\u001b[1;32m      2\u001b[0m s\u001b[38;5;241m.\u001b[39mresults\n",
      "File \u001b[0;32m/workspace/armory/scenarios/scenario.py:369\u001b[0m, in \u001b[0;36mScenario.finalize_results\u001b[0;34m(self)\u001b[0m\n\u001b[1;32m    368\u001b[0m \u001b[38;5;28;01mdef\u001b[39;00m \u001b[38;5;21mfinalize_results\u001b[39m(\u001b[38;5;28mself\u001b[39m):\n\u001b[0;32m--> 369\u001b[0m     \u001b[38;5;28mself\u001b[39m\u001b[38;5;241m.\u001b[39mmetric_results \u001b[38;5;241m=\u001b[39m \u001b[38;5;28;43mself\u001b[39;49m\u001b[38;5;241;43m.\u001b[39;49m\u001b[43mmetrics_logger\u001b[49m\u001b[38;5;241;43m.\u001b[39;49m\u001b[43mresults\u001b[49m\u001b[43m(\u001b[49m\u001b[43m)\u001b[49m\n\u001b[1;32m    370\u001b[0m     \u001b[38;5;28mself\u001b[39m\u001b[38;5;241m.\u001b[39mcompute_results \u001b[38;5;241m=\u001b[39m \u001b[38;5;28mself\u001b[39m\u001b[38;5;241m.\u001b[39mprofiler\u001b[38;5;241m.\u001b[39mresults()\n\u001b[1;32m    371\u001b[0m     \u001b[38;5;28mself\u001b[39m\u001b[38;5;241m.\u001b[39mresults \u001b[38;5;241m=\u001b[39m {}\n",
      "File \u001b[0;32m/workspace/armory/instrument/config.py:119\u001b[0m, in \u001b[0;36mMetricsLogger.results\u001b[0;34m(self)\u001b[0m\n\u001b[1;32m    118\u001b[0m \u001b[38;5;28;01mdef\u001b[39;00m \u001b[38;5;21mresults\u001b[39m(\u001b[38;5;28mself\u001b[39m):\n\u001b[0;32m--> 119\u001b[0m     \u001b[43mget_hub\u001b[49m\u001b[43m(\u001b[49m\u001b[43m)\u001b[49m\u001b[38;5;241;43m.\u001b[39;49m\u001b[43mclose\u001b[49m\u001b[43m(\u001b[49m\u001b[43m)\u001b[49m\n\u001b[1;32m    120\u001b[0m     \u001b[38;5;28;01mif\u001b[39;00m \u001b[38;5;28mself\u001b[39m\u001b[38;5;241m.\u001b[39mmetric_results \u001b[38;5;129;01mis\u001b[39;00m \u001b[38;5;28;01mNone\u001b[39;00m:\n\u001b[1;32m    121\u001b[0m         log\u001b[38;5;241m.\u001b[39mwarning(\u001b[38;5;124m\"\u001b[39m\u001b[38;5;124mNo metric results received from ResultsWriter\u001b[39m\u001b[38;5;124m\"\u001b[39m)\n",
      "File \u001b[0;32m/workspace/armory/instrument/instrument.py:444\u001b[0m, in \u001b[0;36mHub.close\u001b[0;34m(self)\u001b[0m\n\u001b[1;32m    441\u001b[0m     \u001b[38;5;28;01mreturn\u001b[39;00m\n\u001b[1;32m    443\u001b[0m \u001b[38;5;28;01mfor\u001b[39;00m meter \u001b[38;5;129;01min\u001b[39;00m \u001b[38;5;28mself\u001b[39m\u001b[38;5;241m.\u001b[39mmeters:\n\u001b[0;32m--> 444\u001b[0m     \u001b[43mmeter\u001b[49m\u001b[38;5;241;43m.\u001b[39;49m\u001b[43mfinalize\u001b[49m\u001b[43m(\u001b[49m\u001b[43m)\u001b[49m\n\u001b[1;32m    446\u001b[0m \u001b[38;5;28;01mfor\u001b[39;00m writer \u001b[38;5;129;01min\u001b[39;00m \u001b[38;5;28mself\u001b[39m\u001b[38;5;241m.\u001b[39mwriters:\n\u001b[1;32m    447\u001b[0m     writer\u001b[38;5;241m.\u001b[39mclose()\n",
      "File \u001b[0;32m/workspace/armory/instrument/instrument.py:599\u001b[0m, in \u001b[0;36mMeter.finalize\u001b[0;34m(self)\u001b[0m\n\u001b[1;32m    596\u001b[0m \u001b[38;5;28;01mif\u001b[39;00m \u001b[38;5;28mself\u001b[39m\u001b[38;5;241m.\u001b[39mfinal \u001b[38;5;129;01mis\u001b[39;00m \u001b[38;5;28;01mNone\u001b[39;00m:\n\u001b[1;32m    597\u001b[0m     \u001b[38;5;28;01mreturn\u001b[39;00m\n\u001b[0;32m--> 599\u001b[0m result \u001b[38;5;241m=\u001b[39m \u001b[38;5;28;43mself\u001b[39;49m\u001b[38;5;241;43m.\u001b[39;49m\u001b[43mfinal\u001b[49m\u001b[43m(\u001b[49m\u001b[38;5;28;43mself\u001b[39;49m\u001b[38;5;241;43m.\u001b[39;49m\u001b[43m_results\u001b[49m\u001b[43m,\u001b[49m\u001b[43m \u001b[49m\u001b[38;5;241;43m*\u001b[39;49m\u001b[38;5;241;43m*\u001b[39;49m\u001b[38;5;28;43mself\u001b[39;49m\u001b[38;5;241;43m.\u001b[39;49m\u001b[43mfinal_kwargs\u001b[49m\u001b[43m)\u001b[49m\n\u001b[1;32m    600\u001b[0m record \u001b[38;5;241m=\u001b[39m (\u001b[38;5;28mself\u001b[39m\u001b[38;5;241m.\u001b[39mfinal_name, \u001b[38;5;28;01mNone\u001b[39;00m, result)\n\u001b[1;32m    601\u001b[0m \u001b[38;5;28mself\u001b[39m\u001b[38;5;241m.\u001b[39m_final_result \u001b[38;5;241m=\u001b[39m result\n",
      "File \u001b[0;32m/workspace/armory/metrics/task.py:244\u001b[0m, in \u001b[0;36mMeanAP.__call__\u001b[0;34m(self, values, **kwargs)\u001b[0m\n\u001b[1;32m    242\u001b[0m args \u001b[38;5;241m=\u001b[39m [\u001b[38;5;28mlist\u001b[39m(x) \u001b[38;5;28;01mfor\u001b[39;00m x \u001b[38;5;129;01min\u001b[39;00m \u001b[38;5;28mzip\u001b[39m(\u001b[38;5;241m*\u001b[39mvalues)]\n\u001b[1;32m    243\u001b[0m ap \u001b[38;5;241m=\u001b[39m \u001b[38;5;28mself\u001b[39m\u001b[38;5;241m.\u001b[39map_metric(\u001b[38;5;241m*\u001b[39margs, \u001b[38;5;241m*\u001b[39m\u001b[38;5;241m*\u001b[39mkwargs)\n\u001b[0;32m--> 244\u001b[0m mean_ap \u001b[38;5;241m=\u001b[39m np\u001b[38;5;241m.\u001b[39mfromiter(\u001b[43map\u001b[49m\u001b[38;5;241;43m.\u001b[39;49m\u001b[43mvalues\u001b[49m(), dtype\u001b[38;5;241m=\u001b[39m\u001b[38;5;28mfloat\u001b[39m)\u001b[38;5;241m.\u001b[39mmean()\n\u001b[1;32m    245\u001b[0m \u001b[38;5;28;01mreturn\u001b[39;00m {\u001b[38;5;124m\"\u001b[39m\u001b[38;5;124mmean\u001b[39m\u001b[38;5;124m\"\u001b[39m: mean_ap, \u001b[38;5;124m\"\u001b[39m\u001b[38;5;124mclass\u001b[39m\u001b[38;5;124m\"\u001b[39m: ap}\n",
      "\u001b[0;31mAttributeError\u001b[0m: 'numpy.float64' object has no attribute 'values'"
     ]
    }
   ],
   "source": [
    "s.finalize_results()\n",
    "s.results"
   ]
  },
  {
   "cell_type": "markdown",
   "id": "ab52a5ea-d42b-4935-8cfa-53be818d84a3",
   "metadata": {
    "tags": []
   },
   "source": [
    "#### Restarted Kernel"
   ]
  },
  {
   "cell_type": "markdown",
   "id": "7abd5df8-82ae-4b64-bee1-57b86fe3a535",
   "metadata": {},
   "source": [
    "note that the scenario has 4 batches now rather than 2, which means restarting kernel maybe necessary"
   ]
  },
  {
   "cell_type": "code",
   "execution_count": 1,
   "id": "44e6a011-5d4d-439b-993f-3f269c4a451c",
   "metadata": {},
   "outputs": [
    {
     "name": "stdout",
     "output_type": "stream",
     "text": [
      "2022-11-10 18:32:01  0s \u001b[1mINFO    \u001b[0m \u001b[36marmory.delayed_imports\u001b[0m:\u001b[36m<module>\u001b[0m:\u001b[36m7\u001b[0m Importing and configuring torch, tensorflow, and art, if available. This may take some time.\n",
      "2022-11-10 18:32:03  2s \u001b[1mINFO    \u001b[0m \u001b[36marmory.delayed_imports\u001b[0m:\u001b[36m<module>\u001b[0m:\u001b[36m30\u001b[0m Setting tf.config.experimental.set_memory_growth to True on all GPUs\n",
      "2022-11-10 18:32:03  2s \u001b[1mINFO    \u001b[0m \u001b[36mart.config\u001b[0m:\u001b[36mset_data_path\u001b[0m:\u001b[36m55\u001b[0m set ART_DATA_PATH to /tmp/.art/data\n",
      "2022-11-10 18:32:04  2s \u001b[1mINFO    \u001b[0m \u001b[36mart.config\u001b[0m:\u001b[36mset_data_path\u001b[0m:\u001b[36m55\u001b[0m set ART_DATA_PATH to /armory/saved_models/art\n",
      "2022-11-10 18:32:04  3s \u001b[1mINFO    \u001b[0m \u001b[36marmory.scenarios.main\u001b[0m:\u001b[36m_scenario_setup\u001b[0m:\u001b[36m37\u001b[0m this repo is being updated\n",
      "2022-11-10 18:32:04  3s \u001b[31m\u001b[1mERROR   \u001b[0m \u001b[36marmory.scenarios.main\u001b[0m:\u001b[36m_scenario_setup\u001b[0m:\u001b[36m44\u001b[0m eval_id not in config. Inserting current timestamp 1668105124.718049\n",
      "2022-11-10 18:32:04  3s \u001b[1mINFO    \u001b[0m \u001b[36marmory.scenarios.main\u001b[0m:\u001b[36m_scenario_setup\u001b[0m:\u001b[36m52\u001b[0m armory outputs and logs will be written to /armory/outputs/1668105124.718049\n",
      "2022-11-10 18:32:05  3s \u001b[1mINFO    \u001b[0m \u001b[36marmory.data.utils\u001b[0m:\u001b[36mmaybe_download_weights_from_s3\u001b[0m:\u001b[36m47\u001b[0m Using available carla_rgb_weights_eval5.pt in Armory `saved_model_dir`\n",
      "2022-11-10 18:32:09  7s \u001b[1mINFO    \u001b[0m \u001b[36marmory.scenarios.scenario\u001b[0m:\u001b[36mload_dataset\u001b[0m:\u001b[36m205\u001b[0m Loading test dataset carla_obj_det_dev...\n"
     ]
    }
   ],
   "source": [
    "from armory.scenarios.main import get as get_scenario # restarted kernel\n",
    "\n",
    "s = get_scenario(\n",
    "    \"/armory/tmp/2022-11-03T180812.020999/carla_obj_det_adversarialpatch_undefended.json\",\n",
    "    # num_eval_batches=1,\n",
    "    num_eval_batches=2,\n",
    ").load()"
   ]
  },
  {
   "cell_type": "code",
   "execution_count": 2,
   "id": "6c68ab1f-8ddf-48d6-8bde-e4daf4994f99",
   "metadata": {
    "tags": []
   },
   "outputs": [
    {
     "data": {
      "application/vnd.jupyter.widget-view+json": {
       "model_id": "db009fd5a7304ca483a9ca3a8aeb9778",
       "version_major": 2,
       "version_minor": 0
      },
      "text/plain": [
       "Adversarial Patch PyTorch:   0%|          | 0/5 [00:00<?, ?it/s]"
      ]
     },
     "metadata": {},
     "output_type": "display_data"
    },
    {
     "name": "stderr",
     "output_type": "stream",
     "text": [
      "/opt/conda/lib/python3.8/site-packages/torchvision/transforms/functional.py:404: UserWarning: Argument interpolation should be of type InterpolationMode instead of int. Please, use InterpolationMode enum.\n",
      "  warnings.warn(\n",
      "/opt/conda/lib/python3.8/site-packages/torchvision/transforms/functional.py:654: UserWarning: Argument interpolation should be of type InterpolationMode instead of int. Please, use InterpolationMode enum.\n",
      "  warnings.warn(\n",
      "/opt/conda/lib/python3.8/site-packages/torch/functional.py:445: UserWarning: torch.meshgrid: in an upcoming release, it will be required to pass the indexing argument. (Triggered internally at  /opt/conda/conda-bld/pytorch_1640811806235/work/aten/src/ATen/native/TensorShape.cpp:2157.)\n",
      "  return _VF.meshgrid(tensors, **kwargs)  # type: ignore[attr-defined]\n"
     ]
    },
    {
     "data": {
      "application/vnd.jupyter.widget-view+json": {
       "model_id": "265d1ef9e1504299bb70fc810829bba9",
       "version_major": 2,
       "version_minor": 0
      },
      "text/plain": [
       "Adversarial Patch PyTorch:   0%|          | 0/5 [00:00<?, ?it/s]"
      ]
     },
     "metadata": {},
     "output_type": "display_data"
    }
   ],
   "source": [
    "s.next()\n",
    "s.run_attack()\n",
    "s.next()\n",
    "s.run_attack()"
   ]
  },
  {
   "cell_type": "code",
   "execution_count": 3,
   "id": "b7635449-04b5-4422-aaa2-2060873d3238",
   "metadata": {},
   "outputs": [
    {
     "name": "stdout",
     "output_type": "stream",
     "text": [
      "2022-11-10 18:32:19 17s \u001b[33m\u001b[1mWARNING \u001b[0m \u001b[36marmory.instrument.instrument\u001b[0m:\u001b[36mfinalize\u001b[0m:\u001b[36m590\u001b[0m Meter 'benign_input_to_carla_od_AP_per_class' was never measured. The following args were never set: ['scenario.y_pred']\n",
      "{1: 0.7, 2: 0.82}\n",
      "2022-11-10 18:32:19 18s \u001b[32m\u001b[1mSUCCESS \u001b[0m \u001b[36marmory.instrument.config\u001b[0m:\u001b[36m_write\u001b[0m:\u001b[36m230\u001b[0m adversarial_carla_od_AP_per_class on adversarial examples w.r.t. ground truth labels: {'mean': 0.76, 'class': {1: 0.7, 2: 0.82}}\n",
      "2022-11-10 18:32:19 18s \u001b[33m\u001b[1mWARNING \u001b[0m \u001b[36marmory.instrument.instrument\u001b[0m:\u001b[36mfinalize\u001b[0m:\u001b[36m590\u001b[0m Meter 'input_to_benign_carla_od_disappearance_rate' was never measured. The following args were never set: ['scenario.y_pred']\n",
      "2022-11-10 18:32:19 18s \u001b[32m\u001b[1mSUCCESS \u001b[0m \u001b[36marmory.instrument.config\u001b[0m:\u001b[36m_write\u001b[0m:\u001b[36m230\u001b[0m adversarial_carla_od_disappearance_rate on adversarial examples w.r.t. ground truth labels: 30.71%\n",
      "2022-11-10 18:32:19 18s \u001b[33m\u001b[1mWARNING \u001b[0m \u001b[36marmory.instrument.instrument\u001b[0m:\u001b[36mfinalize\u001b[0m:\u001b[36m590\u001b[0m Meter 'input_to_benign_carla_od_hallucinations_per_image' was never measured. The following args were never set: ['scenario.y_pred']\n",
      "2022-11-10 18:32:19 18s \u001b[32m\u001b[1mSUCCESS \u001b[0m \u001b[36marmory.instrument.config\u001b[0m:\u001b[36m_write\u001b[0m:\u001b[36m230\u001b[0m adversarial_carla_od_hallucinations_per_image on adversarial examples w.r.t. ground truth labels: 4.5\n",
      "2022-11-10 18:32:19 18s \u001b[33m\u001b[1mWARNING \u001b[0m \u001b[36marmory.instrument.instrument\u001b[0m:\u001b[36mfinalize\u001b[0m:\u001b[36m590\u001b[0m Meter 'input_to_benign_carla_od_misclassification_rate' was never measured. The following args were never set: ['scenario.y_pred']\n",
      "2022-11-10 18:32:19 18s \u001b[32m\u001b[1mSUCCESS \u001b[0m \u001b[36marmory.instrument.config\u001b[0m:\u001b[36m_write\u001b[0m:\u001b[36m230\u001b[0m adversarial_carla_od_misclassification_rate on adversarial examples w.r.t. ground truth labels: 0.00%\n",
      "2022-11-10 18:32:19 18s \u001b[33m\u001b[1mWARNING \u001b[0m \u001b[36marmory.instrument.instrument\u001b[0m:\u001b[36mfinalize\u001b[0m:\u001b[36m590\u001b[0m Meter 'input_to_benign_carla_od_true_positive_rate' was never measured. The following args were never set: ['scenario.y_pred']\n",
      "2022-11-10 18:32:19 18s \u001b[32m\u001b[1mSUCCESS \u001b[0m \u001b[36marmory.instrument.config\u001b[0m:\u001b[36m_write\u001b[0m:\u001b[36m230\u001b[0m adversarial_carla_od_true_positive_rate on adversarial examples w.r.t. ground truth labels: 69.29%\n",
      "2022-11-10 18:32:19 18s \u001b[33m\u001b[1mWARNING \u001b[0m \u001b[36marmory.instrument.instrument\u001b[0m:\u001b[36mfinalize\u001b[0m:\u001b[36m590\u001b[0m Meter 'input_to_benign_object_detection_mAP_tide' was never measured. The following args were never set: ['scenario.y_pred']\n",
      "len(y[\"labels\"]): 10, len(data_ground_truth.annotations): 10\n",
      "len(y_pred[\"labels\"]): 69, len(data_detection.annotations): 69\n",
      "len(y[\"labels\"]): 14, len(data_ground_truth.annotations): 24\n",
      "len(y_pred[\"labels\"]): 38, len(data_detection.annotations): 107\n",
      "-- detection --\n",
      "\n",
      "bbox AP @ [50-95]: 42.01\n",
      "                                         bbox AP @ [50-95]\n",
      "===================================================================================================\n",
      "  Thresh       50       55       60       65       70       75       80       85       90       95  \n",
      "---------------------------------------------------------------------------------------------------\n",
      "    AP      78.43    75.08    75.08    73.76    34.07    34.07    19.98    15.48    14.16     0.00  \n",
      "===================================================================================================\n",
      "\n",
      "                         Main Errors\n",
      "=============================================================\n",
      "  Type      Cls      Loc     Both     Dupe      Bkg     Miss  \n",
      "-------------------------------------------------------------\n",
      "   dAP     0.00     0.51     3.18     0.29     2.70    10.09  \n",
      "=============================================================\n",
      "\n",
      "        Special Error\n",
      "=============================\n",
      "  Type   FalsePos   FalseNeg  \n",
      "-----------------------------\n",
      "   dAP      10.68      10.09  \n",
      "=============================\n",
      "\n",
      "{1: 0.7, 2: 0.82}\n",
      "2022-11-10 18:32:19 18s \u001b[32m\u001b[1mSUCCESS \u001b[0m \u001b[36marmory.instrument.config\u001b[0m:\u001b[36m_write\u001b[0m:\u001b[36m230\u001b[0m adversarial_object_detection_mAP_tide on adversarial examples w.r.t. ground truth labels: 76.00%\n",
      "2022-11-10 18:32:19 18s \u001b[33m\u001b[1mWARNING \u001b[0m \u001b[36marmory.instrument.instrument\u001b[0m:\u001b[36mfinalize\u001b[0m:\u001b[36m590\u001b[0m Meter 'adversarial_input_to_carla_od_AP_per_class_wrt_benign_preds' was never measured. The following args were never set: ['scenario.y_pred']\n",
      "2022-11-10 18:32:19 18s \u001b[33m\u001b[1mWARNING \u001b[0m \u001b[36marmory.instrument.instrument\u001b[0m:\u001b[36mfinalize\u001b[0m:\u001b[36m590\u001b[0m Meter 'input_to_adversarial_carla_od_disappearance_rate_wrt_benign_preds' was never measured. The following args were never set: ['scenario.y_pred']\n",
      "2022-11-10 18:32:19 18s \u001b[33m\u001b[1mWARNING \u001b[0m \u001b[36marmory.instrument.instrument\u001b[0m:\u001b[36mfinalize\u001b[0m:\u001b[36m590\u001b[0m Meter 'input_to_adversarial_carla_od_hallucinations_per_image_wrt_benign_preds' was never measured. The following args were never set: ['scenario.y_pred']\n",
      "2022-11-10 18:32:19 18s \u001b[33m\u001b[1mWARNING \u001b[0m \u001b[36marmory.instrument.instrument\u001b[0m:\u001b[36mfinalize\u001b[0m:\u001b[36m590\u001b[0m Meter 'input_to_adversarial_carla_od_misclassification_rate_wrt_benign_preds' was never measured. The following args were never set: ['scenario.y_pred']\n",
      "2022-11-10 18:32:19 18s \u001b[33m\u001b[1mWARNING \u001b[0m \u001b[36marmory.instrument.instrument\u001b[0m:\u001b[36mfinalize\u001b[0m:\u001b[36m590\u001b[0m Meter 'input_to_adversarial_carla_od_true_positive_rate_wrt_benign_preds' was never measured. The following args were never set: ['scenario.y_pred']\n",
      "2022-11-10 18:32:19 18s \u001b[33m\u001b[1mWARNING \u001b[0m \u001b[36marmory.instrument.instrument\u001b[0m:\u001b[36mfinalize\u001b[0m:\u001b[36m590\u001b[0m Meter 'input_to_adversarial_object_detection_mAP_tide_wrt_benign_preds' was never measured. The following args were never set: ['scenario.y_pred']\n",
      "2022-11-10 18:32:19 18s \u001b[33m\u001b[1mWARNING \u001b[0m \u001b[36marmory.instrument.export\u001b[0m:\u001b[36mfinalize\u001b[0m:\u001b[36m744\u001b[0m Meter 'pred_dict_exporter' was never measured. The following args were never set: ['scenario.y_pred']\n",
      "2022-11-10 18:32:19 18s \u001b[33m\u001b[1mWARNING \u001b[0m \u001b[36marmory.instrument.export\u001b[0m:\u001b[36mfinalize\u001b[0m:\u001b[36m657\u001b[0m Meter 'x_with_boxes_exporter' was never measured. The following args were never set: ['scenario.y_pred']\n",
      "2022-11-10 18:32:19 18s \u001b[33m\u001b[1mWARNING \u001b[0m \u001b[36marmory.instrument.export\u001b[0m:\u001b[36mfinalize\u001b[0m:\u001b[36m827\u001b[0m Meter 'coco_box_format_meter' was never measured. The following args were never set: ['scenario.y_pred']\n"
     ]
    },
    {
     "data": {
      "text/plain": [
       "{'perturbation_l0': [array([14418.]), array([5166.])],\n",
       " 'adversarial_carla_od_AP_per_class': [{'mean': 0.76,\n",
       "   'class': {1: 0.7, 2: 0.82}}],\n",
       " 'adversarial_carla_od_disappearance_rate': [[0.4, 0.2142857142857143]],\n",
       " 'adversarial_carla_od_hallucinations_per_image': [[5, 4]],\n",
       " 'adversarial_carla_od_misclassification_rate': [[0.0, 0.0]],\n",
       " 'adversarial_carla_od_true_positive_rate': [[0.6, 0.7857142857142857]],\n",
       " 'adversarial_object_detection_mAP_tide': [0.76],\n",
       " 'perturbation_mean_l0': [9792.0],\n",
       " 'compute': {}}"
      ]
     },
     "execution_count": 3,
     "metadata": {},
     "output_type": "execute_result"
    }
   ],
   "source": [
    "s.finalize_results()\n",
    "s.results"
   ]
  },
  {
   "cell_type": "markdown",
   "id": "72dd9197-d9e7-4816-8ac6-cfaf0bed5e7b",
   "metadata": {
    "tags": []
   },
   "source": [
    "### Inspect `TIDE` Attributes Again"
   ]
  },
  {
   "cell_type": "markdown",
   "id": "acb0595a-e285-4e40-94b6-5320380fba9f",
   "metadata": {
    "tags": []
   },
   "source": [
    "#### Setup `TIDE`"
   ]
  },
  {
   "cell_type": "code",
   "execution_count": 4,
   "id": "3f08a7c7-af95-43b4-8654-7fc88f70725e",
   "metadata": {},
   "outputs": [],
   "source": [
    "from tidecv import TIDE\n",
    "import tidecv.data"
   ]
  },
  {
   "cell_type": "code",
   "execution_count": 6,
   "id": "2301b131-633d-4544-a285-6d698a0f1f4b",
   "metadata": {},
   "outputs": [],
   "source": [
    "def armory_to_tide_ground_truth(y_dict, data_ground_truth):\n",
    "    for y in [dict(zip(y_dict, t)) for t in zip(*y_dict.values())]:\n",
    "        x1, y1, x2, y2 = y[\"boxes\"]\n",
    "        width = abs(x1 - x2)\n",
    "        height = abs(y1 - y2)\n",
    "        x_min = min(x1, x2)\n",
    "        y_min = min(y1, y2)\n",
    "\n",
    "        y_tidecv = {\n",
    "            \"image_id\": y[\"image_id\"],\n",
    "            \"class_id\": y[\"labels\"],\n",
    "            \"box\": [x_min, y_min, width, height],\n",
    "        }\n",
    "        data_ground_truth.add_ground_truth(**y_tidecv)\n",
    "\n",
    "\n",
    "def armory_to_tide_detection(y_dict, image_id, data_detection):\n",
    "    for y in [dict(zip(y_dict, t)) for t in zip(*y_dict.values())]:\n",
    "        x1, y1, x2, y2 = y[\"boxes\"]\n",
    "        width = abs(x1 - x2)\n",
    "        height = abs(y1 - y2)\n",
    "        x_min = min(x1, x2)\n",
    "        y_min = min(y1, y2)\n",
    "\n",
    "        # y_tidecv = {\"image_id\": y[\"image_id\"], \"class_id\": y[\"labels\"], \"box\": [x_min, y_min, width, height], \"score\": y[\"scores\"]}\n",
    "        y_tidecv = {\n",
    "            \"image_id\": image_id,\n",
    "            \"class_id\": y[\"labels\"],\n",
    "            \"box\": [x_min, y_min, width, height],\n",
    "            \"score\": y[\"scores\"],\n",
    "        }\n",
    "        data_detection.add_detection(**y_tidecv)"
   ]
  },
  {
   "cell_type": "code",
   "execution_count": 5,
   "id": "79f0cc5c-453d-49df-9484-ee8095f8256c",
   "metadata": {},
   "outputs": [],
   "source": [
    "data_ground_truth = tidecv.data.Data(name=\"ground_truth\")\n",
    "data_detection = tidecv.data.Data(name=\"detection\")"
   ]
  },
  {
   "cell_type": "code",
   "execution_count": 8,
   "id": "909bbb5b-b57f-42ff-b77f-cc3bfeed04b3",
   "metadata": {},
   "outputs": [
    {
     "name": "stdout",
     "output_type": "stream",
     "text": [
      "len(y[\"labels\"]): 14, len(data_ground_truth.annotations): 14\n",
      "len(y_pred[\"labels\"]): 38, len(data_detection.annotations): 38\n"
     ]
    }
   ],
   "source": [
    "# note that we only have access to the last batch this way... (don't worry for now, but might need PredictionMeter in s.hub.meters?)\n",
    "for y, y_pred in zip(s.y, s.y_pred_adv):\n",
    "    armory_to_tide_ground_truth(y, data_ground_truth)\n",
    "    image_id = y[\"image_id\"][0]  # assume image_id is the same per image\n",
    "    armory_to_tide_detection(y_pred, image_id, data_detection)\n",
    "    print(\n",
    "        f\"\"\"len(y[\"labels\"]): {len(y[\"labels\"])}, len(data_ground_truth.annotations): {len(data_ground_truth.annotations)}\"\"\"\n",
    "    )\n",
    "    print(\n",
    "        f\"\"\"len(y_pred[\"labels\"]): {len(y_pred[\"labels\"])}, len(data_detection.annotations): {len(data_detection.annotations)}\"\"\"\n",
    "    )"
   ]
  },
  {
   "cell_type": "code",
   "execution_count": 14,
   "id": "4a5cc787-9cf7-4e0b-aaa3-82c5eb614e67",
   "metadata": {},
   "outputs": [
    {
     "name": "stdout",
     "output_type": "stream",
     "text": [
      "-- detection --\n",
      "\n",
      "bbox AP @ [50-95]: 52.84\n",
      "                                         bbox AP @ [50-95]\n",
      "===================================================================================================\n",
      "  Thresh       50       55       60       65       70       75       80       85       90       95  \n",
      "---------------------------------------------------------------------------------------------------\n",
      "    AP      85.64    85.64    85.64    81.44    52.90    52.90    33.59    25.33    25.33     0.00  \n",
      "===================================================================================================\n",
      "\n",
      "                         Main Errors\n",
      "=============================================================\n",
      "  Type      Cls      Loc     Both     Dupe      Bkg     Miss  \n",
      "-------------------------------------------------------------\n",
      "   dAP     0.00     0.00     0.00     0.00     0.50    13.64  \n",
      "=============================================================\n",
      "\n",
      "        Special Error\n",
      "=============================\n",
      "  Type   FalsePos   FalseNeg  \n",
      "-----------------------------\n",
      "   dAP       0.50      13.64  \n",
      "=============================\n",
      "\n"
     ]
    }
   ],
   "source": [
    "tide = TIDE()\n",
    "tide.evaluate_range(data_ground_truth, data_detection, mode=TIDE.BOX)\n",
    "tide.summarize()"
   ]
  },
  {
   "cell_type": "code",
   "execution_count": 15,
   "id": "a4db7a86-8bcc-4db6-b723-1242e8643ea2",
   "metadata": {},
   "outputs": [
    {
     "data": {
      "text/plain": [
       "{'pos_thresh': 0.5,\n",
       " 'bg_thresh': 0.1,\n",
       " 'mode': 'bbox',\n",
       " 'pos_thresh_int': 50,\n",
       " 'runs': {'detection': <tidecv.quantify.TIDERun at 0x7f7288578400>},\n",
       " 'run_thresholds': {'detection': [<tidecv.quantify.TIDERun at 0x7f7288578400>,\n",
       "   <tidecv.quantify.TIDERun at 0x7f7288563ca0>,\n",
       "   <tidecv.quantify.TIDERun at 0x7f7288780c70>,\n",
       "   <tidecv.quantify.TIDERun at 0x7f7288780dc0>,\n",
       "   <tidecv.quantify.TIDERun at 0x7f7288780ee0>,\n",
       "   <tidecv.quantify.TIDERun at 0x7f72887800d0>,\n",
       "   <tidecv.quantify.TIDERun at 0x7f7288780070>,\n",
       "   <tidecv.quantify.TIDERun at 0x7f72885729d0>,\n",
       "   <tidecv.quantify.TIDERun at 0x7f7288572d90>,\n",
       "   <tidecv.quantify.TIDERun at 0x7f7288572820>]},\n",
       " 'run_main_errors': {},\n",
       " 'run_special_errors': {},\n",
       " 'qualifiers': OrderedDict(),\n",
       " 'plotter': <tidecv.plotting.Plotter at 0x7f72885639a0>}"
      ]
     },
     "execution_count": 15,
     "metadata": {},
     "output_type": "execute_result"
    }
   ],
   "source": [
    "tide.__dict__"
   ]
  },
  {
   "cell_type": "code",
   "execution_count": 21,
   "id": "24519838-3819-4b97-9d12-69fa1de2dff7",
   "metadata": {
    "collapsed": true,
    "jupyter": {
     "outputs_hidden": true
    },
    "tags": []
   },
   "outputs": [
    {
     "data": {
      "text/plain": [
       "{'gt': <tidecv.data.Data at 0x7f73051b54c0>,\n",
       " 'preds': <tidecv.data.Data at 0x7f73051b5460>,\n",
       " 'errors': [<tidecv.errors.main_errors.BackgroundError at 0x7f7288563d30>,\n",
       "  <tidecv.errors.main_errors.DuplicateError at 0x7f7288563e80>,\n",
       "  <tidecv.errors.main_errors.BackgroundError at 0x7f7288563e20>,\n",
       "  <tidecv.errors.main_errors.BackgroundError at 0x7f7288563f40>,\n",
       "  <tidecv.errors.main_errors.BoxError at 0x7f72885639d0>,\n",
       "  <tidecv.errors.main_errors.BoxError at 0x7f7288563a00>,\n",
       "  <tidecv.errors.main_errors.BackgroundError at 0x7f7288563e50>,\n",
       "  <tidecv.errors.main_errors.BackgroundError at 0x7f7288563af0>,\n",
       "  <tidecv.errors.main_errors.BackgroundError at 0x7f7288563f10>,\n",
       "  <tidecv.errors.main_errors.BackgroundError at 0x7f72887807f0>,\n",
       "  <tidecv.errors.main_errors.BackgroundError at 0x7f7298209280>,\n",
       "  <tidecv.errors.main_errors.BoxError at 0x7f7288780730>,\n",
       "  <tidecv.errors.main_errors.ClassError at 0x7f7288780550>,\n",
       "  <tidecv.errors.main_errors.BackgroundError at 0x7f7288780430>,\n",
       "  <tidecv.errors.main_errors.DuplicateError at 0x7f72887809a0>,\n",
       "  <tidecv.errors.main_errors.BoxError at 0x7f7288780be0>,\n",
       "  <tidecv.errors.main_errors.BackgroundError at 0x7f7305556d00>,\n",
       "  <tidecv.errors.main_errors.BackgroundError at 0x7f7288780af0>,\n",
       "  <tidecv.errors.main_errors.BoxError at 0x7f7288780a90>,\n",
       "  <tidecv.errors.main_errors.DuplicateError at 0x7f74881df5b0>,\n",
       "  <tidecv.errors.main_errors.BoxError at 0x7f7288780700>,\n",
       "  <tidecv.errors.main_errors.BackgroundError at 0x7f72900b5490>,\n",
       "  <tidecv.errors.main_errors.BackgroundError at 0x7f7288563f70>,\n",
       "  <tidecv.errors.main_errors.BackgroundError at 0x7f7288780460>,\n",
       "  <tidecv.errors.main_errors.BackgroundError at 0x7f72887808b0>,\n",
       "  <tidecv.errors.main_errors.BackgroundError at 0x7f7288780b20>,\n",
       "  <tidecv.errors.main_errors.BackgroundError at 0x7f7288780610>,\n",
       "  <tidecv.errors.main_errors.MissedError at 0x7f7288780250>,\n",
       "  <tidecv.errors.main_errors.MissedError at 0x7f7288780b80>,\n",
       "  <tidecv.errors.main_errors.MissedError at 0x7f7288780490>],\n",
       " 'error_dict': {tidecv.errors.main_errors.ClassError: [<tidecv.errors.main_errors.ClassError at 0x7f7288780550>],\n",
       "  tidecv.errors.main_errors.BoxError: [<tidecv.errors.main_errors.BoxError at 0x7f72885639d0>,\n",
       "   <tidecv.errors.main_errors.BoxError at 0x7f7288563a00>,\n",
       "   <tidecv.errors.main_errors.BoxError at 0x7f7288780730>,\n",
       "   <tidecv.errors.main_errors.BoxError at 0x7f7288780be0>,\n",
       "   <tidecv.errors.main_errors.BoxError at 0x7f7288780a90>,\n",
       "   <tidecv.errors.main_errors.BoxError at 0x7f7288780700>],\n",
       "  tidecv.errors.main_errors.OtherError: [],\n",
       "  tidecv.errors.main_errors.DuplicateError: [<tidecv.errors.main_errors.DuplicateError at 0x7f7288563e80>,\n",
       "   <tidecv.errors.main_errors.DuplicateError at 0x7f72887809a0>,\n",
       "   <tidecv.errors.main_errors.DuplicateError at 0x7f74881df5b0>],\n",
       "  tidecv.errors.main_errors.BackgroundError: [<tidecv.errors.main_errors.BackgroundError at 0x7f7288563d30>,\n",
       "   <tidecv.errors.main_errors.BackgroundError at 0x7f7288563e20>,\n",
       "   <tidecv.errors.main_errors.BackgroundError at 0x7f7288563f40>,\n",
       "   <tidecv.errors.main_errors.BackgroundError at 0x7f7288563e50>,\n",
       "   <tidecv.errors.main_errors.BackgroundError at 0x7f7288563af0>,\n",
       "   <tidecv.errors.main_errors.BackgroundError at 0x7f7288563f10>,\n",
       "   <tidecv.errors.main_errors.BackgroundError at 0x7f72887807f0>,\n",
       "   <tidecv.errors.main_errors.BackgroundError at 0x7f7298209280>,\n",
       "   <tidecv.errors.main_errors.BackgroundError at 0x7f7288780430>,\n",
       "   <tidecv.errors.main_errors.BackgroundError at 0x7f7305556d00>,\n",
       "   <tidecv.errors.main_errors.BackgroundError at 0x7f7288780af0>,\n",
       "   <tidecv.errors.main_errors.BackgroundError at 0x7f72900b5490>,\n",
       "   <tidecv.errors.main_errors.BackgroundError at 0x7f7288563f70>,\n",
       "   <tidecv.errors.main_errors.BackgroundError at 0x7f7288780460>,\n",
       "   <tidecv.errors.main_errors.BackgroundError at 0x7f72887808b0>,\n",
       "   <tidecv.errors.main_errors.BackgroundError at 0x7f7288780b20>,\n",
       "   <tidecv.errors.main_errors.BackgroundError at 0x7f7288780610>],\n",
       "  tidecv.errors.main_errors.MissedError: [<tidecv.errors.main_errors.MissedError at 0x7f7288780250>,\n",
       "   <tidecv.errors.main_errors.MissedError at 0x7f7288780b80>,\n",
       "   <tidecv.errors.main_errors.MissedError at 0x7f7288780490>]},\n",
       " 'ap_data': <tidecv.ap.ClassedAPDataObject at 0x7f7288563b50>,\n",
       " 'qualifiers': {},\n",
       " 'false_negatives': {2: [],\n",
       "  1: [{'_id': 7,\n",
       "    'score': 1,\n",
       "    'image': 87619148,\n",
       "    'class': 1,\n",
       "    'bbox': [706.0, 473.0, 11.0, 26.0],\n",
       "    'mask': None,\n",
       "    'ignore': False},\n",
       "   {'_id': 8,\n",
       "    'score': 1,\n",
       "    'image': 87619148,\n",
       "    'class': 1,\n",
       "    'bbox': [65.0, 475.0, 10.0, 20.0],\n",
       "    'mask': None,\n",
       "    'ignore': False},\n",
       "   {'_id': 12,\n",
       "    'score': 1,\n",
       "    'image': 87619148,\n",
       "    'class': 1,\n",
       "    'bbox': [1190.0, 472.0, 10.0, 30.0],\n",
       "    'mask': None,\n",
       "    'ignore': False}]},\n",
       " 'pos_thresh': 0.5,\n",
       " 'bg_thresh': 0.1,\n",
       " 'mode': 'bbox',\n",
       " 'max_dets': 100,\n",
       " 'run_errors': True,\n",
       " 'ap': 85.64356435643563}"
      ]
     },
     "execution_count": 21,
     "metadata": {},
     "output_type": "execute_result"
    }
   ],
   "source": [
    "tide.runs[\"detection\"].__dict__"
   ]
  },
  {
   "cell_type": "code",
   "execution_count": 20,
   "id": "446cac9e-e585-4a8f-8150-cbae15c60bfd",
   "metadata": {},
   "outputs": [
    {
     "data": {
      "text/plain": [
       "{'gt': <tidecv.data.Data at 0x7f73051b54c0>,\n",
       " 'preds': <tidecv.data.Data at 0x7f73051b5460>,\n",
       " 'errors': [],\n",
       " 'error_dict': {tidecv.errors.main_errors.ClassError: [],\n",
       "  tidecv.errors.main_errors.BoxError: [],\n",
       "  tidecv.errors.main_errors.OtherError: [],\n",
       "  tidecv.errors.main_errors.DuplicateError: [],\n",
       "  tidecv.errors.main_errors.BackgroundError: [],\n",
       "  tidecv.errors.main_errors.MissedError: []},\n",
       " 'ap_data': <tidecv.ap.ClassedAPDataObject at 0x7f7288563ac0>,\n",
       " 'qualifiers': {},\n",
       " 'false_negatives': {2: [], 1: []},\n",
       " 'pos_thresh': 0.55,\n",
       " 'bg_thresh': 0.1,\n",
       " 'mode': 'bbox',\n",
       " 'max_dets': 100,\n",
       " 'run_errors': False,\n",
       " 'ap': 85.64356435643563}"
      ]
     },
     "execution_count": 20,
     "metadata": {},
     "output_type": "execute_result"
    }
   ],
   "source": [
    "tide.run_thresholds[\"detection\"][1].__dict__"
   ]
  },
  {
   "cell_type": "markdown",
   "id": "31907650-9698-469d-952f-86dfafeadfcd",
   "metadata": {},
   "source": [
    "- `tide.runs[\"detection\"]` is the same as `tide.run_thresholds[\"detection\"][0]`\n",
    "- `tide.runs[\"detection\"]` carries all (if not most) information on detection errors\n",
    "- mAP for diffferent thresholds might require looking at `ap` attributes for all elements in `tide.run_thresholds[\"detection\"]`\n",
    "- unclear whether `bg_thresh` impacts mAP calculation"
   ]
  },
  {
   "cell_type": "code",
   "execution_count": 40,
   "id": "2bac34de-4330-4f9b-a6f9-e8345c2596b6",
   "metadata": {},
   "outputs": [
    {
     "data": {
      "text/plain": [
       "{0.5: 85.64356435643563,\n",
       " 0.55: 85.64356435643563,\n",
       " 0.6: 85.64356435643563,\n",
       " 0.65: 81.43564356435643,\n",
       " 0.7: 52.8995756718529,\n",
       " 0.75: 52.8995756718529,\n",
       " 0.8: 33.5926449787836,\n",
       " 0.85: 25.33003300330033,\n",
       " 0.9: 25.33003300330033,\n",
       " 0.95: 0.0}"
      ]
     },
     "execution_count": 40,
     "metadata": {},
     "output_type": "execute_result"
    }
   ],
   "source": [
    "{x.pos_thresh: x.ap for x in tide.run_thresholds[\"detection\"]}"
   ]
  },
  {
   "cell_type": "code",
   "execution_count": 43,
   "id": "5746e60b-cea9-4976-b4e9-bdfa764e0857",
   "metadata": {},
   "outputs": [
    {
     "data": {
      "text/plain": [
       "(100,\n",
       " dict_items([(87619148, {'name': 'Image 87619148', 'anns': [0, 1, 2, 3, 4, 5, 6, 7, 8, 9, 10, 11, 12, 13]})]))"
      ]
     },
     "execution_count": 43,
     "metadata": {},
     "output_type": "execute_result"
    }
   ],
   "source": [
    "data_ground_truth.max_dets, data_ground_truth.images.items()"
   ]
  },
  {
   "cell_type": "code",
   "execution_count": 24,
   "id": "4b3b1d09-7fbb-463d-8bad-f166cfccc455",
   "metadata": {
    "collapsed": true,
    "jupyter": {
     "outputs_hidden": true
    },
    "tags": []
   },
   "outputs": [
    {
     "data": {
      "text/plain": [
       "[<tidecv.errors.main_errors.BackgroundError at 0x7f7288563d30>,\n",
       " <tidecv.errors.main_errors.DuplicateError at 0x7f7288563e80>,\n",
       " <tidecv.errors.main_errors.BackgroundError at 0x7f7288563e20>,\n",
       " <tidecv.errors.main_errors.BackgroundError at 0x7f7288563f40>,\n",
       " <tidecv.errors.main_errors.BoxError at 0x7f72885639d0>,\n",
       " <tidecv.errors.main_errors.BoxError at 0x7f7288563a00>,\n",
       " <tidecv.errors.main_errors.BackgroundError at 0x7f7288563e50>,\n",
       " <tidecv.errors.main_errors.BackgroundError at 0x7f7288563af0>,\n",
       " <tidecv.errors.main_errors.BackgroundError at 0x7f7288563f10>,\n",
       " <tidecv.errors.main_errors.BackgroundError at 0x7f72887807f0>,\n",
       " <tidecv.errors.main_errors.BackgroundError at 0x7f7298209280>,\n",
       " <tidecv.errors.main_errors.BoxError at 0x7f7288780730>,\n",
       " <tidecv.errors.main_errors.ClassError at 0x7f7288780550>,\n",
       " <tidecv.errors.main_errors.BackgroundError at 0x7f7288780430>,\n",
       " <tidecv.errors.main_errors.DuplicateError at 0x7f72887809a0>,\n",
       " <tidecv.errors.main_errors.BoxError at 0x7f7288780be0>,\n",
       " <tidecv.errors.main_errors.BackgroundError at 0x7f7305556d00>,\n",
       " <tidecv.errors.main_errors.BackgroundError at 0x7f7288780af0>,\n",
       " <tidecv.errors.main_errors.BoxError at 0x7f7288780a90>,\n",
       " <tidecv.errors.main_errors.DuplicateError at 0x7f74881df5b0>,\n",
       " <tidecv.errors.main_errors.BoxError at 0x7f7288780700>,\n",
       " <tidecv.errors.main_errors.BackgroundError at 0x7f72900b5490>,\n",
       " <tidecv.errors.main_errors.BackgroundError at 0x7f7288563f70>,\n",
       " <tidecv.errors.main_errors.BackgroundError at 0x7f7288780460>,\n",
       " <tidecv.errors.main_errors.BackgroundError at 0x7f72887808b0>,\n",
       " <tidecv.errors.main_errors.BackgroundError at 0x7f7288780b20>,\n",
       " <tidecv.errors.main_errors.BackgroundError at 0x7f7288780610>,\n",
       " <tidecv.errors.main_errors.MissedError at 0x7f7288780250>,\n",
       " <tidecv.errors.main_errors.MissedError at 0x7f7288780b80>,\n",
       " <tidecv.errors.main_errors.MissedError at 0x7f7288780490>]"
      ]
     },
     "execution_count": 24,
     "metadata": {},
     "output_type": "execute_result"
    }
   ],
   "source": [
    "tide.runs[\"detection\"].errors # also contained in tide.runs[\"detection\"].error_dict"
   ]
  },
  {
   "cell_type": "code",
   "execution_count": 25,
   "id": "b54f50d4-f2df-4abc-99c0-5688b213b8e8",
   "metadata": {
    "tags": []
   },
   "outputs": [
    {
     "data": {
      "text/plain": [
       "{tidecv.errors.main_errors.ClassError: [<tidecv.errors.main_errors.ClassError at 0x7f7288780550>],\n",
       " tidecv.errors.main_errors.BoxError: [<tidecv.errors.main_errors.BoxError at 0x7f72885639d0>,\n",
       "  <tidecv.errors.main_errors.BoxError at 0x7f7288563a00>,\n",
       "  <tidecv.errors.main_errors.BoxError at 0x7f7288780730>,\n",
       "  <tidecv.errors.main_errors.BoxError at 0x7f7288780be0>,\n",
       "  <tidecv.errors.main_errors.BoxError at 0x7f7288780a90>,\n",
       "  <tidecv.errors.main_errors.BoxError at 0x7f7288780700>],\n",
       " tidecv.errors.main_errors.OtherError: [],\n",
       " tidecv.errors.main_errors.DuplicateError: [<tidecv.errors.main_errors.DuplicateError at 0x7f7288563e80>,\n",
       "  <tidecv.errors.main_errors.DuplicateError at 0x7f72887809a0>,\n",
       "  <tidecv.errors.main_errors.DuplicateError at 0x7f74881df5b0>],\n",
       " tidecv.errors.main_errors.BackgroundError: [<tidecv.errors.main_errors.BackgroundError at 0x7f7288563d30>,\n",
       "  <tidecv.errors.main_errors.BackgroundError at 0x7f7288563e20>,\n",
       "  <tidecv.errors.main_errors.BackgroundError at 0x7f7288563f40>,\n",
       "  <tidecv.errors.main_errors.BackgroundError at 0x7f7288563e50>,\n",
       "  <tidecv.errors.main_errors.BackgroundError at 0x7f7288563af0>,\n",
       "  <tidecv.errors.main_errors.BackgroundError at 0x7f7288563f10>,\n",
       "  <tidecv.errors.main_errors.BackgroundError at 0x7f72887807f0>,\n",
       "  <tidecv.errors.main_errors.BackgroundError at 0x7f7298209280>,\n",
       "  <tidecv.errors.main_errors.BackgroundError at 0x7f7288780430>,\n",
       "  <tidecv.errors.main_errors.BackgroundError at 0x7f7305556d00>,\n",
       "  <tidecv.errors.main_errors.BackgroundError at 0x7f7288780af0>,\n",
       "  <tidecv.errors.main_errors.BackgroundError at 0x7f72900b5490>,\n",
       "  <tidecv.errors.main_errors.BackgroundError at 0x7f7288563f70>,\n",
       "  <tidecv.errors.main_errors.BackgroundError at 0x7f7288780460>,\n",
       "  <tidecv.errors.main_errors.BackgroundError at 0x7f72887808b0>,\n",
       "  <tidecv.errors.main_errors.BackgroundError at 0x7f7288780b20>,\n",
       "  <tidecv.errors.main_errors.BackgroundError at 0x7f7288780610>],\n",
       " tidecv.errors.main_errors.MissedError: [<tidecv.errors.main_errors.MissedError at 0x7f7288780250>,\n",
       "  <tidecv.errors.main_errors.MissedError at 0x7f7288780b80>,\n",
       "  <tidecv.errors.main_errors.MissedError at 0x7f7288780490>]}"
      ]
     },
     "execution_count": 25,
     "metadata": {},
     "output_type": "execute_result"
    }
   ],
   "source": [
    "tide.runs[\"detection\"].error_dict"
   ]
  },
  {
   "cell_type": "code",
   "execution_count": 30,
   "id": "0e401c79-837d-487a-a8f1-287a0396c410",
   "metadata": {},
   "outputs": [
    {
     "name": "stdout",
     "output_type": "stream",
     "text": [
      "ClassError\n",
      "dict_keys(['pred', 'gt', 'match', 'original', 'fixed', 'disabled'])\n",
      "BoxError\n",
      "dict_keys(['pred', 'gt', 'match', 'original', 'fixed', 'disabled'])\n",
      "OtherError\n",
      "DuplicateError\n",
      "dict_keys(['pred', 'suppressor', 'original', 'fixed', 'disabled'])\n",
      "BackgroundError\n",
      "dict_keys(['pred', 'original', 'fixed', 'disabled'])\n",
      "MissedError\n",
      "dict_keys(['gt', 'original', 'fixed', 'disabled'])\n"
     ]
    }
   ],
   "source": [
    "for k,v in tide.runs[\"detection\"].error_dict.items():\n",
    "    print(k.__name__)\n",
    "    # print(k.__dict__)\n",
    "    if v:\n",
    "        print(v[0].__dict__.keys())"
   ]
  },
  {
   "cell_type": "markdown",
   "id": "c07e4b62-4a45-440c-b992-8a36317ab3bd",
   "metadata": {},
   "source": [
    "#### Summary of Error Types"
   ]
  },
  {
   "cell_type": "markdown",
   "id": "6b1e206c-030f-4c43-8287-c2597073b60b",
   "metadata": {},
   "source": [
    "- `ClassError`: detection with IOU > `pos_thresh` and NOT class match\n",
    "- `BoxError`: detection with `bg_thresh` < IOU < `pos_thresh` and class match\n",
    "    - necessary to distinguish from hallucination\n",
    "    - assuming that the intent of the model was to draw a box around an existing ground truth target, but failed to do so accurately\n",
    "- `OtherError`: detection with `bg_thresh` < IOU < `pos_thresh` and NOT class match\n",
    "- `DuplicateError`: detection with IOU > `pos_thresh` and class match which overlaps with another detection (also with IOU > `pos_thresh` and class match) with higher confidence\n",
    "- `BackgroundError`: detection with IOU < `bg_thresh` (class is irrelevant) i.e. hallucination\n",
    "- `MissedError`: ground truth with no detections with IOU > `bg_thresh`\n",
    "\n",
    "while a `TIDE` object seems to store error types (for each detection or ground truth should it exist), it does not seem to hold a metric for those errors unless a function call is made...\n",
    "\n",
    "see `tide.get_all_errors()` below"
   ]
  },
  {
   "cell_type": "markdown",
   "id": "fe994cea-62e7-4614-ab36-a2a6c9e9da80",
   "metadata": {},
   "source": [
    "note that `FalsePos` and `FalseNeg` in `special` seems to correspond to `Bkg` and `Miss` in `main` respectively - need to confirm whether this is always true...\n",
    "- the keys in `main[\"detection\"]` correspond to `short_name` attribute of error types"
   ]
  },
  {
   "cell_type": "code",
   "execution_count": 32,
   "id": "56fa7e65-9ed7-414d-af74-60d0d558a51d",
   "metadata": {},
   "outputs": [
    {
     "data": {
      "text/plain": [
       "{'main': {'detection': {'Cls': 0.0,\n",
       "   'Loc': 0.0,\n",
       "   'Both': 0.0,\n",
       "   'Dupe': 0.0,\n",
       "   'Bkg': 0.49504950495051503,\n",
       "   'Miss': 13.641364136413642}},\n",
       " 'special': {'detection': {'FalsePos': 0.49504950495051503,\n",
       "   'FalseNeg': 13.641364136413642}}}"
      ]
     },
     "execution_count": 32,
     "metadata": {},
     "output_type": "execute_result"
    }
   ],
   "source": [
    "tide.get_all_errors()"
   ]
  },
  {
   "cell_type": "code",
   "execution_count": 44,
   "id": "00a7c81a-2c35-4683-be1d-e3aae1f4661c",
   "metadata": {},
   "outputs": [],
   "source": [
    "# check keys in tide result\n",
    "data_detection_2 = tidecv.data.Data(name=\"detection_2\")\n",
    "for y, y_pred in zip(s.y, s.y_pred_adv):\n",
    "    image_id = y[\"image_id\"][0]  # assume image_id is the same per image\n",
    "    armory_to_tide_detection(y_pred, image_id, data_detection_2)"
   ]
  },
  {
   "cell_type": "code",
   "execution_count": 45,
   "id": "c1387d66-0b2b-44ff-8c0c-b2061034cce2",
   "metadata": {},
   "outputs": [],
   "source": [
    "tide_2 = TIDE()\n",
    "tide_2.evaluate_range(data_ground_truth, data_detection_2, mode=TIDE.BOX)"
   ]
  },
  {
   "cell_type": "code",
   "execution_count": 46,
   "id": "ad97f8a7-0f5c-4cfe-83cc-6bc5e14ab162",
   "metadata": {},
   "outputs": [
    {
     "data": {
      "text/plain": [
       "{'pos_thresh': 0.5,\n",
       " 'bg_thresh': 0.1,\n",
       " 'mode': 'bbox',\n",
       " 'pos_thresh_int': 50,\n",
       " 'runs': {'detection_2': <tidecv.quantify.TIDERun at 0x7f72885205b0>},\n",
       " 'run_thresholds': {'detection_2': [<tidecv.quantify.TIDERun at 0x7f72885205b0>,\n",
       "   <tidecv.quantify.TIDERun at 0x7f7288520580>,\n",
       "   <tidecv.quantify.TIDERun at 0x7f72882a1eb0>,\n",
       "   <tidecv.quantify.TIDERun at 0x7f72882a1940>,\n",
       "   <tidecv.quantify.TIDERun at 0x7f72806bb310>,\n",
       "   <tidecv.quantify.TIDERun at 0x7f72806bb5e0>,\n",
       "   <tidecv.quantify.TIDERun at 0x7f72806bb220>,\n",
       "   <tidecv.quantify.TIDERun at 0x7f72806bb430>,\n",
       "   <tidecv.quantify.TIDERun at 0x7f72806a9a90>,\n",
       "   <tidecv.quantify.TIDERun at 0x7f72806bb550>]},\n",
       " 'run_main_errors': {},\n",
       " 'run_special_errors': {},\n",
       " 'qualifiers': OrderedDict(),\n",
       " 'plotter': <tidecv.plotting.Plotter at 0x7f7288520550>}"
      ]
     },
     "execution_count": 46,
     "metadata": {},
     "output_type": "execute_result"
    }
   ],
   "source": [
    "# note that one of the key name depends on data_detection_2.name\n",
    "tide_2.__dict__"
   ]
  },
  {
   "cell_type": "markdown",
   "id": "da71fb8c-5427-4c29-a2ef-86aba1bbb144",
   "metadata": {},
   "source": [
    "#### Notion of Oracles"
   ]
  },
  {
   "cell_type": "markdown",
   "id": "e3658630-b950-4b4b-89e7-9b74c60ee138",
   "metadata": {},
   "source": [
    "fix a particular type of error and see how mAP improves with `pos_thresh=0.5`?\n",
    "- Classification Oracle:\n",
    "    - correct class\n",
    "    - if first step results in duplicate error, suppress the lower scoring detection\n",
    "        - suppress how?\n",
    "        - considering language in the paper, might mean to just remove the said detection in this case\n",
    "- Localization Oracle:\n",
    "    - correct box\n",
    "    - if first step results in duplicate error, suppress the lower scoring detection\n",
    "        - suppress how?\n",
    "- Both Cls and Loc Oracle:\n",
    "    - suppress false positive detection\n",
    "        - rationale was that we cannot be sure which ground truth the detector was trying to match, but is that always true?\n",
    "        - the rationale seems to imply there is more than one ground truth to which a given detection has `bg_thresh` < IOU < `pos_thresh`, but if there's only one ground truth for which the detection has `bg_thresh` < IOU < `pos_thresh`, we could correct it\n",
    "- Duplicate Detection Oracle:\n",
    "    - suppress duplicate detection\n",
    "- Background Oracle:\n",
    "    - suppress hallucinated background detection\n",
    "- Missed GT Oracle:\n",
    "    - reduce number of ground truth by number of missed ground truth\n",
    "    \n",
    "the reference also makes a note of binning errors differently and defining the following Oracles (consider whether the results of the previous cell are consistent with the bullet points):\n",
    "- False Positive Oracle: suppress all false positive detections\n",
    "- False Negative Oracle: set number of ground truth to number of true positive detections\n",
    "\n",
    "how the numbers for `main` and `special` relate is still unclear, but additional quotes from the reference may be helpful:\n",
    "- While the previously defined types fully account for all error in the model, how the errors are defined doesn’t clearly delineate false positive and negative errors (since cls, loc, and missed errors can all capture false negatives)"
   ]
  },
  {
   "cell_type": "code",
   "execution_count": 37,
   "id": "6519b835-ee45-4b27-a9b9-649547914d6b",
   "metadata": {},
   "outputs": [
    {
     "data": {
      "text/plain": [
       "{'pos_thresh': 0.5,\n",
       " 'bg_thresh': 0.1,\n",
       " 'mode': 'bbox',\n",
       " 'pos_thresh_int': 50,\n",
       " 'runs': {'detection': <tidecv.quantify.TIDERun at 0x7f7288578400>},\n",
       " 'run_thresholds': {'detection': [<tidecv.quantify.TIDERun at 0x7f7288578400>,\n",
       "   <tidecv.quantify.TIDERun at 0x7f7288563ca0>,\n",
       "   <tidecv.quantify.TIDERun at 0x7f7288780c70>,\n",
       "   <tidecv.quantify.TIDERun at 0x7f7288780dc0>,\n",
       "   <tidecv.quantify.TIDERun at 0x7f7288780ee0>,\n",
       "   <tidecv.quantify.TIDERun at 0x7f72887800d0>,\n",
       "   <tidecv.quantify.TIDERun at 0x7f7288780070>,\n",
       "   <tidecv.quantify.TIDERun at 0x7f72885729d0>,\n",
       "   <tidecv.quantify.TIDERun at 0x7f7288572d90>,\n",
       "   <tidecv.quantify.TIDERun at 0x7f7288572820>]},\n",
       " 'run_main_errors': {},\n",
       " 'run_special_errors': {},\n",
       " 'qualifiers': OrderedDict(),\n",
       " 'plotter': <tidecv.plotting.Plotter at 0x7f72885639a0>}"
      ]
     },
     "execution_count": 37,
     "metadata": {},
     "output_type": "execute_result"
    }
   ],
   "source": [
    "# checking after running tide.get_all_errors()\n",
    "tide.__dict__"
   ]
  },
  {
   "cell_type": "code",
   "execution_count": 38,
   "id": "8636555d-80d7-4df5-8ecb-0b5f7887eeae",
   "metadata": {},
   "outputs": [
    {
     "name": "stdout",
     "output_type": "stream",
     "text": [
      "run_name detection NOT in tide.run_main_errors\n"
     ]
    }
   ],
   "source": [
    "for run_name, run in tide.runs.items():\n",
    "    if run_name in tide.run_main_errors:\n",
    "        print(f\"run_name {run_name} in tide.run_main_errors\")\n",
    "    else:\n",
    "        print(f\"run_name {run_name} NOT in tide.run_main_errors\")"
   ]
  },
  {
   "cell_type": "markdown",
   "id": "f0831583-13c1-433f-8f75-973bcee482b6",
   "metadata": {},
   "source": [
    "### Test New Output for `object_detection_mAP_tide`"
   ]
  },
  {
   "cell_type": "code",
   "execution_count": 1,
   "id": "1e4b2559-5b8c-41cc-9dff-4d5f664962d4",
   "metadata": {},
   "outputs": [
    {
     "name": "stdout",
     "output_type": "stream",
     "text": [
      "2022-11-11 16:07:40  0s \u001b[1mINFO    \u001b[0m \u001b[36marmory.delayed_imports\u001b[0m:\u001b[36m<module>\u001b[0m:\u001b[36m7\u001b[0m Importing and configuring torch, tensorflow, and art, if available. This may take some time.\n",
      "2022-11-11 16:07:42  2s \u001b[1mINFO    \u001b[0m \u001b[36marmory.delayed_imports\u001b[0m:\u001b[36m<module>\u001b[0m:\u001b[36m30\u001b[0m Setting tf.config.experimental.set_memory_growth to True on all GPUs\n",
      "2022-11-11 16:07:42  2s \u001b[1mINFO    \u001b[0m \u001b[36mart.config\u001b[0m:\u001b[36mset_data_path\u001b[0m:\u001b[36m55\u001b[0m set ART_DATA_PATH to /tmp/.art/data\n",
      "2022-11-11 16:07:43  2s \u001b[1mINFO    \u001b[0m \u001b[36mart.config\u001b[0m:\u001b[36mset_data_path\u001b[0m:\u001b[36m55\u001b[0m set ART_DATA_PATH to /armory/saved_models/art\n",
      "2022-11-11 16:07:43  3s \u001b[1mINFO    \u001b[0m \u001b[36marmory.scenarios.main\u001b[0m:\u001b[36m_scenario_setup\u001b[0m:\u001b[36m37\u001b[0m this repo is being updated\n",
      "2022-11-11 16:07:43  3s \u001b[31m\u001b[1mERROR   \u001b[0m \u001b[36marmory.scenarios.main\u001b[0m:\u001b[36m_scenario_setup\u001b[0m:\u001b[36m44\u001b[0m eval_id not in config. Inserting current timestamp 1668182863.553005\n",
      "2022-11-11 16:07:43  3s \u001b[1mINFO    \u001b[0m \u001b[36marmory.scenarios.main\u001b[0m:\u001b[36m_scenario_setup\u001b[0m:\u001b[36m52\u001b[0m armory outputs and logs will be written to /armory/outputs/1668182863.553005\n",
      "2022-11-11 16:07:44  3s \u001b[1mINFO    \u001b[0m \u001b[36marmory.data.utils\u001b[0m:\u001b[36mmaybe_download_weights_from_s3\u001b[0m:\u001b[36m47\u001b[0m Using available carla_rgb_weights_eval5.pt in Armory `saved_model_dir`\n",
      "2022-11-11 16:07:48  7s \u001b[1mINFO    \u001b[0m \u001b[36marmory.scenarios.scenario\u001b[0m:\u001b[36mload_dataset\u001b[0m:\u001b[36m205\u001b[0m Loading test dataset carla_obj_det_dev...\n"
     ]
    }
   ],
   "source": [
    "from armory.scenarios.main import get as get_scenario # restarted kernel\n",
    "\n",
    "s = get_scenario(\n",
    "    \"/armory/tmp/2022-11-03T180812.020999/carla_obj_det_adversarialpatch_undefended.json\",\n",
    "    # num_eval_batches=1,\n",
    "    num_eval_batches=2,\n",
    ").load()"
   ]
  },
  {
   "cell_type": "code",
   "execution_count": 2,
   "id": "11bed069-c23a-4f96-98c6-3646ff82f484",
   "metadata": {
    "tags": []
   },
   "outputs": [
    {
     "data": {
      "application/vnd.jupyter.widget-view+json": {
       "model_id": "8f04b65f23b74921818609ad5b9fa69e",
       "version_major": 2,
       "version_minor": 0
      },
      "text/plain": [
       "Adversarial Patch PyTorch:   0%|          | 0/5 [00:00<?, ?it/s]"
      ]
     },
     "metadata": {},
     "output_type": "display_data"
    },
    {
     "name": "stderr",
     "output_type": "stream",
     "text": [
      "/opt/conda/lib/python3.8/site-packages/torchvision/transforms/functional.py:404: UserWarning: Argument interpolation should be of type InterpolationMode instead of int. Please, use InterpolationMode enum.\n",
      "  warnings.warn(\n",
      "/opt/conda/lib/python3.8/site-packages/torchvision/transforms/functional.py:654: UserWarning: Argument interpolation should be of type InterpolationMode instead of int. Please, use InterpolationMode enum.\n",
      "  warnings.warn(\n",
      "/opt/conda/lib/python3.8/site-packages/torch/functional.py:445: UserWarning: torch.meshgrid: in an upcoming release, it will be required to pass the indexing argument. (Triggered internally at  /opt/conda/conda-bld/pytorch_1640811806235/work/aten/src/ATen/native/TensorShape.cpp:2157.)\n",
      "  return _VF.meshgrid(tensors, **kwargs)  # type: ignore[attr-defined]\n"
     ]
    },
    {
     "data": {
      "application/vnd.jupyter.widget-view+json": {
       "model_id": "4cd099c3f4714f9484ef330ab4ec8e7f",
       "version_major": 2,
       "version_minor": 0
      },
      "text/plain": [
       "Adversarial Patch PyTorch:   0%|          | 0/5 [00:00<?, ?it/s]"
      ]
     },
     "metadata": {},
     "output_type": "display_data"
    }
   ],
   "source": [
    "s.next()\n",
    "s.run_attack()\n",
    "s.next()\n",
    "s.run_attack()"
   ]
  },
  {
   "cell_type": "code",
   "execution_count": 3,
   "id": "019d45c2-240f-4307-9d56-6926e85a1dac",
   "metadata": {},
   "outputs": [
    {
     "name": "stdout",
     "output_type": "stream",
     "text": [
      "2022-11-11 16:07:56 15s \u001b[33m\u001b[1mWARNING \u001b[0m \u001b[36marmory.instrument.instrument\u001b[0m:\u001b[36mfinalize\u001b[0m:\u001b[36m590\u001b[0m Meter 'benign_input_to_carla_od_AP_per_class' was never measured. The following args were never set: ['scenario.y_pred']\n",
      "{1: 0.7, 2: 0.82}\n",
      "2022-11-11 16:07:56 15s \u001b[32m\u001b[1mSUCCESS \u001b[0m \u001b[36marmory.instrument.config\u001b[0m:\u001b[36m_write\u001b[0m:\u001b[36m230\u001b[0m adversarial_carla_od_AP_per_class on adversarial examples w.r.t. ground truth labels: {'mean': 0.76, 'class': {1: 0.7, 2: 0.82}}\n",
      "2022-11-11 16:07:56 15s \u001b[33m\u001b[1mWARNING \u001b[0m \u001b[36marmory.instrument.instrument\u001b[0m:\u001b[36mfinalize\u001b[0m:\u001b[36m590\u001b[0m Meter 'input_to_benign_carla_od_disappearance_rate' was never measured. The following args were never set: ['scenario.y_pred']\n",
      "2022-11-11 16:07:56 15s \u001b[32m\u001b[1mSUCCESS \u001b[0m \u001b[36marmory.instrument.config\u001b[0m:\u001b[36m_write\u001b[0m:\u001b[36m230\u001b[0m adversarial_carla_od_disappearance_rate on adversarial examples w.r.t. ground truth labels: 30.71%\n",
      "2022-11-11 16:07:56 15s \u001b[33m\u001b[1mWARNING \u001b[0m \u001b[36marmory.instrument.instrument\u001b[0m:\u001b[36mfinalize\u001b[0m:\u001b[36m590\u001b[0m Meter 'input_to_benign_carla_od_hallucinations_per_image' was never measured. The following args were never set: ['scenario.y_pred']\n",
      "2022-11-11 16:07:56 15s \u001b[32m\u001b[1mSUCCESS \u001b[0m \u001b[36marmory.instrument.config\u001b[0m:\u001b[36m_write\u001b[0m:\u001b[36m230\u001b[0m adversarial_carla_od_hallucinations_per_image on adversarial examples w.r.t. ground truth labels: 6.0\n",
      "2022-11-11 16:07:56 15s \u001b[33m\u001b[1mWARNING \u001b[0m \u001b[36marmory.instrument.instrument\u001b[0m:\u001b[36mfinalize\u001b[0m:\u001b[36m590\u001b[0m Meter 'input_to_benign_carla_od_misclassification_rate' was never measured. The following args were never set: ['scenario.y_pred']\n",
      "2022-11-11 16:07:56 15s \u001b[32m\u001b[1mSUCCESS \u001b[0m \u001b[36marmory.instrument.config\u001b[0m:\u001b[36m_write\u001b[0m:\u001b[36m230\u001b[0m adversarial_carla_od_misclassification_rate on adversarial examples w.r.t. ground truth labels: 0.00%\n",
      "2022-11-11 16:07:56 15s \u001b[33m\u001b[1mWARNING \u001b[0m \u001b[36marmory.instrument.instrument\u001b[0m:\u001b[36mfinalize\u001b[0m:\u001b[36m590\u001b[0m Meter 'input_to_benign_carla_od_true_positive_rate' was never measured. The following args were never set: ['scenario.y_pred']\n",
      "2022-11-11 16:07:56 15s \u001b[32m\u001b[1mSUCCESS \u001b[0m \u001b[36marmory.instrument.config\u001b[0m:\u001b[36m_write\u001b[0m:\u001b[36m230\u001b[0m adversarial_carla_od_true_positive_rate on adversarial examples w.r.t. ground truth labels: 69.29%\n",
      "2022-11-11 16:07:56 15s \u001b[33m\u001b[1mWARNING \u001b[0m \u001b[36marmory.instrument.instrument\u001b[0m:\u001b[36mfinalize\u001b[0m:\u001b[36m590\u001b[0m Meter 'input_to_benign_object_detection_mAP_tide' was never measured. The following args were never set: ['scenario.y_pred']\n",
      "len(y[\"labels\"]): 10, len(data_ground_truth.annotations): 10\n",
      "len(y_pred[\"labels\"]): 65, len(data_detection.annotations): 65\n",
      "len(y[\"labels\"]): 14, len(data_ground_truth.annotations): 24\n",
      "len(y_pred[\"labels\"]): 40, len(data_detection.annotations): 105\n",
      "-- detection --\n",
      "\n",
      "bbox AP @ [50-95]: 41.03\n",
      "                                         bbox AP @ [50-95]\n",
      "===================================================================================================\n",
      "  Thresh       50       55       60       65       70       75       80       85       90       95  \n",
      "---------------------------------------------------------------------------------------------------\n",
      "    AP      78.57    73.59    73.59    64.88    36.23    33.95    19.89    15.40    14.16     0.00  \n",
      "===================================================================================================\n",
      "\n",
      "                         Main Errors\n",
      "=============================================================\n",
      "  Type      Cls      Loc     Both     Dupe      Bkg     Miss  \n",
      "-------------------------------------------------------------\n",
      "   dAP     0.00     2.96     3.39     0.21     2.33     7.08  \n",
      "=============================================================\n",
      "\n",
      "        Special Error\n",
      "=============================\n",
      "  Type   FalsePos   FalseNeg  \n",
      "-----------------------------\n",
      "   dAP      10.54      10.23  \n",
      "=============================\n",
      "\n",
      "2022-11-11 16:07:56 16s \u001b[32m\u001b[1mSUCCESS \u001b[0m \u001b[36marmory.instrument.config\u001b[0m:\u001b[36m_write\u001b[0m:\u001b[36m230\u001b[0m adversarial_object_detection_mAP_tide on adversarial examples w.r.t. ground truth labels: {'mAP': {0.5: 78.56982126784106, 0.55: 73.59146628948605, 0.6: 73.59146628948605, 0.65: 64.88488134527742, 0.7: 36.228980040861245, 0.75: 33.94821625019647, 0.8: 19.892739273927397, 0.85: 15.401540154015404, 0.9: 14.163916391639166, 0.95: 0.0}, 'errors': {'main': {'Cls': 0.0, 'Loc': 2.9612961296129185, 'Both': 3.3865886588659038, 'Dupe': 0.20627062706266486, 'Bkg': 2.333269041189766, 'Miss': 7.075350392182088}, 'special': {'FalsePos': 10.539089623248046, 'FalseNeg': 10.225665423685257}}}\n",
      "2022-11-11 16:07:56 16s \u001b[33m\u001b[1mWARNING \u001b[0m \u001b[36marmory.instrument.instrument\u001b[0m:\u001b[36mfinalize\u001b[0m:\u001b[36m590\u001b[0m Meter 'adversarial_input_to_carla_od_AP_per_class_wrt_benign_preds' was never measured. The following args were never set: ['scenario.y_pred']\n",
      "2022-11-11 16:07:56 16s \u001b[33m\u001b[1mWARNING \u001b[0m \u001b[36marmory.instrument.instrument\u001b[0m:\u001b[36mfinalize\u001b[0m:\u001b[36m590\u001b[0m Meter 'input_to_adversarial_carla_od_disappearance_rate_wrt_benign_preds' was never measured. The following args were never set: ['scenario.y_pred']\n",
      "2022-11-11 16:07:56 16s \u001b[33m\u001b[1mWARNING \u001b[0m \u001b[36marmory.instrument.instrument\u001b[0m:\u001b[36mfinalize\u001b[0m:\u001b[36m590\u001b[0m Meter 'input_to_adversarial_carla_od_hallucinations_per_image_wrt_benign_preds' was never measured. The following args were never set: ['scenario.y_pred']\n",
      "2022-11-11 16:07:56 16s \u001b[33m\u001b[1mWARNING \u001b[0m \u001b[36marmory.instrument.instrument\u001b[0m:\u001b[36mfinalize\u001b[0m:\u001b[36m590\u001b[0m Meter 'input_to_adversarial_carla_od_misclassification_rate_wrt_benign_preds' was never measured. The following args were never set: ['scenario.y_pred']\n",
      "2022-11-11 16:07:56 16s \u001b[33m\u001b[1mWARNING \u001b[0m \u001b[36marmory.instrument.instrument\u001b[0m:\u001b[36mfinalize\u001b[0m:\u001b[36m590\u001b[0m Meter 'input_to_adversarial_carla_od_true_positive_rate_wrt_benign_preds' was never measured. The following args were never set: ['scenario.y_pred']\n",
      "2022-11-11 16:07:56 16s \u001b[33m\u001b[1mWARNING \u001b[0m \u001b[36marmory.instrument.instrument\u001b[0m:\u001b[36mfinalize\u001b[0m:\u001b[36m590\u001b[0m Meter 'input_to_adversarial_object_detection_mAP_tide_wrt_benign_preds' was never measured. The following args were never set: ['scenario.y_pred']\n",
      "2022-11-11 16:07:56 16s \u001b[33m\u001b[1mWARNING \u001b[0m \u001b[36marmory.instrument.export\u001b[0m:\u001b[36mfinalize\u001b[0m:\u001b[36m744\u001b[0m Meter 'pred_dict_exporter' was never measured. The following args were never set: ['scenario.y_pred']\n",
      "2022-11-11 16:07:56 16s \u001b[33m\u001b[1mWARNING \u001b[0m \u001b[36marmory.instrument.export\u001b[0m:\u001b[36mfinalize\u001b[0m:\u001b[36m657\u001b[0m Meter 'x_with_boxes_exporter' was never measured. The following args were never set: ['scenario.y_pred']\n",
      "2022-11-11 16:07:56 16s \u001b[33m\u001b[1mWARNING \u001b[0m \u001b[36marmory.instrument.export\u001b[0m:\u001b[36mfinalize\u001b[0m:\u001b[36m827\u001b[0m Meter 'coco_box_format_meter' was never measured. The following args were never set: ['scenario.y_pred']\n"
     ]
    },
    {
     "data": {
      "text/plain": [
       "{'perturbation_l0': [array([14418.]), array([5166.])],\n",
       " 'adversarial_carla_od_AP_per_class': [{'mean': 0.76,\n",
       "   'class': {1: 0.7, 2: 0.82}}],\n",
       " 'adversarial_carla_od_disappearance_rate': [[0.4, 0.2142857142857143]],\n",
       " 'adversarial_carla_od_hallucinations_per_image': [[8, 4]],\n",
       " 'adversarial_carla_od_misclassification_rate': [[0.0, 0.0]],\n",
       " 'adversarial_carla_od_true_positive_rate': [[0.6, 0.7857142857142857]],\n",
       " 'adversarial_object_detection_mAP_tide': [{'mAP': {0.5: 78.56982126784106,\n",
       "    0.55: 73.59146628948605,\n",
       "    0.6: 73.59146628948605,\n",
       "    0.65: 64.88488134527742,\n",
       "    0.7: 36.228980040861245,\n",
       "    0.75: 33.94821625019647,\n",
       "    0.8: 19.892739273927397,\n",
       "    0.85: 15.401540154015404,\n",
       "    0.9: 14.163916391639166,\n",
       "    0.95: 0.0},\n",
       "   'errors': {'main': {'Cls': 0.0,\n",
       "     'Loc': 2.9612961296129185,\n",
       "     'Both': 3.3865886588659038,\n",
       "     'Dupe': 0.20627062706266486,\n",
       "     'Bkg': 2.333269041189766,\n",
       "     'Miss': 7.075350392182088},\n",
       "    'special': {'FalsePos': 10.539089623248046,\n",
       "     'FalseNeg': 10.225665423685257}}}],\n",
       " 'perturbation_mean_l0': [9792.0],\n",
       " 'compute': {}}"
      ]
     },
     "execution_count": 3,
     "metadata": {},
     "output_type": "execute_result"
    }
   ],
   "source": [
    "s.finalize_results()\n",
    "s.results"
   ]
  },
  {
   "cell_type": "code",
   "execution_count": null,
   "id": "cc181cd9-e325-422d-a533-2a3faea7e62d",
   "metadata": {},
   "outputs": [],
   "source": []
  }
 ],
 "metadata": {
  "kernelspec": {
   "display_name": "Python 3",
   "language": "python",
   "name": "python3"
  },
  "language_info": {
   "codemirror_mode": {
    "name": "ipython",
    "version": 3
   },
   "file_extension": ".py",
   "mimetype": "text/x-python",
   "name": "python",
   "nbconvert_exporter": "python",
   "pygments_lexer": "ipython3",
   "version": "3.8.10"
  }
 },
 "nbformat": 4,
 "nbformat_minor": 5
}
