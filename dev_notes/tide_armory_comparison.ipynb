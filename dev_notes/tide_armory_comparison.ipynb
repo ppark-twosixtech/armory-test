{
 "cells": [
  {
   "cell_type": "markdown",
   "id": "1edd48ac-4048-4428-ab88-4a614728c30e",
   "metadata": {
    "tags": []
   },
   "source": [
    "## Get Example Data from Scenario"
   ]
  },
  {
   "cell_type": "code",
   "execution_count": 1,
   "id": "d6891618-3ee3-4304-aa83-5a65bd608eba",
   "metadata": {},
   "outputs": [
    {
     "ename": "ModuleNotFoundError",
     "evalue": "No module named 'setuptools_scm'",
     "output_type": "error",
     "traceback": [
      "\u001b[0;31m\u001b[0m",
      "\u001b[0;31mModuleNotFoundError\u001b[0mTraceback (most recent call last)",
      "Input \u001b[0;32mIn [1]\u001b[0m, in \u001b[0;36m<cell line: 1>\u001b[0;34m()\u001b[0m\n\u001b[0;32m----> 1\u001b[0m \u001b[38;5;28;01mfrom\u001b[39;00m \u001b[38;5;21;01marmory\u001b[39;00m\u001b[38;5;21;01m.\u001b[39;00m\u001b[38;5;21;01mscenarios\u001b[39;00m\u001b[38;5;21;01m.\u001b[39;00m\u001b[38;5;21;01mmain\u001b[39;00m \u001b[38;5;28;01mimport\u001b[39;00m get \u001b[38;5;28;01mas\u001b[39;00m get_scenario \u001b[38;5;66;03m# restarted kernel\u001b[39;00m\n\u001b[1;32m      2\u001b[0m s \u001b[38;5;241m=\u001b[39m get_scenario(\u001b[38;5;124m\"\u001b[39m\u001b[38;5;124m/armory/tmp/2022-11-03T180812.020999/carla_obj_det_adversarialpatch_undefended.json\u001b[39m\u001b[38;5;124m\"\u001b[39m, num_eval_batches\u001b[38;5;241m=\u001b[39m\u001b[38;5;241m1\u001b[39m)\u001b[38;5;241m.\u001b[39mload()\n",
      "File \u001b[0;32m/workspace/armory/__init__.py:8\u001b[0m, in \u001b[0;36m<module>\u001b[0;34m\u001b[0m\n\u001b[1;32m      5\u001b[0m \u001b[38;5;28;01mfrom\u001b[39;00m \u001b[38;5;21;01mpathlib\u001b[39;00m \u001b[38;5;28;01mimport\u001b[39;00m Path\n\u001b[1;32m      7\u001b[0m \u001b[38;5;28;01mfrom\u001b[39;00m \u001b[38;5;21;01marmory\u001b[39;00m\u001b[38;5;21;01m.\u001b[39;00m\u001b[38;5;21;01mlogs\u001b[39;00m \u001b[38;5;28;01mimport\u001b[39;00m log\n\u001b[0;32m----> 8\u001b[0m \u001b[38;5;28;01mfrom\u001b[39;00m \u001b[38;5;21;01marmory\u001b[39;00m\u001b[38;5;21;01m.\u001b[39;00m\u001b[38;5;21;01mutils\u001b[39;00m \u001b[38;5;28;01mimport\u001b[39;00m version, typedef\n\u001b[1;32m     11\u001b[0m Config \u001b[38;5;241m=\u001b[39m typedef\u001b[38;5;241m.\u001b[39mConfig\n\u001b[1;32m     14\u001b[0m SRC_ROOT \u001b[38;5;241m=\u001b[39m Path(\u001b[38;5;18m__file__\u001b[39m)\u001b[38;5;241m.\u001b[39mparent\n",
      "File \u001b[0;32m/workspace/armory/utils/version.py:18\u001b[0m, in \u001b[0;36m<module>\u001b[0;34m\u001b[0m\n\u001b[1;32m     16\u001b[0m \u001b[38;5;28;01mimport\u001b[39;00m \u001b[38;5;21;01msite\u001b[39;00m\n\u001b[1;32m     17\u001b[0m \u001b[38;5;28;01mimport\u001b[39;00m \u001b[38;5;21;01mfunctools\u001b[39;00m\n\u001b[0;32m---> 18\u001b[0m \u001b[38;5;28;01mimport\u001b[39;00m \u001b[38;5;21;01msetuptools_scm\u001b[39;00m\n\u001b[1;32m     20\u001b[0m \u001b[38;5;28;01mfrom\u001b[39;00m \u001b[38;5;21;01mpathlib\u001b[39;00m \u001b[38;5;28;01mimport\u001b[39;00m Path\n\u001b[1;32m     22\u001b[0m \u001b[38;5;28;01mtry\u001b[39;00m:\n",
      "\u001b[0;31mModuleNotFoundError\u001b[0m: No module named 'setuptools_scm'"
     ]
    }
   ],
   "source": [
    "from armory.scenarios.main import get as get_scenario  # restarted kernel\n",
    "\n",
    "s = get_scenario(\n",
    "    \"/armory/tmp/2022-11-03T180812.020999/carla_obj_det_adversarialpatch_undefended.json\",\n",
    "    num_eval_batches=1,\n",
    ").load()"
   ]
  },
  {
   "cell_type": "markdown",
   "id": "61006335-671e-4af5-9856-bc0880a05560",
   "metadata": {},
   "source": [
    "`pip install setuptools_scm` then restarted kernel"
   ]
  },
  {
   "cell_type": "code",
   "execution_count": 1,
   "id": "3f7044ad-373c-4c1d-9082-614023a52142",
   "metadata": {},
   "outputs": [
    {
     "name": "stdout",
     "output_type": "stream",
     "text": [
      "2022-11-03 18:40:54  0s \u001b[1mINFO    \u001b[0m \u001b[36marmory.delayed_imports\u001b[0m:\u001b[36m<module>\u001b[0m:\u001b[36m7\u001b[0m Importing and configuring torch, tensorflow, and art, if available. This may take some time.\n",
      "2022-11-03 18:40:57  3s \u001b[1mINFO    \u001b[0m \u001b[36marmory.delayed_imports\u001b[0m:\u001b[36m<module>\u001b[0m:\u001b[36m30\u001b[0m Setting tf.config.experimental.set_memory_growth to True on all GPUs\n",
      "2022-11-03 18:40:57  3s \u001b[1mINFO    \u001b[0m \u001b[36mart.config\u001b[0m:\u001b[36mset_data_path\u001b[0m:\u001b[36m55\u001b[0m set ART_DATA_PATH to /tmp/.art/data\n",
      "2022-11-03 18:40:58  3s \u001b[1mINFO    \u001b[0m \u001b[36mart.config\u001b[0m:\u001b[36mset_data_path\u001b[0m:\u001b[36m55\u001b[0m set ART_DATA_PATH to /armory/saved_models/art\n",
      "2022-11-03 18:40:58  4s \u001b[31m\u001b[1mERROR   \u001b[0m \u001b[36marmory.scenarios.main\u001b[0m:\u001b[36m_scenario_setup\u001b[0m:\u001b[36m41\u001b[0m eval_id not in config. Inserting current timestamp 1667500858.4903393\n",
      "2022-11-03 18:40:58  4s \u001b[1mINFO    \u001b[0m \u001b[36marmory.scenarios.main\u001b[0m:\u001b[36m_scenario_setup\u001b[0m:\u001b[36m49\u001b[0m armory outputs and logs will be written to /armory/outputs/1667500858.4903393\n",
      "2022-11-03 18:40:58  4s \u001b[1mINFO    \u001b[0m \u001b[36marmory.data.utils\u001b[0m:\u001b[36mmaybe_download_weights_from_s3\u001b[0m:\u001b[36m49\u001b[0m carla_rgb_weights_eval5.pt not found in Armory `saved_model_dir`. Attempting to pull weights from S3\n",
      "2022-11-03 18:40:58  4s \u001b[1mINFO    \u001b[0m \u001b[36marmory.data.utils\u001b[0m:\u001b[36mdownload_file_from_s3\u001b[0m:\u001b[36m130\u001b[0m downloading S3 data file armory-public-data/model-weights/carla_rgb_weights_eval5.pt\n",
      "2022-11-03 18:41:20 25s \u001b[1mINFO    \u001b[0m \u001b[36marmory.scenarios.scenario\u001b[0m:\u001b[36mload_dataset\u001b[0m:\u001b[36m205\u001b[0m Loading test dataset carla_obj_det_dev...\n"
     ]
    }
   ],
   "source": [
    "from armory.scenarios.main import get as get_scenario  # restarted kernel\n",
    "\n",
    "s = get_scenario(\n",
    "    \"/armory/tmp/2022-11-03T180812.020999/carla_obj_det_adversarialpatch_undefended.json\",\n",
    "    num_eval_batches=1,\n",
    ").load()"
   ]
  },
  {
   "cell_type": "markdown",
   "id": "038c904b-f3ac-4278-ba71-863978dbb91d",
   "metadata": {},
   "source": [
    "updated `scenarios/main.py` and restarted kernel"
   ]
  },
  {
   "cell_type": "code",
   "execution_count": 1,
   "id": "edccbe23-0c16-4ddc-92a6-9b19b2b80fc3",
   "metadata": {},
   "outputs": [
    {
     "name": "stdout",
     "output_type": "stream",
     "text": [
      "2022-11-03 21:38:29  0s \u001b[1mINFO    \u001b[0m \u001b[36marmory.delayed_imports\u001b[0m:\u001b[36m<module>\u001b[0m:\u001b[36m7\u001b[0m Importing and configuring torch, tensorflow, and art, if available. This may take some time.\n",
      "2022-11-03 21:38:31  2s \u001b[1mINFO    \u001b[0m \u001b[36marmory.delayed_imports\u001b[0m:\u001b[36m<module>\u001b[0m:\u001b[36m30\u001b[0m Setting tf.config.experimental.set_memory_growth to True on all GPUs\n",
      "2022-11-03 21:38:31  2s \u001b[1mINFO    \u001b[0m \u001b[36mart.config\u001b[0m:\u001b[36mset_data_path\u001b[0m:\u001b[36m55\u001b[0m set ART_DATA_PATH to /tmp/.art/data\n",
      "2022-11-03 21:38:32  2s \u001b[1mINFO    \u001b[0m \u001b[36mart.config\u001b[0m:\u001b[36mset_data_path\u001b[0m:\u001b[36m55\u001b[0m set ART_DATA_PATH to /armory/saved_models/art\n",
      "2022-11-03 21:38:32  3s \u001b[1mINFO    \u001b[0m \u001b[36marmory.scenarios.main\u001b[0m:\u001b[36m_scenario_setup\u001b[0m:\u001b[36m37\u001b[0m this repo is being updated\n",
      "2022-11-03 21:38:32  3s \u001b[31m\u001b[1mERROR   \u001b[0m \u001b[36marmory.scenarios.main\u001b[0m:\u001b[36m_scenario_setup\u001b[0m:\u001b[36m42\u001b[0m eval_id not in config. Inserting current timestamp 1667511512.6598268\n",
      "2022-11-03 21:38:32  3s \u001b[1mINFO    \u001b[0m \u001b[36marmory.scenarios.main\u001b[0m:\u001b[36m_scenario_setup\u001b[0m:\u001b[36m50\u001b[0m armory outputs and logs will be written to /armory/outputs/1667511512.6598268\n",
      "2022-11-03 21:38:32  3s \u001b[1mINFO    \u001b[0m \u001b[36marmory.data.utils\u001b[0m:\u001b[36mmaybe_download_weights_from_s3\u001b[0m:\u001b[36m47\u001b[0m Using available carla_rgb_weights_eval5.pt in Armory `saved_model_dir`\n",
      "2022-11-03 21:38:36  6s \u001b[1mINFO    \u001b[0m \u001b[36marmory.scenarios.scenario\u001b[0m:\u001b[36mload_dataset\u001b[0m:\u001b[36m205\u001b[0m Loading test dataset carla_obj_det_dev...\n"
     ]
    }
   ],
   "source": [
    "from armory.scenarios.main import get as get_scenario  # restarted kernel\n",
    "\n",
    "s = get_scenario(\n",
    "    \"/armory/tmp/2022-11-03T180812.020999/carla_obj_det_adversarialpatch_undefended.json\",\n",
    "    num_eval_batches=1,\n",
    ").load()"
   ]
  },
  {
   "cell_type": "code",
   "execution_count": 2,
   "id": "3177e48b-5cc1-4b47-90e3-35d341b3f14f",
   "metadata": {},
   "outputs": [
    {
     "data": {
      "text/plain": [
       "dict_keys(['_description', 'adhoc', 'attack', 'dataset', 'defense', 'metric', 'model', 'scenario', 'sysconfig', 'eval_id'])"
      ]
     },
     "execution_count": 2,
     "metadata": {},
     "output_type": "execute_result"
    }
   ],
   "source": [
    "s.config.keys()"
   ]
  },
  {
   "cell_type": "code",
   "execution_count": 3,
   "id": "7cdb6ff0-cd0c-43b2-843c-47818adca144",
   "metadata": {},
   "outputs": [],
   "source": [
    "s.config[\"attack\"][\"kwargs\"][\"max_iter\"] = 5\n",
    "s.config[\"metric\"][\"record_metric_per_sample\"] = True\n",
    "s.config[\"scenario\"][\"export_batches\"] = True"
   ]
  },
  {
   "cell_type": "code",
   "execution_count": 5,
   "id": "dfe706c2-7053-49ac-b54a-9555fcc41483",
   "metadata": {},
   "outputs": [
    {
     "data": {
      "application/vnd.jupyter.widget-view+json": {
       "model_id": "edad48a7b9ee499e8d1b47b2d16b4ac9",
       "version_major": 2,
       "version_minor": 0
      },
      "text/plain": [
       "Adversarial Patch PyTorch:   0%|          | 0/5 [00:00<?, ?it/s]"
      ]
     },
     "metadata": {},
     "output_type": "display_data"
    },
    {
     "name": "stderr",
     "output_type": "stream",
     "text": [
      "/opt/conda/lib/python3.8/site-packages/torchvision/transforms/functional.py:404: UserWarning: Argument interpolation should be of type InterpolationMode instead of int. Please, use InterpolationMode enum.\n",
      "  warnings.warn(\n",
      "/opt/conda/lib/python3.8/site-packages/torchvision/transforms/functional.py:654: UserWarning: Argument interpolation should be of type InterpolationMode instead of int. Please, use InterpolationMode enum.\n",
      "  warnings.warn(\n",
      "/opt/conda/lib/python3.8/site-packages/torch/functional.py:445: UserWarning: torch.meshgrid: in an upcoming release, it will be required to pass the indexing argument. (Triggered internally at  /opt/conda/conda-bld/pytorch_1640811806235/work/aten/src/ATen/native/TensorShape.cpp:2157.)\n",
      "  return _VF.meshgrid(tensors, **kwargs)  # type: ignore[attr-defined]\n"
     ]
    }
   ],
   "source": [
    "s.load_attack()\n",
    "s.next()\n",
    "# s.next() # num_eval_batches=1 so threw an error\n",
    "s.run_attack()"
   ]
  },
  {
   "cell_type": "code",
   "execution_count": null,
   "id": "04e2eda0-6b51-432a-bbff-1a08da244fae",
   "metadata": {},
   "outputs": [],
   "source": [
    "# s.finalize_results() # unclear whether this is necessary"
   ]
  },
  {
   "cell_type": "code",
   "execution_count": 10,
   "id": "9b073849-f82c-4964-b310-5115819c53ce",
   "metadata": {},
   "outputs": [],
   "source": [
    "result = s.prepare_results()"
   ]
  },
  {
   "cell_type": "code",
   "execution_count": 12,
   "id": "502be8e4-481b-408f-90b7-d8b943896387",
   "metadata": {},
   "outputs": [
    {
     "data": {
      "text/plain": [
       "{'adversarial_carla_od_AP_per_class': [{'mean': 0.72,\n",
       "   'class': {1: 0.8, 2: 0.64}}],\n",
       " 'adversarial_mean_carla_od_disappearance_rate': [0.4],\n",
       " 'adversarial_mean_carla_od_hallucinations_per_image': [5.0],\n",
       " 'adversarial_mean_carla_od_misclassification_rate': [0.0],\n",
       " 'adversarial_mean_carla_od_true_positive_rate': [0.6],\n",
       " 'perturbation_mean_l0': [14418.0],\n",
       " 'compute': {}}"
      ]
     },
     "execution_count": 12,
     "metadata": {},
     "output_type": "execute_result"
    }
   ],
   "source": [
    "result[\"results\"]"
   ]
  },
  {
   "cell_type": "code",
   "execution_count": 13,
   "id": "e1d717dd-0ced-4d44-80bd-9f7d4af3ae2f",
   "metadata": {},
   "outputs": [
    {
     "data": {
      "text/plain": [
       "{'means': True,\n",
       " 'perturbation': 'l0',\n",
       " 'record_metric_per_sample': True,\n",
       " 'task': ['carla_od_AP_per_class',\n",
       "  'carla_od_disappearance_rate',\n",
       "  'carla_od_hallucinations_per_image',\n",
       "  'carla_od_misclassification_rate',\n",
       "  'carla_od_true_positive_rate']}"
      ]
     },
     "execution_count": 13,
     "metadata": {},
     "output_type": "execute_result"
    }
   ],
   "source": [
    "s.config[\"metric\"]"
   ]
  },
  {
   "cell_type": "code",
   "execution_count": 16,
   "id": "f38c7651-ece6-46bf-9383-4204329210aa",
   "metadata": {
    "collapsed": true,
    "jupyter": {
     "outputs_hidden": true
    },
    "tags": []
   },
   "outputs": [
    {
     "data": {
      "text/plain": [
       "([{'area': array([  936,   385,   433,   602,   313,  1930,   558,  1074, 54479,\n",
       "          11805]),\n",
       "   'boxes': array([[ 917.,  464.,  955.,  527.],\n",
       "          [ 911.,  468.,  940.,  517.],\n",
       "          [ 771.,  467.,  788.,  518.],\n",
       "          [ 820.,  466.,  849.,  521.],\n",
       "          [ 795.,  465.,  810.,  517.],\n",
       "          [1199.,  464., 1237.,  552.],\n",
       "          [ 787.,  465.,  807.,  522.],\n",
       "          [1037.,  460., 1069.,  533.],\n",
       "          [   0.,  427.,  369.,  641.],\n",
       "          [ 346.,  478.,  523.,  582.]], dtype=float32),\n",
       "   'id': array([ 97,  98,  99, 100, 101, 102, 103, 105, 106, 109]),\n",
       "   'image_id': array([84190894, 84190894, 84190894, 84190894, 84190894, 84190894,\n",
       "          84190894, 84190894, 84190894, 84190894]),\n",
       "   'is_crowd': array([False,  True, False, False,  True, False, False, False, False,\n",
       "          False]),\n",
       "   'labels': array([1, 1, 1, 1, 1, 1, 1, 1, 2, 2])}],\n",
       " None,\n",
       " [{'boxes': array([[0.0000000e+00, 4.3134525e+02, 5.2687781e+02, 6.3399408e+02],\n",
       "          [1.1978916e+03, 4.6187845e+02, 1.2379799e+03, 5.5210156e+02],\n",
       "          [1.0417302e+03, 4.5924600e+02, 1.0695027e+03, 5.3666235e+02],\n",
       "          [9.1506537e+02, 4.6233633e+02, 9.5412158e+02, 5.2707678e+02],\n",
       "          [8.1030023e+02, 4.8919330e+02, 8.4918658e+02, 5.1956152e+02],\n",
       "          [7.7306207e+02, 4.6917676e+02, 7.8523254e+02, 5.0835474e+02],\n",
       "          [7.8240472e+02, 4.6908841e+02, 8.0835120e+02, 5.2233398e+02],\n",
       "          [8.4630835e+02, 4.8625345e+02, 8.7848029e+02, 5.0255179e+02],\n",
       "          [7.7533063e+02, 4.6682202e+02, 7.9304272e+02, 5.2158282e+02],\n",
       "          [8.9149371e+02, 4.7114798e+02, 9.1962335e+02, 4.9197086e+02],\n",
       "          [7.8406329e+02, 4.8285104e+02, 8.6197827e+02, 5.2080872e+02],\n",
       "          [7.6938782e+02, 4.7315335e+02, 8.8752325e+02, 5.1412738e+02],\n",
       "          [8.4771436e+02, 4.7569675e+02, 8.8736505e+02, 5.0319260e+02],\n",
       "          [8.6080566e+02, 4.8553101e+02, 8.8475616e+02, 5.0421143e+02],\n",
       "          [8.0057233e+02, 4.8923743e+02, 8.1708539e+02, 5.1509924e+02],\n",
       "          [3.2915219e+02, 4.8139236e+02, 5.2215790e+02, 5.8132471e+02],\n",
       "          [1.2674547e+03, 4.8585046e+02, 1.2800000e+03, 5.1441382e+02],\n",
       "          [8.4659979e+02, 4.8125586e+02, 8.7694263e+02, 4.9549472e+02],\n",
       "          [8.1679358e+02, 4.7570309e+02, 9.2088922e+02, 5.0792380e+02],\n",
       "          [8.6468378e+02, 4.7154385e+02, 8.9004669e+02, 4.8434329e+02],\n",
       "          [7.8865094e+02, 4.8059247e+02, 8.2079852e+02, 5.1226221e+02],\n",
       "          [8.4481903e+02, 4.8582288e+02, 8.6050037e+02, 5.0392023e+02],\n",
       "          [8.6834412e+02, 4.7416760e+02, 8.8877582e+02, 4.9382199e+02],\n",
       "          [7.9437469e+02, 4.8803903e+02, 8.1145270e+02, 5.1950183e+02],\n",
       "          [8.2396771e+02, 4.7749295e+02, 8.8480206e+02, 5.1912250e+02],\n",
       "          [1.6667747e+02, 4.7249481e+02, 5.1948010e+02, 5.9573395e+02],\n",
       "          [7.8552350e+02, 4.7367587e+02, 8.2939062e+02, 5.2092523e+02],\n",
       "          [8.1874896e+02, 4.7826028e+02, 8.5198932e+02, 4.9172638e+02],\n",
       "          [8.4881067e+02, 4.7580115e+02, 8.8192249e+02, 4.9120926e+02],\n",
       "          [9.1301447e+02, 4.6642258e+02, 9.3288770e+02, 5.1653687e+02],\n",
       "          [8.1374200e+02, 4.7634479e+02, 8.4116229e+02, 4.8666843e+02],\n",
       "          [8.6730835e+02, 4.8033392e+02, 8.8710931e+02, 4.9952786e+02],\n",
       "          [7.9606299e+02, 4.8308554e+02, 8.1022192e+02, 5.2155762e+02],\n",
       "          [1.1961058e+00, 4.3087241e+02, 1.5616455e+02, 6.2035199e+02],\n",
       "          [7.9112866e+02, 4.6680698e+02, 8.1526721e+02, 4.9198209e+02],\n",
       "          [8.5058276e+02, 4.7796915e+02, 8.7068524e+02, 4.9241678e+02],\n",
       "          [7.9298102e+02, 4.8518839e+02, 8.3808228e+02, 5.1364362e+02],\n",
       "          [1.0766949e+03, 4.6593625e+02, 1.0979343e+03, 5.0130511e+02],\n",
       "          [8.8505951e+02, 4.6957721e+02, 9.5909857e+02, 5.2052960e+02],\n",
       "          [7.8435815e+02, 4.6958231e+02, 8.4512036e+02, 5.2287299e+02],\n",
       "          [7.8822296e+02, 4.7619281e+02, 8.1358868e+02, 4.9591818e+02],\n",
       "          [8.5065210e+02, 4.7235907e+02, 8.8069446e+02, 4.8594586e+02],\n",
       "          [8.5412964e+02, 4.7445065e+02, 8.7335895e+02, 4.8837363e+02],\n",
       "          [6.7186826e-01, 5.2130469e+02, 1.1463002e+01, 5.6038306e+02],\n",
       "          [8.6896259e+02, 4.6475635e+02, 8.9185077e+02, 4.7581754e+02],\n",
       "          [8.5772992e+02, 4.6796323e+02, 8.8514471e+02, 4.8259839e+02],\n",
       "          [7.9251190e+02, 4.6704617e+02, 8.1481824e+02, 4.7810919e+02],\n",
       "          [8.7293372e+02, 4.9016156e+02, 8.8935504e+02, 5.0588382e+02],\n",
       "          [8.1875439e+02, 4.7029453e+02, 8.3633252e+02, 4.8487271e+02],\n",
       "          [1.2666292e+03, 4.8338626e+02, 1.2794651e+03, 5.1466345e+02],\n",
       "          [9.1548596e+02, 4.6939395e+02, 9.5450903e+02, 5.2639075e+02],\n",
       "          [1.0382345e+03, 4.6322861e+02, 1.1245687e+03, 5.1326361e+02],\n",
       "          [2.8676584e+00, 4.2600848e+02, 2.9808011e+02, 6.1350616e+02],\n",
       "          [7.9289111e+02, 4.6068063e+02, 8.1150861e+02, 4.7273477e+02],\n",
       "          [8.4046686e+02, 4.8344070e+02, 8.5686914e+02, 5.0664648e+02],\n",
       "          [9.1066156e+02, 4.6874374e+02, 9.2618384e+02, 4.9514807e+02],\n",
       "          [1.1951613e+03, 4.7632373e+02, 1.2059613e+03, 5.1415295e+02],\n",
       "          [8.2656165e+02, 4.8597385e+02, 8.6263556e+02, 5.1057779e+02],\n",
       "          [7.7739825e+02, 4.6056985e+02, 8.1725757e+02, 5.2011481e+02],\n",
       "          [8.1958209e+02, 4.6327603e+02, 8.4299908e+02, 4.7241608e+02],\n",
       "          [2.3506226e+01, 4.3597763e+02, 3.6490613e+02, 5.0822519e+02]],\n",
       "         dtype=float32),\n",
       "   'labels': array([2, 1, 1, 1, 2, 1, 1, 2, 1, 2, 2, 2, 2, 2, 2, 2, 2, 2, 2, 2, 2, 2,\n",
       "          2, 2, 2, 2, 2, 2, 2, 1, 2, 2, 1, 2, 2, 2, 2, 1, 2, 1, 2, 2, 2, 2,\n",
       "          2, 2, 2, 2, 2, 1, 2, 1, 2, 2, 2, 1, 1, 2, 2, 2, 2]),\n",
       "   'scores': array([0.9997086 , 0.9994326 , 0.999106  , 0.9972696 , 0.99158597,\n",
       "          0.98098665, 0.90368855, 0.8913345 , 0.7536732 , 0.74090487,\n",
       "          0.6840047 , 0.51820624, 0.4962469 , 0.37976918, 0.34616435,\n",
       "          0.32284287, 0.31888455, 0.31392324, 0.30832058, 0.2846332 ,\n",
       "          0.2815743 , 0.24415402, 0.22247194, 0.21426234, 0.20199278,\n",
       "          0.18746415, 0.18253356, 0.18169646, 0.17967212, 0.17216069,\n",
       "          0.14937928, 0.14809062, 0.14368303, 0.13974877, 0.13411646,\n",
       "          0.13140813, 0.12939882, 0.12394813, 0.12247989, 0.11935297,\n",
       "          0.11480153, 0.10108992, 0.10106353, 0.09972889, 0.09134317,\n",
       "          0.09055286, 0.08689775, 0.08489895, 0.07961034, 0.07773191,\n",
       "          0.07349778, 0.07287234, 0.06653325, 0.06422306, 0.06390942,\n",
       "          0.0638753 , 0.05926874, 0.05788229, 0.05203152, 0.05141557,\n",
       "          0.05090782], dtype=float32)}])"
      ]
     },
     "execution_count": 16,
     "metadata": {},
     "output_type": "execute_result"
    }
   ],
   "source": [
    "s.y, s.y_pred, s.y_pred_adv"
   ]
  },
  {
   "cell_type": "code",
   "execution_count": 51,
   "id": "044c8458-9764-4b54-9d5c-e3a0075a4841",
   "metadata": {
    "collapsed": true,
    "jupyter": {
     "outputs_hidden": true
    },
    "tags": []
   },
   "outputs": [
    {
     "data": {
      "text/plain": [
       "[{'area': array([  936,   385,   433,   602,   313,  1930,   558,  1074, 54479,\n",
       "         11805]),\n",
       "  'boxes': array([[ 917.,  464.,  955.,  527.],\n",
       "         [ 911.,  468.,  940.,  517.],\n",
       "         [ 771.,  467.,  788.,  518.],\n",
       "         [ 820.,  466.,  849.,  521.],\n",
       "         [ 795.,  465.,  810.,  517.],\n",
       "         [1199.,  464., 1237.,  552.],\n",
       "         [ 787.,  465.,  807.,  522.],\n",
       "         [1037.,  460., 1069.,  533.],\n",
       "         [   0.,  427.,  369.,  641.],\n",
       "         [ 346.,  478.,  523.,  582.]], dtype=float32),\n",
       "  'id': array([ 97,  98,  99, 100, 101, 102, 103, 105, 106, 109]),\n",
       "  'image_id': array([84190894, 84190894, 84190894, 84190894, 84190894, 84190894,\n",
       "         84190894, 84190894, 84190894, 84190894]),\n",
       "  'is_crowd': array([False,  True, False, False,  True, False, False, False, False,\n",
       "         False]),\n",
       "  'labels': array([1, 1, 1, 1, 1, 1, 1, 1, 2, 2])}]"
      ]
     },
     "execution_count": 51,
     "metadata": {},
     "output_type": "execute_result"
    }
   ],
   "source": [
    "s.y_target"
   ]
  },
  {
   "cell_type": "markdown",
   "id": "c88b6a2d-3cf6-4a66-8e2f-ff3f3b06a460",
   "metadata": {
    "jp-MarkdownHeadingCollapsed": true,
    "tags": []
   },
   "source": [
    "## Testing `tidecv`"
   ]
  },
  {
   "cell_type": "code",
   "execution_count": 17,
   "id": "e37f4480-6677-497a-bbd3-f3b5dcd2e0d1",
   "metadata": {},
   "outputs": [
    {
     "name": "stdout",
     "output_type": "stream",
     "text": [
      "Results Downloaded!\n"
     ]
    }
   ],
   "source": [
    "# Download the Mask R-CNN results to test on. Only for demonstration purposes.\n",
    "import urllib.request  # For downloading the sample Mask R-CNN annotations\n",
    "\n",
    "bbox_file = \"mask_rcnn_bbox.json\"\n",
    "mask_file = \"mask_rcnn_mask.json\"\n",
    "\n",
    "urllib.request.urlretrieve(\n",
    "    \"https://dl.fbaipublicfiles.com/detectron/35861795/12_2017_baselines/e2e_mask_rcnn_R-101-FPN_1x.yaml.02_31_37.KqyEK4tT/output/test/coco_2014_minival/generalized_rcnn/bbox_coco_2014_minival_results.json\",\n",
    "    bbox_file,\n",
    ")\n",
    "urllib.request.urlretrieve(\n",
    "    \"https://dl.fbaipublicfiles.com/detectron/35861795/12_2017_baselines/e2e_mask_rcnn_R-101-FPN_1x.yaml.02_31_37.KqyEK4tT/output/test/coco_2014_minival/generalized_rcnn/segmentations_coco_2014_minival_results.json\",\n",
    "    mask_file,\n",
    ")\n",
    "\n",
    "print(\"Results Downloaded!\")"
   ]
  },
  {
   "cell_type": "code",
   "execution_count": 18,
   "id": "5429d021-3991-4886-afc4-b52971c17502",
   "metadata": {},
   "outputs": [
    {
     "name": "stdout",
     "output_type": "stream",
     "text": [
      "2022-11-04 02:17:09 4h38m40s \u001b[1mINFO    \u001b[0m \u001b[36mmatplotlib.font_manager\u001b[0m:\u001b[36m_load_fontmanager\u001b[0m:\u001b[36m1443\u001b[0m generated new fontManager\n"
     ]
    }
   ],
   "source": [
    "# Import the TIDE evaluation toolkit\n",
    "from tidecv import TIDE\n",
    "\n",
    "# Import the datasets we want to use\n",
    "import tidecv.datasets as datasets"
   ]
  },
  {
   "cell_type": "code",
   "execution_count": 19,
   "id": "366e491a-b930-4d6f-af09-43c6e9bd6abd",
   "metadata": {},
   "outputs": [
    {
     "name": "stdout",
     "output_type": "stream",
     "text": [
      "COCO2017 annotations not found. Downloading...\n",
      "Successfully downloaded COCO2017 to \"/tmp/.local/share/tidecv/COCO2017\"\n"
     ]
    }
   ],
   "source": [
    "gt = datasets.COCO()\n",
    "bbox_results = datasets.COCOResult(bbox_file)  # These files were downloaded above.\n",
    "mask_results = datasets.COCOResult(mask_file)  # Replace them with your own in practice."
   ]
  },
  {
   "cell_type": "code",
   "execution_count": 20,
   "id": "452009c3-e2ad-4a81-9794-9dcfbe365731",
   "metadata": {},
   "outputs": [],
   "source": [
    "tide = TIDE()"
   ]
  },
  {
   "cell_type": "code",
   "execution_count": 21,
   "id": "e1476140-dbaf-4874-acbd-b149fcd29914",
   "metadata": {},
   "outputs": [],
   "source": [
    "# Run the evaluations on the standard COCO metrics (i.e., a range of AP with IoU thresholds [50:95])\n",
    "tide.evaluate_range(\n",
    "    gt, bbox_results, mode=TIDE.BOX\n",
    ")  # Several options are available here, see the functions"
   ]
  },
  {
   "cell_type": "code",
   "execution_count": 22,
   "id": "ff5f0ee9-bb2a-43ed-9750-8a2229a1e67b",
   "metadata": {},
   "outputs": [
    {
     "name": "stdout",
     "output_type": "stream",
     "text": [
      "-- mask_rcnn_bbox --\n",
      "\n",
      "bbox AP @ [50-95]: 40.01\n",
      "                                         bbox AP @ [50-95]\n",
      "===================================================================================================\n",
      "  Thresh       50       55       60       65       70       75       80       85       90       95  \n",
      "---------------------------------------------------------------------------------------------------\n",
      "    AP      61.80    59.76    57.07    53.72    49.59    43.66    35.87    25.77    11.68     1.19  \n",
      "===================================================================================================\n",
      "\n",
      "                         Main Errors\n",
      "=============================================================\n",
      "  Type      Cls      Loc     Both     Dupe      Bkg     Miss  \n",
      "-------------------------------------------------------------\n",
      "   dAP     3.40     6.65     1.18     0.19     3.96     7.53  \n",
      "=============================================================\n",
      "\n",
      "        Special Error\n",
      "=============================\n",
      "  Type   FalsePos   FalseNeg  \n",
      "-----------------------------\n",
      "   dAP      16.28      15.57  \n",
      "=============================\n",
      "\n"
     ]
    }
   ],
   "source": [
    "# Summarize the evaluations run so far in the console\n",
    "tide.summarize()"
   ]
  },
  {
   "cell_type": "markdown",
   "id": "7cad1d43-6547-418e-b464-9301f349d8cc",
   "metadata": {
    "jp-MarkdownHeadingCollapsed": true,
    "tags": []
   },
   "source": [
    "## Check `TIDE` Input"
   ]
  },
  {
   "cell_type": "code",
   "execution_count": 23,
   "id": "8dad35cf-c551-4855-91a9-acba687cb00e",
   "metadata": {},
   "outputs": [
    {
     "data": {
      "text/plain": [
       "(tidecv.data.Data, tidecv.data.Data)"
      ]
     },
     "execution_count": 23,
     "metadata": {},
     "output_type": "execute_result"
    }
   ],
   "source": [
    "type(gt), type(bbox_results)"
   ]
  },
  {
   "cell_type": "markdown",
   "id": "2a1bb433-dd8b-44f1-ba0b-d0799d101a3b",
   "metadata": {},
   "source": [
    "### Predictions"
   ]
  },
  {
   "cell_type": "code",
   "execution_count": 24,
   "id": "bc1d810f-c6b4-4bd1-9441-c54fd89a8cad",
   "metadata": {},
   "outputs": [],
   "source": [
    "import json"
   ]
  },
  {
   "cell_type": "code",
   "execution_count": 27,
   "id": "f600465a-13d5-4e1e-a631-9a4460719393",
   "metadata": {},
   "outputs": [],
   "source": [
    "bbox_json = json.load(open(bbox_file, \"r\"))"
   ]
  },
  {
   "cell_type": "code",
   "execution_count": 29,
   "id": "ab535c8c-8b2c-4273-b264-a1db1e84e374",
   "metadata": {},
   "outputs": [
    {
     "data": {
      "text/plain": [
       "list"
      ]
     },
     "execution_count": 29,
     "metadata": {},
     "output_type": "execute_result"
    }
   ],
   "source": [
    "type(bbox_json)"
   ]
  },
  {
   "cell_type": "code",
   "execution_count": 37,
   "id": "d433fcd5-48b0-4859-a6ba-6e5f9c214fdc",
   "metadata": {},
   "outputs": [
    {
     "data": {
      "text/plain": [
       "(152180,\n",
       " {'image_id': 139,\n",
       "  'category_id': 1,\n",
       "  'bbox': [418.760406, 158.940689, 46.609314, 133.972519],\n",
       "  'score': 0.988746})"
      ]
     },
     "execution_count": 37,
     "metadata": {},
     "output_type": "execute_result"
    }
   ],
   "source": [
    "len(bbox_json), bbox_json[0]"
   ]
  },
  {
   "cell_type": "markdown",
   "id": "8af453d8-838d-4977-b880-b92bcfbf76b7",
   "metadata": {},
   "source": [
    "### Ground Truth"
   ]
  },
  {
   "cell_type": "code",
   "execution_count": 34,
   "id": "3d1270d0-5b58-4764-ab84-9a244c4eb822",
   "metadata": {},
   "outputs": [
    {
     "data": {
      "text/plain": [
       "list"
      ]
     },
     "execution_count": 34,
     "metadata": {},
     "output_type": "execute_result"
    }
   ],
   "source": [
    "type(gt.annotations)"
   ]
  },
  {
   "cell_type": "code",
   "execution_count": 36,
   "id": "d99b8225-62e3-48f9-924c-07f92007a1ce",
   "metadata": {},
   "outputs": [
    {
     "data": {
      "text/plain": [
       "(36781,\n",
       " {'_id': 0,\n",
       "  'score': 1,\n",
       "  'image': 289343,\n",
       "  'class': 18,\n",
       "  'bbox': [473.07, 395.93, 38.65, 28.67],\n",
       "  'mask': {'size': [640, 529],\n",
       "   'counts': b'_PX9330cc07O2N1j\\\\ODhb0=U]OEkb0;T]OFlb0:T]OFlb0:R]OHnb0d02N1O2N2N2M201O1O000006J2N001OEh\\\\OMYc03l\\\\OGUc08:0c\\\\OFTc09m\\\\OIPc08o\\\\OIPc09n\\\\OHQc0d00O1O0012N0O12\\\\Oi\\\\O031Vc0KV]O0[j:'},\n",
       "  'ignore': False})"
      ]
     },
     "execution_count": 36,
     "metadata": {},
     "output_type": "execute_result"
    }
   ],
   "source": [
    "len(gt.annotations), gt.annotations[0]"
   ]
  },
  {
   "cell_type": "code",
   "execution_count": 39,
   "id": "a789225b-e7e8-420c-ae6f-3eaf3916f8df",
   "metadata": {},
   "outputs": [
    {
     "data": {
      "text/plain": [
       "dict"
      ]
     },
     "execution_count": 39,
     "metadata": {},
     "output_type": "execute_result"
    }
   ],
   "source": [
    "type(gt.classes)"
   ]
  },
  {
   "cell_type": "code",
   "execution_count": 43,
   "id": "d05f9d84-a674-4072-99fd-f7b411ed4928",
   "metadata": {},
   "outputs": [
    {
     "data": {
      "text/plain": [
       "[(1, 'person'), (2, 'bicycle'), (3, 'car'), (4, 'motorcycle'), (5, 'airplane')]"
      ]
     },
     "execution_count": 43,
     "metadata": {},
     "output_type": "execute_result"
    }
   ],
   "source": [
    "list(gt.classes.items())[:5]"
   ]
  },
  {
   "cell_type": "code",
   "execution_count": 46,
   "id": "34d655b0-a39b-484b-a35e-cd42242a7e03",
   "metadata": {},
   "outputs": [
    {
     "data": {
      "text/plain": [
       "collections.defaultdict"
      ]
     },
     "execution_count": 46,
     "metadata": {},
     "output_type": "execute_result"
    }
   ],
   "source": [
    "type(gt.images)"
   ]
  },
  {
   "cell_type": "code",
   "execution_count": 47,
   "id": "846bf66f-fe7a-4fd4-96ee-d2b9f1dbf671",
   "metadata": {},
   "outputs": [
    {
     "data": {
      "text/plain": [
       "5000"
      ]
     },
     "execution_count": 47,
     "metadata": {},
     "output_type": "execute_result"
    }
   ],
   "source": [
    "len(gt.images)"
   ]
  },
  {
   "cell_type": "code",
   "execution_count": 48,
   "id": "6f71dd9c-331a-4a14-8794-4471f8eb5812",
   "metadata": {},
   "outputs": [
    {
     "data": {
      "text/plain": [
       "(397133,\n",
       " {'name': '000000397133.jpg',\n",
       "  'anns': [158,\n",
       "   292,\n",
       "   620,\n",
       "   1422,\n",
       "   1491,\n",
       "   1507,\n",
       "   1795,\n",
       "   2091,\n",
       "   3384,\n",
       "   3402,\n",
       "   3470,\n",
       "   3476,\n",
       "   3502,\n",
       "   3830,\n",
       "   3867,\n",
       "   3868,\n",
       "   3896,\n",
       "   4009,\n",
       "   4028]})"
      ]
     },
     "execution_count": 48,
     "metadata": {},
     "output_type": "execute_result"
    }
   ],
   "source": [
    "list(gt.images.items())[0]"
   ]
  },
  {
   "cell_type": "markdown",
   "id": "b58e6a47-e327-48b1-a63c-6f16be18ab05",
   "metadata": {
    "jp-MarkdownHeadingCollapsed": true,
    "tags": []
   },
   "source": [
    "## Check `tidecv.data.Data`"
   ]
  },
  {
   "cell_type": "markdown",
   "id": "c110f734-cdaf-4626-92b0-62889481518a",
   "metadata": {},
   "source": [
    "`tidecv.data.Data` has an optional parameter \"`max_dets` specifies the maximum number of detections the model is allowed to output for a given image.\"\n",
    "\n",
    "The default for `max_dets` is set to 100, which means that an image with more than 100 detections could have discrepencies in the metrics that might seem confusing - may need to account for this ahead of time before initializing `tidecv.data.Data`\n",
    "\n",
    "To convert existing data to `tidecv.data.Data`, use:\n",
    "- `add_ground_truth`\n",
    "- `add_detection`\n",
    "\n",
    "which need:\n",
    "- `image_id`\n",
    "- `class_id`\n",
    "- `box` (note the comment \"bounding boxes are [x, y, width, height]\")\n",
    "- `score` for `add_detection`\n",
    "\n",
    "relevant keys are:\n",
    "- `boxes`\n",
    "- `image_id`\n",
    "- `labels`\n",
    "- `scores`\n",
    "- `is_crowd` (could be relevant, but does not seem accounted for by `tidecv.data.Data`)"
   ]
  },
  {
   "cell_type": "code",
   "execution_count": null,
   "id": "c39f7a67-f804-42fe-8fa8-4bb8c489c06f",
   "metadata": {},
   "outputs": [],
   "source": [
    "# def add_ground_truth(self, image_id:int, class_id:int, box:object=None, mask:object=None):\n",
    "#     \"\"\" Add a ground truth. If box or mask is None, this GT will be ignored for that mode. \"\"\"\n",
    "#     self._add(image_id, class_id, box, mask)\n",
    "\n",
    "# def add_detection(self, image_id:int, class_id:int, score:int, box:object=None, mask:object=None):\n",
    "#     \"\"\" Add a predicted detection. If box or mask is None, this prediction will be ignored for that mode. \"\"\"\n",
    "#     self._add(image_id, class_id, box, mask, score=score)"
   ]
  },
  {
   "cell_type": "markdown",
   "id": "58ccd6ad-08cc-4fc2-8bb4-e9505bc9f901",
   "metadata": {
    "jp-MarkdownHeadingCollapsed": true,
    "tags": []
   },
   "source": [
    "## Convert to `tidecv.data.Data`"
   ]
  },
  {
   "cell_type": "code",
   "execution_count": 52,
   "id": "e5d27fa4-e740-4827-9f53-4115928f8688",
   "metadata": {},
   "outputs": [
    {
     "data": {
      "text/plain": [
       "'1667511512.6598268'"
      ]
     },
     "execution_count": 52,
     "metadata": {},
     "output_type": "execute_result"
    }
   ],
   "source": [
    "s.config[\"eval_id\"]"
   ]
  },
  {
   "cell_type": "code",
   "execution_count": 50,
   "id": "ee5fb345-ec76-4373-ba9e-3274f74b21a4",
   "metadata": {},
   "outputs": [],
   "source": [
    "import tidecv.data"
   ]
  },
  {
   "cell_type": "code",
   "execution_count": 57,
   "id": "8eac5331-ca18-42c3-beae-67d33507492e",
   "metadata": {},
   "outputs": [
    {
     "name": "stdout",
     "output_type": "stream",
     "text": [
      "{'area': 936, 'boxes': array([917., 464., 955., 527.], dtype=float32), 'id': 97, 'image_id': 84190894, 'is_crowd': False, 'labels': 1}\n",
      "{'area': 385, 'boxes': array([911., 468., 940., 517.], dtype=float32), 'id': 98, 'image_id': 84190894, 'is_crowd': True, 'labels': 1}\n",
      "{'area': 433, 'boxes': array([771., 467., 788., 518.], dtype=float32), 'id': 99, 'image_id': 84190894, 'is_crowd': False, 'labels': 1}\n",
      "{'area': 602, 'boxes': array([820., 466., 849., 521.], dtype=float32), 'id': 100, 'image_id': 84190894, 'is_crowd': False, 'labels': 1}\n",
      "{'area': 313, 'boxes': array([795., 465., 810., 517.], dtype=float32), 'id': 101, 'image_id': 84190894, 'is_crowd': True, 'labels': 1}\n",
      "{'area': 1930, 'boxes': array([1199.,  464., 1237.,  552.], dtype=float32), 'id': 102, 'image_id': 84190894, 'is_crowd': False, 'labels': 1}\n",
      "{'area': 558, 'boxes': array([787., 465., 807., 522.], dtype=float32), 'id': 103, 'image_id': 84190894, 'is_crowd': False, 'labels': 1}\n",
      "{'area': 1074, 'boxes': array([1037.,  460., 1069.,  533.], dtype=float32), 'id': 105, 'image_id': 84190894, 'is_crowd': False, 'labels': 1}\n",
      "{'area': 54479, 'boxes': array([  0., 427., 369., 641.], dtype=float32), 'id': 106, 'image_id': 84190894, 'is_crowd': False, 'labels': 2}\n",
      "{'area': 11805, 'boxes': array([346., 478., 523., 582.], dtype=float32), 'id': 109, 'image_id': 84190894, 'is_crowd': False, 'labels': 2}\n"
     ]
    }
   ],
   "source": [
    "y_dict = s.y[0]\n",
    "for y in [dict(zip(y_dict, t)) for t in zip(*y_dict.values())]:\n",
    "    print(y)\n",
    "    # x1, y1, x2, y2 = y[\"boxes\"][i]\n",
    "    # data_detection.add_detection"
   ]
  },
  {
   "cell_type": "code",
   "execution_count": 61,
   "id": "8d1b8e9e-405b-431e-bc00-87e75805caa1",
   "metadata": {
    "collapsed": true,
    "jupyter": {
     "outputs_hidden": true
    },
    "tags": []
   },
   "outputs": [
    {
     "name": "stdout",
     "output_type": "stream",
     "text": [
      "(936, array([917., 464., 955., 527.], dtype=float32), 97, 84190894, False, 1)\n",
      "{'area': 936, 'boxes': array([917., 464., 955., 527.], dtype=float32), 'id': 97, 'image_id': 84190894, 'is_crowd': False, 'labels': 1}\n",
      "(385, array([911., 468., 940., 517.], dtype=float32), 98, 84190894, True, 1)\n",
      "{'area': 385, 'boxes': array([911., 468., 940., 517.], dtype=float32), 'id': 98, 'image_id': 84190894, 'is_crowd': True, 'labels': 1}\n",
      "(433, array([771., 467., 788., 518.], dtype=float32), 99, 84190894, False, 1)\n",
      "{'area': 433, 'boxes': array([771., 467., 788., 518.], dtype=float32), 'id': 99, 'image_id': 84190894, 'is_crowd': False, 'labels': 1}\n",
      "(602, array([820., 466., 849., 521.], dtype=float32), 100, 84190894, False, 1)\n",
      "{'area': 602, 'boxes': array([820., 466., 849., 521.], dtype=float32), 'id': 100, 'image_id': 84190894, 'is_crowd': False, 'labels': 1}\n",
      "(313, array([795., 465., 810., 517.], dtype=float32), 101, 84190894, True, 1)\n",
      "{'area': 313, 'boxes': array([795., 465., 810., 517.], dtype=float32), 'id': 101, 'image_id': 84190894, 'is_crowd': True, 'labels': 1}\n",
      "(1930, array([1199.,  464., 1237.,  552.], dtype=float32), 102, 84190894, False, 1)\n",
      "{'area': 1930, 'boxes': array([1199.,  464., 1237.,  552.], dtype=float32), 'id': 102, 'image_id': 84190894, 'is_crowd': False, 'labels': 1}\n",
      "(558, array([787., 465., 807., 522.], dtype=float32), 103, 84190894, False, 1)\n",
      "{'area': 558, 'boxes': array([787., 465., 807., 522.], dtype=float32), 'id': 103, 'image_id': 84190894, 'is_crowd': False, 'labels': 1}\n",
      "(1074, array([1037.,  460., 1069.,  533.], dtype=float32), 105, 84190894, False, 1)\n",
      "{'area': 1074, 'boxes': array([1037.,  460., 1069.,  533.], dtype=float32), 'id': 105, 'image_id': 84190894, 'is_crowd': False, 'labels': 1}\n",
      "(54479, array([  0., 427., 369., 641.], dtype=float32), 106, 84190894, False, 2)\n",
      "{'area': 54479, 'boxes': array([  0., 427., 369., 641.], dtype=float32), 'id': 106, 'image_id': 84190894, 'is_crowd': False, 'labels': 2}\n",
      "(11805, array([346., 478., 523., 582.], dtype=float32), 109, 84190894, False, 2)\n",
      "{'area': 11805, 'boxes': array([346., 478., 523., 582.], dtype=float32), 'id': 109, 'image_id': 84190894, 'is_crowd': False, 'labels': 2}\n"
     ]
    }
   ],
   "source": [
    "for t in zip(*y_dict.values()):\n",
    "    print(t)\n",
    "    print(dict(zip(y_dict.keys(), t)))"
   ]
  },
  {
   "cell_type": "code",
   "execution_count": 63,
   "id": "4317368c-4586-4007-a745-061575ffcda7",
   "metadata": {},
   "outputs": [
    {
     "name": "stdout",
     "output_type": "stream",
     "text": [
      "{'area': 936, 'boxes': array([917., 464., 955., 527.], dtype=float32), 'id': 97, 'image_id': 84190894, 'is_crowd': False, 'labels': 1}\n",
      "{'image_id': 84190894, 'class_id': 1, 'box': [917.0, 464.0, 38.0, 63.0]}\n",
      "{'area': 385, 'boxes': array([911., 468., 940., 517.], dtype=float32), 'id': 98, 'image_id': 84190894, 'is_crowd': True, 'labels': 1}\n",
      "{'image_id': 84190894, 'class_id': 1, 'box': [911.0, 468.0, 29.0, 49.0]}\n",
      "{'area': 433, 'boxes': array([771., 467., 788., 518.], dtype=float32), 'id': 99, 'image_id': 84190894, 'is_crowd': False, 'labels': 1}\n",
      "{'image_id': 84190894, 'class_id': 1, 'box': [771.0, 467.0, 17.0, 51.0]}\n",
      "{'area': 602, 'boxes': array([820., 466., 849., 521.], dtype=float32), 'id': 100, 'image_id': 84190894, 'is_crowd': False, 'labels': 1}\n",
      "{'image_id': 84190894, 'class_id': 1, 'box': [820.0, 466.0, 29.0, 55.0]}\n",
      "{'area': 313, 'boxes': array([795., 465., 810., 517.], dtype=float32), 'id': 101, 'image_id': 84190894, 'is_crowd': True, 'labels': 1}\n",
      "{'image_id': 84190894, 'class_id': 1, 'box': [795.0, 465.0, 15.0, 52.0]}\n",
      "{'area': 1930, 'boxes': array([1199.,  464., 1237.,  552.], dtype=float32), 'id': 102, 'image_id': 84190894, 'is_crowd': False, 'labels': 1}\n",
      "{'image_id': 84190894, 'class_id': 1, 'box': [1199.0, 464.0, 38.0, 88.0]}\n",
      "{'area': 558, 'boxes': array([787., 465., 807., 522.], dtype=float32), 'id': 103, 'image_id': 84190894, 'is_crowd': False, 'labels': 1}\n",
      "{'image_id': 84190894, 'class_id': 1, 'box': [787.0, 465.0, 20.0, 57.0]}\n",
      "{'area': 1074, 'boxes': array([1037.,  460., 1069.,  533.], dtype=float32), 'id': 105, 'image_id': 84190894, 'is_crowd': False, 'labels': 1}\n",
      "{'image_id': 84190894, 'class_id': 1, 'box': [1037.0, 460.0, 32.0, 73.0]}\n",
      "{'area': 54479, 'boxes': array([  0., 427., 369., 641.], dtype=float32), 'id': 106, 'image_id': 84190894, 'is_crowd': False, 'labels': 2}\n",
      "{'image_id': 84190894, 'class_id': 2, 'box': [0.0, 427.0, 369.0, 214.0]}\n",
      "{'area': 11805, 'boxes': array([346., 478., 523., 582.], dtype=float32), 'id': 109, 'image_id': 84190894, 'is_crowd': False, 'labels': 2}\n",
      "{'image_id': 84190894, 'class_id': 2, 'box': [346.0, 478.0, 177.0, 104.0]}\n"
     ]
    }
   ],
   "source": [
    "y_dict = s.y[0]\n",
    "for y in [dict(zip(y_dict, t)) for t in zip(*y_dict.values())]:\n",
    "    print(y)\n",
    "    x1, y1, x2, y2 = y[\"boxes\"]\n",
    "    width = abs(x1 - x2)\n",
    "    height = abs(y1 - y2)\n",
    "    x_min = min(x1, x2)\n",
    "    y_min = min(y1, y2)\n",
    "\n",
    "    # assume [x, y, width, height] format refers to COCO format of [x_min, y_min, width, height]\n",
    "    print(\n",
    "        {\n",
    "            \"image_id\": y[\"image_id\"],\n",
    "            \"class_id\": y[\"labels\"],\n",
    "            \"box\": [x_min, y_min, width, height],\n",
    "        }\n",
    "    )\n",
    "\n",
    "    # data_detection.add_detection"
   ]
  },
  {
   "cell_type": "code",
   "execution_count": 72,
   "id": "3a1f55c9-e932-4c15-ab4e-ae6aaf9da319",
   "metadata": {},
   "outputs": [],
   "source": [
    "data_detection = tidecv.data.Data(name=f\"\"\"{s.config[\"eval_id\"]}_detection\"\"\")\n",
    "data_ground_truth = tidecv.data.Data(name=f\"\"\"{s.config[\"eval_id\"]}_ground_truth\"\"\")"
   ]
  },
  {
   "cell_type": "code",
   "execution_count": 73,
   "id": "6f54a5cf-8eaf-4dfb-b4ac-1fb572f0d2fa",
   "metadata": {},
   "outputs": [],
   "source": [
    "y_dict = s.y[0]\n",
    "for y in [dict(zip(y_dict, t)) for t in zip(*y_dict.values())]:\n",
    "    x1, y1, x2, y2 = y[\"boxes\"]\n",
    "    width = abs(x1 - x2)\n",
    "    height = abs(y1 - y2)\n",
    "    x_min = min(x1, x2)\n",
    "    y_min = min(y1, y2)\n",
    "\n",
    "    y_tidecv = {\n",
    "        \"image_id\": y[\"image_id\"],\n",
    "        \"class_id\": y[\"labels\"],\n",
    "        \"box\": [x_min, y_min, width, height],\n",
    "    }\n",
    "    data_ground_truth.add_ground_truth(**y_tidecv)\n",
    "\n",
    "image_id = y[\"image_id\"]\n",
    "\n",
    "y_dict = s.y_pred_adv[0]\n",
    "for y in [dict(zip(y_dict, t)) for t in zip(*y_dict.values())]:\n",
    "    x1, y1, x2, y2 = y[\"boxes\"]\n",
    "    width = abs(x1 - x2)\n",
    "    height = abs(y1 - y2)\n",
    "    x_min = min(x1, x2)\n",
    "    y_min = min(y1, y2)\n",
    "\n",
    "    # y_tidecv = {\"image_id\": y[\"image_id\"], \"class_id\": y[\"labels\"], \"box\": [x_min, y_min, width, height], \"score\": y[\"scores\"]}\n",
    "    y_tidecv = {\n",
    "        \"image_id\": image_id,\n",
    "        \"class_id\": y[\"labels\"],\n",
    "        \"box\": [x_min, y_min, width, height],\n",
    "        \"score\": y[\"scores\"],\n",
    "    }\n",
    "    data_detection.add_detection(**y_tidecv)"
   ]
  },
  {
   "cell_type": "markdown",
   "id": "495714f7-f5ff-48f0-b533-29aefa95cd62",
   "metadata": {
    "tags": []
   },
   "source": [
    "## Test Conversion with `TIDE().evaluate_range`"
   ]
  },
  {
   "cell_type": "markdown",
   "id": "22537f86-2a38-444f-bed5-c3a31c2246d6",
   "metadata": {
    "jp-MarkdownHeadingCollapsed": true,
    "tags": []
   },
   "source": [
    "### Get TIDE Metrics"
   ]
  },
  {
   "cell_type": "code",
   "execution_count": 74,
   "id": "a0dc2873-436e-4383-90cb-918bc6f9d674",
   "metadata": {},
   "outputs": [],
   "source": [
    "tide_gard = TIDE()"
   ]
  },
  {
   "cell_type": "code",
   "execution_count": 75,
   "id": "15cfe496-8227-4cc2-8eaf-40c709f32082",
   "metadata": {},
   "outputs": [],
   "source": [
    "tide_gard.evaluate_range(data_ground_truth, data_detection, mode=TIDE.BOX)"
   ]
  },
  {
   "cell_type": "code",
   "execution_count": 77,
   "id": "a5723422-2cfe-4927-b098-b6fa69f9adc4",
   "metadata": {},
   "outputs": [
    {
     "name": "stdout",
     "output_type": "stream",
     "text": [
      "-- 1667511512.6598268_detection --\n",
      "\n",
      "bbox AP @ [50-95]: 33.75\n",
      "                                         bbox AP @ [50-95]\n",
      "===================================================================================================\n",
      "  Thresh       50       55       60       65       70       75       80       85       90       95  \n",
      "---------------------------------------------------------------------------------------------------\n",
      "    AP      72.22    63.44    58.40    58.40    26.49    21.34    13.25    13.25    10.73     0.00  \n",
      "===================================================================================================\n",
      "\n",
      "                         Main Errors\n",
      "=============================================================\n",
      "  Type      Cls      Loc     Both     Dupe      Bkg     Miss  \n",
      "-------------------------------------------------------------\n",
      "   dAP     0.00     5.15     3.30     1.55     3.30     0.00  \n",
      "=============================================================\n",
      "\n",
      "        Special Error\n",
      "=============================\n",
      "  Type   FalsePos   FalseNeg  \n",
      "-----------------------------\n",
      "   dAP      21.35       6.19  \n",
      "=============================\n",
      "\n"
     ]
    }
   ],
   "source": [
    "tide_gard.summarize()"
   ]
  },
  {
   "cell_type": "code",
   "execution_count": 145,
   "id": "c7259116-6c01-4f61-be28-7044f21ced08",
   "metadata": {},
   "outputs": [
    {
     "name": "stdout",
     "output_type": "stream",
     "text": [
      "-- 1667511512.6598268_detection --\n",
      "\n",
      "bbox AP @ [50-95]: 33.75\n",
      "                                         bbox AP @ [50-95]\n",
      "===================================================================================================\n",
      "  Thresh       50       55       60       65       70       75       80       85       90       95  \n",
      "---------------------------------------------------------------------------------------------------\n",
      "    AP      72.22    63.44    58.40    58.40    26.49    21.34    13.25    13.25    10.73     0.00  \n",
      "===================================================================================================\n",
      "\n",
      "                         Main Errors\n",
      "=============================================================\n",
      "  Type      Cls      Loc     Both     Dupe      Bkg     Miss  \n",
      "-------------------------------------------------------------\n",
      "   dAP     0.00    25.69     0.00     1.55     0.00     0.00  \n",
      "=============================================================\n",
      "\n",
      "        Special Error\n",
      "=============================\n",
      "  Type   FalsePos   FalseNeg  \n",
      "-----------------------------\n",
      "   dAP      21.35       6.19  \n",
      "=============================\n",
      "\n"
     ]
    }
   ],
   "source": [
    "tide_gard_01 = TIDE(background_threshold=0)\n",
    "tide_gard_01.evaluate_range(data_ground_truth, data_detection, mode=TIDE.BOX)\n",
    "tide_gard_01.summarize()"
   ]
  },
  {
   "cell_type": "code",
   "execution_count": 147,
   "id": "0102548b-2376-4c16-b6c8-67139263d57c",
   "metadata": {},
   "outputs": [
    {
     "data": {
      "text/plain": [
       "101"
      ]
     },
     "execution_count": 147,
     "metadata": {},
     "output_type": "execute_result"
    }
   ],
   "source": [
    "len(np.linspace(0.0, 1.00, int(np.round((1.00 - 0.0) / 0.01)) + 1, endpoint=True))"
   ]
  },
  {
   "cell_type": "markdown",
   "id": "3d6494d5-12bf-4923-a5b8-1680698e4d94",
   "metadata": {
    "tags": []
   },
   "source": [
    "### Compare to Armory Metrics"
   ]
  },
  {
   "cell_type": "code",
   "execution_count": 78,
   "id": "7e40ff35-592e-45de-bb7a-b560d12f64b8",
   "metadata": {},
   "outputs": [
    {
     "data": {
      "text/plain": [
       "{'adversarial_carla_od_AP_per_class': [{'mean': 0.72,\n",
       "   'class': {1: 0.8, 2: 0.64}}],\n",
       " 'adversarial_mean_carla_od_disappearance_rate': [0.4],\n",
       " 'adversarial_mean_carla_od_hallucinations_per_image': [5.0],\n",
       " 'adversarial_mean_carla_od_misclassification_rate': [0.0],\n",
       " 'adversarial_mean_carla_od_true_positive_rate': [0.6],\n",
       " 'perturbation_mean_l0': [14418.0],\n",
       " 'compute': {}}"
      ]
     },
     "execution_count": 78,
     "metadata": {},
     "output_type": "execute_result"
    }
   ],
   "source": [
    "result[\"results\"]"
   ]
  },
  {
   "cell_type": "code",
   "execution_count": 84,
   "id": "b6c76468-88ee-4ff0-837c-07e7c8735e0a",
   "metadata": {},
   "outputs": [],
   "source": [
    "from armory.metrics.task import (\n",
    "    object_detection_mAP,\n",
    "    object_detection_AP_per_class,\n",
    "    _object_detection_get_tpr_mr_dr_hr,\n",
    ")"
   ]
  },
  {
   "cell_type": "code",
   "execution_count": 81,
   "id": "6bddeaab-c588-4680-baea-95d2fa812e80",
   "metadata": {},
   "outputs": [],
   "source": [
    "import numpy as np"
   ]
  },
  {
   "cell_type": "code",
   "execution_count": 85,
   "id": "a1224aae-4f69-470c-9d31-b6033543cbc7",
   "metadata": {},
   "outputs": [],
   "source": [
    "iou_array = np.linspace(0.5, 0.95, 10)"
   ]
  },
  {
   "cell_type": "code",
   "execution_count": 83,
   "id": "f4f5d79a-4f9a-4e98-ace6-354e2c5ae8e4",
   "metadata": {},
   "outputs": [
    {
     "data": {
      "text/plain": [
       "[0.72, 0.645, 0.605, 0.605, 0.28, 0.205, 0.145, 0.145, 0.12, 0.0]"
      ]
     },
     "execution_count": 83,
     "metadata": {},
     "output_type": "execute_result"
    }
   ],
   "source": [
    "[\n",
    "    object_detection_mAP(y_list=s.y, y_pred_list=s.y_pred_adv, iou_threshold=iou)\n",
    "    for iou in iou_array\n",
    "]"
   ]
  },
  {
   "cell_type": "code",
   "execution_count": 141,
   "id": "fefb2663-efc9-426c-b12b-742803e7cb18",
   "metadata": {},
   "outputs": [
    {
     "data": {
      "text/plain": [
       "[{1: 0.8, 2: 0.64},\n",
       " {1: 0.65, 2: 0.64},\n",
       " {1: 0.57, 2: 0.64},\n",
       " {1: 0.57, 2: 0.64},\n",
       " {1: 0.51, 2: 0.05},\n",
       " {1: 0.36, 2: 0.05},\n",
       " {1: 0.24, 2: 0.05},\n",
       " {1: 0.24, 2: 0.05},\n",
       " {1: 0.24, 2: 0.0},\n",
       " {1: 0.0, 2: 0.0}]"
      ]
     },
     "execution_count": 141,
     "metadata": {},
     "output_type": "execute_result"
    }
   ],
   "source": [
    "[\n",
    "    object_detection_AP_per_class(\n",
    "        y_list=s.y, y_pred_list=s.y_pred_adv, iou_threshold=iou\n",
    "    )\n",
    "    for iou in iou_array\n",
    "]"
   ]
  },
  {
   "cell_type": "code",
   "execution_count": null,
   "id": "9ee45fbb-21a3-4f99-b36d-ec84b017d693",
   "metadata": {},
   "outputs": [],
   "source": [
    "import importlib"
   ]
  },
  {
   "cell_type": "code",
   "execution_count": 160,
   "id": "9e1dd2aa-834d-4cf8-b239-21436373120f",
   "metadata": {},
   "outputs": [
    {
     "data": {
      "text/plain": [
       "<module 'metrics' from '/workspace/metrics.py'>"
      ]
     },
     "execution_count": 160,
     "metadata": {},
     "output_type": "execute_result"
    }
   ],
   "source": [
    "importlib.reload(metrics)"
   ]
  },
  {
   "cell_type": "code",
   "execution_count": 161,
   "id": "35d2eadc-ce8a-4b84-a471-f368468035e1",
   "metadata": {},
   "outputs": [],
   "source": [
    "from metrics import object_detection_AP_per_class_test"
   ]
  },
  {
   "cell_type": "code",
   "execution_count": 162,
   "id": "2db8d6ab-d834-4d66-917c-70c1f257ac05",
   "metadata": {},
   "outputs": [
    {
     "data": {
      "text/plain": [
       "[{1: 0.8, 2: 0.64},\n",
       " {1: 0.65, 2: 0.64},\n",
       " {1: 0.57, 2: 0.64},\n",
       " {1: 0.57, 2: 0.64},\n",
       " {1: 0.51, 2: 0.05},\n",
       " {1: 0.36, 2: 0.05},\n",
       " {1: 0.24, 2: 0.05},\n",
       " {1: 0.24, 2: 0.05},\n",
       " {1: 0.24, 2: 0.0},\n",
       " {1: 0.0, 2: 0.0}]"
      ]
     },
     "execution_count": 162,
     "metadata": {},
     "output_type": "execute_result"
    }
   ],
   "source": [
    "# sanity check against armory.metrics.task.object_detection_AP_per_class\n",
    "[\n",
    "    object_detection_AP_per_class_test(\n",
    "        y_list=s.y, y_pred_list=s.y_pred_adv, iou_threshold=iou\n",
    "    )\n",
    "    for iou in iou_array\n",
    "]"
   ]
  },
  {
   "cell_type": "markdown",
   "id": "4ca2f103-19f9-4d41-b80a-dff4ce03647c",
   "metadata": {
    "tags": []
   },
   "source": [
    "### New Recall Points with No Rounding"
   ]
  },
  {
   "cell_type": "code",
   "execution_count": 166,
   "id": "941cd6f0-082e-4b6c-8357-7911a63ce84f",
   "metadata": {},
   "outputs": [],
   "source": [
    "importlib.reload(metrics)\n",
    "from metrics import object_detection_AP_per_class_test"
   ]
  },
  {
   "cell_type": "code",
   "execution_count": 167,
   "id": "61f3610e-97df-4dab-ae85-d23d9edf374e",
   "metadata": {},
   "outputs": [
    {
     "data": {
      "text/plain": [
       "[0.7221534620131498,\n",
       " 0.6344059371737418,\n",
       " 0.5840169697609753,\n",
       " 0.5840169697609753,\n",
       " 0.2648514843932343,\n",
       " 0.21336633598135316,\n",
       " 0.13250825001325633,\n",
       " 0.13250825001325633,\n",
       " 0.10726072528602862,\n",
       " 0.0]"
      ]
     },
     "execution_count": 167,
     "metadata": {},
     "output_type": "execute_result"
    }
   ],
   "source": [
    "[\n",
    "    np.fromiter(\n",
    "        object_detection_AP_per_class_test(\n",
    "            y_list=s.y, y_pred_list=s.y_pred_adv, iou_threshold=iou\n",
    "        ).values(),\n",
    "        dtype=\"float\",\n",
    "    ).mean()\n",
    "    for iou in iou_array\n",
    "]"
   ]
  },
  {
   "cell_type": "code",
   "execution_count": 77,
   "id": "b8ae282d-6d2a-4a4e-a271-5037478f8690",
   "metadata": {},
   "outputs": [
    {
     "name": "stdout",
     "output_type": "stream",
     "text": [
      "-- 1667511512.6598268_detection --\n",
      "\n",
      "bbox AP @ [50-95]: 33.75\n",
      "                                         bbox AP @ [50-95]\n",
      "===================================================================================================\n",
      "  Thresh       50       55       60       65       70       75       80       85       90       95  \n",
      "---------------------------------------------------------------------------------------------------\n",
      "    AP      72.22    63.44    58.40    58.40    26.49    21.34    13.25    13.25    10.73     0.00  \n",
      "===================================================================================================\n",
      "\n",
      "                         Main Errors\n",
      "=============================================================\n",
      "  Type      Cls      Loc     Both     Dupe      Bkg     Miss  \n",
      "-------------------------------------------------------------\n",
      "   dAP     0.00     5.15     3.30     1.55     3.30     0.00  \n",
      "=============================================================\n",
      "\n",
      "        Special Error\n",
      "=============================\n",
      "  Type   FalsePos   FalseNeg  \n",
      "-----------------------------\n",
      "   dAP      21.35       6.19  \n",
      "=============================\n",
      "\n"
     ]
    }
   ],
   "source": [
    "tide_gard.summarize()"
   ]
  }
 ],
 "metadata": {
  "kernelspec": {
   "display_name": "Python 3",
   "language": "python",
   "name": "python3"
  },
  "language_info": {
   "codemirror_mode": {
    "name": "ipython",
    "version": 3
   },
   "file_extension": ".py",
   "mimetype": "text/x-python",
   "name": "python",
   "nbconvert_exporter": "python",
   "pygments_lexer": "ipython3",
   "version": "3.8.10"
  }
 },
 "nbformat": 4,
 "nbformat_minor": 5
}
